{
  "nbformat": 4,
  "nbformat_minor": 0,
  "metadata": {
    "colab": {
      "name": "train_evaluation_0.0.0.ipynb",
      "provenance": [],
      "include_colab_link": true
    },
    "kernelspec": {
      "name": "python3",
      "display_name": "Python 3"
    },
    "language_info": {
      "name": "python"
    },
    "accelerator": "GPU"
  },
  "cells": [
    {
      "cell_type": "markdown",
      "metadata": {
        "id": "view-in-github",
        "colab_type": "text"
      },
      "source": [
        "<a href=\"https://colab.research.google.com/github/meti-94/OpenQA/blob/main/train_evaluation_0_0_3.ipynb\" target=\"_parent\"><img src=\"https://colab.research.google.com/assets/colab-badge.svg\" alt=\"Open In Colab\"/></a>"
      ]
    },
    {
      "cell_type": "code",
      "metadata": {
        "colab": {
          "base_uri": "https://localhost:8080/"
        },
        "id": "fv8v0K4OEe3x",
        "outputId": "3484152e-9192-4888-f677-6f5e1edfef74"
      },
      "source": [
        "!pip install transformers -q"
      ],
      "execution_count": 4,
      "outputs": [
        {
          "output_type": "stream",
          "name": "stdout",
          "text": [
            "\u001b[K     |████████████████████████████████| 3.1 MB 13.6 MB/s \n",
            "\u001b[K     |████████████████████████████████| 895 kB 38.4 MB/s \n",
            "\u001b[K     |████████████████████████████████| 596 kB 40.4 MB/s \n",
            "\u001b[K     |████████████████████████████████| 59 kB 6.2 MB/s \n",
            "\u001b[K     |████████████████████████████████| 3.3 MB 42.1 MB/s \n",
            "\u001b[?25h"
          ]
        }
      ]
    },
    {
      "cell_type": "code",
      "metadata": {
        "id": "aDoURGVCg_tf",
        "colab": {
          "base_uri": "https://localhost:8080/"
        },
        "outputId": "fba966ad-7fa8-45f8-f084-ffdfdf162f51"
      },
      "source": [
        "from google.colab import drive\n",
        "drive.mount('/content/drive')"
      ],
      "execution_count": 1,
      "outputs": [
        {
          "output_type": "stream",
          "name": "stdout",
          "text": [
            "Mounted at /content/drive\n"
          ]
        }
      ]
    },
    {
      "cell_type": "code",
      "metadata": {
        "colab": {
          "base_uri": "https://localhost:8080/"
        },
        "id": "gHLKOYbhEAQa",
        "outputId": "320fb533-b571-4087-9055-2ff7d8d3fc3e"
      },
      "source": [
        "!git clone https://github.com/meti-94/OpenQA.git\n",
        "%cd OpenQA/src/"
      ],
      "execution_count": 2,
      "outputs": [
        {
          "output_type": "stream",
          "name": "stdout",
          "text": [
            "Cloning into 'OpenQA'...\n",
            "remote: Enumerating objects: 138, done.\u001b[K\n",
            "remote: Counting objects: 100% (138/138), done.\u001b[K\n",
            "remote: Compressing objects: 100% (110/110), done.\u001b[K\n",
            "remote: Total 138 (delta 41), reused 104 (delta 21), pack-reused 0\u001b[K\n",
            "Receiving objects: 100% (138/138), 88.94 MiB | 9.45 MiB/s, done.\n",
            "Resolving deltas: 100% (41/41), done.\n",
            "/content/OpenQA/src\n"
          ]
        }
      ]
    },
    {
      "cell_type": "code",
      "metadata": {
        "colab": {
          "base_uri": "https://localhost:8080/"
        },
        "id": "dfTsmyLYEkTx",
        "outputId": "2e3d2158-dfb1-4526-c755-55ea64c2963d"
      },
      "source": [
        "!python train.py"
      ],
      "execution_count": 5,
      "outputs": [
        {
          "output_type": "stream",
          "name": "stdout",
          "text": [
            "DEBUG:urllib3.connectionpool:Starting new HTTPS connection (1): huggingface.co:443\n",
            "DEBUG:urllib3.connectionpool:https://huggingface.co:443 \"HEAD /bert-base-uncased/resolve/main/config.json HTTP/1.1\" 200 0\n",
            "DEBUG:filelock:Attempting to acquire lock 140225904123728 on /root/.cache/huggingface/transformers/3c61d016573b14f7f008c02c4e51a366c67ab274726fe2910691e2a761acf43e.37395cee442ab11005bcd270f3c34464dc1704b715b5d7d52b1a461abe3b9e4e.lock\n",
            "DEBUG:filelock:Lock 140225904123728 acquired on /root/.cache/huggingface/transformers/3c61d016573b14f7f008c02c4e51a366c67ab274726fe2910691e2a761acf43e.37395cee442ab11005bcd270f3c34464dc1704b715b5d7d52b1a461abe3b9e4e.lock\n",
            "DEBUG:urllib3.connectionpool:Starting new HTTPS connection (1): huggingface.co:443\n",
            "DEBUG:urllib3.connectionpool:https://huggingface.co:443 \"GET /bert-base-uncased/resolve/main/config.json HTTP/1.1\" 200 570\n",
            "Downloading: 100% 570/570 [00:00<00:00, 508kB/s]\n",
            "DEBUG:filelock:Attempting to release lock 140225904123728 on /root/.cache/huggingface/transformers/3c61d016573b14f7f008c02c4e51a366c67ab274726fe2910691e2a761acf43e.37395cee442ab11005bcd270f3c34464dc1704b715b5d7d52b1a461abe3b9e4e.lock\n",
            "DEBUG:filelock:Lock 140225904123728 released on /root/.cache/huggingface/transformers/3c61d016573b14f7f008c02c4e51a366c67ab274726fe2910691e2a761acf43e.37395cee442ab11005bcd270f3c34464dc1704b715b5d7d52b1a461abe3b9e4e.lock\n",
            "DEBUG:urllib3.connectionpool:Starting new HTTPS connection (1): huggingface.co:443\n",
            "DEBUG:urllib3.connectionpool:https://huggingface.co:443 \"HEAD /bert-base-uncased/resolve/main/pytorch_model.bin HTTP/1.1\" 302 0\n",
            "DEBUG:filelock:Attempting to acquire lock 140225872567824 on /root/.cache/huggingface/transformers/a8041bf617d7f94ea26d15e218abd04afc2004805632abc0ed2066aa16d50d04.faf6ea826ae9c5867d12b22257f9877e6b8367890837bd60f7c54a29633f7f2f.lock\n",
            "DEBUG:filelock:Lock 140225872567824 acquired on /root/.cache/huggingface/transformers/a8041bf617d7f94ea26d15e218abd04afc2004805632abc0ed2066aa16d50d04.faf6ea826ae9c5867d12b22257f9877e6b8367890837bd60f7c54a29633f7f2f.lock\n",
            "DEBUG:urllib3.connectionpool:Starting new HTTPS connection (1): cdn-lfs.huggingface.co:443\n",
            "DEBUG:urllib3.connectionpool:https://cdn-lfs.huggingface.co:443 \"GET /bert-base-uncased/097417381d6c7230bd9e3557456d726de6e83245ec8b24f529f60198a67b203a HTTP/1.1\" 200 440473133\n",
            "Downloading: 100% 420M/420M [00:10<00:00, 40.9MB/s]\n",
            "DEBUG:filelock:Attempting to release lock 140225872567824 on /root/.cache/huggingface/transformers/a8041bf617d7f94ea26d15e218abd04afc2004805632abc0ed2066aa16d50d04.faf6ea826ae9c5867d12b22257f9877e6b8367890837bd60f7c54a29633f7f2f.lock\n",
            "DEBUG:filelock:Lock 140225872567824 released on /root/.cache/huggingface/transformers/a8041bf617d7f94ea26d15e218abd04afc2004805632abc0ed2066aa16d50d04.faf6ea826ae9c5867d12b22257f9877e6b8367890837bd60f7c54a29633f7f2f.lock\n",
            "Some weights of the model checkpoint at bert-base-uncased were not used when initializing BertModel: ['cls.predictions.bias', 'cls.seq_relationship.bias', 'cls.predictions.decoder.weight', 'cls.predictions.transform.LayerNorm.weight', 'cls.seq_relationship.weight', 'cls.predictions.transform.dense.weight', 'cls.predictions.transform.LayerNorm.bias', 'cls.predictions.transform.dense.bias']\n",
            "- This IS expected if you are initializing BertModel from the checkpoint of a model trained on another task or with another architecture (e.g. initializing a BertForSequenceClassification model from a BertForPreTraining model).\n",
            "- This IS NOT expected if you are initializing BertModel from the checkpoint of a model that you expect to be exactly identical (initializing a BertForSequenceClassification model from a BertForSequenceClassification model).\n",
            "DEBUG:urllib3.connectionpool:Starting new HTTPS connection (1): huggingface.co:443\n",
            "DEBUG:urllib3.connectionpool:https://huggingface.co:443 \"GET /api/models/bert-base-uncased HTTP/1.1\" 200 997\n",
            "DEBUG:urllib3.connectionpool:Starting new HTTPS connection (1): huggingface.co:443\n",
            "DEBUG:urllib3.connectionpool:https://huggingface.co:443 \"HEAD /bert-base-uncased/resolve/main/vocab.txt HTTP/1.1\" 200 0\n",
            "DEBUG:filelock:Attempting to acquire lock 140225856317456 on /root/.cache/huggingface/transformers/45c3f7a79a80e1cf0a489e5c62b43f173c15db47864303a55d623bb3c96f72a5.d789d64ebfe299b0e416afc4a169632f903f693095b4629a7ea271d5a0cf2c99.lock\n",
            "DEBUG:filelock:Lock 140225856317456 acquired on /root/.cache/huggingface/transformers/45c3f7a79a80e1cf0a489e5c62b43f173c15db47864303a55d623bb3c96f72a5.d789d64ebfe299b0e416afc4a169632f903f693095b4629a7ea271d5a0cf2c99.lock\n",
            "DEBUG:urllib3.connectionpool:Starting new HTTPS connection (1): huggingface.co:443\n",
            "DEBUG:urllib3.connectionpool:https://huggingface.co:443 \"GET /bert-base-uncased/resolve/main/vocab.txt HTTP/1.1\" 200 231508\n",
            "Downloading: 100% 226k/226k [00:00<00:00, 612kB/s]\n",
            "DEBUG:filelock:Attempting to release lock 140225856317456 on /root/.cache/huggingface/transformers/45c3f7a79a80e1cf0a489e5c62b43f173c15db47864303a55d623bb3c96f72a5.d789d64ebfe299b0e416afc4a169632f903f693095b4629a7ea271d5a0cf2c99.lock\n",
            "DEBUG:filelock:Lock 140225856317456 released on /root/.cache/huggingface/transformers/45c3f7a79a80e1cf0a489e5c62b43f173c15db47864303a55d623bb3c96f72a5.d789d64ebfe299b0e416afc4a169632f903f693095b4629a7ea271d5a0cf2c99.lock\n",
            "DEBUG:urllib3.connectionpool:Starting new HTTPS connection (1): huggingface.co:443\n",
            "DEBUG:urllib3.connectionpool:https://huggingface.co:443 \"HEAD /bert-base-uncased/resolve/main/added_tokens.json HTTP/1.1\" 404 0\n",
            "DEBUG:urllib3.connectionpool:Starting new HTTPS connection (1): huggingface.co:443\n",
            "DEBUG:urllib3.connectionpool:https://huggingface.co:443 \"HEAD /bert-base-uncased/resolve/main/special_tokens_map.json HTTP/1.1\" 404 0\n",
            "DEBUG:urllib3.connectionpool:Starting new HTTPS connection (1): huggingface.co:443\n",
            "DEBUG:urllib3.connectionpool:https://huggingface.co:443 \"HEAD /bert-base-uncased/resolve/main/tokenizer_config.json HTTP/1.1\" 200 0\n",
            "DEBUG:filelock:Attempting to acquire lock 140225856318608 on /root/.cache/huggingface/transformers/c1d7f0a763fb63861cc08553866f1fc3e5a6f4f07621be277452d26d71303b7e.20430bd8e10ef77a7d2977accefe796051e01bc2fc4aa146bc862997a1a15e79.lock\n",
            "DEBUG:filelock:Lock 140225856318608 acquired on /root/.cache/huggingface/transformers/c1d7f0a763fb63861cc08553866f1fc3e5a6f4f07621be277452d26d71303b7e.20430bd8e10ef77a7d2977accefe796051e01bc2fc4aa146bc862997a1a15e79.lock\n",
            "DEBUG:urllib3.connectionpool:Starting new HTTPS connection (1): huggingface.co:443\n",
            "DEBUG:urllib3.connectionpool:https://huggingface.co:443 \"GET /bert-base-uncased/resolve/main/tokenizer_config.json HTTP/1.1\" 200 28\n",
            "Downloading: 100% 28.0/28.0 [00:00<00:00, 22.6kB/s]\n",
            "DEBUG:filelock:Attempting to release lock 140225856318608 on /root/.cache/huggingface/transformers/c1d7f0a763fb63861cc08553866f1fc3e5a6f4f07621be277452d26d71303b7e.20430bd8e10ef77a7d2977accefe796051e01bc2fc4aa146bc862997a1a15e79.lock\n",
            "DEBUG:filelock:Lock 140225856318608 released on /root/.cache/huggingface/transformers/c1d7f0a763fb63861cc08553866f1fc3e5a6f4f07621be277452d26d71303b7e.20430bd8e10ef77a7d2977accefe796051e01bc2fc4aa146bc862997a1a15e79.lock\n",
            "DEBUG:urllib3.connectionpool:Starting new HTTPS connection (1): huggingface.co:443\n",
            "DEBUG:urllib3.connectionpool:https://huggingface.co:443 \"HEAD /bert-base-uncased/resolve/main/tokenizer.json HTTP/1.1\" 200 0\n",
            "DEBUG:filelock:Attempting to acquire lock 140225856317072 on /root/.cache/huggingface/transformers/534479488c54aeaf9c3406f647aa2ec13648c06771ffe269edabebd4c412da1d.7f2721073f19841be16f41b0a70b600ca6b880c8f3df6f3535cbc704371bdfa4.lock\n",
            "DEBUG:filelock:Lock 140225856317072 acquired on /root/.cache/huggingface/transformers/534479488c54aeaf9c3406f647aa2ec13648c06771ffe269edabebd4c412da1d.7f2721073f19841be16f41b0a70b600ca6b880c8f3df6f3535cbc704371bdfa4.lock\n",
            "DEBUG:urllib3.connectionpool:Starting new HTTPS connection (1): huggingface.co:443\n",
            "DEBUG:urllib3.connectionpool:https://huggingface.co:443 \"GET /bert-base-uncased/resolve/main/tokenizer.json HTTP/1.1\" 200 466062\n",
            "Downloading: 100% 455k/455k [00:00<00:00, 973kB/s]\n",
            "DEBUG:filelock:Attempting to release lock 140225856317072 on /root/.cache/huggingface/transformers/534479488c54aeaf9c3406f647aa2ec13648c06771ffe269edabebd4c412da1d.7f2721073f19841be16f41b0a70b600ca6b880c8f3df6f3535cbc704371bdfa4.lock\n",
            "DEBUG:filelock:Lock 140225856317072 released on /root/.cache/huggingface/transformers/534479488c54aeaf9c3406f647aa2ec13648c06771ffe269edabebd4c412da1d.7f2721073f19841be16f41b0a70b600ca6b880c8f3df6f3535cbc704371bdfa4.lock\n",
            "DEBUG:urllib3.connectionpool:Starting new HTTPS connection (1): huggingface.co:443\n",
            "DEBUG:urllib3.connectionpool:https://huggingface.co:443 \"HEAD /bert-base-uncased/resolve/main/config.json HTTP/1.1\" 200 0\n",
            "Train Epoch Number 1: 100% 429/429 [09:36<00:00,  1.34s/it]\n",
            "INFO:root:Epoch number: 1 Train Loss is equal: 184.0339813232422\n",
            "Eval Epoch Number 1: 100% 63/63 [00:29<00:00,  2.11it/s]\n",
            "INFO:root:Epoch number: 1 Eval Loss is equal: 53.67045211791992\n",
            "Train Epoch Number 2: 100% 429/429 [09:36<00:00,  1.34s/it]\n",
            "INFO:root:Epoch number: 2 Train Loss is equal: 46.73677444458008\n",
            "Eval Epoch Number 2: 100% 63/63 [00:29<00:00,  2.11it/s]\n",
            "INFO:root:Epoch number: 2 Eval Loss is equal: 46.60550308227539\n",
            "Train Epoch Number 3: 100% 429/429 [09:36<00:00,  1.34s/it]\n",
            "INFO:root:Epoch number: 3 Train Loss is equal: 35.431243896484375\n",
            "Eval Epoch Number 3: 100% 63/63 [00:29<00:00,  2.11it/s]\n",
            "INFO:root:Epoch number: 3 Eval Loss is equal: 46.986839294433594\n",
            "Train Epoch Number 4: 100% 429/429 [09:35<00:00,  1.34s/it]\n",
            "INFO:root:Epoch number: 4 Train Loss is equal: 31.032878875732422\n",
            "Eval Epoch Number 4: 100% 63/63 [00:29<00:00,  2.11it/s]\n",
            "INFO:root:Epoch number: 4 Eval Loss is equal: 43.496360778808594\n",
            "Train Epoch Number 5: 100% 429/429 [09:35<00:00,  1.34s/it]\n",
            "INFO:root:Epoch number: 5 Train Loss is equal: 28.05419921875\n",
            "Eval Epoch Number 5: 100% 63/63 [00:29<00:00,  2.11it/s]\n",
            "INFO:root:Epoch number: 5 Eval Loss is equal: 42.5682373046875\n",
            "Train Epoch Number 6: 100% 429/429 [09:38<00:00,  1.35s/it]\n",
            "INFO:root:Epoch number: 6 Train Loss is equal: 25.20116424560547\n",
            "Eval Epoch Number 6: 100% 63/63 [00:29<00:00,  2.11it/s]\n",
            "INFO:root:Epoch number: 6 Eval Loss is equal: 44.71070861816406\n",
            "Predicting ...: 100% 267/267 [01:02<00:00,  4.30it/s]\n",
            "INFO:root:Dataset-wide F1, precision and recall:\n",
            "INFO:root:0.9742729763998528, 0.973675604970569, 0.9748710812801834\n",
            "INFO:root:Averaged F1, precision and recall:\n",
            "INFO:root:nan, nan, 0.9661637979504781\n",
            "INFO:root:Span accuracy\n",
            "INFO:root:0.9503418225527759\n",
            "INFO:root:Dataset-wide F1, precision and recall:\n",
            "INFO:root:0.9865603332738596, 0.9868428698315721, 0.9862779584522466\n",
            "INFO:root:Averaged F1, precision and recall:\n",
            "INFO:root:0.9898953504444383, 0.9893949165447355, 0.9903962908371843\n",
            "INFO:root:Span accuracy\n",
            "INFO:root:0.9469235970250169\n",
            "Question                    Node               Edge\n",
            "--------------------------  -----------------  --------------------\n",
            "Where was Bill Gates Born?  ['bill', 'gates']  ['was', 'born', '?']\n"
          ]
        }
      ]
    },
    {
      "cell_type": "code",
      "metadata": {
        "id": "eKpscpNEwgUx"
      },
      "source": [
        "!cp /content/OpenQA/models/node_edge_bert.pt /content/drive/MyDrive/data_freebase/"
      ],
      "execution_count": null,
      "outputs": []
    },
    {
      "cell_type": "code",
      "metadata": {
        "id": "ASrV49xwEwoy",
        "colab": {
          "base_uri": "https://localhost:8080/"
        },
        "outputId": "87af22ff-14e5-4166-ae37-b5f9c8e6cf40"
      },
      "source": [
        "from train import *\n",
        "# from graph import *\n",
        "import pandas as pd\n",
        "from utils import get_hit\n",
        "'''\n",
        "\tA simple script to fill article table \n",
        "'''\n",
        "if __name__=='__main__':\n",
        "\tdevice = torch.device(\"cuda:0\" if torch.cuda.is_available() else \"cpu\")\n",
        "\tbert = BertModel.from_pretrained(\"bert-base-uncased\")\n",
        "\ttokenizer = BertTokenizer.from_pretrained(\"bert-base-uncased\")\n",
        "\tnode_edge_detector = NodeEdgeDetector(bert, tokenizer, dropout=torch.tensor(0.5))\n",
        "\toptimizer = AdamW\n",
        "\tkw = {'lr':0.0002, 'weight_decay':0.1}\n",
        "\ttl = TrainingLoop(node_edge_detector, optimizer, True, **kw)\n",
        "\tloss = mse_loss\n",
        "\ttl.load()\n",
        "\n",
        "\t# RKBG = ReverbKnowledgeBase()\n",
        "\twordstoberttokens_array, berttokenstoids_array, input_token_ids_array, nodes_borders_array, edges_spans_array, node_array, edge_array = [], [], [], [], [], [], []\n",
        "\tquestions_array = []\n",
        "\tfreebase_df = pd.read_excel('/content/drive/MyDrive/data_freebase/test_useful_records.xlsx')\n",
        "\treverb_df = pd.read_excel('/content/drive/MyDrive/data_freebase/test.xlsx')\n",
        "\ttest_df = pd.DataFrame({'Question':freebase_df.Question.to_list()+reverb_df.Question.to_list()})\n",
        "\t# actual = test_df['Reverb_no'].to_list()\n",
        "\tsystem_results, candidates_array, actual_answer_array = [], [], []\n",
        "\tfor index, row in tqdm(test_df.iterrows(), total=test_df.shape[0]):\n",
        "\t\twordstoberttokens, berttokenstoids, input_token_ids, nodes_borders, edges_spans, node, edge = tl.readable_predict_article(\n",
        "                                                device, _input=row['Question'], print_result=False)\n",
        "\t\twordstoberttokens_array.append(wordstoberttokens)\n",
        "\t\tberttokenstoids_array.append(berttokenstoids)\n",
        "\t\tinput_token_ids_array.append(input_token_ids)\n",
        "\t\tnodes_borders_array.append(nodes_borders)\n",
        "\t\tedges_spans_array.append(edges_spans)\n",
        "    \n",
        "\t\tnode = ' '.join(node); edge = ' '.join(edge)\n",
        "\t\tnode = node.replace(' ##', ''); edge = edge.replace(' ##', '')\n",
        "\n",
        "\t\tnode_array.append(node)\n",
        "\t\tedge_array.append(edge)\n",
        "\t\tquestions_array.append(row['Question'].lower().split())\n",
        "\t\t# temp = RKBG.tfidf_query(node=node, edge=edge)\n",
        "\t\t# candidates_array.append(temp[:min(len(temp), 25)])\n",
        "\t\t# actual_answer_array.append(row['Reverb_no'])\n",
        "\toutput_data = {\n",
        "    # 'bert_tokenizer_output':wordstoberttokens_array,\n",
        "    # 'bert_token_ids':berttokenstoids_array,\n",
        "\t\t'Question':test_df.Question.to_list(),\n",
        "    'input_token_ids':input_token_ids_array,\n",
        "    'nodes_borders':nodes_borders_array,\n",
        "    'edges_spans':edges_spans_array,\n",
        "    'node':node_array,\n",
        "    'edges':edge_array,\n",
        "    'question':questions_array,\n",
        "    # 'candidates':candidates_array, \n",
        "    # 'actual_answer':actual_answer_array\n",
        "  }\n",
        "\n",
        "\tpd.DataFrame(output_data).to_excel('/content/drive/MyDrive/data_freebase/article_step_by_step_output.xlsx')"
      ],
      "execution_count": 21,
      "outputs": [
        {
          "output_type": "stream",
          "name": "stderr",
          "text": [
            "DEBUG:urllib3.connectionpool:Starting new HTTPS connection (1): huggingface.co:443\n",
            "DEBUG:urllib3.connectionpool:https://huggingface.co:443 \"HEAD /bert-base-uncased/resolve/main/config.json HTTP/1.1\" 200 0\n",
            "DEBUG:urllib3.connectionpool:Starting new HTTPS connection (1): huggingface.co:443\n",
            "DEBUG:urllib3.connectionpool:https://huggingface.co:443 \"HEAD /bert-base-uncased/resolve/main/pytorch_model.bin HTTP/1.1\" 302 0\n",
            "Some weights of the model checkpoint at bert-base-uncased were not used when initializing BertModel: ['cls.seq_relationship.bias', 'cls.predictions.transform.dense.weight', 'cls.predictions.transform.dense.bias', 'cls.predictions.transform.LayerNorm.weight', 'cls.predictions.transform.LayerNorm.bias', 'cls.predictions.bias', 'cls.seq_relationship.weight', 'cls.predictions.decoder.weight']\n",
            "- This IS expected if you are initializing BertModel from the checkpoint of a model trained on another task or with another architecture (e.g. initializing a BertForSequenceClassification model from a BertForPreTraining model).\n",
            "- This IS NOT expected if you are initializing BertModel from the checkpoint of a model that you expect to be exactly identical (initializing a BertForSequenceClassification model from a BertForSequenceClassification model).\n",
            "DEBUG:urllib3.connectionpool:Starting new HTTPS connection (1): huggingface.co:443\n",
            "DEBUG:urllib3.connectionpool:https://huggingface.co:443 \"GET /api/models/bert-base-uncased HTTP/1.1\" 200 997\n",
            "DEBUG:urllib3.connectionpool:Starting new HTTPS connection (1): huggingface.co:443\n",
            "DEBUG:urllib3.connectionpool:https://huggingface.co:443 \"HEAD /bert-base-uncased/resolve/main/vocab.txt HTTP/1.1\" 200 0\n",
            "DEBUG:urllib3.connectionpool:Starting new HTTPS connection (1): huggingface.co:443\n",
            "DEBUG:urllib3.connectionpool:https://huggingface.co:443 \"HEAD /bert-base-uncased/resolve/main/added_tokens.json HTTP/1.1\" 404 0\n",
            "DEBUG:urllib3.connectionpool:Starting new HTTPS connection (1): huggingface.co:443\n",
            "DEBUG:urllib3.connectionpool:https://huggingface.co:443 \"HEAD /bert-base-uncased/resolve/main/special_tokens_map.json HTTP/1.1\" 404 0\n",
            "DEBUG:urllib3.connectionpool:Starting new HTTPS connection (1): huggingface.co:443\n",
            "DEBUG:urllib3.connectionpool:https://huggingface.co:443 \"HEAD /bert-base-uncased/resolve/main/tokenizer_config.json HTTP/1.1\" 200 0\n",
            "DEBUG:urllib3.connectionpool:Starting new HTTPS connection (1): huggingface.co:443\n",
            "DEBUG:urllib3.connectionpool:https://huggingface.co:443 \"HEAD /bert-base-uncased/resolve/main/tokenizer.json HTTP/1.1\" 200 0\n",
            "DEBUG:urllib3.connectionpool:Starting new HTTPS connection (1): huggingface.co:443\n",
            "DEBUG:urllib3.connectionpool:https://huggingface.co:443 \"HEAD /bert-base-uncased/resolve/main/config.json HTTP/1.1\" 200 0\n",
            "100%|██████████| 26622/26622 [06:38<00:00, 66.81it/s]\n"
          ]
        }
      ]
    },
    {
      "cell_type": "code",
      "metadata": {
        "id": "eSUZxHKdm0vb",
        "outputId": "93a18990-73fc-411c-d3c0-8b9f8182ceeb",
        "colab": {
          "base_uri": "https://localhost:8080/"
        }
      },
      "source": [
        "print(len(freebase_df.Question.to_list()), len(reverb_df.Question.to_list()))"
      ],
      "execution_count": 22,
      "outputs": [
        {
          "output_type": "stream",
          "name": "stdout",
          "text": [
            "21619 5003\n"
          ]
        }
      ]
    },
    {
      "cell_type": "code",
      "metadata": {
        "id": "r6gX2WkKrYhc"
      },
      "source": [
        ""
      ],
      "execution_count": null,
      "outputs": []
    }
  ]
}