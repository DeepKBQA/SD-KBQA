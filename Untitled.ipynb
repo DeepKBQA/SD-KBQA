{
 "cells": [
  {
   "cell_type": "code",
   "execution_count": 28,
   "metadata": {},
   "outputs": [],
   "source": [
    "import pandas as pd"
   ]
  },
  {
   "cell_type": "code",
   "execution_count": 29,
   "metadata": {},
   "outputs": [],
   "source": [
    "df = pd.read_excel('validation.xlsx')\n",
    "X, y = [], []\n",
    "for idx, row in df.iterrows():\n",
    "    try:\n",
    "        candidates_row = eval(row['answers'])\n",
    "        X.append(candidates_row)\n",
    "        y.append(row['Answer'])\n",
    "    except:\n",
    "        continue"
   ]
  },
  {
   "cell_type": "code",
   "execution_count": 36,
   "metadata": {},
   "outputs": [
    {
     "name": "stdout",
     "output_type": "stream",
     "text": [
      "('20e3dd8b-0f8e-4379-8552-58aef7ca3857', 'again chose', 1.0, 1.0, '0.90925', 114750) 243b498b-3a44-4569-96fb-96ea93aed5cb\n"
     ]
    }
   ],
   "source": [
    "print(X[1][0], y[0])"
   ]
  },
  {
   "cell_type": "code",
   "execution_count": null,
   "metadata": {},
   "outputs": [],
   "source": []
  }
 ],
 "metadata": {
  "kernelspec": {
   "display_name": "Python 3",
   "language": "python",
   "name": "python3"
  },
  "language_info": {
   "codemirror_mode": {
    "name": "ipython",
    "version": 3
   },
   "file_extension": ".py",
   "mimetype": "text/x-python",
   "name": "python",
   "nbconvert_exporter": "python",
   "pygments_lexer": "ipython3",
   "version": "3.8.5"
  }
 },
 "nbformat": 4,
 "nbformat_minor": 4
}
