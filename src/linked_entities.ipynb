{
 "cells": [
  {
   "cell_type": "code",
   "execution_count": 9,
   "id": "f7f66a32",
   "metadata": {},
   "outputs": [],
   "source": [
    "import pandas as pd\n",
    "import hashlib\n",
    "import numpy as np "
   ]
  },
  {
   "cell_type": "code",
   "execution_count": 10,
   "id": "f9e16591",
   "metadata": {},
   "outputs": [],
   "source": [
    "linking_df = pd.read_csv('../data/reverb/linked-extractions.tsv', sep='\\t', header=None, index_col=False)\n",
    "linking_df.columns = ['argument1', 'relation_phrase', 'argument2', 'freebase_ID_argument1', 'freebase_entity_name', 'link_score', 'link_ambiguity_score', 'idk']"
   ]
  },
  {
   "cell_type": "code",
   "execution_count": 11,
   "id": "e1b9646b",
   "metadata": {},
   "outputs": [],
   "source": [
    "reverb_df = pd.read_csv('../data/reverb/reverb_wikipedia_tuples-1.1.txt', sep='\\t', header=None, index_col=False)\n",
    "reverb_df.columns = ['ExID', 'arg1', 'rel', 'arg2', 'narg1', 'nrel', 'narg2', 'csents', 'conf', 'urls']"
   ]
  },
  {
   "cell_type": "code",
   "execution_count": 12,
   "id": "5372da03",
   "metadata": {},
   "outputs": [],
   "source": [
    "reverb_df['reverb_no'] = reverb_df.index.to_list()\n",
    "reverb_linked = reverb_df.merge(linking_df, how='left', right_on=['argument1', 'relation_phrase', 'argument2'], left_on=['arg1', 'rel', 'arg2'], sort=False)\n",
    "reverb_linked['link_score'] = reverb_linked['link_score'].fillna(-1)\n",
    "# hashlib.sha1(s.encode(\"utf-8\")).hexdigest()\n",
    "reverb_linked['argument1_uuid'] = reverb_linked.arg1.apply(lambda string:hashlib.sha1(str(string).encode(\"utf-8\")).hexdigest())\n",
    "reverb_linked['argument2_uuid'] = reverb_linked.arg2.apply(lambda string:hashlib.sha1(str(string).encode(\"utf-8\")).hexdigest())\n"
   ]
  },
  {
   "cell_type": "code",
   "execution_count": 13,
   "id": "6b3019f3",
   "metadata": {},
   "outputs": [],
   "source": [
    "reverb_linked.to_csv('reverb_linked.csv', index=False)"
   ]
  },
  {
   "cell_type": "code",
   "execution_count": null,
   "metadata": {},
   "outputs": [],
   "source": [
    "ش"
   ]
  }
 ],
 "metadata": {
  "kernelspec": {
   "display_name": "Python 3",
   "language": "python",
   "name": "python3"
  },
  "language_info": {
   "codemirror_mode": {
    "name": "ipython",
    "version": 3
   },
   "file_extension": ".py",
   "mimetype": "text/x-python",
   "name": "python",
   "nbconvert_exporter": "python",
   "pygments_lexer": "ipython3",
   "version": "3.8.5"
  }
 },
 "nbformat": 4,
 "nbformat_minor": 5
}
