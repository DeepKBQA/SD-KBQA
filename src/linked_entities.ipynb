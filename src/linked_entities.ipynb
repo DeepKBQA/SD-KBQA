{
 "cells": [
  {
   "cell_type": "code",
   "execution_count": 67,
   "id": "f7f66a32",
   "metadata": {},
   "outputs": [],
   "source": [
    "import pandas as pd\n",
    "import uuid\n",
    "import numpy as np "
   ]
  },
  {
   "cell_type": "code",
   "execution_count": 68,
   "id": "f9e16591",
   "metadata": {},
   "outputs": [],
   "source": [
    "linking_df = pd.read_csv('linked-extractions.tsv', sep='\\t', header=None, index_col=False)\n",
    "linking_df.columns = ['argument1', 'relation_phrase', 'argument2', 'freebase_ID_argument1', 'freebase_entity_name', 'link_score', 'link_ambiguity_score', 'idk']"
   ]
  },
  {
   "cell_type": "code",
   "execution_count": 69,
   "id": "e1b9646b",
   "metadata": {},
   "outputs": [],
   "source": [
    "reverb_df = pd.read_csv('reverb_wikipedia_tuples-1.1.txt', sep='\\t', header=None, index_col=False)\n",
    "reverb_df.columns = ['ExID', 'arg1', 'rel', 'arg2', 'narg1', 'nrel', 'narg2', 'csents', 'conf', 'urls']"
   ]
  },
  {
   "cell_type": "code",
   "execution_count": 70,
   "id": "5372da03",
   "metadata": {},
   "outputs": [],
   "source": [
    "reverb_df['reverb_no'] = reverb_df.index.to_list()\n",
    "reverb_linked = reverb_df.merge(linking_df, how='left', right_on=['argument1', 'relation_phrase', 'argument2'], left_on=['arg1', 'rel', 'arg2'], sort=False)\n",
    "reverb_linked['link_score'] = reverb_linked['link_score'].fillna(-1)\n",
    "reverb_linked['argument1_uuid'] = reverb_linked['freebase_ID_argument1'].fillna(reverb_linked['link_score'].apply(lambda item:str(uuid.uuid4())))\n",
    "reverb_linked['argument2_uuid'] = reverb_linked['freebase_ID_argument1'].fillna(reverb_linked['link_score'].apply(lambda item:str(uuid.uuid4())))\n"
   ]
  },
  {
   "cell_type": "code",
   "execution_count": 71,
   "id": "c9652642",
   "metadata": {},
   "outputs": [
    {
     "name": "stdout",
     "output_type": "stream",
     "text": [
      "<class 'pandas.core.frame.DataFrame'>\n",
      "Int64Index: 407267 entries, 0 to 407266\n",
      "Data columns (total 21 columns):\n",
      " #   Column                 Non-Null Count   Dtype  \n",
      "---  ------                 --------------   -----  \n",
      " 0   ExID                   407267 non-null  int64  \n",
      " 1   arg1                   407264 non-null  object \n",
      " 2   rel                    407267 non-null  object \n",
      " 3   arg2                   407266 non-null  object \n",
      " 4   narg1                  407261 non-null  object \n",
      " 5   nrel                   407267 non-null  object \n",
      " 6   narg2                  407265 non-null  object \n",
      " 7   csents                 407267 non-null  int64  \n",
      " 8   conf                   407267 non-null  float64\n",
      " 9   urls                   407267 non-null  object \n",
      " 10  reverb_no              407267 non-null  int64  \n",
      " 11  argument1              153354 non-null  object \n",
      " 12  relation_phrase        153354 non-null  object \n",
      " 13  argument2              153354 non-null  object \n",
      " 14  freebase_ID_argument1  153354 non-null  object \n",
      " 15  freebase_entity_name   153354 non-null  object \n",
      " 16  link_score             407267 non-null  float64\n",
      " 17  link_ambiguity_score   110546 non-null  float64\n",
      " 18  idk                    0 non-null       float64\n",
      " 19  argument1_uuid         407267 non-null  object \n",
      " 20  argument2_uuid         407267 non-null  object \n",
      "dtypes: float64(4), int64(3), object(14)\n",
      "memory usage: 68.4+ MB\n"
     ]
    }
   ],
   "source": [
    "reverb_linked.info()"
   ]
  },
  {
   "cell_type": "code",
   "execution_count": 72,
   "id": "6b3019f3",
   "metadata": {},
   "outputs": [],
   "source": [
    "reverb_linked.to_csv('reverb_linked.csv', index=False)"
   ]
  },
  {
   "cell_type": "code",
   "execution_count": 73,
   "id": "1d6b20c9",
   "metadata": {},
   "outputs": [
    {
     "data": {
      "text/plain": [
       "ExID                                                   9830229\n",
       "arg1                                                 Protocols\n",
       "rel                                                    vary by\n",
       "arg2                                              jurisdiction\n",
       "narg1                                                 protocol\n",
       "nrel                                                   vary by\n",
       "narg2                                             jurisdiction\n",
       "csents                                                       1\n",
       "conf                                                   0.93811\n",
       "urls         http://encyclopedia.vbxml.net/Emancipation_of_...\n",
       "reverb_no                                               267285\n",
       "Name: 267285, dtype: object"
      ]
     },
     "execution_count": 73,
     "metadata": {},
     "output_type": "execute_result"
    }
   ],
   "source": [
    "reverb_df.iloc[267285]"
   ]
  },
  {
   "cell_type": "code",
   "execution_count": 74,
   "id": "1ec1c05f",
   "metadata": {},
   "outputs": [
    {
     "data": {
      "text/html": [
       "<div>\n",
       "<style scoped>\n",
       "    .dataframe tbody tr th:only-of-type {\n",
       "        vertical-align: middle;\n",
       "    }\n",
       "\n",
       "    .dataframe tbody tr th {\n",
       "        vertical-align: top;\n",
       "    }\n",
       "\n",
       "    .dataframe thead th {\n",
       "        text-align: right;\n",
       "    }\n",
       "</style>\n",
       "<table border=\"1\" class=\"dataframe\">\n",
       "  <thead>\n",
       "    <tr style=\"text-align: right;\">\n",
       "      <th></th>\n",
       "      <th>ExID</th>\n",
       "      <th>arg1</th>\n",
       "      <th>rel</th>\n",
       "      <th>arg2</th>\n",
       "      <th>narg1</th>\n",
       "      <th>nrel</th>\n",
       "      <th>narg2</th>\n",
       "      <th>csents</th>\n",
       "      <th>conf</th>\n",
       "      <th>urls</th>\n",
       "      <th>...</th>\n",
       "      <th>argument1</th>\n",
       "      <th>relation_phrase</th>\n",
       "      <th>argument2</th>\n",
       "      <th>freebase_ID_argument1</th>\n",
       "      <th>freebase_entity_name</th>\n",
       "      <th>link_score</th>\n",
       "      <th>link_ambiguity_score</th>\n",
       "      <th>idk</th>\n",
       "      <th>argument1_uuid</th>\n",
       "      <th>argument2_uuid</th>\n",
       "    </tr>\n",
       "  </thead>\n",
       "  <tbody>\n",
       "    <tr>\n",
       "      <th>267302</th>\n",
       "      <td>9830229</td>\n",
       "      <td>Protocols</td>\n",
       "      <td>vary by</td>\n",
       "      <td>jurisdiction</td>\n",
       "      <td>protocol</td>\n",
       "      <td>vary by</td>\n",
       "      <td>jurisdiction</td>\n",
       "      <td>1</td>\n",
       "      <td>0.93811</td>\n",
       "      <td>http://encyclopedia.vbxml.net/Emancipation_of_...</td>\n",
       "      <td>...</td>\n",
       "      <td>NaN</td>\n",
       "      <td>NaN</td>\n",
       "      <td>NaN</td>\n",
       "      <td>NaN</td>\n",
       "      <td>NaN</td>\n",
       "      <td>-1.0</td>\n",
       "      <td>NaN</td>\n",
       "      <td>NaN</td>\n",
       "      <td>b187d86e-8cd5-47da-a344-de2771d4dfe2</td>\n",
       "      <td>2337d24a-b7f0-44c1-af79-e5655bda08c2</td>\n",
       "    </tr>\n",
       "  </tbody>\n",
       "</table>\n",
       "<p>1 rows × 21 columns</p>\n",
       "</div>"
      ],
      "text/plain": [
       "           ExID       arg1      rel          arg2     narg1     nrel  \\\n",
       "267302  9830229  Protocols  vary by  jurisdiction  protocol  vary by   \n",
       "\n",
       "               narg2  csents     conf  \\\n",
       "267302  jurisdiction       1  0.93811   \n",
       "\n",
       "                                                     urls  ...  argument1  \\\n",
       "267302  http://encyclopedia.vbxml.net/Emancipation_of_...  ...        NaN   \n",
       "\n",
       "       relation_phrase argument2 freebase_ID_argument1 freebase_entity_name  \\\n",
       "267302             NaN       NaN                   NaN                  NaN   \n",
       "\n",
       "       link_score  link_ambiguity_score  idk  \\\n",
       "267302       -1.0                   NaN  NaN   \n",
       "\n",
       "                              argument1_uuid  \\\n",
       "267302  b187d86e-8cd5-47da-a344-de2771d4dfe2   \n",
       "\n",
       "                              argument2_uuid  \n",
       "267302  2337d24a-b7f0-44c1-af79-e5655bda08c2  \n",
       "\n",
       "[1 rows x 21 columns]"
      ]
     },
     "execution_count": 74,
     "metadata": {},
     "output_type": "execute_result"
    }
   ],
   "source": [
    "reverb_linked[reverb_linked.reverb_no==267285]"
   ]
  },
  {
   "cell_type": "code",
   "execution_count": null,
   "id": "c6e2ed6f",
   "metadata": {},
   "outputs": [],
   "source": []
  }
 ],
 "metadata": {
  "kernelspec": {
   "display_name": "Python 3",
   "language": "python",
   "name": "python3"
  },
  "language_info": {
   "codemirror_mode": {
    "name": "ipython",
    "version": 3
   },
   "file_extension": ".py",
   "mimetype": "text/x-python",
   "name": "python",
   "nbconvert_exporter": "python",
   "pygments_lexer": "ipython3",
   "version": "3.9.6"
  }
 },
 "nbformat": 4,
 "nbformat_minor": 5
}
