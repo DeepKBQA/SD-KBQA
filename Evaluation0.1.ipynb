{
  "nbformat": 4,
  "nbformat_minor": 0,
  "metadata": {
    "colab": {
      "name": "Evaluation.ipynb",
      "provenance": [],
      "include_colab_link": true
    },
    "kernelspec": {
      "name": "python3",
      "display_name": "Python 3"
    },
    "language_info": {
      "name": "python"
    }
  },
  "cells": [
    {
      "cell_type": "markdown",
      "metadata": {
        "id": "view-in-github",
        "colab_type": "text"
      },
      "source": [
        "<a href=\"https://colab.research.google.com/github/meti-94/OpenQA/blob/main/Evaluation0.1.ipynb\" target=\"_parent\"><img src=\"https://colab.research.google.com/assets/colab-badge.svg\" alt=\"Open In Colab\"/></a>"
      ]
    },
    {
      "cell_type": "code",
      "metadata": {
        "id": "C2brb0osFDum"
      },
      "source": [
        "import pandas as pd\n",
        "import pickle\n",
        "from tqdm import tqdm"
      ],
      "execution_count": 1,
      "outputs": []
    },
    {
      "cell_type": "code",
      "metadata": {
        "id": "wBEUnARZEZEu"
      },
      "source": [
        "entity_df = pd.read_excel('/content/drive/MyDrive/data_freebase/Linking.xlsx')\n",
        "relation_df = pd.read_excel('/content/drive/MyDrive/data_freebase/dbg.xlsx')\n",
        "predictions = pd.merge(entity_df, relation_df, on='Question').drop_duplicates()\n",
        "reverb_df = pd.read_excel('/content/drive/MyDrive/data_freebase/test.xlsx')[['Question', 'triple', 'Reverb_no']]\n",
        "reverb_df['Relation'] = reverb_df['triple'].apply(lambda item:eval(item)[1])\n",
        "reverb_df = reverb_df[['Question', 'Relation', 'Reverb_no']]\n",
        "freebase_df = pd.read_excel('/content/drive/MyDrive/data_freebase/test_useful_records.xlsx')[['Question', 'relation_type']]\n",
        "freebase_df['Relation'] = freebase_df['relation_type']\n",
        "freebase_df['Reverb_no'] = freebase_df['relation_type'].apply(lambda item:'')\n",
        "freebase_df = freebase_df[['Question', 'Relation', 'Reverb_no']]\n",
        "actuals = pd.concat([reverb_df, freebase_df])"
      ],
      "execution_count": 2,
      "outputs": []
    },
    {
      "cell_type": "code",
      "metadata": {
        "colab": {
          "base_uri": "https://localhost:8080/",
          "height": 362
        },
        "id": "vJTDJOYgPuDG",
        "outputId": "460fc46c-6b1b-40a3-a9ed-fae00dbed2b4"
      },
      "source": [
        "data = pd.merge(actuals, predictions, on='Question', how='inner')\n",
        "data.head()"
      ],
      "execution_count": 3,
      "outputs": [
        {
          "output_type": "execute_result",
          "data": {
            "text/html": [
              "<div>\n",
              "<style scoped>\n",
              "    .dataframe tbody tr th:only-of-type {\n",
              "        vertical-align: middle;\n",
              "    }\n",
              "\n",
              "    .dataframe tbody tr th {\n",
              "        vertical-align: top;\n",
              "    }\n",
              "\n",
              "    .dataframe thead th {\n",
              "        text-align: right;\n",
              "    }\n",
              "</style>\n",
              "<table border=\"1\" class=\"dataframe\">\n",
              "  <thead>\n",
              "    <tr style=\"text-align: right;\">\n",
              "      <th></th>\n",
              "      <th>Question</th>\n",
              "      <th>Relation</th>\n",
              "      <th>Reverb_no</th>\n",
              "      <th>NER</th>\n",
              "      <th>Answer</th>\n",
              "      <th>HIT@</th>\n",
              "      <th>Candidates</th>\n",
              "      <th>Freebase</th>\n",
              "      <th>Reverb</th>\n",
              "    </tr>\n",
              "  </thead>\n",
              "  <tbody>\n",
              "    <tr>\n",
              "      <th>0</th>\n",
              "      <td>how do Protocols vary</td>\n",
              "      <td>vary by</td>\n",
              "      <td>267285</td>\n",
              "      <td>protocols</td>\n",
              "      <td>2a6e3082f7bd2a56b001fbb1624e361e5599002d</td>\n",
              "      <td>3</td>\n",
              "      <td>[(('aabf7ceaade498b555088ad543b63783ca0b4cbd',...</td>\n",
              "      <td>[('fb:medicine.disease.medical_specialties', 0...</td>\n",
              "      <td>{\"do n't vary based on\": 0.84525030966336, 'do...</td>\n",
              "    </tr>\n",
              "    <tr>\n",
              "      <th>1</th>\n",
              "      <td>of what is A Shooting Star another brand</td>\n",
              "      <td>is another brand of</td>\n",
              "      <td>8600</td>\n",
              "      <td>a shooting star</td>\n",
              "      <td>e78fa772e4525fa8db441c96351be76ff6a53c2d</td>\n",
              "      <td>1</td>\n",
              "      <td>[(('e78fa772e4525fa8db441c96351be76ff6a53c2d',...</td>\n",
              "      <td>[('fb:automotive.model.successor', 0.043253843...</td>\n",
              "      <td>{'is another brand of': 1.0000000000000002, 'i...</td>\n",
              "    </tr>\n",
              "    <tr>\n",
              "      <th>2</th>\n",
              "      <td>where  was the hometown of Angie Debo</td>\n",
              "      <td>was the hometown of</td>\n",
              "      <td>212931</td>\n",
              "      <td>angie debo</td>\n",
              "      <td>d6d4304250a9caa525fd9630d1cab5ef052d8227</td>\n",
              "      <td>1</td>\n",
              "      <td>[(('d6d4304250a9caa525fd9630d1cab5ef052d8227',...</td>\n",
              "      <td>[('fb:music.artist.origin', 0.861007), ('fb:pe...</td>\n",
              "      <td>{'was the hometown of': 1.0000000000000002, 'i...</td>\n",
              "    </tr>\n",
              "    <tr>\n",
              "      <th>3</th>\n",
              "      <td>where Curium does not occur</td>\n",
              "      <td>does not occur in</td>\n",
              "      <td>89850</td>\n",
              "      <td>curium</td>\n",
              "      <td>fb:m.025tkv0</td>\n",
              "      <td>1</td>\n",
              "      <td>[(('fb:m.025tkv0', 'curium', '0.95117000000000...</td>\n",
              "      <td>[('fb:theater.theater_production.performed_at'...</td>\n",
              "      <td>{'does not occur in': 0.986554414128868, 'does...</td>\n",
              "    </tr>\n",
              "    <tr>\n",
              "      <th>4</th>\n",
              "      <td>who died in Moraga</td>\n",
              "      <td>died in</td>\n",
              "      <td>385331</td>\n",
              "      <td>moraga</td>\n",
              "      <td>23a620d63499f12d9d214118beabc1f586b85c45</td>\n",
              "      <td>1</td>\n",
              "      <td>[(('23a620d63499f12d9d214118beabc1f586b85c45',...</td>\n",
              "      <td>[('fb:location.location.people_born_here', 0.8...</td>\n",
              "      <td>{'died in': 1.0000000000000002, 'Died in': 1.0...</td>\n",
              "    </tr>\n",
              "  </tbody>\n",
              "</table>\n",
              "</div>"
            ],
            "text/plain": [
              "                                     Question  ...                                             Reverb\n",
              "0                      how do Protocols vary   ...  {\"do n't vary based on\": 0.84525030966336, 'do...\n",
              "1  of what is A Shooting Star another brand    ...  {'is another brand of': 1.0000000000000002, 'i...\n",
              "2       where  was the hometown of Angie Debo  ...  {'was the hometown of': 1.0000000000000002, 'i...\n",
              "3                where Curium does not occur   ...  {'does not occur in': 0.986554414128868, 'does...\n",
              "4                          who died in Moraga  ...  {'died in': 1.0000000000000002, 'Died in': 1.0...\n",
              "\n",
              "[5 rows x 9 columns]"
            ]
          },
          "metadata": {},
          "execution_count": 3
        }
      ]
    },
    {
      "cell_type": "code",
      "source": [
        "reverb2freebace = pd.read_csv('/content/drive/MyDrive/reverb2freebase.csv')\n",
        "reverb2freebace['freebase_ID_argument1'] = reverb2freebace['freebase_ID_argument1'].apply(lambda string:'fb:m.'+str(string))\n",
        "reverb2freebace['conf'] = reverb2freebace['conf'].astype(float)\n",
        "# reverb2freebace.info()"
      ],
      "metadata": {
        "id": "08CEyIpNcxWu"
      },
      "execution_count": 4,
      "outputs": []
    },
    {
      "cell_type": "code",
      "source": [
        "# mapping between MIDs and names in the form of dict['MID']=['str1', 'str2', ...,  'strN']\n",
        "with open('/content/drive/MyDrive/indexes/names_2M.pkl', 'rb') as f:\n",
        "    mid2name = pickle.load(f)\n",
        "# mapping between MIDs and Relations in the form of dict['MID']=[{'fb:common.topic.notable_types', 'fb:people.person.gender', 'fb:people.person.profession'}]\n",
        "with open('/content/drive/MyDrive/indexes/reachability_2M.pkl', 'rb') as f:\n",
        "    reachability_2M = pickle.load(f)\n",
        "print(len(reachability_2M.keys()), sum([len(item) for item in reachability_2M.values()]))"
      ],
      "metadata": {
        "id": "P1Ls4iLlRqCE",
        "outputId": "a76dd0aa-7619-43c3-a9d7-06cc51e14f45",
        "colab": {
          "base_uri": "https://localhost:8080/"
        }
      },
      "execution_count": 5,
      "outputs": [
        {
          "output_type": "stream",
          "name": "stdout",
          "text": [
            "1959805 7188598\n"
          ]
        }
      ]
    },
    {
      "cell_type": "code",
      "source": [
        "def combine(reachability_2M, reverb2freebace):\n",
        "  for index, row in tqdm(reverb2freebace.iterrows(), total=reverb2freebace.shape[0]):\n",
        "    if row['freebase_ID_argument1'] in mid2name:\n",
        "      mid1 = mid = row['freebase_ID_argument1'] \n",
        "    else:\n",
        "      mid1 = mid = row['argument1_uuid']\n",
        "    mid2 = mid = row['argument2_uuid']\n",
        "    relation = row['rel']\n",
        "    reverb_no = row['reverb_no']\n",
        "    try:\n",
        "      temp = reachability_2M[mid1]\n",
        "    except:\n",
        "      reachability_2M[mid1] = set()\n",
        "      temp = reachability_2M[mid1]\n",
        "    temp.add((relation, reverb_no))\n",
        "    try:\n",
        "      temp = reachability_2M[mid2]\n",
        "    except:\n",
        "      reachability_2M[mid2] = set()\n",
        "      temp = reachability_2M[mid2]\n",
        "    temp.add((relation, reverb_no))\n",
        "  return reachability_2M\n"
      ],
      "metadata": {
        "id": "cUO5NWA0if0E"
      },
      "execution_count": 6,
      "outputs": []
    },
    {
      "cell_type": "code",
      "source": [
        "reachability_2M = combine(reachability_2M, reverb2freebace)\n",
        "print(len(reachability_2M.keys()), sum([len(item) for item in reachability_2M.values()]))"
      ],
      "metadata": {
        "id": "cqkmaDODj06D",
        "outputId": "bc674ce4-26bd-4715-98a4-7acde8a11917",
        "colab": {
          "base_uri": "https://localhost:8080/"
        }
      },
      "execution_count": 7,
      "outputs": [
        {
          "output_type": "stream",
          "name": "stderr",
          "text": [
            "100%|██████████| 407267/407267 [00:47<00:00, 8645.23it/s]\n"
          ]
        },
        {
          "output_type": "stream",
          "name": "stdout",
          "text": [
            "2558314 7994311\n"
          ]
        }
      ]
    },
    {
      "cell_type": "code",
      "metadata": {
        "id": "z_2pSsTtGrjW"
      },
      "source": [
        "def create_candidates(ner, freebase, reverb, reverb_no):\n",
        "  candidates = []\n",
        "  rvb = [(key, value) for key, value in eval(reverb).items()]\n",
        "  rels = eval(freebase)+rvb\n",
        "  print(rels)\n",
        "  for idx1, ((mid, string, conf), sim1) in enumerate(eval(ner)):\n",
        "    for idx2, (rel, sim2) in enumerate(rels):\n",
        "      if (rel in reachability_2M[mid]) or (rel, reverb_no) in reachability_2M[mid]:\n",
        "        candidates.append((mid, rel, reverb_no, sim1, sim2, conf))\n",
        "  \n",
        "  print(len(candidates))"
      ],
      "execution_count": 8,
      "outputs": []
    },
    {
      "cell_type": "code",
      "metadata": {
        "colab": {
          "base_uri": "https://localhost:8080/",
          "height": 364
        },
        "id": "o53_KRmNF1PV",
        "outputId": "2739311d-6cc3-4505-a665-dcb7fbfcb37f"
      },
      "source": [
        "test = data.loc[1, 'Candidates']\n",
        "create_candidates(data.loc[1, 'Candidates'], data.loc[1, 'Freebase'], data.loc[1, 'Reverb'], data.loc[1, 'Reverb_no'])"
      ],
      "execution_count": 9,
      "outputs": [
        {
          "output_type": "stream",
          "name": "stdout",
          "text": [
            "[('fb:automotive.model.successor', 0.043253843), ('fb:digicams.camera_storage_type.compatible_cameras', 0.027522288), ('fb:base.cars_refactor.make.model_s', 0.025800252), ('fb:automotive.make.model_s', 0.02205914), ('fb:business.brand.products', 0.012975082), ('fb:aviation.aircraft_manufacturer.aircraft_models_made', 0.011694424), ('fb:food.dietary_restriction.compatible_ingredients', 0.011169725), ('fb:aviation.aircraft_model.variants', 0.01048043), ('fb:metropolitan_transit.transit_vehicle.transit_lines', 0.0095033655), ('fb:location.location.containedby', 1.15016306e-07), ('is another brand of', 1.0000000000000002), ('is a brand of', 0.756433795507315), ('Is A Brand Of', 0.756433795507315), ('is brand of', 0.756433795507315), ('was a brand of', 0.7103702121643718), ('is another of', 0.7092509505437823), ('is also a brand of', 0.6903382167815799), ('is a brand for', 0.6733766492686785), ('are a brand of', 0.6695344523986342), ('is now a brand of', 0.6252908129162552), ('is a common brand of', 0.6154475666799368), ('is a brand name of', 0.6139686011945599), ('is a popular brand of', 0.611194214286004), ('is a major brand of', 0.608077002536472), ('is another part of', 0.6062298786823834), ('is another member of', 0.6057647604678563), ('is the brand name of', 0.586868342879729), ('was a brand name of', 0.5782827351471661), ('is an American brand of', 0.5693266654055181), ('was another member of', 0.5653552201448889), ('is another area of', 0.5636348252922414), ('is another name of', 0.5626276387457763), ('is another form of', 0.557189718644548), ('is a brand name for', 0.5528358483310428), ('is brand name for', 0.5528358483310428), ('is a leading brand of', 0.5523810925604684), ('is a famous brand of', 0.5515595520276337), ('is another type of', 0.545101838978433), ('is a French brand of', 0.5440252454101779), ('is a commercial brand of', 0.5397110280246463), ('is a British brand of', 0.539399860518201), ('is another source of', 0.5292634424006672), ('is a very popular brand of', 0.5263988068906145), ('is also another name of', 0.5261130329581765), ('is another friend of', 0.5253539927354074), ('is another cause of', 0.5246197483087427), ('is an Italian brand of', 0.5229797068159472), ('was another year of', 0.5220415321164925), ('is also another form of', 0.5216585645191908), ('is also a brand name for', 0.5209201378667637), ('is a brand owned by', 0.5164578215882709), ('is another way of', 0.5155982066990239), ('is an international brand of', 0.5153288938546251), ('is a well known brand of', 0.5119501113292718), ('is another branch of', 0.5105699658971039), ('is another kind of', 0.5099722510035987), ('is a sub-brand of', 0.5075514483494532), ('sold the brand to', 0.5051030208849387), ('is another example of', 0.5041584808918989), ('is another important part of', 0.5013023970926365)]\n"
          ]
        },
        {
          "output_type": "error",
          "ename": "KeyError",
          "evalue": "ignored",
          "traceback": [
            "\u001b[0;31m---------------------------------------------------------------------------\u001b[0m",
            "\u001b[0;31mKeyError\u001b[0m                                  Traceback (most recent call last)",
            "\u001b[0;32m<ipython-input-9-f3a3149c3557>\u001b[0m in \u001b[0;36m<module>\u001b[0;34m()\u001b[0m\n\u001b[1;32m      1\u001b[0m \u001b[0mtest\u001b[0m \u001b[0;34m=\u001b[0m \u001b[0mdata\u001b[0m\u001b[0;34m.\u001b[0m\u001b[0mloc\u001b[0m\u001b[0;34m[\u001b[0m\u001b[0;36m1\u001b[0m\u001b[0;34m,\u001b[0m \u001b[0;34m'Candidates'\u001b[0m\u001b[0;34m]\u001b[0m\u001b[0;34m\u001b[0m\u001b[0;34m\u001b[0m\u001b[0m\n\u001b[0;32m----> 2\u001b[0;31m \u001b[0mcreate_candidates\u001b[0m\u001b[0;34m(\u001b[0m\u001b[0mdata\u001b[0m\u001b[0;34m.\u001b[0m\u001b[0mloc\u001b[0m\u001b[0;34m[\u001b[0m\u001b[0;36m1\u001b[0m\u001b[0;34m,\u001b[0m \u001b[0;34m'Candidates'\u001b[0m\u001b[0;34m]\u001b[0m\u001b[0;34m,\u001b[0m \u001b[0mdata\u001b[0m\u001b[0;34m.\u001b[0m\u001b[0mloc\u001b[0m\u001b[0;34m[\u001b[0m\u001b[0;36m1\u001b[0m\u001b[0;34m,\u001b[0m \u001b[0;34m'Freebase'\u001b[0m\u001b[0;34m]\u001b[0m\u001b[0;34m,\u001b[0m \u001b[0mdata\u001b[0m\u001b[0;34m.\u001b[0m\u001b[0mloc\u001b[0m\u001b[0;34m[\u001b[0m\u001b[0;36m1\u001b[0m\u001b[0;34m,\u001b[0m \u001b[0;34m'Reverb'\u001b[0m\u001b[0;34m]\u001b[0m\u001b[0;34m,\u001b[0m \u001b[0mdata\u001b[0m\u001b[0;34m.\u001b[0m\u001b[0mloc\u001b[0m\u001b[0;34m[\u001b[0m\u001b[0;36m1\u001b[0m\u001b[0;34m,\u001b[0m \u001b[0;34m'Reverb_no'\u001b[0m\u001b[0;34m]\u001b[0m\u001b[0;34m)\u001b[0m\u001b[0;34m\u001b[0m\u001b[0;34m\u001b[0m\u001b[0m\n\u001b[0m",
            "\u001b[0;32m<ipython-input-8-2ba0375e3bbb>\u001b[0m in \u001b[0;36mcreate_candidates\u001b[0;34m(ner, freebase, reverb, reverb_no)\u001b[0m\n\u001b[1;32m      6\u001b[0m   \u001b[0;32mfor\u001b[0m \u001b[0midx1\u001b[0m\u001b[0;34m,\u001b[0m \u001b[0;34m(\u001b[0m\u001b[0;34m(\u001b[0m\u001b[0mmid\u001b[0m\u001b[0;34m,\u001b[0m \u001b[0mstring\u001b[0m\u001b[0;34m,\u001b[0m \u001b[0mconf\u001b[0m\u001b[0;34m)\u001b[0m\u001b[0;34m,\u001b[0m \u001b[0msim1\u001b[0m\u001b[0;34m)\u001b[0m \u001b[0;32min\u001b[0m \u001b[0menumerate\u001b[0m\u001b[0;34m(\u001b[0m\u001b[0meval\u001b[0m\u001b[0;34m(\u001b[0m\u001b[0mner\u001b[0m\u001b[0;34m)\u001b[0m\u001b[0;34m)\u001b[0m\u001b[0;34m:\u001b[0m\u001b[0;34m\u001b[0m\u001b[0;34m\u001b[0m\u001b[0m\n\u001b[1;32m      7\u001b[0m     \u001b[0;32mfor\u001b[0m \u001b[0midx2\u001b[0m\u001b[0;34m,\u001b[0m \u001b[0;34m(\u001b[0m\u001b[0mrel\u001b[0m\u001b[0;34m,\u001b[0m \u001b[0msim2\u001b[0m\u001b[0;34m)\u001b[0m \u001b[0;32min\u001b[0m \u001b[0menumerate\u001b[0m\u001b[0;34m(\u001b[0m\u001b[0mrels\u001b[0m\u001b[0;34m)\u001b[0m\u001b[0;34m:\u001b[0m\u001b[0;34m\u001b[0m\u001b[0;34m\u001b[0m\u001b[0m\n\u001b[0;32m----> 8\u001b[0;31m       \u001b[0;32mif\u001b[0m \u001b[0;34m(\u001b[0m\u001b[0mrel\u001b[0m \u001b[0;32min\u001b[0m \u001b[0mreachability_2M\u001b[0m\u001b[0;34m[\u001b[0m\u001b[0mmid\u001b[0m\u001b[0;34m]\u001b[0m\u001b[0;34m)\u001b[0m \u001b[0;32mor\u001b[0m \u001b[0;34m(\u001b[0m\u001b[0mrel\u001b[0m\u001b[0;34m,\u001b[0m \u001b[0mreverb_no\u001b[0m\u001b[0;34m)\u001b[0m \u001b[0;32min\u001b[0m \u001b[0mreachability_2M\u001b[0m\u001b[0;34m[\u001b[0m\u001b[0mmid\u001b[0m\u001b[0;34m]\u001b[0m\u001b[0;34m:\u001b[0m\u001b[0;34m\u001b[0m\u001b[0;34m\u001b[0m\u001b[0m\n\u001b[0m\u001b[1;32m      9\u001b[0m         \u001b[0mcandidates\u001b[0m\u001b[0;34m.\u001b[0m\u001b[0mappend\u001b[0m\u001b[0;34m(\u001b[0m\u001b[0;34m(\u001b[0m\u001b[0mmid\u001b[0m\u001b[0;34m,\u001b[0m \u001b[0mrel\u001b[0m\u001b[0;34m,\u001b[0m \u001b[0mreverb_no\u001b[0m\u001b[0;34m,\u001b[0m \u001b[0msim1\u001b[0m\u001b[0;34m,\u001b[0m \u001b[0msim2\u001b[0m\u001b[0;34m,\u001b[0m \u001b[0mconf\u001b[0m\u001b[0;34m)\u001b[0m\u001b[0;34m)\u001b[0m\u001b[0;34m\u001b[0m\u001b[0;34m\u001b[0m\u001b[0m\n\u001b[1;32m     10\u001b[0m \u001b[0;34m\u001b[0m\u001b[0m\n",
            "\u001b[0;31mKeyError\u001b[0m: 'e78fa772e4525fa8db441c96351be76ff6a53c2d'"
          ]
        }
      ]
    },
    {
      "cell_type": "code",
      "metadata": {
        "id": "xTqsSQw3F1M5",
        "outputId": "bf1bb6dc-58ae-484d-cf77-caad132138ab",
        "colab": {
          "base_uri": "https://localhost:8080/",
          "height": 91
        }
      },
      "source": [
        "data.loc[1, 'Freebase']"
      ],
      "execution_count": 7,
      "outputs": [
        {
          "output_type": "execute_result",
          "data": {
            "application/vnd.google.colaboratory.intrinsic+json": {
              "type": "string"
            },
            "text/plain": [
              "\"[('fb:automotive.model.successor', 0.043253843), ('fb:digicams.camera_storage_type.compatible_cameras', 0.027522288), ('fb:base.cars_refactor.make.model_s', 0.025800252), ('fb:automotive.make.model_s', 0.02205914), ('fb:business.brand.products', 0.012975082), ('fb:aviation.aircraft_manufacturer.aircraft_models_made', 0.011694424), ('fb:food.dietary_restriction.compatible_ingredients', 0.011169725), ('fb:aviation.aircraft_model.variants', 0.01048043), ('fb:metropolitan_transit.transit_vehicle.transit_lines', 0.0095033655), ('fb:location.location.containedby', 1.15016306e-07)]\""
            ]
          },
          "metadata": {},
          "execution_count": 7
        }
      ]
    },
    {
      "cell_type": "code",
      "metadata": {
        "id": "Kn-q1E_qF1IC",
        "outputId": "fe310cac-81f9-4496-fce4-dfeb76f65648",
        "colab": {
          "base_uri": "https://localhost:8080/",
          "height": 130
        }
      },
      "source": [
        "data.loc[1, 'Reverb']"
      ],
      "execution_count": 8,
      "outputs": [
        {
          "output_type": "execute_result",
          "data": {
            "application/vnd.google.colaboratory.intrinsic+json": {
              "type": "string"
            },
            "text/plain": [
              "\"{'is another brand of': 1.0000000000000002, 'is a brand of': 0.756433795507315, 'Is A Brand Of': 0.756433795507315, 'is brand of': 0.756433795507315, 'was a brand of': 0.7103702121643718, 'is another of': 0.7092509505437823, 'is also a brand of': 0.6903382167815799, 'is a brand for': 0.6733766492686785, 'are a brand of': 0.6695344523986342, 'is now a brand of': 0.6252908129162552, 'is a common brand of': 0.6154475666799368, 'is a brand name of': 0.6139686011945599, 'is a popular brand of': 0.611194214286004, 'is a major brand of': 0.608077002536472, 'is another part of': 0.6062298786823834, 'is another member of': 0.6057647604678563, 'is the brand name of': 0.586868342879729, 'was a brand name of': 0.5782827351471661, 'is an American brand of': 0.5693266654055181, 'was another member of': 0.5653552201448889, 'is another area of': 0.5636348252922414, 'is another name of': 0.5626276387457763, 'is another form of': 0.557189718644548, 'is a brand name for': 0.5528358483310428, 'is brand name for': 0.5528358483310428, 'is a leading brand of': 0.5523810925604684, 'is a famous brand of': 0.5515595520276337, 'is another type of': 0.545101838978433, 'is a French brand of': 0.5440252454101779, 'is a commercial brand of': 0.5397110280246463, 'is a British brand of': 0.539399860518201, 'is another source of': 0.5292634424006672, 'is a very popular brand of': 0.5263988068906145, 'is also another name of': 0.5261130329581765, 'is another friend of': 0.5253539927354074, 'is another cause of': 0.5246197483087427, 'is an Italian brand of': 0.5229797068159472, 'was another year of': 0.5220415321164925, 'is also another form of': 0.5216585645191908, 'is also a brand name for': 0.5209201378667637, 'is a brand owned by': 0.5164578215882709, 'is another way of': 0.5155982066990239, 'is an international brand of': 0.5153288938546251, 'is a well known brand of': 0.5119501113292718, 'is another branch of': 0.5105699658971039, 'is another kind of': 0.5099722510035987, 'is a sub-brand of': 0.5075514483494532, 'sold the brand to': 0.5051030208849387, 'is another example of': 0.5041584808918989, 'is another important part of': 0.5013023970926365}\""
            ]
          },
          "metadata": {},
          "execution_count": 8
        }
      ]
    },
    {
      "cell_type": "code",
      "metadata": {
        "id": "9gtMrN79F1FO"
      },
      "source": [
        ""
      ],
      "execution_count": null,
      "outputs": []
    },
    {
      "cell_type": "code",
      "metadata": {
        "colab": {
          "base_uri": "https://localhost:8080/"
        },
        "id": "vAJq3XOhEzi7",
        "outputId": "f6f93ab1-828e-4cc8-b853-e75e024d9c6f"
      },
      "source": [
        "from google.colab import drive\n",
        "drive.mount('/content/drive')"
      ],
      "execution_count": 2,
      "outputs": [
        {
          "output_type": "stream",
          "name": "stdout",
          "text": [
            "Mounted at /content/drive\n"
          ]
        }
      ]
    },
    {
      "cell_type": "code",
      "metadata": {
        "id": "Yak9wl35E0E2"
      },
      "source": [
        ""
      ],
      "execution_count": null,
      "outputs": []
    }
  ]
}