{
  "nbformat": 4,
  "nbformat_minor": 0,
  "metadata": {
    "colab": {
      "name": "Copy_of_Freebase_Reverb_Unification(2).ipynb",
      "provenance": [],
      "collapsed_sections": [],
      "include_colab_link": true
    },
    "kernelspec": {
      "display_name": "Python 3",
      "name": "python3"
    },
    "language_info": {
      "name": "python"
    }
  },
  "cells": [
    {
      "cell_type": "markdown",
      "metadata": {
        "id": "view-in-github",
        "colab_type": "text"
      },
      "source": [
        "<a href=\"https://colab.research.google.com/github/meti-94/OpenQA/blob/main/Freebase_Reverb_Unification.ipynb\" target=\"_parent\"><img src=\"https://colab.research.google.com/assets/colab-badge.svg\" alt=\"Open In Colab\"/></a>"
      ]
    },
    {
      "cell_type": "code",
      "metadata": {
        "id": "NJdWHETOja9V"
      },
      "source": [
        "!pip install transformers -q\n",
        "!pip install fuzzywuzzy -q\n",
        "!pip install python-Levenshtein -q"
      ],
      "execution_count": 22,
      "outputs": []
    },
    {
      "cell_type": "code",
      "metadata": {
        "id": "K7diqBfqRKwI"
      },
      "source": [
        "!git clone https://github.com/castorini/BuboQA.git\n",
        "%cd /content/BuboQA\n",
        "!bash setup.sh "
      ],
      "execution_count": null,
      "outputs": []
    },
    {
      "cell_type": "code",
      "metadata": {
        "id": "S0f7RqUdZp26"
      },
      "source": [
        "cp -r /content/BuboQA/indexes /content/drive/MyDrive"
      ],
      "execution_count": null,
      "outputs": []
    },
    {
      "cell_type": "code",
      "metadata": {
        "id": "t9vfTp60jaCc"
      },
      "source": [
        "cp -r /content/BuboQA/data/processed_simplequestions_dataset /content/drive/MyDrive"
      ],
      "execution_count": null,
      "outputs": []
    },
    {
      "cell_type": "code",
      "metadata": {
        "id": "PfFJ4TT-DfJp",
        "colab": {
          "base_uri": "https://localhost:8080/"
        },
        "outputId": "9ba9e014-925c-44df-92ab-5087ba796855"
      },
      "source": [
        "%cd /content/drive/MyDrive/data_freebase\n",
        "!unzip /content/drive/MyDrive/data_freebase/reverb_linked.zip"
      ],
      "execution_count": null,
      "outputs": [
        {
          "output_type": "stream",
          "name": "stdout",
          "text": [
            "/content/drive/MyDrive/data_freebase\n",
            "Archive:  /content/drive/MyDrive/data_freebase/reverb_linked.zip\n",
            "  inflating: reverb_linked.csv       \n"
          ]
        }
      ]
    },
    {
      "cell_type": "code",
      "metadata": {
        "id": "1wdQ6F9_8gZK"
      },
      "source": [
        "import pandas as pd\n",
        "import pickle\n",
        "from tqdm import tqdm\n",
        "from fuzzywuzzy import fuzz"
      ],
      "execution_count": 1,
      "outputs": []
    },
    {
      "cell_type": "code",
      "metadata": {
        "id": "u1FODKh38oiT"
      },
      "source": [
        "# mapping between MIDs and names in the form of dict['MID']=['str1', 'str2', ...,  'strN']\n",
        "with open('/content/drive/MyDrive/indexes/names_2M.pkl', 'rb') as f:\n",
        "    mid2name = pickle.load(f)"
      ],
      "execution_count": 2,
      "outputs": []
    },
    {
      "cell_type": "code",
      "metadata": {
        "id": "uKJ6BgWcmYVm"
      },
      "source": [
        "# In/Out degree for each MID in the form of dict['MID']=[In degree, Out degree]\n",
        "with open('/content/drive/MyDrive/indexes/degrees_2M.pkl', 'rb') as f:\n",
        "    degrees_2M = pickle.load(f)"
      ],
      "execution_count": 3,
      "outputs": []
    },
    {
      "cell_type": "code",
      "metadata": {
        "id": "WEsQueYYm7a3"
      },
      "source": [
        "# reverse mapping between string and MID in the form of dict['string']=[('MID', 'actual string', 'freebase type') ...] \n",
        "with open('/content/drive/MyDrive/indexes/entity_2M.pkl', 'rb') as f:\n",
        "    entity_2M = pickle.load(f)"
      ],
      "execution_count": 4,
      "outputs": []
    },
    {
      "cell_type": "code",
      "metadata": {
        "id": "T38YnAzrrnfn"
      },
      "source": [
        "# mapping between MIDs and Relations in the form of dict['MID']=[{'fb:common.topic.notable_types', 'fb:people.person.gender', 'fb:people.person.profession'}]\n",
        "with open('/content/drive/MyDrive/indexes/reachability_2M.pkl', 'rb') as f:\n",
        "    reachability_2M = pickle.load(f)"
      ],
      "execution_count": 5,
      "outputs": []
    },
    {
      "cell_type": "code",
      "metadata": {
        "id": "LZsLQKhDosv9"
      },
      "source": [
        "reverb2freebace = pd.read_csv('/content/drive/MyDrive/data_freebase/reverb_linked.csv')\n",
        "reverb2freebace['freebase_ID_argument1'] = reverb2freebace['freebase_ID_argument1'].apply(lambda string:'fb:m.'+str(string))\n",
        "reverb2freebace['conf'] = reverb2freebace['conf'].astype(float)"
      ],
      "execution_count": 6,
      "outputs": []
    },
    {
      "cell_type": "code",
      "metadata": {
        "colab": {
          "base_uri": "https://localhost:8080/",
          "height": 316
        },
        "id": "s4WuTexaVuj2",
        "outputId": "e79cdc36-315f-4d6c-da25-62a406075afa"
      },
      "source": [
        "reverb2freebace.head(4)"
      ],
      "execution_count": 7,
      "outputs": [
        {
          "output_type": "execute_result",
          "data": {
            "text/html": [
              "<div>\n",
              "<style scoped>\n",
              "    .dataframe tbody tr th:only-of-type {\n",
              "        vertical-align: middle;\n",
              "    }\n",
              "\n",
              "    .dataframe tbody tr th {\n",
              "        vertical-align: top;\n",
              "    }\n",
              "\n",
              "    .dataframe thead th {\n",
              "        text-align: right;\n",
              "    }\n",
              "</style>\n",
              "<table border=\"1\" class=\"dataframe\">\n",
              "  <thead>\n",
              "    <tr style=\"text-align: right;\">\n",
              "      <th></th>\n",
              "      <th>ExID</th>\n",
              "      <th>arg1</th>\n",
              "      <th>rel</th>\n",
              "      <th>arg2</th>\n",
              "      <th>narg1</th>\n",
              "      <th>nrel</th>\n",
              "      <th>narg2</th>\n",
              "      <th>csents</th>\n",
              "      <th>conf</th>\n",
              "      <th>urls</th>\n",
              "      <th>reverb_no</th>\n",
              "      <th>argument1</th>\n",
              "      <th>relation_phrase</th>\n",
              "      <th>argument2</th>\n",
              "      <th>freebase_ID_argument1</th>\n",
              "      <th>freebase_entity_name</th>\n",
              "      <th>link_score</th>\n",
              "      <th>link_ambiguity_score</th>\n",
              "      <th>idk</th>\n",
              "      <th>argument1_uuid</th>\n",
              "      <th>argument2_uuid</th>\n",
              "    </tr>\n",
              "  </thead>\n",
              "  <tbody>\n",
              "    <tr>\n",
              "      <th>0</th>\n",
              "      <td>625</td>\n",
              "      <td>$ 10</td>\n",
              "      <td>was deducted for</td>\n",
              "      <td>board</td>\n",
              "      <td>$ 10</td>\n",
              "      <td>be deduct for</td>\n",
              "      <td>board</td>\n",
              "      <td>1</td>\n",
              "      <td>0.95320</td>\n",
              "      <td>http://en.wikipedia.org/wiki/Danbury_and_Norwa...</td>\n",
              "      <td>0</td>\n",
              "      <td>NaN</td>\n",
              "      <td>NaN</td>\n",
              "      <td>NaN</td>\n",
              "      <td>fb:m.nan</td>\n",
              "      <td>NaN</td>\n",
              "      <td>-1.0</td>\n",
              "      <td>NaN</td>\n",
              "      <td>NaN</td>\n",
              "      <td>1e20ad13379f617635cc7f83be8cecf555567299</td>\n",
              "      <td>9ea5e97d2f481d5427902c67e55a54ec377e4761</td>\n",
              "    </tr>\n",
              "    <tr>\n",
              "      <th>1</th>\n",
              "      <td>705</td>\n",
              "      <td>$ 10,000</td>\n",
              "      <td>came from</td>\n",
              "      <td>J.J.</td>\n",
              "      <td>$ 10,000</td>\n",
              "      <td>come from</td>\n",
              "      <td>j.j.</td>\n",
              "      <td>1</td>\n",
              "      <td>0.93859</td>\n",
              "      <td>http://en.wikipedia.org/wiki/Mark_Dann</td>\n",
              "      <td>1</td>\n",
              "      <td>NaN</td>\n",
              "      <td>NaN</td>\n",
              "      <td>NaN</td>\n",
              "      <td>fb:m.nan</td>\n",
              "      <td>NaN</td>\n",
              "      <td>-1.0</td>\n",
              "      <td>NaN</td>\n",
              "      <td>NaN</td>\n",
              "      <td>fbfdbf78a3a18fbc6e48ec7fcec1cd91f978ae92</td>\n",
              "      <td>182fb1142d47f2814d7b88789f50a18d9569e93c</td>\n",
              "    </tr>\n",
              "    <tr>\n",
              "      <th>2</th>\n",
              "      <td>1007</td>\n",
              "      <td>$ 13.8 million</td>\n",
              "      <td>had been raised for</td>\n",
              "      <td>construction of the memorial</td>\n",
              "      <td>$ 13.8 million</td>\n",
              "      <td>have be raise for</td>\n",
              "      <td>construction of the memorial</td>\n",
              "      <td>1</td>\n",
              "      <td>0.91575</td>\n",
              "      <td>http://en.wikipedia.org/wiki/Pentagon_Memorial...</td>\n",
              "      <td>2</td>\n",
              "      <td>NaN</td>\n",
              "      <td>NaN</td>\n",
              "      <td>NaN</td>\n",
              "      <td>fb:m.nan</td>\n",
              "      <td>NaN</td>\n",
              "      <td>-1.0</td>\n",
              "      <td>NaN</td>\n",
              "      <td>NaN</td>\n",
              "      <td>7646408e5966133e148a3f77a75c37a9633cb4b8</td>\n",
              "      <td>c1d6334c2c0222da881bf3d19edf8fe67168567d</td>\n",
              "    </tr>\n",
              "    <tr>\n",
              "      <th>3</th>\n",
              "      <td>1112</td>\n",
              "      <td>$ 15.3 million</td>\n",
              "      <td>was paid to</td>\n",
              "      <td>Japan</td>\n",
              "      <td>$ 15.3 million</td>\n",
              "      <td>be pay to</td>\n",
              "      <td>japan</td>\n",
              "      <td>1</td>\n",
              "      <td>0.91996</td>\n",
              "      <td>http://en.wikipedia.org/wiki/Pacific_Proving_G...</td>\n",
              "      <td>3</td>\n",
              "      <td>NaN</td>\n",
              "      <td>NaN</td>\n",
              "      <td>NaN</td>\n",
              "      <td>fb:m.nan</td>\n",
              "      <td>NaN</td>\n",
              "      <td>-1.0</td>\n",
              "      <td>NaN</td>\n",
              "      <td>NaN</td>\n",
              "      <td>64deec6d2773ea99c9a09312df0eed0a73b8f98e</td>\n",
              "      <td>fcf29f6cad3232704b33e962ef5194fad3b6817b</td>\n",
              "    </tr>\n",
              "  </tbody>\n",
              "</table>\n",
              "</div>"
            ],
            "text/plain": [
              "   ExID  ...                            argument2_uuid\n",
              "0   625  ...  9ea5e97d2f481d5427902c67e55a54ec377e4761\n",
              "1   705  ...  182fb1142d47f2814d7b88789f50a18d9569e93c\n",
              "2  1007  ...  c1d6334c2c0222da881bf3d19edf8fe67168567d\n",
              "3  1112  ...  fcf29f6cad3232704b33e962ef5194fad3b6817b\n",
              "\n",
              "[4 rows x 21 columns]"
            ]
          },
          "metadata": {},
          "execution_count": 7
        }
      ]
    },
    {
      "cell_type": "code",
      "metadata": {
        "colab": {
          "base_uri": "https://localhost:8080/"
        },
        "id": "IXytv_luyLLI",
        "outputId": "cef8f75c-1ef6-4d92-bad4-b155fc9d0432"
      },
      "source": [
        "for index, row in tqdm(reverb2freebace.iterrows(), total=reverb2freebace.shape[0]):\n",
        "  if row['freebase_ID_argument1'] in mid2name:\n",
        "    mid1 = mid = row['freebase_ID_argument1'] \n",
        "  else:\n",
        "    mid1 = mid = row['argument1_uuid']\n",
        "  mid2 = mid = row['argument2_uuid']\n",
        "  reverb_string1 = str(row['arg1']).lower()\n",
        "  reverb_string2 = str(row['arg2']).lower()\n",
        "  relation = row['rel']\n",
        "  conf = str(row['conf'])\n",
        "  linking = str(row['link_score'])\n",
        "  try:\n",
        "    temp = entity_2M[reverb_string1]\n",
        "  except:\n",
        "    entity_2M[reverb_string1] = set()\n",
        "    temp = entity_2M[reverb_string1]\n",
        "  temp.add((mid1, reverb_string1, conf))\n",
        "  try:\n",
        "    temp = entity_2M[reverb_string2]\n",
        "  except:\n",
        "    entity_2M[reverb_string2] = set()\n",
        "    temp = entity_2M[reverb_string2]\n",
        "  temp.add((mid2, reverb_string2, 0))\n",
        "  "
      ],
      "execution_count": 8,
      "outputs": [
        {
          "output_type": "stream",
          "name": "stderr",
          "text": [
            "100%|██████████| 407267/407267 [00:52<00:00, 7757.01it/s]\n"
          ]
        }
      ]
    },
    {
      "cell_type": "code",
      "metadata": {
        "colab": {
          "base_uri": "https://localhost:8080/"
        },
        "id": "e_5BmKSwtaOG",
        "outputId": "535a5536-9e99-4407-db13-da002f2e8c00"
      },
      "source": [
        "mid_count = len(mid2name)\n",
        "string_count = sum([len(name) for name in mid2name.values()])\n",
        "original_relations = sum([len(relation) for relation in reachability_2M.values()])\n",
        "\n",
        "added_mids = 0\n",
        "new_entity_strings = 0\n",
        "new_relations = 0\n",
        "\n",
        "for index, row in tqdm(reverb2freebace_notmatched.iterrows(), total=reverb2freebace_notmatched.shape[0]):\n",
        "  if row['reverb_no'] in questions_fact_index:\n",
        "    idx = questions_fact_index.index(row['reverb_no'])\n",
        "    ent_number = questions_fact_entity[idx]\n",
        "    mid = row[f'argument{ent_number}_uuid']\n",
        "    # print(mid)\n",
        "  else:\n",
        "    mid = row[f'argument1_uuid']\n",
        "\n",
        "  added_mids+=1\n",
        "  reverb_string = row['arg1']\n",
        "  relation = row['rel']\n",
        "  conf = str(row['conf'])\n",
        "  \n",
        "  mid2name[mid]=[(reverb_string, conf)]\n",
        "  new_entity_strings+=1\n",
        "  reachability_2M[mid]=[(relation, conf)]\n",
        "  new_relations+=1\n",
        "  try:\n",
        "    temp = entity_2M[reverb_string]\n",
        "    temp.add((mid, reverb_string, conf))\n",
        "  except:\n",
        "    entity_2M[reverb_string] = set([(mid, reverb_string, conf)])\n",
        "  \n",
        "  degrees_2M[mid]=[0, 1]\n",
        "\n",
        "\n",
        "print(f'\\nCombined MIDs: {mid_count}\\tUnmatched (Added) MIDs: {added_mids}')\n",
        "print(f'Combined Entity Strings: {string_count}\\tAdded Entity Strings: {new_entity_strings}') \n",
        "print(f'Combined Relations Count: {original_relations}\\tAdded Relations Count: {new_relations}') "
      ],
      "execution_count": null,
      "outputs": [
        {
          "output_type": "stream",
          "name": "stderr",
          "text": [
            "100%|██████████| 253913/253913 [00:40<00:00, 6232.34it/s]"
          ]
        },
        {
          "output_type": "stream",
          "name": "stdout",
          "text": [
            "\n",
            "Combined MIDs: 1951909\tUnmatched (Added) MIDs: 253913\n",
            "Combined Entity Strings: 3139797\tAdded Entity Strings: 253913\n",
            "Combined Relations Count: 7328600\tAdded Relations Count: 253913\n"
          ]
        },
        {
          "output_type": "stream",
          "name": "stderr",
          "text": [
            "\n"
          ]
        }
      ]
    },
    {
      "cell_type": "code",
      "metadata": {
        "id": "kIzLFFaavkuC"
      },
      "source": [
        ""
      ],
      "execution_count": null,
      "outputs": []
    },
    {
      "cell_type": "code",
      "metadata": {
        "id": "JuLTcffMvkr6"
      },
      "source": [
        ""
      ],
      "execution_count": null,
      "outputs": []
    },
    {
      "cell_type": "code",
      "metadata": {
        "id": "PDvAA_lGvknn"
      },
      "source": [
        ""
      ],
      "execution_count": null,
      "outputs": []
    },
    {
      "cell_type": "code",
      "metadata": {
        "id": "wIx8Nikcvkkz"
      },
      "source": [
        ""
      ],
      "execution_count": null,
      "outputs": []
    },
    {
      "cell_type": "code",
      "metadata": {
        "id": "SsF-9TJGvkh4"
      },
      "source": [
        ""
      ],
      "execution_count": null,
      "outputs": []
    },
    {
      "cell_type": "code",
      "metadata": {
        "id": "lYRchs2PClTv"
      },
      "source": [
        "def get_ngram(text):\n",
        "    ngram = []\n",
        "    tokens = str(text).split()\n",
        "    for i in range(len(tokens)+1):\n",
        "        for j in range(i):\n",
        "            if i-j <= 3:\n",
        "                temp = \" \".join(tokens[j:i])\n",
        "                if temp not in ngram:\n",
        "                    ngram.append(temp)\n",
        "    ngram = sorted(ngram, key=lambda x: len(x.split()), reverse=True)\n",
        "    return ngram"
      ],
      "execution_count": 9,
      "outputs": []
    },
    {
      "cell_type": "code",
      "metadata": {
        "id": "tnDsLrfrwaPg"
      },
      "source": [
        "def get_stat_inverted_index(reverse_index):\n",
        "    \"\"\"\n",
        "    Get the number of entry and max length of the entry (How many mid in an entry)\n",
        "    \"\"\"\n",
        "    with open(filename, \"rb\") as handler:\n",
        "        global  inverted_index\n",
        "        inverted_index = pickle.load(handler)\n",
        "        inverted_index = defaultdict(str, inverted_index)\n",
        "    print(\"Total type of text: {}\".format(len(inverted_index)))\n",
        "    max_len = 0\n",
        "    _entry = \"\"\n",
        "    for entry, value in inverted_index.items():\n",
        "        if len(value) > max_len:\n",
        "            max_len = len(value)\n",
        "            _entry = entry\n",
        "    print(\"Max Length of entry is {}, text is {}\".format(max_len, _entry))"
      ],
      "execution_count": 10,
      "outputs": []
    },
    {
      "cell_type": "code",
      "metadata": {
        "colab": {
          "base_uri": "https://localhost:8080/"
        },
        "id": "APzP-OYtwejL",
        "outputId": "dfde8c89-f55f-465d-f132-97d2a5b9e0bb"
      },
      "source": [
        "from collections import defaultdict\n",
        "inverted_index = defaultdict(str, entity_2M)\n",
        "print(\"Total type of text: {}\".format(len(inverted_index)))\n",
        "max_len = 0\n",
        "_entry = \"\"\n",
        "for entry, value in inverted_index.items():\n",
        "  if len(value) > max_len:\n",
        "    max_len = len(value)\n",
        "    _entry = list(value)\n",
        "print(\"Max Length of entry is {}, text is {}\".format(max_len, _entry[:100]))"
      ],
      "execution_count": 11,
      "outputs": [
        {
          "output_type": "stream",
          "name": "stdout",
          "text": [
            "Total type of text: 4936783\n",
            "Max Length of entry is 249717, text is [('fb:m.071tkp', 'battir , israel', 'fb:common.topic.alias'), ('fb:m.048r0mr', 'silview , delaware', 'fb:common.topic.alias'), ('fb:m.02yxmp4', 'the gun is good. the penis is evil. the penis shoots seeds , and makes new life to poison the earth with a plague of men , as once it was. but the gun shoots death , and purifies the earth of the filth of brutals. go forth ... and kill !', 'fb:type.object.name'), ('fb:m.0f04pv6', 'music for the millions , volume 19', 'fb:type.object.name'), ('fb:m.010028', 'hebron , texas', 'fb:common.topic.alias'), ('fb:m.03fgb84', 'pillows & prayers , volume 1 & 2 : cherry red 1982-1984 ( disc 2 )', 'fb:common.topic.alias'), ('fb:m.0x8r_jx', 'jazz greats , volume 36 : the dorsey brothers : oodles of noodles', 'fb:type.object.name'), ('fb:m.0xdtb', 'eaton , new hampshire', 'fb:common.topic.alias'), ('fb:m.04rlwm', 'baekseok university , main campus', 'fb:common.topic.alias'), ('fb:m.01k7cwn', \"xu feng : john zorn 's game pieces , volume i\", 'fb:type.object.name'), ('fb:m.021m49b', 'apolipoprotein a-i , preproprotein', 'fb:common.topic.alias'), ('fb:m.0x9x7n6', 'pure jerry : warner theatre , march 18 , 1978', 'fb:type.object.name'), ('fb:m.02wz1h8', 'buffalo grove , illinois', 'fb:common.topic.alias'), ('fb:m.01gd3r7', 'saint-germain-des-prés café , volume 1', 'fb:type.object.name'), ('fb:m.01twmz4', \"carson , fiddlin ' john\", 'fb:common.topic.alias'), ('fb:m.02rllj', 'takashima , shiga', 'fb:common.topic.alias'), ('fb:m.07jq_1', 'clifton , cincinnati', 'fb:common.topic.alias'), ('fb:m.0d7802', 'johnnie james wilder , jr .', 'fb:common.topic.alias'), ('fb:m.0_x9n', 'gleason , tennessee', 'fb:common.topic.alias'), ('fb:m.048wxdf', 'unity , georgia', 'fb:common.topic.alias'), ('fb:m.0g9w55r', 'dr. frederick t. van beuren , jr .', 'fb:common.topic.alias'), ('fb:m.0491tr1', 'pickwick park , indiana', 'fb:common.topic.alias'), ('fb:m.04t31s', 'japanese ministry of health , labour and welfare', 'fb:type.object.name'), ('fb:m.0z2cz', 'maplewood park , ohio', 'fb:common.topic.alias'), ('fb:m.02w0ryn', 'merola , gaetano', 'fb:common.topic.alias'), ('fb:m.02pmwd', 'kamitonda , wakayama', 'fb:common.topic.alias'), ('fb:m.0gm5r2', 'montenero sabino , italy', 'fb:common.topic.alias'), ('fb:m.0hqrtf9', '.alpha.-tocopherol acetate , dl- , ascorbic acid , cholecalciferol , cyanocobalamin , niacinamide , pyridoxine hydrochloride , riboflavin , sodium fluoride , thiamine hydrochloride , and vitamin a palmitate 5/35/400/2/8/0.4/0.6/0.5/0.5/1500 solution', 'fb:type.object.name'), ('fb:m.0hqt6rb', 'arnica montana , bryonia alba root , causticum , ferrosoferric phosphate , and toxicodendron pubescens leaf 4/4/4/8/6 liquid', 'fb:type.object.name'), ('fb:m.0490nyk', 'woodland , illinois', 'fb:common.topic.alias'), ('fb:m.05s_ll7', 'jindal global law school , main campus', 'fb:common.topic.alias'), ('fb:m.0ncpl', 'walthamstow , london borough of waltham forest', 'fb:common.topic.alias'), ('fb:m.01psp6k', 'keating , matt', 'fb:common.topic.alias'), ('fb:m.04b31_4', 'free run , mississippi', 'fb:common.topic.alias'), ('fb:m.04c88zd', 'red buttes village , wyoming', 'fb:common.topic.alias'), ('fb:m.09gnvd', 'uptown , harrisburg', 'fb:common.topic.alias'), ('fb:m.06dtnq', 'shortino , paul ; kulick , bob ; schellen , jay ; laurent , matt ; dio , nick', 'fb:common.topic.alias'), ('fb:m.0yj_h', 'dobbins heights , north carolina', 'fb:common.topic.alias'), ('fb:m.0d_xhlw', \"symphony no.9 in e minor , op.95 `` from the new world '' : i. adagio , allegro molto\", 'fb:common.topic.alias'), ('fb:m.0g8s5v', 'bellinzago novarese , france', 'fb:common.topic.alias'), ('fb:m.04jggmh', 'bullets , blood & a fistful of ca $ h', 'fb:type.object.name'), ('fb:m.0db1bs', 'king , dave', 'fb:common.topic.alias'), ('fb:m.05b5qpp', 'george detitta , sr .', 'fb:type.object.name'), ('fb:m.01nnd9s', 'varukers , the', 'fb:common.topic.alias'), ('fb:m.0485k_9', 'carpenter , alabama', 'fb:common.topic.alias'), ('fb:m.0450pg', 'john duncan , sr .', 'fb:type.object.name'), ('fb:m.0d0yrm', '8/21/00 – columbus , ohio', 'fb:type.object.name'), ('fb:m.048w1pz', 'traisville , georgia', 'fb:common.topic.alias'), ('fb:m.040690k', 'his majesty , the american', 'fb:type.object.name'), ('fb:m.07zz15', 'deborah l. mcguinness , ph.d .', 'fb:common.topic.alias'), ('fb:m.0gr35r', 'ballabio , italy', 'fb:common.topic.alias'), ('fb:m.0490ks0', 'salisbury , illinois', 'fb:type.object.name'), ('fb:m.017y6l', 'depauw university , main campus', 'fb:common.topic.alias'), ('fb:m.014k3j', 'pryce , guto', 'fb:common.topic.alias'), ('fb:m.06_771f', 'washington county courthouse , springfield', 'fb:common.topic.alias'), ('fb:m.0h2ftf', 'francis v. guinan , jr .', 'fb:common.topic.alias'), ('fb:m.08xycr', 'bankunited center , coral gables', 'fb:common.topic.alias'), ('fb:m.07wc5l', 'maple city , kansas', 'fb:common.topic.alias'), ('fb:m.01f9nl8', 'have a nice day , volume 18', 'fb:common.topic.alias'), ('fb:m.0642vq2', 'deep springs , california', 'fb:common.topic.alias'), ('fb:m.04_jsg', 'delonge , tom', 'fb:common.topic.alias'), ('fb:m.0fv0lb0', 'concerto pour violon et orchestre en ré majeur , op. 35 : iii. finale ( allegro vivacissimo )', 'fb:type.object.name'), ('fb:m.0495q1c', 'staples , louisiana', 'fb:common.topic.alias'), ('fb:m.030bs91', 'bellissimo ! the singles , part 2', 'fb:common.topic.alias'), ('fb:m.02591w', 'infinity , inc .', 'fb:type.object.name'), ('fb:m.05nl8g4', 'dam square in amsterdam , with a view of the new church', 'fb:type.object.name'), ('fb:m.0917j5', 'reichhardt , poul', 'fb:common.topic.alias'), ('fb:m.049s2cg', 'earl scruggs , family & friends', 'fb:type.object.name'), ('fb:m.01rw7g0', 'jaen , alejandro', 'fb:common.topic.alias'), ('fb:m.048xy51', 'hawai ‘ i beaches estates , hawaii', 'fb:common.topic.alias'), ('fb:m.0wxlv', 'ethel , missouri', 'fb:common.topic.alias'), ('fb:m.04c0l5k', 'bells crossroad , virginia', 'fb:type.object.name'), ('fb:m.03j2yk2', 'březina , aleš', 'fb:common.topic.alias'), ('fb:m.04b52xr', 'buena vista , north carolina', 'fb:common.topic.alias'), ('fb:m.04b392z', 'edgewood acres , mississippi', 'fb:common.topic.alias'), ('fb:m.04t0cdb', 'dear irene ,', 'fb:type.object.name'), ('fb:m.095b94', 'new city , illinois', 'fb:common.topic.alias'), ('fb:m.01p5nl4', 'whitfield , barrence', 'fb:common.topic.alias'), ('fb:m.0_0_xk', \"tristia , op. 18 : iii. marche funèbre pour la dernière scène d'hamlet\", 'fb:type.object.name'), ('fb:m.0fswyw', 'clarksville , new zealand', 'fb:common.topic.alias'), ('fb:m.01h99sh', '2004-10-28 : london , on , canada ( disc 2 )', 'fb:common.topic.alias'), ('fb:m.0489d9v', 'moran , california', 'fb:type.object.name'), ('fb:m.0346wm6', '2000-06-19 : hala tivoli , ljubljana , slovenia ( # 18 )', 'fb:type.object.name'), ('fb:m.04ghy93', 'flint house , lincoln', 'fb:common.topic.alias'), ('fb:m.01s1c_9', 'jabbers , the', 'fb:common.topic.alias'), ('fb:m.0414bn_', 'cerna , tulcea', 'fb:type.object.name'), ('fb:m.04969gf', 'cedar mill run , louisiana', 'fb:common.topic.alias'), ('fb:m.03hzj_', 'frank , pamela', 'fb:common.topic.alias'), ('fb:m.0r2h8', 'laguna niguel , california', 'fb:common.topic.alias'), ('fb:m.0rlv4', 'greenwood , florida', 'fb:common.topic.alias'), ('fb:m.021mw50', 'dnaj ( hsp40 ) homolog , subfamily c , member 4', 'fb:type.object.name'), ('fb:m.0bjxl2', \"st. patrick 's college , belfast\", 'fb:common.topic.alias'), ('fb:m.03f1kwx', 'potts , david', 'fb:common.topic.alias'), ('fb:m.064hx0', 'blue aeroplanes , the', 'fb:common.topic.alias'), ('fb:m.017l1r', 'tamworth , new south wales', 'fb:common.topic.alias'), ('fb:m.0dwzcl9', 'klavierquartett nr. 1 g-moll , op. 25 : ii. intermezzo. allegro ma non troppo - trio : animato', 'fb:type.object.name'), ('fb:m.04931sl', 'dunmor , kentucky', 'fb:type.object.name'), ('fb:m.0494n65', 'endee , kentucky', 'fb:common.topic.alias'), ('fb:m.04gjl35', 'walnut hills , cincinnati', 'fb:common.topic.alias'), ('fb:m.0bz10v', 'vandercook college of music , chicago', 'fb:common.topic.alias')]\n"
          ]
        }
      ]
    },
    {
      "cell_type": "code",
      "metadata": {
        "id": "5B9pOgtEpyM9"
      },
      "source": [
        "del entity_2M\n",
        "# del degrees_2M\n",
        "# del reachability_2M\n",
        "# del mid2name"
      ],
      "execution_count": 12,
      "outputs": []
    },
    {
      "cell_type": "code",
      "metadata": {
        "colab": {
          "base_uri": "https://localhost:8080/"
        },
        "id": "oiuIgSALlPtK",
        "outputId": "755cf36d-204c-4b3e-9f73-5383b5de2735"
      },
      "source": [
        "# test_df['order'] = range(len(test_df))\n",
        "test_df = pd.read_excel('/content/drive/MyDrive/data_freebase/sbs.xlsx')\n",
        "questions_fact = reverb2freebace.merge(test_df, how='inner', left_on='reverb_no', right_on='Reverb_no')\n",
        "# just second entities\n",
        "# questions_fact = questions_fact[questions_fact.answer_entity==2]\n",
        "# just matched entities\n",
        "# questions_fact = questions_fact[questions_fact.freebase_ID_argument1!='fb:m.nan']\n",
        "questions_fact.info()"
      ],
      "execution_count": 13,
      "outputs": [
        {
          "output_type": "stream",
          "name": "stdout",
          "text": [
            "<class 'pandas.core.frame.DataFrame'>\n",
            "Int64Index: 5003 entries, 0 to 5002\n",
            "Data columns (total 46 columns):\n",
            " #   Column                 Non-Null Count  Dtype  \n",
            "---  ------                 --------------  -----  \n",
            " 0   ExID                   5003 non-null   int64  \n",
            " 1   arg1                   5003 non-null   object \n",
            " 2   rel                    5003 non-null   object \n",
            " 3   arg2                   5003 non-null   object \n",
            " 4   narg1                  5003 non-null   object \n",
            " 5   nrel                   5003 non-null   object \n",
            " 6   narg2                  5003 non-null   object \n",
            " 7   csents                 5003 non-null   int64  \n",
            " 8   conf                   5003 non-null   float64\n",
            " 9   urls                   5003 non-null   object \n",
            " 10  reverb_no              5003 non-null   int64  \n",
            " 11  argument1              1924 non-null   object \n",
            " 12  relation_phrase        1924 non-null   object \n",
            " 13  argument2              1924 non-null   object \n",
            " 14  freebase_ID_argument1  5003 non-null   object \n",
            " 15  freebase_entity_name   1924 non-null   object \n",
            " 16  link_score             5003 non-null   float64\n",
            " 17  link_ambiguity_score   1398 non-null   float64\n",
            " 18  idk                    0 non-null      float64\n",
            " 19  argument1_uuid         5003 non-null   object \n",
            " 20  argument2_uuid         5003 non-null   object \n",
            " 21  Unnamed: 0             5003 non-null   int64  \n",
            " 22  bert_tokenizer_output  5003 non-null   object \n",
            " 23  bert_token_ids         5003 non-null   object \n",
            " 24  input_token_ids        5003 non-null   object \n",
            " 25  nodes_borders          5003 non-null   object \n",
            " 26  edges_spans            5003 non-null   object \n",
            " 27  node                   5001 non-null   object \n",
            " 28  edges                  5003 non-null   object \n",
            " 29  questions              5003 non-null   object \n",
            " 30  Unnamed: 9             5003 non-null   int64  \n",
            " 31  Unnamed: 0.1           5003 non-null   int64  \n",
            " 32  Meaningful             5003 non-null   int64  \n",
            " 33  Reverb_no              5003 non-null   int64  \n",
            " 34  Sentecne               5003 non-null   object \n",
            " 35  Confidence             5003 non-null   float64\n",
            " 36  Question               5003 non-null   object \n",
            " 37  Answer                 5003 non-null   object \n",
            " 38  Frequency              5003 non-null   int64  \n",
            " 39  token_matrix           5003 non-null   object \n",
            " 40  triple                 5003 non-null   object \n",
            " 41  normalized_triple      5003 non-null   object \n",
            " 42  first_entity_ids       5003 non-null   object \n",
            " 43  second_entity_ids      5003 non-null   object \n",
            " 44  relation_ids           5003 non-null   object \n",
            " 45  answer_entity          5003 non-null   int64  \n",
            "dtypes: float64(5), int64(10), object(31)\n",
            "memory usage: 1.8+ MB\n"
          ]
        }
      ]
    },
    {
      "cell_type": "code",
      "metadata": {
        "id": "V7bmcDLOsHFb"
      },
      "source": [
        "golds = []\n",
        "for idx, row in questions_fact.iterrows():\n",
        "  if row['freebase_ID_argument1']=='fb:m.nan':\n",
        "    ans_ent = row['answer_entity']\n",
        "    golds.append(row[f'argument{ans_ent}_uuid'])\n",
        "  else:\n",
        "    golds.append(row['freebase_ID_argument1'])\n"
      ],
      "execution_count": 14,
      "outputs": []
    },
    {
      "cell_type": "code",
      "metadata": {
        "id": "XQPHQIorBLeC"
      },
      "source": [
        "predicteds = questions_fact.node.astype(str).to_list()"
      ],
      "execution_count": 15,
      "outputs": []
    },
    {
      "cell_type": "code",
      "metadata": {
        "id": "OPTSL7rdCckq"
      },
      "source": [
        ""
      ],
      "execution_count": 15,
      "outputs": []
    },
    {
      "cell_type": "code",
      "metadata": {
        "id": "Gmfubfr5Cch_"
      },
      "source": [
        ""
      ],
      "execution_count": 15,
      "outputs": []
    },
    {
      "cell_type": "code",
      "metadata": {
        "id": "th3H6blNzq3o",
        "colab": {
          "base_uri": "https://localhost:8080/"
        },
        "outputId": "e65ff3c3-65fe-42a0-f5bf-10b6272387fd"
      },
      "source": [
        "import nltk\n",
        "nltk.download('stopwords')\n",
        "from nltk.corpus import stopwords\n",
        "import sys\n",
        "# hits = []\n",
        "def entity_linking(data_type, predicteds, golds, HITS_TOP_ENTITIES, output):\n",
        "    stopword = set(stopwords.words('english'))\n",
        "    fout = open(output, 'w')\n",
        "    total = 0\n",
        "    top1 = 0\n",
        "    top3 = 0\n",
        "    top5 = 0\n",
        "    top10 = 0\n",
        "    top20 = 0\n",
        "    top50 = 0\n",
        "    top100 = 0\n",
        "    hits = []\n",
        "    candidates = []\n",
        "    for idx, (predicted, gold_id) in tqdm(enumerate(zip(predicteds, golds))):\n",
        "        bflag = True\n",
        "        total += 1\n",
        "        C = []\n",
        "        C_scored = []\n",
        "        tokens = get_ngram(predicted)\n",
        "        # print(tokens)\n",
        "        if len(tokens) > 0:\n",
        "            maxlen = len(tokens[0].split())\n",
        "            # print(maxlen)\n",
        "        for item in tokens:\n",
        "            if len(item.split()) < maxlen and len(C) == 0:\n",
        "                maxlen = len(item.split())\n",
        "            if len(item.split()) < maxlen and len(C) > 0:\n",
        "                break\n",
        "            if item in stopword:\n",
        "                # print('his is stopword', item)\n",
        "                continue\n",
        "            C.extend(inverted_index[item])\n",
        "            # print(inverted_index[item])\n",
        "        for mid_text_type in set(C):\n",
        "            score = fuzz.ratio(mid_text_type[1], predicted.strip()) / 100.0\n",
        "            C_scored.append((mid_text_type, score))\n",
        "        C_scored.sort(key=lambda t: t[1], reverse=True)\n",
        "        # print(C_scored[:100])\n",
        "        # sys.exit()\n",
        "        candidates.append(C_scored[:100])\n",
        "        cand_mids = C_scored[:HITS_TOP_ENTITIES]\n",
        "        for mid_text_type, score in cand_mids:\n",
        "            fout.write(\" %%%% {}\\t{}\\t{}\\t{}\".format(mid_text_type[0], mid_text_type[1], mid_text_type[2], score))\n",
        "        fout.write('\\n')\n",
        "        \n",
        "        midList = [x[0][0] for x in cand_mids]\n",
        "        if gold_id in midList[:1]:\n",
        "            top1 += 1\n",
        "            if bflag:\n",
        "              hits.append(1)\n",
        "              bflag=False\n",
        "        if gold_id in midList[:3]:\n",
        "            top3 += 1\n",
        "            if bflag:\n",
        "              hits.append(3)\n",
        "              bflag=False            \n",
        "        if gold_id in midList[:5]:\n",
        "            top5 += 1\n",
        "            if bflag:\n",
        "              hits.append(5)\n",
        "              bflag=False\n",
        "        if gold_id in midList[:10]:\n",
        "            top10 += 1\n",
        "            if bflag:\n",
        "              hits.append(10)\n",
        "              bflag=False\n",
        "        if gold_id in midList[:20]:\n",
        "            top20 += 1\n",
        "            if bflag:\n",
        "              hits.append(20)\n",
        "              bflag=False\n",
        "        if gold_id in midList[:50]:\n",
        "            top50 += 1\n",
        "            if bflag:\n",
        "              hits.append(50)\n",
        "              bflag=False\n",
        "        if gold_id in midList[:100]:\n",
        "            top100 += 1\n",
        "            if bflag:\n",
        "              hits.append(100)\n",
        "              bflag=False\n",
        "        if bflag:\n",
        "          hits.append(-1)\n",
        "          bflag=False\n",
        "\n",
        "    print(data_type)\n",
        "    print(\"Top1 Entity Linking Accuracy: {}\".format(top1 / total))\n",
        "    print(\"Top3 Entity Linking Accuracy: {}\".format(top3 / total))\n",
        "    print(\"Top5 Entity Linking Accuracy: {}\".format(top5 / total))\n",
        "    print(\"Top10 Entity Linking Accuracy: {}\".format(top10 / total))\n",
        "    print(\"Top20 Entity Linking Accuracy: {}\".format(top20 / total))\n",
        "    print(\"Top50 Entity Linking Accuracy: {}\".format(top50 / total))\n",
        "    print(\"Top100 Entity Linking Accuracy: {}\".format(top100 / total))\n",
        "    return hits, candidates"
      ],
      "execution_count": 16,
      "outputs": [
        {
          "output_type": "stream",
          "name": "stdout",
          "text": [
            "[nltk_data] Downloading package stopwords to /root/nltk_data...\n",
            "[nltk_data]   Package stopwords is already up-to-date!\n"
          ]
        }
      ]
    },
    {
      "cell_type": "code",
      "metadata": {
        "colab": {
          "base_uri": "https://localhost:8080/"
        },
        "id": "tq1PuwgjEePq",
        "outputId": "31884031-58fb-46fd-8f0f-f12ed9e3c242"
      },
      "source": [
        "hits, candidates = entity_linking('test', predicteds, golds, 100, \"./results\")"
      ],
      "execution_count": 17,
      "outputs": [
        {
          "output_type": "stream",
          "name": "stderr",
          "text": [
            "5003it [00:24, 201.64it/s]"
          ]
        },
        {
          "output_type": "stream",
          "name": "stdout",
          "text": [
            "test\n",
            "Top1 Entity Linking Accuracy: 0.3527883270037977\n",
            "Top3 Entity Linking Accuracy: 0.5354787127723366\n",
            "Top5 Entity Linking Accuracy: 0.5932440535678593\n",
            "Top10 Entity Linking Accuracy: 0.6464121527083749\n",
            "Top20 Entity Linking Accuracy: 0.6793923645812513\n",
            "Top50 Entity Linking Accuracy: 0.7057765340795523\n",
            "Top100 Entity Linking Accuracy: 0.7143713771736958\n"
          ]
        },
        {
          "output_type": "stream",
          "name": "stderr",
          "text": [
            "\n"
          ]
        }
      ]
    },
    {
      "cell_type": "code",
      "metadata": {
        "id": "bERerC2RF0n6"
      },
      "source": [
        "questions_fact['hit'] = hits\n",
        "questions_fact['candidates'] = candidates"
      ],
      "execution_count": 19,
      "outputs": []
    },
    {
      "cell_type": "code",
      "metadata": {
        "id": "RRwatgHcJlH6",
        "colab": {
          "base_uri": "https://localhost:8080/"
        },
        "outputId": "beb72c57-21b6-4480-d370-8c2abd3feae8"
      },
      "source": [
        "questions_fact.columns"
      ],
      "execution_count": 20,
      "outputs": [
        {
          "output_type": "execute_result",
          "data": {
            "text/plain": [
              "Index(['ExID', 'arg1', 'rel', 'arg2', 'narg1', 'nrel', 'narg2', 'csents',\n",
              "       'conf', 'urls', 'reverb_no', 'argument1', 'relation_phrase',\n",
              "       'argument2', 'freebase_ID_argument1', 'freebase_entity_name',\n",
              "       'link_score', 'link_ambiguity_score', 'idk', 'argument1_uuid',\n",
              "       'argument2_uuid', 'Unnamed: 0', 'bert_tokenizer_output',\n",
              "       'bert_token_ids', 'input_token_ids', 'nodes_borders', 'edges_spans',\n",
              "       'node', 'edges', 'questions', 'Unnamed: 9', 'Unnamed: 0.1',\n",
              "       'Meaningful', 'Reverb_no', 'Sentecne', 'Confidence', 'Question',\n",
              "       'Answer', 'Frequency', 'token_matrix', 'triple', 'normalized_triple',\n",
              "       'first_entity_ids', 'second_entity_ids', 'relation_ids',\n",
              "       'answer_entity', 'hit', 'candidates'],\n",
              "      dtype='object')"
            ]
          },
          "metadata": {},
          "execution_count": 20
        }
      ]
    },
    {
      "cell_type": "code",
      "metadata": {
        "id": "ZMnKXHjEJrxT"
      },
      "source": [
        "\n",
        "questions_fact[['arg1', 'rel', 'arg2', \n",
        "                'freebase_ID_argument1', 'freebase_entity_name',\n",
        "                'questions', 'Answer', 'node', 'Sentecne', 'answer_entity', 'hit', 'candidates']].to_csv('/content/debug.csv')"
      ],
      "execution_count": 21,
      "outputs": []
    },
    {
      "cell_type": "code",
      "metadata": {
        "colab": {
          "base_uri": "https://localhost:8080/",
          "height": 17
        },
        "id": "TLVkIzhFZPha",
        "outputId": "9251be62-1ae9-4bc7-866a-4eed3b8c5523"
      },
      "source": [
        "from google.colab import files\n",
        "files.download('/content/debug.csv')"
      ],
      "execution_count": 22,
      "outputs": [
        {
          "output_type": "display_data",
          "data": {
            "application/javascript": [
              "\n",
              "    async function download(id, filename, size) {\n",
              "      if (!google.colab.kernel.accessAllowed) {\n",
              "        return;\n",
              "      }\n",
              "      const div = document.createElement('div');\n",
              "      const label = document.createElement('label');\n",
              "      label.textContent = `Downloading \"${filename}\": `;\n",
              "      div.appendChild(label);\n",
              "      const progress = document.createElement('progress');\n",
              "      progress.max = size;\n",
              "      div.appendChild(progress);\n",
              "      document.body.appendChild(div);\n",
              "\n",
              "      const buffers = [];\n",
              "      let downloaded = 0;\n",
              "\n",
              "      const channel = await google.colab.kernel.comms.open(id);\n",
              "      // Send a message to notify the kernel that we're ready.\n",
              "      channel.send({})\n",
              "\n",
              "      for await (const message of channel.messages) {\n",
              "        // Send a message to notify the kernel that we're ready.\n",
              "        channel.send({})\n",
              "        if (message.buffers) {\n",
              "          for (const buffer of message.buffers) {\n",
              "            buffers.push(buffer);\n",
              "            downloaded += buffer.byteLength;\n",
              "            progress.value = downloaded;\n",
              "          }\n",
              "        }\n",
              "      }\n",
              "      const blob = new Blob(buffers, {type: 'application/binary'});\n",
              "      const a = document.createElement('a');\n",
              "      a.href = window.URL.createObjectURL(blob);\n",
              "      a.download = filename;\n",
              "      div.appendChild(a);\n",
              "      a.click();\n",
              "      div.remove();\n",
              "    }\n",
              "  "
            ],
            "text/plain": [
              "<IPython.core.display.Javascript object>"
            ]
          },
          "metadata": {}
        },
        {
          "output_type": "display_data",
          "data": {
            "application/javascript": [
              "download(\"download_a017cf44-b0fb-4685-bb89-fb63e8e53431\", \"debug.csv\", 14704791)"
            ],
            "text/plain": [
              "<IPython.core.display.Javascript object>"
            ]
          },
          "metadata": {}
        }
      ]
    },
    {
      "cell_type": "code",
      "metadata": {
        "colab": {
          "base_uri": "https://localhost:8080/"
        },
        "id": "-giFEnyrEQhJ",
        "outputId": "30b0a3ee-2404-45fb-a3ed-096386c563eb"
      },
      "source": [
        "from google.colab import drive\n",
        "drive.mount('/content/drive')"
      ],
      "execution_count": 5,
      "outputs": [
        {
          "output_type": "stream",
          "name": "stdout",
          "text": [
            "Mounted at /content/drive\n"
          ]
        }
      ]
    },
    {
      "cell_type": "code",
      "metadata": {
        "id": "C_Fp8mI_ERQ0"
      },
      "source": [
        "questions_fact.to_csv('/content/debug.csv')"
      ],
      "execution_count": 20,
      "outputs": []
    },
    {
      "cell_type": "code",
      "metadata": {
        "colab": {
          "base_uri": "https://localhost:8080/"
        },
        "id": "Xq-i44rtOoEV",
        "outputId": "ebb2bb57-43e4-41fa-87da-f9e112c02bde"
      },
      "source": [
        "questions_fact[questions_fact.hit==100]['Answer'].apply(lambda item:len(list(str(item)))).mean()"
      ],
      "execution_count": null,
      "outputs": [
        {
          "output_type": "execute_result",
          "data": {
            "text/plain": [
              "15.253521126760564"
            ]
          },
          "metadata": {},
          "execution_count": 103
        }
      ]
    },
    {
      "cell_type": "code",
      "metadata": {
        "colab": {
          "base_uri": "https://localhost:8080/"
        },
        "id": "gk9QMQMFWmOp",
        "outputId": "c286d408-f47f-4592-9dde-a08ffbb9155e"
      },
      "source": [
        "all = len(questions_fact[questions_fact.hit==1])\n",
        "digits = len(questions_fact[(questions_fact.hit==-1)&(questions_fact.Answer.apply(lambda item:str(item).isdigit()))])\n",
        "print(digits/all)"
      ],
      "execution_count": null,
      "outputs": [
        {
          "output_type": "stream",
          "name": "stdout",
          "text": [
            "0.056782334384858045\n"
          ]
        }
      ]
    },
    {
      "cell_type": "code",
      "metadata": {
        "id": "fzSilwPnWxSD"
      },
      "source": [
        ""
      ],
      "execution_count": null,
      "outputs": []
    }
  ]
}