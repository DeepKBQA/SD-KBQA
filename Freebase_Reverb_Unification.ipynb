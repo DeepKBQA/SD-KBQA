{
  "nbformat": 4,
  "nbformat_minor": 0,
  "metadata": {
    "colab": {
      "name": "Copy_of_Freebase_Reverb_Unification(2).ipynb",
      "provenance": [],
      "collapsed_sections": [],
      "include_colab_link": true
    },
    "kernelspec": {
      "display_name": "Python 3",
      "name": "python3"
    },
    "language_info": {
      "name": "python"
    }
  },
  "cells": [
    {
      "cell_type": "markdown",
      "metadata": {
        "id": "view-in-github",
        "colab_type": "text"
      },
      "source": [
        "<a href=\"https://colab.research.google.com/github/meti-94/OpenQA/blob/main/Freebase_Reverb_Unification.ipynb\" target=\"_parent\"><img src=\"https://colab.research.google.com/assets/colab-badge.svg\" alt=\"Open In Colab\"/></a>"
      ]
    },
    {
      "cell_type": "code",
      "metadata": {
        "id": "NJdWHETOja9V",
        "outputId": "638b24c6-0891-4714-98ce-50797fd27a44",
        "colab": {
          "base_uri": "https://localhost:8080/"
        }
      },
      "source": [
        "!pip install transformers -q\n",
        "!pip install fuzzywuzzy -q\n",
        "!pip install python-Levenshtein -q"
      ],
      "execution_count": 1,
      "outputs": [
        {
          "output_type": "stream",
          "name": "stdout",
          "text": [
            "\u001b[K     |████████████████████████████████| 3.1 MB 15.6 MB/s \n",
            "\u001b[K     |████████████████████████████████| 895 kB 37.8 MB/s \n",
            "\u001b[K     |████████████████████████████████| 596 kB 40.9 MB/s \n",
            "\u001b[K     |████████████████████████████████| 59 kB 6.9 MB/s \n",
            "\u001b[K     |████████████████████████████████| 3.3 MB 33.5 MB/s \n",
            "\u001b[K     |████████████████████████████████| 50 kB 5.5 MB/s \n",
            "\u001b[?25h  Building wheel for python-Levenshtein (setup.py) ... \u001b[?25l\u001b[?25hdone\n"
          ]
        }
      ]
    },
    {
      "cell_type": "code",
      "metadata": {
        "id": "K7diqBfqRKwI"
      },
      "source": [
        "!git clone https://github.com/castorini/BuboQA.git\n",
        "%cd /content/BuboQA\n",
        "!bash setup.sh "
      ],
      "execution_count": null,
      "outputs": []
    },
    {
      "cell_type": "code",
      "metadata": {
        "id": "S0f7RqUdZp26"
      },
      "source": [
        "cp -r /content/BuboQA/indexes /content/drive/MyDrive"
      ],
      "execution_count": null,
      "outputs": []
    },
    {
      "cell_type": "code",
      "metadata": {
        "id": "t9vfTp60jaCc"
      },
      "source": [
        "cp -r /content/BuboQA/data/processed_simplequestions_dataset /content/drive/MyDrive"
      ],
      "execution_count": null,
      "outputs": []
    },
    {
      "cell_type": "code",
      "metadata": {
        "id": "PfFJ4TT-DfJp",
        "colab": {
          "base_uri": "https://localhost:8080/"
        },
        "outputId": "9ba9e014-925c-44df-92ab-5087ba796855"
      },
      "source": [
        "%cd /content/drive/MyDrive/data_freebase\n",
        "!unzip /content/drive/MyDrive/data_freebase/reverb_linked.zip"
      ],
      "execution_count": null,
      "outputs": [
        {
          "output_type": "stream",
          "name": "stdout",
          "text": [
            "/content/drive/MyDrive/data_freebase\n",
            "Archive:  /content/drive/MyDrive/data_freebase/reverb_linked.zip\n",
            "  inflating: reverb_linked.csv       \n"
          ]
        }
      ]
    },
    {
      "cell_type": "code",
      "metadata": {
        "id": "1wdQ6F9_8gZK"
      },
      "source": [
        "import pandas as pd\n",
        "import pickle\n",
        "from tqdm import tqdm\n",
        "from fuzzywuzzy import fuzz"
      ],
      "execution_count": 1,
      "outputs": []
    },
    {
      "cell_type": "code",
      "metadata": {
        "id": "u1FODKh38oiT"
      },
      "source": [
        "# mapping between MIDs and names in the form of dict['MID']=['str1', 'str2', ...,  'strN']\n",
        "with open('/content/drive/MyDrive/indexes/names_2M.pkl', 'rb') as f:\n",
        "    mid2name = pickle.load(f)"
      ],
      "execution_count": 2,
      "outputs": []
    },
    {
      "cell_type": "code",
      "metadata": {
        "id": "uKJ6BgWcmYVm"
      },
      "source": [
        "# In/Out degree for each MID in the form of dict['MID']=[In degree, Out degree]\n",
        "with open('/content/drive/MyDrive/indexes/degrees_2M.pkl', 'rb') as f:\n",
        "    degrees_2M = pickle.load(f)"
      ],
      "execution_count": 3,
      "outputs": []
    },
    {
      "cell_type": "code",
      "metadata": {
        "id": "WEsQueYYm7a3"
      },
      "source": [
        "# reverse mapping between string and MID in the form of dict['string']=[('MID', 'actual string', 'freebase type') ...] \n",
        "with open('/content/drive/MyDrive/indexes/entity_2M.pkl', 'rb') as f:\n",
        "    entity_2M = pickle.load(f)"
      ],
      "execution_count": 4,
      "outputs": []
    },
    {
      "cell_type": "code",
      "metadata": {
        "id": "T38YnAzrrnfn"
      },
      "source": [
        "# mapping between MIDs and Relations in the form of dict['MID']=[{'fb:common.topic.notable_types', 'fb:people.person.gender', 'fb:people.person.profession'}]\n",
        "with open('/content/drive/MyDrive/indexes/reachability_2M.pkl', 'rb') as f:\n",
        "    reachability_2M = pickle.load(f)"
      ],
      "execution_count": 5,
      "outputs": []
    },
    {
      "cell_type": "code",
      "metadata": {
        "id": "LZsLQKhDosv9"
      },
      "source": [
        "reverb2freebace = pd.read_csv('/content/drive/MyDrive/data_freebase/reverb_linked.csv')\n",
        "reverb2freebace['freebase_ID_argument1'] = reverb2freebace['freebase_ID_argument1'].apply(lambda string:'fb:m.'+str(string))\n",
        "reverb2freebace['conf'] = reverb2freebace['conf'].astype(float)"
      ],
      "execution_count": 6,
      "outputs": []
    },
    {
      "cell_type": "code",
      "metadata": {
        "colab": {
          "base_uri": "https://localhost:8080/"
        },
        "id": "IXytv_luyLLI",
        "outputId": "09a48df9-81bb-4b2e-bbf9-aaea1037c9d8"
      },
      "source": [
        "matched_mids, unmatched_mids, added_entity_strings = 0, 0, 0\n",
        "string_count = sum([len(name) for name in entity_2M.values()])\n",
        "\n",
        "\n",
        "for index, row in tqdm(reverb2freebace.iterrows(), total=reverb2freebace.shape[0]):\n",
        "  if row['freebase_ID_argument1'] in mid2name:\n",
        "    mid1 = mid = row['freebase_ID_argument1'] \n",
        "    matched_mids+=1\n",
        "  else:\n",
        "    mid1 = mid = row['argument1_uuid']\n",
        "    unmatched_mids+=1\n",
        "  mid2 = mid = row['argument2_uuid']\n",
        "  unmatched_mids+=1\n",
        "  reverb_string1 = str(row['arg1']).lower()\n",
        "  reverb_string2 = str(row['arg2']).lower()\n",
        "  relation = row['rel']\n",
        "  conf = str(row['conf'])\n",
        "  linking = str(row['link_score'])\n",
        "  try:\n",
        "    temp = entity_2M[reverb_string1]\n",
        "  except:\n",
        "    entity_2M[reverb_string1] = set()\n",
        "    temp = entity_2M[reverb_string1]\n",
        "    added_entity_strings+=1\n",
        "  temp.add((mid1, reverb_string1, conf))\n",
        "  try:\n",
        "    temp = entity_2M[reverb_string2]\n",
        "  except:\n",
        "    entity_2M[reverb_string2] = set()\n",
        "    temp = entity_2M[reverb_string2]\n",
        "    added_entity_strings+=1\n",
        "  temp.add((mid2, reverb_string2, conf))\n",
        "  \n",
        "\n",
        "print(f'\\nTotal MIDs before augmentation: {len(mid2name)}\\tUnmatched (Added) MIDs: {unmatched_mids}\\t Matched MIDs: {matched_mids}')\n",
        "print(f'Total Entity Strings before augmentation: {string_count}\\tAdded Entity Strings: {added_entity_strings}') \n"
      ],
      "execution_count": 7,
      "outputs": [
        {
          "output_type": "stream",
          "name": "stderr",
          "text": [
            "100%|██████████| 407267/407267 [00:53<00:00, 7632.27it/s]"
          ]
        },
        {
          "output_type": "stream",
          "name": "stdout",
          "text": [
            "\n",
            "Total MIDs before augmentation: 1951909\tUnmatched (Added) MIDs: 669962\t Matched MIDs: 144572\n",
            "Total Entity Strings before augmentation: 17555942\tAdded Entity Strings: 138167\n"
          ]
        },
        {
          "output_type": "stream",
          "name": "stderr",
          "text": [
            "\n"
          ]
        }
      ]
    },
    {
      "cell_type": "code",
      "metadata": {
        "id": "lYRchs2PClTv"
      },
      "source": [
        "def get_ngram(text):\n",
        "    ngram = []\n",
        "    tokens = str(text).split()\n",
        "    for i in range(len(tokens)+1):\n",
        "        for j in range(i):\n",
        "            if i-j <= 3:\n",
        "                temp = \" \".join(tokens[j:i])\n",
        "                if temp not in ngram:\n",
        "                    ngram.append(temp)\n",
        "    ngram = sorted(ngram, key=lambda x: len(x.split()), reverse=True)\n",
        "    return ngram"
      ],
      "execution_count": 8,
      "outputs": []
    },
    {
      "cell_type": "code",
      "metadata": {
        "id": "tnDsLrfrwaPg"
      },
      "source": [
        "def get_stat_inverted_index(reverse_index):\n",
        "    \"\"\"\n",
        "    Get the number of entry and max length of the entry (How many mid in an entry)\n",
        "    \"\"\"\n",
        "    with open(filename, \"rb\") as handler:\n",
        "        global  inverted_index\n",
        "        inverted_index = pickle.load(handler)\n",
        "        inverted_index = defaultdict(str, inverted_index)\n",
        "    print(\"Total type of text: {}\".format(len(inverted_index)))\n",
        "    max_len = 0\n",
        "    _entry = \"\"\n",
        "    for entry, value in inverted_index.items():\n",
        "        if len(value) > max_len:\n",
        "            max_len = len(value)\n",
        "            _entry = entry\n",
        "    print(\"Max Length of entry is {}, text is {}\".format(max_len, _entry))"
      ],
      "execution_count": 9,
      "outputs": []
    },
    {
      "cell_type": "code",
      "metadata": {
        "colab": {
          "base_uri": "https://localhost:8080/"
        },
        "id": "APzP-OYtwejL",
        "outputId": "abdd54a9-07fd-4f12-ade1-4a309f05eb16"
      },
      "source": [
        "from collections import defaultdict\n",
        "inverted_index = defaultdict(str, entity_2M)\n",
        "print(\"Total type of text: {}\".format(len(inverted_index)))\n",
        "max_len = 0\n",
        "_entry = \"\"\n",
        "for entry, value in inverted_index.items():\n",
        "  if len(value) > max_len:\n",
        "    max_len = len(value)\n",
        "    _entry = list(value)\n",
        "print(\"Max Length of entry is {}, text is {}\".format(max_len, _entry[:100]))"
      ],
      "execution_count": 10,
      "outputs": [
        {
          "output_type": "stream",
          "name": "stdout",
          "text": [
            "Total type of text: 4936783\n",
            "Max Length of entry is 249717, text is [('fb:m.0vcp9', 'forsyth township , michigan', 'fb:common.topic.alias'), ('fb:m.01qctqj', 'wesley brown , scott', 'fb:common.topic.alias'), ('fb:m.0cdx_x', 'douglas houghton , baron houghton of sowerby', 'fb:type.object.name'), ('fb:m.015701', 'coahuila , torreón', 'fb:common.topic.alias'), ('fb:m.01qzdpj', 'j : son lindh , björn', 'fb:common.topic.alias'), ('fb:m.04ckn4d', 'symphonie no. 2 c-moll , symphonie no. 10 fis-moll ( royal concertgebouw orchestra feat. conductor : bernard haitink ) ( disc 2 )', 'fb:common.topic.alias'), ('fb:m.0bcrlj', 'belmont , dallas', 'fb:common.topic.alias'), ('fb:m.03g15zf', \"collection , volume 18 : j'ai oublié de vivre : 1977\", 'fb:type.object.name'), ('fb:m.06gzp7', 'adams , george', 'fb:common.topic.alias'), ('fb:m.03hh10b', 'haysville , indiana', 'fb:common.topic.alias'), ('fb:m.0dd93_', 'kakatiya university , main campus', 'fb:common.topic.alias'), ('fb:m.04bqtpp', 'dantzler , south carolina', 'fb:common.topic.alias'), ('fb:m.0zb2l', 'marble city community , oklahoma', 'fb:common.topic.alias'), ('fb:m.04xc1l', 'n.w.f.p agricultural university , main campus', 'fb:common.topic.alias'), ('fb:m.064qprf', 'rice fork summer homes , california', 'fb:common.topic.alias'), ('fb:m.04c3bz7', 'beverly heights north , virginia', 'fb:common.topic.alias'), ('fb:m.0sgbt', 'cantrall , illinois', 'fb:common.topic.alias'), ('fb:m.0dmgr60', 'the music of ennio morricone : the good , the bad and the ugly', 'fb:type.object.name'), ('fb:m.04jhphh', \"st aloysius ' college , main campus\", 'fb:common.topic.alias'), ('fb:m.024ctvj', \"le quattro stagioni , op. 8 : concerto nr. 4 f-moll , rv 297 `` l'inverno '' : 2. largo\", 'fb:common.topic.alias'), ('fb:m.02gj7_', 'mercé , josé', 'fb:common.topic.alias'), ('fb:m.011g_d', 'washakie ten , wyoming', 'fb:common.topic.alias'), ('fb:m.07sbhlc', 'masters of chant , chapter vii', 'fb:type.object.name'), ('fb:m.09k_6w', 'balochistan university of information technology , engineering and management sciences', 'fb:type.object.name'), ('fb:m.048qc90', 'saddlebrook , colorado', 'fb:common.topic.alias'), ('fb:m.0drb72', '233rd street , the bronx', 'fb:common.topic.alias'), ('fb:m.04c7hbm', 'goodman , west virginia', 'fb:common.topic.alias'), ('fb:m.04809vs', 'clear creek park , alaska', 'fb:common.topic.alias'), ('fb:m.0ftmw1s', 'hank , bob & me : the songs of hank williams , sr. & bob wills', 'fb:type.object.name'), ('fb:m.06_jc28', 'joseph shinn house , woodstown', 'fb:common.topic.alias'), ('fb:m.0468mr', 'roslindale , massachusetts', 'fb:common.topic.alias'), ('fb:m.0ffvr3', 'adventuredome , las vegas', 'fb:common.topic.alias'), ('fb:m.05mf92v', 'the nieuwezijds voorburgswal , amsterdam', 'fb:type.object.name'), ('fb:m.01vrpnp', 'barât , carl', 'fb:common.topic.alias'), ('fb:m.03f0sfy', 'manak , kuldip', 'fb:common.topic.alias'), ('fb:m.0_hhc', 'west leechburg , pennsylvania', 'fb:common.topic.alias'), ('fb:m.03wbb8', \"o'hara , paige\", 'fb:common.topic.alias'), ('fb:m.04w2v_h', 'another mother tongue : gay words , gay worlds', 'fb:common.topic.alias'), ('fb:m.0487kb0', 'erbie , arkansas', 'fb:common.topic.alias'), ('fb:m.0hqvfgq', 'menthol/echinacea , unspecified/licorice', 'fb:type.object.name'), ('fb:m.0gbcyt', 'roddino , france', 'fb:common.topic.alias'), ('fb:m.0488sl2', 'pine springs , arizona', 'fb:common.topic.alias'), ('fb:m.0gkt7b5', 'maria , my love', 'fb:type.object.name'), ('fb:m.04c2mnm', 'ednas mill , virginia', 'fb:common.topic.alias'), ('fb:m.012qb0v', 'piano sonata in b minor , s.178 : iv. allegro energico - andante sostenuto - lento assai', 'fb:common.topic.alias'), ('fb:m.0qcj4', 'lynn , alabama', 'fb:common.topic.alias'), ('fb:m.031nkg', 'karrinyup , western australia', 'fb:common.topic.alias'), ('fb:m.04968n6', 'dunbarton , louisiana', 'fb:common.topic.alias'), ('fb:m.0wgg0', 'hector , minnesota', 'fb:common.topic.alias'), ('fb:m.0807dd6', 'twilight -- los angeles , 1992', 'fb:common.topic.alias'), ('fb:m.0cr4057', 'jauhar college of information technology and management sciences , karachi', 'fb:common.topic.alias'), ('fb:m.02l6nk', 'mays , lyle', 'fb:common.topic.alias'), ('fb:m.02636v6', 'brown mackie college , indianapolis', 'fb:common.topic.alias'), ('fb:m.0gk4q8', 'megliadino san fidenzio , italy', 'fb:common.topic.alias'), ('fb:m.0ffc0d', 'cheng , joe', 'fb:common.topic.alias'), ('fb:m.03b2r6', 'cambie street , vancouver', 'fb:common.topic.alias'), ('fb:m.0d3qt_', 'sanskrit college , kolkata', 'fb:common.topic.alias'), ('fb:m.03f4bp_', 'hughes , gareth', 'fb:common.topic.alias'), ('fb:m.05_2g7', 'belton , north lincolnshire', 'fb:common.topic.alias'), ('fb:m.04b397z', 'huntcliff , mississippi', 'fb:common.topic.alias'), ('fb:m.0cnzpr', 'university of faisalabad , saleem campus', 'fb:common.topic.alias'), ('fb:m.0489d27', 'miramar , half moon bay , california', 'fb:type.object.name'), ('fb:m.02twh_', 'malone , new york', 'fb:common.topic.alias'), ('fb:m.0578p1', 'atlantic school of theology , main campus', 'fb:common.topic.alias'), ('fb:m.04tzzdj', 'the war of the worlds ( lake illustrated classics , collection 2 )', 'fb:type.object.name'), ('fb:m.0368lj', 'pelham bay park , the bronx', 'fb:common.topic.alias'), ('fb:m.0wm2d', 'wabasha , minnesota', 'fb:common.topic.alias'), ('fb:m.01jx7vw', 'mckenna , dave', 'fb:common.topic.alias'), ('fb:m.0495p9z', 'sandel , louisiana', 'fb:common.topic.alias'), ('fb:m.01w2x2c', 'amendola , scott', 'fb:common.topic.alias'), ('fb:m.08kj5_', 'john robert marks , iii', 'fb:common.topic.alias'), ('fb:m.0b35s4', 'detective damo , the detective in chosun', 'fb:common.topic.alias'), ('fb:m.01hrpw8', 'beethoven : the 5 piano concertos ( american symphony orchestra feat. conductor : leopold stokowski , piano : glenn gould )', 'fb:common.topic.alias'), ('fb:m.01tkf04', 'mortazavi , bijan', 'fb:common.topic.alias'), ('fb:m.049_hpk', 'twin lakes , michigan', 'fb:common.topic.alias'), ('fb:m.0hqtxmz', 'niacinamide , hydroxyproline 0.02/0.005 liquid', 'fb:type.object.name'), ('fb:m.01q_w1', 'richard de beauchamp , 13th earl of warwick', 'fb:type.object.name'), ('fb:m.01qzwln', 'ries , rachel', 'fb:common.topic.alias'), ('fb:m.018tvs', 'beuys , joseph', 'fb:common.topic.alias'), ('fb:m.06rc4g', 'ju dou : secret love , hidden faces', 'fb:common.topic.alias'), ('fb:m.0sjjglk', 'violin concertos no. 1 + 2 , orchestra suite no. 1', 'fb:type.object.name'), ('fb:m.04bctql', 'riceville , new york', 'fb:common.topic.alias'), ('fb:m.0fyv48h', 'trance 2002 , volume 2 : music 4 : the next generation', 'fb:type.object.name'), ('fb:m.0cr4_y5', 'vaikunta baliga college of law , udupi', 'fb:common.topic.alias'), ('fb:m.03f482h', 'shin , the', 'fb:common.topic.alias'), ('fb:m.04b3lc9', 'melton , mississippi', 'fb:common.topic.alias'), ('fb:m.070hnk', 'of death , of love', 'fb:common.topic.alias'), ('fb:m.0_6s9', 'collegeville , pennsylvania', 'fb:common.topic.alias'), ('fb:m.01w39vy', 'small , phil', 'fb:common.topic.alias'), ('fb:m.02rcbjl', 'balatonszemes , hungary', 'fb:common.topic.alias'), ('fb:m.04ffrr5', 'alive 35 - graspop metal meeting , dessel , belgium 28.06.2008', 'fb:common.topic.alias'), ('fb:m.04881bf', 'ali oidak , arizona', 'fb:common.topic.alias'), ('fb:m.03c4fv_', 'cataloochee , north carolina', 'fb:common.topic.alias'), ('fb:m.010l_z', 'dunn loring , virginia', 'fb:common.topic.alias'), ('fb:m.0fk547', 'edward j. renehan , jr .', 'fb:common.topic.alias'), ('fb:m.0bgvk7', 'jinchang , china', 'fb:common.topic.alias'), ('fb:m.0488lpx', 'nicksville , arizona', 'fb:common.topic.alias'), ('fb:m.021mzbg', 'potassium voltage-gated channel , shaw-related subfamily , member 4', 'fb:type.object.name'), ('fb:m.0gl51l', 'san costanzo , italy', 'fb:common.topic.alias'), ('fb:m.08vzz9', 'mckinnon secondary college , melbourne', 'fb:common.topic.alias')]\n"
          ]
        }
      ]
    },
    {
      "cell_type": "code",
      "metadata": {
        "id": "5B9pOgtEpyM9"
      },
      "source": [
        "del entity_2M\n",
        "del degrees_2M\n",
        "del reachability_2M\n",
        "del mid2name"
      ],
      "execution_count": 11,
      "outputs": []
    },
    {
      "cell_type": "code",
      "metadata": {
        "colab": {
          "base_uri": "https://localhost:8080/"
        },
        "id": "oiuIgSALlPtK",
        "outputId": "3c7f3c62-9f0b-4e29-94ea-38020430caae"
      },
      "source": [
        "# reading step-by-step output\n",
        "test_df = pd.read_excel('/content/drive/MyDrive/data_freebase/sbs.xlsx')\n",
        "questions_fact = reverb2freebace.merge(test_df, how='inner', left_on='reverb_no', right_on='Reverb_no')\n",
        "questions_fact.info()"
      ],
      "execution_count": 12,
      "outputs": [
        {
          "output_type": "stream",
          "name": "stdout",
          "text": [
            "<class 'pandas.core.frame.DataFrame'>\n",
            "Int64Index: 5003 entries, 0 to 5002\n",
            "Data columns (total 46 columns):\n",
            " #   Column                 Non-Null Count  Dtype  \n",
            "---  ------                 --------------  -----  \n",
            " 0   ExID                   5003 non-null   int64  \n",
            " 1   arg1                   5003 non-null   object \n",
            " 2   rel                    5003 non-null   object \n",
            " 3   arg2                   5003 non-null   object \n",
            " 4   narg1                  5003 non-null   object \n",
            " 5   nrel                   5003 non-null   object \n",
            " 6   narg2                  5003 non-null   object \n",
            " 7   csents                 5003 non-null   int64  \n",
            " 8   conf                   5003 non-null   float64\n",
            " 9   urls                   5003 non-null   object \n",
            " 10  reverb_no              5003 non-null   int64  \n",
            " 11  argument1              1924 non-null   object \n",
            " 12  relation_phrase        1924 non-null   object \n",
            " 13  argument2              1924 non-null   object \n",
            " 14  freebase_ID_argument1  5003 non-null   object \n",
            " 15  freebase_entity_name   1924 non-null   object \n",
            " 16  link_score             5003 non-null   float64\n",
            " 17  link_ambiguity_score   1398 non-null   float64\n",
            " 18  idk                    0 non-null      float64\n",
            " 19  argument1_uuid         5003 non-null   object \n",
            " 20  argument2_uuid         5003 non-null   object \n",
            " 21  Unnamed: 0             5003 non-null   int64  \n",
            " 22  bert_tokenizer_output  5003 non-null   object \n",
            " 23  bert_token_ids         5003 non-null   object \n",
            " 24  input_token_ids        5003 non-null   object \n",
            " 25  nodes_borders          5003 non-null   object \n",
            " 26  edges_spans            5003 non-null   object \n",
            " 27  node                   5001 non-null   object \n",
            " 28  edges                  5003 non-null   object \n",
            " 29  questions              5003 non-null   object \n",
            " 30  Unnamed: 9             5003 non-null   int64  \n",
            " 31  Unnamed: 0.1           5003 non-null   int64  \n",
            " 32  Meaningful             5003 non-null   int64  \n",
            " 33  Reverb_no              5003 non-null   int64  \n",
            " 34  Sentecne               5003 non-null   object \n",
            " 35  Confidence             5003 non-null   float64\n",
            " 36  Question               5003 non-null   object \n",
            " 37  Answer                 5003 non-null   object \n",
            " 38  Frequency              5003 non-null   int64  \n",
            " 39  token_matrix           5003 non-null   object \n",
            " 40  triple                 5003 non-null   object \n",
            " 41  normalized_triple      5003 non-null   object \n",
            " 42  first_entity_ids       5003 non-null   object \n",
            " 43  second_entity_ids      5003 non-null   object \n",
            " 44  relation_ids           5003 non-null   object \n",
            " 45  answer_entity          5003 non-null   int64  \n",
            "dtypes: float64(5), int64(10), object(31)\n",
            "memory usage: 1.8+ MB\n"
          ]
        }
      ]
    },
    {
      "cell_type": "code",
      "metadata": {
        "id": "WDLvu1eJHQWn"
      },
      "source": [
        "# reading freebase questions \n",
        "freebase = pd.read_excel('/content/drive/MyDrive/data_freebase/test_useful_records.xlsx')\n"
      ],
      "execution_count": 17,
      "outputs": []
    },
    {
      "cell_type": "code",
      "metadata": {
        "id": "V7bmcDLOsHFb"
      },
      "source": [
        "golds = []\n",
        "for idx, row in questions_fact.iterrows():\n",
        "  if row['freebase_ID_argument1']=='fb:m.nan':\n",
        "    ans_ent = row['answer_entity']\n",
        "    golds.append(row[f'argument{ans_ent}_uuid'])\n",
        "  else:\n",
        "    golds.append(row['freebase_ID_argument1'])\n",
        "predicteds = questions_fact.node.astype(str).to_list()\n",
        "\n",
        "golds+=freebase.Answer.to_list()\n",
        "predicteds+=freebase.entity.to_list()"
      ],
      "execution_count": 19,
      "outputs": []
    },
    {
      "cell_type": "code",
      "metadata": {
        "id": "th3H6blNzq3o",
        "colab": {
          "base_uri": "https://localhost:8080/"
        },
        "outputId": "79d15482-4179-4d70-e030-2b294b939ee3"
      },
      "source": [
        "import nltk\n",
        "nltk.download('stopwords')\n",
        "from nltk.corpus import stopwords\n",
        "import sys\n",
        "# hits = []\n",
        "def entity_linking(data_type, predicteds, golds, HITS_TOP_ENTITIES, output):\n",
        "    stopword = set(stopwords.words('english'))\n",
        "    fout = open(output, 'w')\n",
        "    total = 0\n",
        "    top1 = 0\n",
        "    top3 = 0\n",
        "    top5 = 0\n",
        "    top10 = 0\n",
        "    top20 = 0\n",
        "    top50 = 0\n",
        "    top100 = 0\n",
        "    hits = []\n",
        "    candidates = []\n",
        "    for idx, (predicted, gold_id) in tqdm(enumerate(zip(predicteds, golds))):\n",
        "        bflag = True\n",
        "        total += 1\n",
        "        C = []\n",
        "        C_scored = []\n",
        "        tokens = get_ngram(predicted)\n",
        "        # print(tokens)\n",
        "        if len(tokens) > 0:\n",
        "            maxlen = len(tokens[0].split())\n",
        "            # print(maxlen)\n",
        "        for item in tokens:\n",
        "            if len(item.split()) < maxlen and len(C) == 0:\n",
        "                maxlen = len(item.split())\n",
        "            if len(item.split()) < maxlen and len(C) > 0:\n",
        "                break\n",
        "            if item in stopword:\n",
        "                # print('his is stopword', item)\n",
        "                continue\n",
        "            C.extend(inverted_index[item])\n",
        "            # print(inverted_index[item])\n",
        "        for mid_text_type in set(C):\n",
        "            score = fuzz.ratio(mid_text_type[1], predicted.strip()) / 100.0\n",
        "            C_scored.append((mid_text_type, score))\n",
        "        C_scored.sort(key=lambda t: t[1], reverse=True)\n",
        "        # print(C_scored[:100])\n",
        "        # sys.exit()\n",
        "        candidates.append(C_scored[:100])\n",
        "        cand_mids = C_scored[:HITS_TOP_ENTITIES]\n",
        "        for mid_text_type, score in cand_mids:\n",
        "            fout.write(\" %%%% {}\\t{}\\t{}\\t{}\".format(mid_text_type[0], mid_text_type[1], mid_text_type[2], score))\n",
        "        fout.write('\\n')\n",
        "        \n",
        "        midList = [x[0][0] for x in cand_mids]\n",
        "        if gold_id in midList[:1]:\n",
        "            top1 += 1\n",
        "            if bflag:\n",
        "              hits.append(1)\n",
        "              bflag=False\n",
        "        if gold_id in midList[:3]:\n",
        "            top3 += 1\n",
        "            if bflag:\n",
        "              hits.append(3)\n",
        "              bflag=False            \n",
        "        if gold_id in midList[:5]:\n",
        "            top5 += 1\n",
        "            if bflag:\n",
        "              hits.append(5)\n",
        "              bflag=False\n",
        "        if gold_id in midList[:10]:\n",
        "            top10 += 1\n",
        "            if bflag:\n",
        "              hits.append(10)\n",
        "              bflag=False\n",
        "        if gold_id in midList[:20]:\n",
        "            top20 += 1\n",
        "            if bflag:\n",
        "              hits.append(20)\n",
        "              bflag=False\n",
        "        if gold_id in midList[:50]:\n",
        "            top50 += 1\n",
        "            if bflag:\n",
        "              hits.append(50)\n",
        "              bflag=False\n",
        "        if gold_id in midList[:100]:\n",
        "            top100 += 1\n",
        "            if bflag:\n",
        "              hits.append(100)\n",
        "              bflag=False\n",
        "        if bflag:\n",
        "          hits.append(-1)\n",
        "          bflag=False\n",
        "\n",
        "    print(data_type)\n",
        "    print(\"Top1 Entity Linking Accuracy: {}\".format(top1 / total))\n",
        "    print(\"Top3 Entity Linking Accuracy: {}\".format(top3 / total))\n",
        "    print(\"Top5 Entity Linking Accuracy: {}\".format(top5 / total))\n",
        "    print(\"Top10 Entity Linking Accuracy: {}\".format(top10 / total))\n",
        "    print(\"Top20 Entity Linking Accuracy: {}\".format(top20 / total))\n",
        "    print(\"Top50 Entity Linking Accuracy: {}\".format(top50 / total))\n",
        "    print(\"Top100 Entity Linking Accuracy: {}\".format(top100 / total))\n",
        "    return hits, candidates"
      ],
      "execution_count": 20,
      "outputs": [
        {
          "output_type": "stream",
          "name": "stdout",
          "text": [
            "[nltk_data] Downloading package stopwords to /root/nltk_data...\n",
            "[nltk_data]   Package stopwords is already up-to-date!\n"
          ]
        }
      ]
    },
    {
      "cell_type": "code",
      "metadata": {
        "colab": {
          "base_uri": "https://localhost:8080/"
        },
        "id": "tq1PuwgjEePq",
        "outputId": "eabc7cc0-2b4c-44a5-c5b5-aa1bfa3ba2e5"
      },
      "source": [
        "hits, candidates = entity_linking('test', predicteds, golds, 100, \"./results\")"
      ],
      "execution_count": 21,
      "outputs": [
        {
          "output_type": "stream",
          "name": "stderr",
          "text": [
            "26622it [00:59, 445.43it/s]"
          ]
        },
        {
          "output_type": "stream",
          "name": "stdout",
          "text": [
            "test\n",
            "Top1 Entity Linking Accuracy: 0.5998797986627601\n",
            "Top3 Entity Linking Accuracy: 0.7462249267523101\n",
            "Top5 Entity Linking Accuracy: 0.7913755540530388\n",
            "Top10 Entity Linking Accuracy: 0.8332206445796709\n",
            "Top20 Entity Linking Accuracy: 0.8627450980392157\n",
            "Top50 Entity Linking Accuracy: 0.8866351138156412\n",
            "Top100 Entity Linking Accuracy: 0.9007212080234392\n"
          ]
        },
        {
          "output_type": "stream",
          "name": "stderr",
          "text": [
            "\n"
          ]
        }
      ]
    },
    {
      "cell_type": "code",
      "metadata": {
        "id": "bERerC2RF0n6"
      },
      "source": [
        "questions_fact['hit'] = hits\n",
        "questions_fact['candidates'] = candidates"
      ],
      "execution_count": null,
      "outputs": []
    },
    {
      "cell_type": "code",
      "metadata": {
        "id": "ZMnKXHjEJrxT"
      },
      "source": [
        "\n",
        "questions_fact[['arg1', 'rel', 'arg2', \n",
        "                'freebase_ID_argument1', 'freebase_entity_name',\n",
        "                'questions', 'Answer', 'node', 'Sentecne', 'answer_entity', 'hit', 'candidates']].to_csv('/content/debug.csv')"
      ],
      "execution_count": null,
      "outputs": []
    },
    {
      "cell_type": "code",
      "metadata": {
        "colab": {
          "base_uri": "https://localhost:8080/"
        },
        "id": "-giFEnyrEQhJ",
        "outputId": "c4cd4e5d-4207-48ad-cc24-f8cbe49f0f3f"
      },
      "source": [
        "from google.colab import drive\n",
        "drive.mount('/content/drive')"
      ],
      "execution_count": 3,
      "outputs": [
        {
          "output_type": "stream",
          "name": "stdout",
          "text": [
            "Mounted at /content/drive\n"
          ]
        }
      ]
    },
    {
      "cell_type": "code",
      "metadata": {
        "id": "C_Fp8mI_ERQ0"
      },
      "source": [
        "questions_fact.to_csv('/content/debug.csv')"
      ],
      "execution_count": null,
      "outputs": []
    },
    {
      "cell_type": "code",
      "metadata": {
        "id": "fzSilwPnWxSD"
      },
      "source": [
        ""
      ],
      "execution_count": null,
      "outputs": []
    }
  ]
}