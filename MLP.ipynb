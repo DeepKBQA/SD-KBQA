{
  "nbformat": 4,
  "nbformat_minor": 0,
  "metadata": {
    "colab": {
      "name": "MLP.ipynb",
      "provenance": [],
      "authorship_tag": "ABX9TyPsEMy87nh6KhH8s8gK5VxH",
      "include_colab_link": true
    },
    "kernelspec": {
      "name": "python3",
      "display_name": "Python 3"
    },
    "language_info": {
      "name": "python"
    }
  },
  "cells": [
    {
      "cell_type": "markdown",
      "metadata": {
        "id": "view-in-github",
        "colab_type": "text"
      },
      "source": [
        "<a href=\"https://colab.research.google.com/github/meti-94/OpenQA/blob/main/MLP.ipynb\" target=\"_parent\"><img src=\"https://colab.research.google.com/assets/colab-badge.svg\" alt=\"Open In Colab\"/></a>"
      ]
    },
    {
      "cell_type": "code",
      "execution_count": 1,
      "metadata": {
        "colab": {
          "base_uri": "https://localhost:8080/"
        },
        "id": "-MvdlwWNaziF",
        "outputId": "c16ebf66-4792-4836-ed90-20af7678300c"
      },
      "outputs": [
        {
          "output_type": "stream",
          "name": "stdout",
          "text": [
            "Cloning into 'OpenQA'...\n",
            "remote: Enumerating objects: 218, done.\u001b[K\n",
            "remote: Counting objects: 100% (218/218), done.\u001b[K\n",
            "remote: Compressing objects: 100% (183/183), done.\u001b[K\n",
            "remote: Total 218 (delta 87), reused 128 (delta 28), pack-reused 0\u001b[K\n",
            "Receiving objects: 100% (218/218), 102.55 MiB | 27.13 MiB/s, done.\n",
            "Resolving deltas: 100% (87/87), done.\n"
          ]
        }
      ],
      "source": [
        "!git clone https://github.com/meti-94/OpenQA.git"
      ]
    },
    {
      "cell_type": "code",
      "source": [
        "import pandas as pd\n",
        "import sys\n",
        "from sklearn.neural_network import MLPRegressor\n",
        "from sklearn.datasets import make_regression\n",
        "from sklearn.model_selection import train_test_split\n",
        "from sklearn.preprocessing import PolynomialFeatures"
      ],
      "metadata": {
        "id": "wvQt71yqbAu_"
      },
      "execution_count": 1,
      "outputs": []
    },
    {
      "cell_type": "code",
      "source": [
        "df = pd.read_excel('/content/OpenQA/validation.xlsx')"
      ],
      "metadata": {
        "id": "qO5O6fXQb0s8"
      },
      "execution_count": 2,
      "outputs": []
    },
    {
      "cell_type": "code",
      "source": [
        "df.loc[1, 'answers']"
      ],
      "metadata": {
        "colab": {
          "base_uri": "https://localhost:8080/",
          "height": 36
        },
        "id": "otFzl-9BsE_a",
        "outputId": "0e018b9e-5bc0-4453-f0a1-0dd0021e7cce"
      },
      "execution_count": 3,
      "outputs": [
        {
          "output_type": "execute_result",
          "data": {
            "application/vnd.google.colaboratory.intrinsic+json": {
              "type": "string"
            },
            "text/plain": [
              "\"[('20e3dd8b-0f8e-4379-8552-58aef7ca3857', 'again chose', 1.0, 1.0, '0.90925', 114750)]\""
            ]
          },
          "metadata": {},
          "execution_count": 3
        }
      ]
    },
    {
      "cell_type": "code",
      "source": [
        "X, y = [], []\n",
        "for idx1, row in df.iterrows():\n",
        "  try:\n",
        "    temporary = eval(row['answers'])\n",
        "  \n",
        "    for idx2, candidate in enumerate(temporary):\n",
        "      if len(candidate)==6:\n",
        "        if (candidate[0]==row['Answer']) and candidate[-1]==row['Reverb_no']:\n",
        "          X.append((candidate[2], candidate[3], float(candidate[4])))\n",
        "          y.append(1)\n",
        "        else:\n",
        "          X.append((candidate[2], candidate[3], float(candidate[4])))\n",
        "          y.append(0)\n",
        "      else:\n",
        "        if (candidate[0]==row['Answer']) and (candidate[1]==row['Relation']):\n",
        "          X.append((candidate[2], candidate[3], 1.0))\n",
        "          y.append(1)\n",
        "        else:\n",
        "          X.append((candidate[2], candidate[3], 1.0))\n",
        "          y.append(0)\n",
        "  except:\n",
        "    continue\n"
      ],
      "metadata": {
        "id": "hLoZPuYAeCs3"
      },
      "execution_count": 4,
      "outputs": []
    },
    {
      "cell_type": "code",
      "source": [
        "poly = PolynomialFeatures(3)\n",
        "X = poly.fit_transform(X)"
      ],
      "metadata": {
        "id": "ldNemFmvs3jL"
      },
      "execution_count": 5,
      "outputs": []
    },
    {
      "cell_type": "code",
      "source": [
        "X[0]"
      ],
      "metadata": {
        "id": "oUqLXbyjQXBT",
        "outputId": "7e396cfc-696d-4ec7-8305-eeb92ca91143",
        "colab": {
          "base_uri": "https://localhost:8080/"
        }
      },
      "execution_count": 6,
      "outputs": [
        {
          "output_type": "execute_result",
          "data": {
            "text/plain": [
              "array([1.        , 1.        , 1.        , 0.92794   , 1.        ,\n",
              "       1.        , 0.92794   , 1.        , 0.92794   , 0.86107264,\n",
              "       1.        , 1.        , 0.92794   , 1.        , 0.92794   ,\n",
              "       0.86107264, 1.        , 0.92794   , 0.86107264, 0.79902375])"
            ]
          },
          "metadata": {},
          "execution_count": 6
        }
      ]
    },
    {
      "cell_type": "code",
      "source": [
        "X_train, X_test, y_train, y_test = train_test_split(X, y, random_state=42, stratify=y)"
      ],
      "metadata": {
        "id": "jP06je2sl2qV"
      },
      "execution_count": 7,
      "outputs": []
    },
    {
      "cell_type": "code",
      "source": [
        "regr = MLPRegressor(hidden_layer_sizes=(3, 10, 10, ),\n",
        "                    activation='tanh',\n",
        "                    solver='adam',\n",
        "                    learning_rate='adaptive',\n",
        "                    ).fit(X_train, y_train)"
      ],
      "metadata": {
        "id": "oGMw8VLqrLaP"
      },
      "execution_count": 8,
      "outputs": []
    },
    {
      "cell_type": "code",
      "source": [
        "regr.predict(X_test[:2])"
      ],
      "metadata": {
        "colab": {
          "base_uri": "https://localhost:8080/"
        },
        "id": "RktzASh3rNgH",
        "outputId": "d8686dd0-d872-4226-c768-d7e4c6c22980"
      },
      "execution_count": 9,
      "outputs": [
        {
          "output_type": "execute_result",
          "data": {
            "text/plain": [
              "array([0.02671703, 0.00960085])"
            ]
          },
          "metadata": {},
          "execution_count": 9
        }
      ]
    },
    {
      "cell_type": "code",
      "source": [
        "regr.score(X_test, y_test)"
      ],
      "metadata": {
        "colab": {
          "base_uri": "https://localhost:8080/"
        },
        "id": "l5_5fEuRrP0v",
        "outputId": "3f01ab62-0c73-47f6-f258-0cd55259ae05"
      },
      "execution_count": 10,
      "outputs": [
        {
          "output_type": "execute_result",
          "data": {
            "text/plain": [
              "0.27232259447445073"
            ]
          },
          "metadata": {},
          "execution_count": 10
        }
      ]
    },
    {
      "cell_type": "code",
      "source": [
        "def prepare_model_input(candidate):\n",
        "  try:\n",
        "    if len(candidate)==6:\n",
        "      return [candidate[2], candidate[3], float(candidate[4])]\n",
        "    else:\n",
        "      return [candidate[2], candidate[3], 1.0]\n",
        "  except:\n",
        "    return [0, 0, 0]\n",
        "def create_polynomials(candidate):\n",
        "  return poly.transform(candidate)\n",
        "def sort_by_mlp_score(candidates):\n",
        "  try:\n",
        "    # for item in eval(candidates):\n",
        "    #   print(item)\n",
        "    #   print(prepare_model_input(item))\n",
        "    #   print(create_polynomials([prepare_model_input(item)]))\n",
        "    #   print(regr.predict(create_polynomials([prepare_model_input(item)])))\n",
        "    #   print('')\n",
        "    scored_candidates = sorted(eval(candidates), \n",
        "                              key = lambda item: regr.predict(create_polynomials([prepare_model_input(item)])),\n",
        "                              reverse=True)\n",
        "    return scored_candidates\n",
        "  except:\n",
        "    return []"
      ],
      "metadata": {
        "id": "gRUUH1Gs4K1N"
      },
      "execution_count": 11,
      "outputs": []
    },
    {
      "cell_type": "code",
      "source": [
        "df.answers = df.answers.apply(sort_by_mlp_score)"
      ],
      "metadata": {
        "id": "isPaKejq5sKO"
      },
      "execution_count": 12,
      "outputs": []
    },
    {
      "cell_type": "code",
      "source": [
        "data = df\n",
        "top1 = 0\n",
        "top3 = 0\n",
        "top5 = 0\n",
        "top10 = 0\n",
        "top20 = 0\n",
        "top50 = 0\n",
        "top100 = 0\n",
        "for idx1, row in data.iterrows():\n",
        "  for idx2, candidate in enumerate(row['answers']):\n",
        "    if len(candidate)==6:\n",
        "      if (candidate[0]==row['Answer']) and candidate[-1]==row['Reverb_no']:\n",
        "        if idx2 in range(1):\n",
        "            # print(candidate, row['Reverb_no'])\n",
        "            top1 += 1\n",
        "        if idx2 in range(3):\n",
        "            top3 += 1\n",
        "        if idx2 in range(5):\n",
        "            top5 += 1\n",
        "        if idx2 in range(10):\n",
        "            top10 += 1\n",
        "        if idx2 in range(20):\n",
        "            top20 += 1\n",
        "        if idx2 in range(50):\n",
        "            top50 += 1\n",
        "        if idx2 in range(100):\n",
        "            top100 += 1\n",
        "            break \n",
        "    else:\n",
        "      if (candidate[0]==row['Answer']) and (candidate[1]==row['Relation']):\n",
        "        if idx2 in range(1):\n",
        "            # print(candidate, row['Answer'], row['Relation'])\n",
        "            top1 += 1\n",
        "        if idx2 in range(3):\n",
        "            top3 += 1\n",
        "        if idx2 in range(5):\n",
        "            top5 += 1\n",
        "        if idx2 in range(10):\n",
        "            top10 += 1\n",
        "        if idx2 in range(20):\n",
        "            top20 += 1\n",
        "        if idx2 in range(50):\n",
        "            top50 += 1\n",
        "        if idx2 in range(100):\n",
        "            top100 += 1\n",
        "            break \n",
        "   \n",
        "\n",
        "# print(data_type)\n",
        "total = len(data)\n",
        "print(\"Top1 Answers: {}\".format(top1 / total))\n",
        "print(\"Top3 Answers: {}\".format(top3 / total))\n",
        "print(\"Top5 Answers: {}\".format(top5 / total))\n",
        "print(\"Top10 Answers: {}\".format(top10 / total))\n",
        "print(\"Top20 Answers: {}\".format(top20 / total))\n",
        "print(\"Top50 Answers: {}\".format(top50 / total))\n",
        "print(\"Top100 Answers: {}\".format(top100 / total))"
      ],
      "metadata": {
        "id": "M0PLhL4w6yOJ",
        "outputId": "e8c12fc9-45f5-4d2a-9ce0-af6277cc1d01",
        "colab": {
          "base_uri": "https://localhost:8080/"
        }
      },
      "execution_count": 13,
      "outputs": [
        {
          "output_type": "stream",
          "name": "stdout",
          "text": [
            "Top1 Answers: 0.7196150174992045\n",
            "Top3 Answers: 0.7993954820235444\n",
            "Top5 Answers: 0.8162583518930958\n",
            "Top10 Answers: 0.8332803054406618\n",
            "Top20 Answers: 0.8405981546293351\n",
            "Top50 Answers: 0.8474387527839644\n",
            "Top100 Answers: 0.8495068405981546\n"
          ]
        }
      ]
    },
    {
      "cell_type": "code",
      "source": [
        "import pickle\n",
        "with open('classifier.pkl', 'wb') as fid:\n",
        "    pickle.dump(regr, fid)    "
      ],
      "metadata": {
        "id": "M8yE6Jylty5Z"
      },
      "execution_count": null,
      "outputs": []
    },
    {
      "cell_type": "code",
      "source": [
        ""
      ],
      "metadata": {
        "id": "AdsKdm5F1Ma7"
      },
      "execution_count": null,
      "outputs": []
    }
  ]
}