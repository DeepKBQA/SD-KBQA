{
  "nbformat": 4,
  "nbformat_minor": 0,
  "metadata": {
    "colab": {
      "name": "MLP.ipynb",
      "provenance": [],
      "authorship_tag": "ABX9TyPd8GpsymMztaOfJQnyM4X0",
      "include_colab_link": true
    },
    "kernelspec": {
      "name": "python3",
      "display_name": "Python 3"
    },
    "language_info": {
      "name": "python"
    }
  },
  "cells": [
    {
      "cell_type": "markdown",
      "metadata": {
        "id": "view-in-github",
        "colab_type": "text"
      },
      "source": [
        "<a href=\"https://colab.research.google.com/github/meti-94/OpenQA/blob/main/MLP.ipynb\" target=\"_parent\"><img src=\"https://colab.research.google.com/assets/colab-badge.svg\" alt=\"Open In Colab\"/></a>"
      ]
    },
    {
      "cell_type": "code",
      "execution_count": 1,
      "metadata": {
        "colab": {
          "base_uri": "https://localhost:8080/"
        },
        "id": "-MvdlwWNaziF",
        "outputId": "7ff2867d-4020-45e9-ea0a-3352945dc30f"
      },
      "outputs": [
        {
          "output_type": "stream",
          "name": "stdout",
          "text": [
            "Cloning into 'OpenQA'...\n",
            "remote: Enumerating objects: 209, done.\u001b[K\n",
            "remote: Counting objects: 100% (209/209), done.\u001b[K\n",
            "remote: Compressing objects: 100% (174/174), done.\u001b[K\n",
            "remote: Total 209 (delta 81), reused 129 (delta 28), pack-reused 0\u001b[K\n",
            "Receiving objects: 100% (209/209), 102.55 MiB | 35.12 MiB/s, done.\n",
            "Resolving deltas: 100% (81/81), done.\n"
          ]
        }
      ],
      "source": [
        "!git clone https://github.com/meti-94/OpenQA.git"
      ]
    },
    {
      "cell_type": "code",
      "source": [
        "import pandas as pd\n",
        "import sys\n",
        "from sklearn.neural_network import MLPRegressor\n",
        "from sklearn.neural_network import MLPRegressor\n",
        "from sklearn.datasets import make_regression\n",
        "from sklearn.model_selection import train_test_split"
      ],
      "metadata": {
        "id": "wvQt71yqbAu_"
      },
      "execution_count": 1,
      "outputs": []
    },
    {
      "cell_type": "code",
      "source": [
        "df = pd.read_excel('/content/OpenQA/validation.xlsx')"
      ],
      "metadata": {
        "id": "qO5O6fXQb0s8"
      },
      "execution_count": 2,
      "outputs": []
    },
    {
      "cell_type": "code",
      "source": [
        "df.loc[1, 'answers']"
      ],
      "metadata": {
        "colab": {
          "base_uri": "https://localhost:8080/",
          "height": 36
        },
        "id": "otFzl-9BsE_a",
        "outputId": "0bfcca5d-57e4-41ea-f878-e17e264969a6"
      },
      "execution_count": 3,
      "outputs": [
        {
          "output_type": "execute_result",
          "data": {
            "application/vnd.google.colaboratory.intrinsic+json": {
              "type": "string"
            },
            "text/plain": [
              "\"[('20e3dd8b-0f8e-4379-8552-58aef7ca3857', 'again chose', 1.0, 1.0, '0.90925', 114750)]\""
            ]
          },
          "metadata": {},
          "execution_count": 3
        }
      ]
    },
    {
      "cell_type": "code",
      "source": [
        "X, y = [], []\n",
        "for idx1, row in df.iterrows():\n",
        "  try:\n",
        "    temporary = eval(row['answers'])\n",
        "  \n",
        "    for idx2, candidate in enumerate(temporary):\n",
        "      if len(candidate)==6:\n",
        "        if (candidate[0]==row['Answer']) and candidate[-1]==row['Reverb_no']:\n",
        "          X.append((candidate[2], candidate[3], float(candidate[4])))\n",
        "          y.append(1)\n",
        "        else:\n",
        "          X.append((candidate[2], candidate[3], float(candidate[4])))\n",
        "          y.append(0)\n",
        "      else:\n",
        "        if (candidate[0]==row['Answer']) and (candidate[1]==row['Relation']):\n",
        "          X.append((candidate[2], candidate[3], 1.0))\n",
        "          y.append(1)\n",
        "        else:\n",
        "          X.append((candidate[2], candidate[3], 1.0))\n",
        "          y.append(0)\n",
        "  except:\n",
        "    continue\n"
      ],
      "metadata": {
        "id": "hLoZPuYAeCs3"
      },
      "execution_count": 3,
      "outputs": []
    },
    {
      "cell_type": "code",
      "source": [
        "len(X), len(y), sum(y), X[:4]"
      ],
      "metadata": {
        "colab": {
          "base_uri": "https://localhost:8080/"
        },
        "id": "ldNemFmvs3jL",
        "outputId": "f4349375-8047-4100-9a6c-592eaf3405d3"
      },
      "execution_count": 4,
      "outputs": [
        {
          "output_type": "execute_result",
          "data": {
            "text/plain": [
              "(223245,\n",
              " 223245,\n",
              " 16306,\n",
              " [(1.0, 1.0000000000000002, 0.92794),\n",
              "  (1.0, 1.0, 0.90925),\n",
              "  (1.0, 1.0, 0.9384100000000001),\n",
              "  (1.0, 0.9467529114555084, 0.9338200000000001)])"
            ]
          },
          "metadata": {},
          "execution_count": 4
        }
      ]
    },
    {
      "cell_type": "code",
      "source": [
        "X_train, X_test, y_train, y_test = train_test_split(X, y, random_state=42, stratify=y)"
      ],
      "metadata": {
        "id": "jP06je2sl2qV"
      },
      "execution_count": 5,
      "outputs": []
    },
    {
      "cell_type": "code",
      "source": [
        "regr = MLPRegressor(hidden_layer_sizes=(3, 10, 10, ),\n",
        "                    activation='tanh',\n",
        "                    solver='adam',\n",
        "                    learning_rate='adaptive',\n",
        "                    ).fit(X_train, y_train)"
      ],
      "metadata": {
        "id": "oGMw8VLqrLaP"
      },
      "execution_count": 6,
      "outputs": []
    },
    {
      "cell_type": "code",
      "source": [
        "regr.predict(X_test[:2])"
      ],
      "metadata": {
        "colab": {
          "base_uri": "https://localhost:8080/"
        },
        "id": "RktzASh3rNgH",
        "outputId": "d739bbf5-8bfc-421c-fb23-154d2efc4e71"
      },
      "execution_count": 7,
      "outputs": [
        {
          "output_type": "execute_result",
          "data": {
            "text/plain": [
              "array([ 0.01141934, -0.0119595 ])"
            ]
          },
          "metadata": {},
          "execution_count": 7
        }
      ]
    },
    {
      "cell_type": "code",
      "source": [
        "regr.score(X_test, y_test)"
      ],
      "metadata": {
        "colab": {
          "base_uri": "https://localhost:8080/"
        },
        "id": "l5_5fEuRrP0v",
        "outputId": "50f0e16f-2663-4d7d-c7a8-64ba8cf9cd86"
      },
      "execution_count": 9,
      "outputs": [
        {
          "output_type": "execute_result",
          "data": {
            "text/plain": [
              "0.26210440491094733"
            ]
          },
          "metadata": {},
          "execution_count": 9
        }
      ]
    },
    {
      "cell_type": "code",
      "source": [
        "import pickle\n",
        "with open('classifier.pkl', 'wb') as fid:\n",
        "    pickle.dump(regr, fid)    "
      ],
      "metadata": {
        "id": "M8yE6Jylty5Z"
      },
      "execution_count": 10,
      "outputs": []
    },
    {
      "cell_type": "code",
      "source": [
        ""
      ],
      "metadata": {
        "id": "AdsKdm5F1Ma7"
      },
      "execution_count": null,
      "outputs": []
    }
  ]
}