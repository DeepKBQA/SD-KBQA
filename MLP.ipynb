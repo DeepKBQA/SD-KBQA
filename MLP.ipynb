{
  "nbformat": 4,
  "nbformat_minor": 0,
  "metadata": {
    "colab": {
      "name": "MLP.ipynb",
      "provenance": [],
      "authorship_tag": "ABX9TyN3Q0WNxgfF9AdYGh3QiWFV",
      "include_colab_link": true
    },
    "kernelspec": {
      "name": "python3",
      "display_name": "Python 3"
    },
    "language_info": {
      "name": "python"
    }
  },
  "cells": [
    {
      "cell_type": "markdown",
      "metadata": {
        "id": "view-in-github",
        "colab_type": "text"
      },
      "source": [
        "<a href=\"https://colab.research.google.com/github/meti-94/OpenQA/blob/main/MLP.ipynb\" target=\"_parent\"><img src=\"https://colab.research.google.com/assets/colab-badge.svg\" alt=\"Open In Colab\"/></a>"
      ]
    },
    {
      "cell_type": "code",
      "execution_count": 2,
      "metadata": {
        "colab": {
          "base_uri": "https://localhost:8080/"
        },
        "id": "-MvdlwWNaziF",
        "outputId": "dd5d346b-623a-4c18-d6e6-b2b230db5229"
      },
      "outputs": [
        {
          "output_type": "stream",
          "name": "stdout",
          "text": [
            "Cloning into 'OpenQA'...\n",
            "remote: Enumerating objects: 215, done.\u001b[K\n",
            "remote: Counting objects: 100% (215/215), done.\u001b[K\n",
            "remote: Compressing objects: 100% (180/180), done.\u001b[K\n",
            "remote: Total 215 (delta 85), reused 128 (delta 28), pack-reused 0\u001b[K\n",
            "Receiving objects: 100% (215/215), 102.55 MiB | 31.09 MiB/s, done.\n",
            "Resolving deltas: 100% (85/85), done.\n"
          ]
        }
      ],
      "source": [
        "!git clone https://github.com/meti-94/OpenQA.git"
      ]
    },
    {
      "cell_type": "code",
      "source": [
        "import pandas as pd\n",
        "import sys\n",
        "from sklearn.neural_network import MLPRegressor\n",
        "from sklearn.neural_network import MLPRegressor\n",
        "from sklearn.datasets import make_regression\n",
        "from sklearn.model_selection import train_test_split"
      ],
      "metadata": {
        "id": "wvQt71yqbAu_"
      },
      "execution_count": 3,
      "outputs": []
    },
    {
      "cell_type": "code",
      "source": [
        "df = pd.read_excel('/content/OpenQA/validation.xlsx')"
      ],
      "metadata": {
        "id": "qO5O6fXQb0s8"
      },
      "execution_count": 4,
      "outputs": []
    },
    {
      "cell_type": "code",
      "source": [
        "df.loc[1, 'answers']"
      ],
      "metadata": {
        "colab": {
          "base_uri": "https://localhost:8080/",
          "height": 36
        },
        "id": "otFzl-9BsE_a",
        "outputId": "8444c62c-eae4-40bb-c4bc-aa2fe2fffa1e"
      },
      "execution_count": 5,
      "outputs": [
        {
          "output_type": "execute_result",
          "data": {
            "application/vnd.google.colaboratory.intrinsic+json": {
              "type": "string"
            },
            "text/plain": [
              "\"[('20e3dd8b-0f8e-4379-8552-58aef7ca3857', 'again chose', 1.0, 1.0, '0.90925', 114750)]\""
            ]
          },
          "metadata": {},
          "execution_count": 5
        }
      ]
    },
    {
      "cell_type": "code",
      "source": [
        "X, y = [], []\n",
        "for idx1, row in df.iterrows():\n",
        "  try:\n",
        "    temporary = eval(row['answers'])\n",
        "  \n",
        "    for idx2, candidate in enumerate(temporary):\n",
        "      if len(candidate)==6:\n",
        "        if (candidate[0]==row['Answer']) and candidate[-1]==row['Reverb_no']:\n",
        "          X.append((candidate[2], candidate[3], float(candidate[4])))\n",
        "          y.append(1)\n",
        "        else:\n",
        "          X.append((candidate[2], candidate[3], float(candidate[4])))\n",
        "          y.append(0)\n",
        "      else:\n",
        "        if (candidate[0]==row['Answer']) and (candidate[1]==row['Relation']):\n",
        "          X.append((candidate[2], candidate[3], 1.0))\n",
        "          y.append(1)\n",
        "        else:\n",
        "          X.append((candidate[2], candidate[3], 1.0))\n",
        "          y.append(0)\n",
        "  except:\n",
        "    continue\n"
      ],
      "metadata": {
        "id": "hLoZPuYAeCs3"
      },
      "execution_count": 6,
      "outputs": []
    },
    {
      "cell_type": "code",
      "source": [
        "len(X), len(y), sum(y), X[:4]"
      ],
      "metadata": {
        "colab": {
          "base_uri": "https://localhost:8080/"
        },
        "id": "ldNemFmvs3jL",
        "outputId": "8c12421e-413f-4292-d888-a682c3541329"
      },
      "execution_count": 7,
      "outputs": [
        {
          "output_type": "execute_result",
          "data": {
            "text/plain": [
              "(223245,\n",
              " 223245,\n",
              " 16306,\n",
              " [(1.0, 1.0000000000000002, 0.92794),\n",
              "  (1.0, 1.0, 0.90925),\n",
              "  (1.0, 1.0, 0.9384100000000001),\n",
              "  (1.0, 0.9467529114555084, 0.9338200000000001)])"
            ]
          },
          "metadata": {},
          "execution_count": 7
        }
      ]
    },
    {
      "cell_type": "code",
      "source": [
        "X_train, X_test, y_train, y_test = train_test_split(X, y, random_state=42, stratify=y)"
      ],
      "metadata": {
        "id": "jP06je2sl2qV"
      },
      "execution_count": 8,
      "outputs": []
    },
    {
      "cell_type": "code",
      "source": [
        "regr = MLPRegressor(hidden_layer_sizes=(3, 10, 10, ),\n",
        "                    activation='tanh',\n",
        "                    solver='adam',\n",
        "                    learning_rate='adaptive',\n",
        "                    ).fit(X_train, y_train)"
      ],
      "metadata": {
        "id": "oGMw8VLqrLaP"
      },
      "execution_count": 9,
      "outputs": []
    },
    {
      "cell_type": "code",
      "source": [
        "regr.predict(X_test[:2])"
      ],
      "metadata": {
        "colab": {
          "base_uri": "https://localhost:8080/"
        },
        "id": "RktzASh3rNgH",
        "outputId": "5d3cce9b-133b-43e5-c42c-c586d0904d17"
      },
      "execution_count": 10,
      "outputs": [
        {
          "output_type": "execute_result",
          "data": {
            "text/plain": [
              "array([-0.00215009, -0.02727856])"
            ]
          },
          "metadata": {},
          "execution_count": 10
        }
      ]
    },
    {
      "cell_type": "code",
      "source": [
        "regr.score(X_test, y_test)"
      ],
      "metadata": {
        "colab": {
          "base_uri": "https://localhost:8080/"
        },
        "id": "l5_5fEuRrP0v",
        "outputId": "23277b79-b776-4355-dd7d-fdfdaaa953a3"
      },
      "execution_count": 11,
      "outputs": [
        {
          "output_type": "execute_result",
          "data": {
            "text/plain": [
              "0.25874595977517756"
            ]
          },
          "metadata": {},
          "execution_count": 11
        }
      ]
    },
    {
      "cell_type": "code",
      "source": [
        "def prepare_model_input(candidate):\n",
        "  try:\n",
        "    if len(candidate)==6:\n",
        "      return [candidate[2], candidate[3], float(candidate[4])]\n",
        "    else:\n",
        "      return [candidate[2], candidate[3], 1.0]\n",
        "  except:\n",
        "    return [0, 0, 0]\n",
        "def sort_by_mlp_score(candidates):\n",
        "  try:\n",
        "    scored_candidates = sorted(eval(candidates), \n",
        "                              key = lambda item: regr.predict([prepare_model_input(item)]),\n",
        "                              reverse=True)\n",
        "    return scored_candidates\n",
        "  except:\n",
        "    return []"
      ],
      "metadata": {
        "id": "gRUUH1Gs4K1N"
      },
      "execution_count": 22,
      "outputs": []
    },
    {
      "cell_type": "code",
      "source": [
        "df.answers = df.answers.apply(sort_by_mlp_score)"
      ],
      "metadata": {
        "id": "isPaKejq5sKO"
      },
      "execution_count": 24,
      "outputs": []
    },
    {
      "cell_type": "code",
      "source": [
        "data = df\n",
        "top1 = 0\n",
        "top3 = 0\n",
        "top5 = 0\n",
        "top10 = 0\n",
        "top20 = 0\n",
        "top50 = 0\n",
        "top100 = 0\n",
        "for idx1, row in data.iterrows():\n",
        "  for idx2, candidate in enumerate(row['answers']):\n",
        "    if len(candidate)==6:\n",
        "      if (candidate[0]==row['Answer']) and candidate[-1]==row['Reverb_no']:\n",
        "        if idx2 in range(1):\n",
        "            # print(candidate, row['Reverb_no'])\n",
        "            top1 += 1\n",
        "        if idx2 in range(3):\n",
        "            top3 += 1\n",
        "        if idx2 in range(5):\n",
        "            top5 += 1\n",
        "        if idx2 in range(10):\n",
        "            top10 += 1\n",
        "        if idx2 in range(20):\n",
        "            top20 += 1\n",
        "        if idx2 in range(50):\n",
        "            top50 += 1\n",
        "        if idx2 in range(100):\n",
        "            top100 += 1\n",
        "            break \n",
        "    else:\n",
        "      if (candidate[0]==row['Answer']) and (candidate[1]==row['Relation']):\n",
        "        if idx2 in range(1):\n",
        "            # print(candidate, row['Answer'], row['Relation'])\n",
        "            top1 += 1\n",
        "        if idx2 in range(3):\n",
        "            top3 += 1\n",
        "        if idx2 in range(5):\n",
        "            top5 += 1\n",
        "        if idx2 in range(10):\n",
        "            top10 += 1\n",
        "        if idx2 in range(20):\n",
        "            top20 += 1\n",
        "        if idx2 in range(50):\n",
        "            top50 += 1\n",
        "        if idx2 in range(100):\n",
        "            top100 += 1\n",
        "            break \n",
        "   \n",
        "\n",
        "# print(data_type)\n",
        "total = len(data)\n",
        "print(\"Top1 Answers: {}\".format(top1 / total))\n",
        "print(\"Top3 Answers: {}\".format(top3 / total))\n",
        "print(\"Top5 Answers: {}\".format(top5 / total))\n",
        "print(\"Top10 Answers: {}\".format(top10 / total))\n",
        "print(\"Top20 Answers: {}\".format(top20 / total))\n",
        "print(\"Top50 Answers: {}\".format(top50 / total))\n",
        "print(\"Top100 Answers: {}\".format(top100 / total))"
      ],
      "metadata": {
        "id": "M0PLhL4w6yOJ",
        "outputId": "9a842e03-7046-47df-d879-92fb070bb0aa",
        "colab": {
          "base_uri": "https://localhost:8080/"
        }
      },
      "execution_count": 26,
      "outputs": [
        {
          "output_type": "stream",
          "name": "stdout",
          "text": [
            "Top1 Answers: 0.7181832643970728\n",
            "Top3 Answers: 0.796293350302259\n",
            "Top5 Answers: 0.8141902640789055\n",
            "Top10 Answers: 0.8312917594654788\n",
            "Top20 Answers: 0.8389277760101813\n",
            "Top50 Answers: 0.8470410435889277\n",
            "Top100 Answers: 0.8495068405981546\n"
          ]
        }
      ]
    },
    {
      "cell_type": "code",
      "source": [
        "import pickle\n",
        "with open('classifier.pkl', 'wb') as fid:\n",
        "    pickle.dump(regr, fid)    "
      ],
      "metadata": {
        "id": "M8yE6Jylty5Z"
      },
      "execution_count": null,
      "outputs": []
    },
    {
      "cell_type": "code",
      "source": [
        ""
      ],
      "metadata": {
        "id": "AdsKdm5F1Ma7"
      },
      "execution_count": null,
      "outputs": []
    }
  ]
}