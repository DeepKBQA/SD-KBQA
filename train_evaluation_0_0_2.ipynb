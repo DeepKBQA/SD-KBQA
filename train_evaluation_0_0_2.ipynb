{
  "nbformat": 4,
  "nbformat_minor": 0,
  "metadata": {
    "colab": {
      "name": "train_evaluation_0.0.0.ipynb",
      "provenance": [],
      "include_colab_link": true
    },
    "kernelspec": {
      "name": "python3",
      "display_name": "Python 3"
    },
    "language_info": {
      "name": "python"
    },
    "accelerator": "GPU"
  },
  "cells": [
    {
      "cell_type": "markdown",
      "metadata": {
        "id": "view-in-github",
        "colab_type": "text"
      },
      "source": [
        "<a href=\"https://colab.research.google.com/github/meti-94/OpenQA/blob/main/train_evaluation_0_0_2.ipynb\" target=\"_parent\"><img src=\"https://colab.research.google.com/assets/colab-badge.svg\" alt=\"Open In Colab\"/></a>"
      ]
    },
    {
      "cell_type": "code",
      "metadata": {
        "colab": {
          "base_uri": "https://localhost:8080/"
        },
        "id": "fv8v0K4OEe3x",
        "outputId": "d956c501-7cc7-4d9e-c7ea-b84732325e49"
      },
      "source": [
        "!pip install transformers -q"
      ],
      "execution_count": 4,
      "outputs": [
        {
          "output_type": "stream",
          "name": "stdout",
          "text": [
            "\u001b[K     |████████████████████████████████| 3.1 MB 4.3 MB/s \n",
            "\u001b[K     |████████████████████████████████| 3.3 MB 35.0 MB/s \n",
            "\u001b[K     |████████████████████████████████| 596 kB 45.0 MB/s \n",
            "\u001b[K     |████████████████████████████████| 59 kB 6.7 MB/s \n",
            "\u001b[K     |████████████████████████████████| 895 kB 53.8 MB/s \n",
            "\u001b[?25h"
          ]
        }
      ]
    },
    {
      "cell_type": "code",
      "metadata": {
        "id": "aDoURGVCg_tf",
        "outputId": "6493b62c-5475-4d65-e7a7-a2b4ac536b92",
        "colab": {
          "base_uri": "https://localhost:8080/"
        }
      },
      "source": [
        "from google.colab import drive\n",
        "drive.mount('/content/drive')"
      ],
      "execution_count": 1,
      "outputs": [
        {
          "output_type": "stream",
          "name": "stdout",
          "text": [
            "Mounted at /content/drive\n"
          ]
        }
      ]
    },
    {
      "cell_type": "code",
      "metadata": {
        "colab": {
          "base_uri": "https://localhost:8080/"
        },
        "id": "gHLKOYbhEAQa",
        "outputId": "de26d3fb-cce2-4697-9fc9-47b49e6212f6"
      },
      "source": [
        "!git clone https://github.com/meti-94/OpenQA.git\n",
        "%cd OpenQA/src/"
      ],
      "execution_count": 2,
      "outputs": [
        {
          "output_type": "stream",
          "name": "stdout",
          "text": [
            "Cloning into 'OpenQA'...\n",
            "remote: Enumerating objects: 82, done.\u001b[K\n",
            "remote: Counting objects: 100% (82/82), done.\u001b[K\n",
            "remote: Compressing objects: 100% (60/60), done.\u001b[K\n",
            "remote: Total 82 (delta 19), reused 73 (delta 15), pack-reused 0\u001b[K\n",
            "Unpacking objects: 100% (82/82), done.\n",
            "/content/OpenQA/src\n"
          ]
        }
      ]
    },
    {
      "cell_type": "code",
      "metadata": {
        "colab": {
          "base_uri": "https://localhost:8080/"
        },
        "id": "dfTsmyLYEkTx",
        "outputId": "9370e7f1-54ed-4d02-9249-28f0437bbf42"
      },
      "source": [
        "!python train.py"
      ],
      "execution_count": 5,
      "outputs": [
        {
          "output_type": "stream",
          "name": "stdout",
          "text": [
            "DEBUG:urllib3.connectionpool:Starting new HTTPS connection (1): huggingface.co:443\n",
            "DEBUG:urllib3.connectionpool:https://huggingface.co:443 \"HEAD /bert-base-uncased/resolve/main/config.json HTTP/1.1\" 200 0\n",
            "DEBUG:filelock:Attempting to acquire lock 140028878850192 on /root/.cache/huggingface/transformers/3c61d016573b14f7f008c02c4e51a366c67ab274726fe2910691e2a761acf43e.37395cee442ab11005bcd270f3c34464dc1704b715b5d7d52b1a461abe3b9e4e.lock\n",
            "DEBUG:filelock:Lock 140028878850192 acquired on /root/.cache/huggingface/transformers/3c61d016573b14f7f008c02c4e51a366c67ab274726fe2910691e2a761acf43e.37395cee442ab11005bcd270f3c34464dc1704b715b5d7d52b1a461abe3b9e4e.lock\n",
            "DEBUG:urllib3.connectionpool:Starting new HTTPS connection (1): huggingface.co:443\n",
            "DEBUG:urllib3.connectionpool:https://huggingface.co:443 \"GET /bert-base-uncased/resolve/main/config.json HTTP/1.1\" 200 570\n",
            "Downloading: 100% 570/570 [00:00<00:00, 521kB/s]\n",
            "DEBUG:filelock:Attempting to release lock 140028878850192 on /root/.cache/huggingface/transformers/3c61d016573b14f7f008c02c4e51a366c67ab274726fe2910691e2a761acf43e.37395cee442ab11005bcd270f3c34464dc1704b715b5d7d52b1a461abe3b9e4e.lock\n",
            "DEBUG:filelock:Lock 140028878850192 released on /root/.cache/huggingface/transformers/3c61d016573b14f7f008c02c4e51a366c67ab274726fe2910691e2a761acf43e.37395cee442ab11005bcd270f3c34464dc1704b715b5d7d52b1a461abe3b9e4e.lock\n",
            "DEBUG:urllib3.connectionpool:Starting new HTTPS connection (1): huggingface.co:443\n",
            "DEBUG:urllib3.connectionpool:https://huggingface.co:443 \"HEAD /bert-base-uncased/resolve/main/pytorch_model.bin HTTP/1.1\" 302 0\n",
            "DEBUG:filelock:Attempting to acquire lock 140028886942224 on /root/.cache/huggingface/transformers/a8041bf617d7f94ea26d15e218abd04afc2004805632abc0ed2066aa16d50d04.faf6ea826ae9c5867d12b22257f9877e6b8367890837bd60f7c54a29633f7f2f.lock\n",
            "DEBUG:filelock:Lock 140028886942224 acquired on /root/.cache/huggingface/transformers/a8041bf617d7f94ea26d15e218abd04afc2004805632abc0ed2066aa16d50d04.faf6ea826ae9c5867d12b22257f9877e6b8367890837bd60f7c54a29633f7f2f.lock\n",
            "DEBUG:urllib3.connectionpool:Starting new HTTPS connection (1): cdn-lfs.huggingface.co:443\n",
            "DEBUG:urllib3.connectionpool:https://cdn-lfs.huggingface.co:443 \"GET /bert-base-uncased/097417381d6c7230bd9e3557456d726de6e83245ec8b24f529f60198a67b203a HTTP/1.1\" 200 440473133\n",
            "Downloading: 100% 420M/420M [00:11<00:00, 37.2MB/s]\n",
            "DEBUG:filelock:Attempting to release lock 140028886942224 on /root/.cache/huggingface/transformers/a8041bf617d7f94ea26d15e218abd04afc2004805632abc0ed2066aa16d50d04.faf6ea826ae9c5867d12b22257f9877e6b8367890837bd60f7c54a29633f7f2f.lock\n",
            "DEBUG:filelock:Lock 140028886942224 released on /root/.cache/huggingface/transformers/a8041bf617d7f94ea26d15e218abd04afc2004805632abc0ed2066aa16d50d04.faf6ea826ae9c5867d12b22257f9877e6b8367890837bd60f7c54a29633f7f2f.lock\n",
            "Some weights of the model checkpoint at bert-base-uncased were not used when initializing BertModel: ['cls.predictions.bias', 'cls.predictions.transform.dense.weight', 'cls.predictions.transform.dense.bias', 'cls.seq_relationship.bias', 'cls.seq_relationship.weight', 'cls.predictions.decoder.weight', 'cls.predictions.transform.LayerNorm.weight', 'cls.predictions.transform.LayerNorm.bias']\n",
            "- This IS expected if you are initializing BertModel from the checkpoint of a model trained on another task or with another architecture (e.g. initializing a BertForSequenceClassification model from a BertForPreTraining model).\n",
            "- This IS NOT expected if you are initializing BertModel from the checkpoint of a model that you expect to be exactly identical (initializing a BertForSequenceClassification model from a BertForSequenceClassification model).\n",
            "DEBUG:urllib3.connectionpool:Starting new HTTPS connection (1): huggingface.co:443\n",
            "DEBUG:urllib3.connectionpool:https://huggingface.co:443 \"GET /api/models/bert-base-uncased HTTP/1.1\" 200 975\n",
            "DEBUG:urllib3.connectionpool:Starting new HTTPS connection (1): huggingface.co:443\n",
            "DEBUG:urllib3.connectionpool:https://huggingface.co:443 \"HEAD /bert-base-uncased/resolve/main/vocab.txt HTTP/1.1\" 200 0\n",
            "DEBUG:filelock:Attempting to acquire lock 140028862602000 on /root/.cache/huggingface/transformers/45c3f7a79a80e1cf0a489e5c62b43f173c15db47864303a55d623bb3c96f72a5.d789d64ebfe299b0e416afc4a169632f903f693095b4629a7ea271d5a0cf2c99.lock\n",
            "DEBUG:filelock:Lock 140028862602000 acquired on /root/.cache/huggingface/transformers/45c3f7a79a80e1cf0a489e5c62b43f173c15db47864303a55d623bb3c96f72a5.d789d64ebfe299b0e416afc4a169632f903f693095b4629a7ea271d5a0cf2c99.lock\n",
            "DEBUG:urllib3.connectionpool:Starting new HTTPS connection (1): huggingface.co:443\n",
            "DEBUG:urllib3.connectionpool:https://huggingface.co:443 \"GET /bert-base-uncased/resolve/main/vocab.txt HTTP/1.1\" 200 231508\n",
            "Downloading: 100% 226k/226k [00:00<00:00, 320kB/s]\n",
            "DEBUG:filelock:Attempting to release lock 140028862602000 on /root/.cache/huggingface/transformers/45c3f7a79a80e1cf0a489e5c62b43f173c15db47864303a55d623bb3c96f72a5.d789d64ebfe299b0e416afc4a169632f903f693095b4629a7ea271d5a0cf2c99.lock\n",
            "DEBUG:filelock:Lock 140028862602000 released on /root/.cache/huggingface/transformers/45c3f7a79a80e1cf0a489e5c62b43f173c15db47864303a55d623bb3c96f72a5.d789d64ebfe299b0e416afc4a169632f903f693095b4629a7ea271d5a0cf2c99.lock\n",
            "DEBUG:urllib3.connectionpool:Starting new HTTPS connection (1): huggingface.co:443\n",
            "DEBUG:urllib3.connectionpool:https://huggingface.co:443 \"HEAD /bert-base-uncased/resolve/main/added_tokens.json HTTP/1.1\" 404 0\n",
            "DEBUG:urllib3.connectionpool:Starting new HTTPS connection (1): huggingface.co:443\n",
            "DEBUG:urllib3.connectionpool:https://huggingface.co:443 \"HEAD /bert-base-uncased/resolve/main/special_tokens_map.json HTTP/1.1\" 404 0\n",
            "DEBUG:urllib3.connectionpool:Starting new HTTPS connection (1): huggingface.co:443\n",
            "DEBUG:urllib3.connectionpool:https://huggingface.co:443 \"HEAD /bert-base-uncased/resolve/main/tokenizer_config.json HTTP/1.1\" 200 0\n",
            "DEBUG:filelock:Attempting to acquire lock 140028862687504 on /root/.cache/huggingface/transformers/c1d7f0a763fb63861cc08553866f1fc3e5a6f4f07621be277452d26d71303b7e.20430bd8e10ef77a7d2977accefe796051e01bc2fc4aa146bc862997a1a15e79.lock\n",
            "DEBUG:filelock:Lock 140028862687504 acquired on /root/.cache/huggingface/transformers/c1d7f0a763fb63861cc08553866f1fc3e5a6f4f07621be277452d26d71303b7e.20430bd8e10ef77a7d2977accefe796051e01bc2fc4aa146bc862997a1a15e79.lock\n",
            "DEBUG:urllib3.connectionpool:Starting new HTTPS connection (1): huggingface.co:443\n",
            "DEBUG:urllib3.connectionpool:https://huggingface.co:443 \"GET /bert-base-uncased/resolve/main/tokenizer_config.json HTTP/1.1\" 200 28\n",
            "Downloading: 100% 28.0/28.0 [00:00<00:00, 19.0kB/s]\n",
            "DEBUG:filelock:Attempting to release lock 140028862687504 on /root/.cache/huggingface/transformers/c1d7f0a763fb63861cc08553866f1fc3e5a6f4f07621be277452d26d71303b7e.20430bd8e10ef77a7d2977accefe796051e01bc2fc4aa146bc862997a1a15e79.lock\n",
            "DEBUG:filelock:Lock 140028862687504 released on /root/.cache/huggingface/transformers/c1d7f0a763fb63861cc08553866f1fc3e5a6f4f07621be277452d26d71303b7e.20430bd8e10ef77a7d2977accefe796051e01bc2fc4aa146bc862997a1a15e79.lock\n",
            "DEBUG:urllib3.connectionpool:Starting new HTTPS connection (1): huggingface.co:443\n",
            "DEBUG:urllib3.connectionpool:https://huggingface.co:443 \"HEAD /bert-base-uncased/resolve/main/tokenizer.json HTTP/1.1\" 200 0\n",
            "DEBUG:filelock:Attempting to acquire lock 140028862601616 on /root/.cache/huggingface/transformers/534479488c54aeaf9c3406f647aa2ec13648c06771ffe269edabebd4c412da1d.7f2721073f19841be16f41b0a70b600ca6b880c8f3df6f3535cbc704371bdfa4.lock\n",
            "DEBUG:filelock:Lock 140028862601616 acquired on /root/.cache/huggingface/transformers/534479488c54aeaf9c3406f647aa2ec13648c06771ffe269edabebd4c412da1d.7f2721073f19841be16f41b0a70b600ca6b880c8f3df6f3535cbc704371bdfa4.lock\n",
            "DEBUG:urllib3.connectionpool:Starting new HTTPS connection (1): huggingface.co:443\n",
            "DEBUG:urllib3.connectionpool:https://huggingface.co:443 \"GET /bert-base-uncased/resolve/main/tokenizer.json HTTP/1.1\" 200 466062\n",
            "Downloading: 100% 455k/455k [00:00<00:00, 517kB/s]\n",
            "DEBUG:filelock:Attempting to release lock 140028862601616 on /root/.cache/huggingface/transformers/534479488c54aeaf9c3406f647aa2ec13648c06771ffe269edabebd4c412da1d.7f2721073f19841be16f41b0a70b600ca6b880c8f3df6f3535cbc704371bdfa4.lock\n",
            "DEBUG:filelock:Lock 140028862601616 released on /root/.cache/huggingface/transformers/534479488c54aeaf9c3406f647aa2ec13648c06771ffe269edabebd4c412da1d.7f2721073f19841be16f41b0a70b600ca6b880c8f3df6f3535cbc704371bdfa4.lock\n",
            "DEBUG:urllib3.connectionpool:Starting new HTTPS connection (1): huggingface.co:443\n",
            "DEBUG:urllib3.connectionpool:https://huggingface.co:443 \"HEAD /bert-base-uncased/resolve/main/config.json HTTP/1.1\" 200 0\n",
            "Train Epoch Number 1: 100% 429/429 [09:35<00:00,  1.34s/it]\n",
            "INFO:root:Epoch number: 1 Train Loss is equal: 166.25173950195312\n",
            "Eval Epoch Number 1: 100% 63/63 [00:29<00:00,  2.13it/s]\n",
            "INFO:root:Epoch number: 1 Eval Loss is equal: 48.59535598754883\n",
            "Train Epoch Number 2: 100% 429/429 [09:35<00:00,  1.34s/it]\n",
            "INFO:root:Epoch number: 2 Train Loss is equal: 44.77290725708008\n",
            "Eval Epoch Number 2: 100% 63/63 [00:29<00:00,  2.12it/s]\n",
            "INFO:root:Epoch number: 2 Eval Loss is equal: 45.89037322998047\n",
            "Train Epoch Number 3: 100% 429/429 [09:34<00:00,  1.34s/it]\n",
            "INFO:root:Epoch number: 3 Train Loss is equal: 35.583797454833984\n",
            "Eval Epoch Number 3: 100% 63/63 [00:29<00:00,  2.13it/s]\n",
            "INFO:root:Epoch number: 3 Eval Loss is equal: 44.286685943603516\n",
            "Train Epoch Number 4: 100% 429/429 [09:35<00:00,  1.34s/it]\n",
            "INFO:root:Epoch number: 4 Train Loss is equal: 30.166234970092773\n",
            "Eval Epoch Number 4: 100% 63/63 [00:29<00:00,  2.11it/s]\n",
            "INFO:root:Epoch number: 4 Eval Loss is equal: 43.966148376464844\n",
            "Train Epoch Number 5: 100% 429/429 [09:38<00:00,  1.35s/it]\n",
            "INFO:root:Epoch number: 5 Train Loss is equal: 28.062524795532227\n",
            "Eval Epoch Number 5: 100% 63/63 [00:29<00:00,  2.11it/s]\n",
            "INFO:root:Epoch number: 5 Eval Loss is equal: 47.35683059692383\n",
            "Train Epoch Number 6: 100% 429/429 [09:36<00:00,  1.34s/it]\n",
            "INFO:root:Epoch number: 6 Train Loss is equal: 26.17241668701172\n",
            "Eval Epoch Number 6: 100% 63/63 [00:29<00:00,  2.12it/s]\n",
            "INFO:root:Epoch number: 6 Eval Loss is equal: 46.357749938964844\n",
            "Predicting ...: 100% 267/267 [01:01<00:00,  4.36it/s]\n",
            "INFO:root:Dataset-wide F1, precision and recall:\n",
            "INFO:root:0.9727522657906386, 0.9691057854117101, 0.9764262912335271\n",
            "INFO:root:Averaged F1, precision and recall:\n",
            "INFO:root:nan, nan, 0.9652770331072112\n",
            "INFO:root:Span accuracy\n",
            "INFO:root:0.9491022462624896\n",
            "INFO:root:Dataset-wide F1, precision and recall:\n",
            "INFO:root:0.9857290727014995, 0.9878356648309075, 0.9836314462069423\n",
            "INFO:root:Averaged F1, precision and recall:\n",
            "INFO:root:0.9893108891029712, 0.9906328139207561, 0.9879924876016352\n",
            "INFO:root:Span accuracy\n",
            "INFO:root:0.9452332657200812\n",
            "Question                    Node               Edge\n",
            "--------------------------  -----------------  --------------------\n",
            "Where was Bill Gates Born?  ['bill', 'gates']  ['was', 'born', '?']\n"
          ]
        }
      ]
    },
    {
      "cell_type": "code",
      "metadata": {
        "id": "eKpscpNEwgUx"
      },
      "source": [
        "!cp /content/OpenQA/models/node_edge_bert.pt /content/drive/MyDrive/data_freebase/"
      ],
      "execution_count": 6,
      "outputs": []
    },
    {
      "cell_type": "code",
      "metadata": {
        "id": "ASrV49xwEwoy",
        "colab": {
          "base_uri": "https://localhost:8080/"
        },
        "outputId": "0f2d9ccc-4876-4025-e708-8e6c91aac54b"
      },
      "source": [
        "from train import *\n",
        "# from graph import *\n",
        "import pandas as pd\n",
        "from utils import get_hit\n",
        "'''\n",
        "\tA simple script to fill article table \n",
        "'''\n",
        "if __name__=='__main__':\n",
        "\tdevice = torch.device(\"cuda:0\" if torch.cuda.is_available() else \"cpu\")\n",
        "\tbert = BertModel.from_pretrained(\"bert-base-uncased\")\n",
        "\ttokenizer = BertTokenizer.from_pretrained(\"bert-base-uncased\")\n",
        "\tnode_edge_detector = NodeEdgeDetector(bert, tokenizer, dropout=torch.tensor(0.5))\n",
        "\toptimizer = AdamW\n",
        "\tkw = {'lr':0.0002, 'weight_decay':0.1}\n",
        "\ttl = TrainingLoop(node_edge_detector, optimizer, True, **kw)\n",
        "\tloss = mse_loss\n",
        "\ttl.load()\n",
        "\n",
        "\t# RKBG = ReverbKnowledgeBase()\n",
        "\twordstoberttokens_array, berttokenstoids_array, input_token_ids_array, nodes_borders_array, edges_spans_array, node_array, edge_array = [], [], [], [], [], [], []\n",
        "\tquestions_array = []\n",
        "\ttest_df = pd.read_excel('/content/drive/MyDrive/data_freebase/test.xlsx')\n",
        "\t# actual = test_df['Reverb_no'].to_list()\n",
        "\tsystem_results, candidates_array, actual_answer_array = [], [], []\n",
        "\tfor index, row in tqdm(test_df.iterrows(), total=test_df.shape[0]):\n",
        "\t\twordstoberttokens, berttokenstoids, input_token_ids, nodes_borders, edges_spans, node, edge = tl.readable_predict_article(\n",
        "                                                device, _input=row['Question'], print_result=False)\n",
        "\t\twordstoberttokens_array.append(wordstoberttokens)\n",
        "\t\tberttokenstoids_array.append(berttokenstoids)\n",
        "\t\tinput_token_ids_array.append(input_token_ids)\n",
        "\t\tnodes_borders_array.append(nodes_borders)\n",
        "\t\tedges_spans_array.append(edges_spans)\n",
        "    \n",
        "\t\tnode = ' '.join(node); edge = ' '.join(edge)\n",
        "\t\tnode = node.replace(' ##', ''); edge = edge.replace(' ##', '')\n",
        "\n",
        "\t\tnode_array.append(node)\n",
        "\t\tedge_array.append(edge)\n",
        "\t\tquestions_array.append(row['Question'].lower().split())\n",
        "\t\t# temp = RKBG.tfidf_query(node=node, edge=edge)\n",
        "\t\t# candidates_array.append(temp[:min(len(temp), 25)])\n",
        "\t\t# actual_answer_array.append(row['Reverb_no'])\n",
        "\toutput_data = {\n",
        "    'bert_tokenizer_output':wordstoberttokens_array,\n",
        "    'bert_token_ids':berttokenstoids_array,\n",
        "    'input_token_ids':input_token_ids_array,\n",
        "    'nodes_borders':nodes_borders_array,\n",
        "    'edges_spans':edges_spans_array,\n",
        "    'node':node_array,\n",
        "    'edges':edge_array,\n",
        "    'questions':questions_array,\n",
        "    # 'candidates':candidates_array, \n",
        "    # 'actual_answer':actual_answer_array\n",
        "  }\n",
        "\tpd.DataFrame(output_data).to_excel('/content/drive/MyDrive/data_freebase/article_step_by_step_output.xlsx')"
      ],
      "execution_count": 8,
      "outputs": [
        {
          "output_type": "stream",
          "name": "stderr",
          "text": [
            "DEBUG:urllib3.connectionpool:Starting new HTTPS connection (1): huggingface.co:443\n",
            "DEBUG:urllib3.connectionpool:https://huggingface.co:443 \"HEAD /bert-base-uncased/resolve/main/config.json HTTP/1.1\" 200 0\n",
            "DEBUG:urllib3.connectionpool:Starting new HTTPS connection (1): huggingface.co:443\n",
            "DEBUG:urllib3.connectionpool:https://huggingface.co:443 \"HEAD /bert-base-uncased/resolve/main/pytorch_model.bin HTTP/1.1\" 302 0\n",
            "Some weights of the model checkpoint at bert-base-uncased were not used when initializing BertModel: ['cls.predictions.transform.dense.bias', 'cls.seq_relationship.weight', 'cls.predictions.transform.dense.weight', 'cls.predictions.transform.LayerNorm.bias', 'cls.predictions.decoder.weight', 'cls.seq_relationship.bias', 'cls.predictions.bias', 'cls.predictions.transform.LayerNorm.weight']\n",
            "- This IS expected if you are initializing BertModel from the checkpoint of a model trained on another task or with another architecture (e.g. initializing a BertForSequenceClassification model from a BertForPreTraining model).\n",
            "- This IS NOT expected if you are initializing BertModel from the checkpoint of a model that you expect to be exactly identical (initializing a BertForSequenceClassification model from a BertForSequenceClassification model).\n",
            "DEBUG:urllib3.connectionpool:Starting new HTTPS connection (1): huggingface.co:443\n",
            "DEBUG:urllib3.connectionpool:https://huggingface.co:443 \"GET /api/models/bert-base-uncased HTTP/1.1\" 200 975\n",
            "DEBUG:urllib3.connectionpool:Starting new HTTPS connection (1): huggingface.co:443\n",
            "DEBUG:urllib3.connectionpool:https://huggingface.co:443 \"HEAD /bert-base-uncased/resolve/main/vocab.txt HTTP/1.1\" 200 0\n",
            "DEBUG:urllib3.connectionpool:Starting new HTTPS connection (1): huggingface.co:443\n",
            "DEBUG:urllib3.connectionpool:https://huggingface.co:443 \"HEAD /bert-base-uncased/resolve/main/added_tokens.json HTTP/1.1\" 404 0\n",
            "DEBUG:urllib3.connectionpool:Starting new HTTPS connection (1): huggingface.co:443\n",
            "DEBUG:urllib3.connectionpool:https://huggingface.co:443 \"HEAD /bert-base-uncased/resolve/main/special_tokens_map.json HTTP/1.1\" 404 0\n",
            "DEBUG:urllib3.connectionpool:Starting new HTTPS connection (1): huggingface.co:443\n",
            "DEBUG:urllib3.connectionpool:https://huggingface.co:443 \"HEAD /bert-base-uncased/resolve/main/tokenizer_config.json HTTP/1.1\" 200 0\n",
            "DEBUG:urllib3.connectionpool:Starting new HTTPS connection (1): huggingface.co:443\n",
            "DEBUG:urllib3.connectionpool:https://huggingface.co:443 \"HEAD /bert-base-uncased/resolve/main/tokenizer.json HTTP/1.1\" 200 0\n",
            "DEBUG:urllib3.connectionpool:Starting new HTTPS connection (1): huggingface.co:443\n",
            "DEBUG:urllib3.connectionpool:https://huggingface.co:443 \"HEAD /bert-base-uncased/resolve/main/config.json HTTP/1.1\" 200 0\n",
            "100%|██████████| 5003/5003 [01:15<00:00, 66.21it/s]\n"
          ]
        }
      ]
    },
    {
      "cell_type": "code",
      "metadata": {
        "id": "9esrFr3FFbqC"
      },
      "source": [
        ""
      ],
      "execution_count": null,
      "outputs": []
    }
  ]
}