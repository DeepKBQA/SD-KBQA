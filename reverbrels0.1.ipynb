{
  "nbformat": 4,
  "nbformat_minor": 0,
  "metadata": {
    "colab": {
      "name": "reverbrels.ipynb",
      "provenance": [],
      "include_colab_link": true
    },
    "kernelspec": {
      "name": "python3",
      "display_name": "Python 3"
    },
    "language_info": {
      "name": "python"
    },
    "accelerator": "GPU",
    "widgets": {
      "application/vnd.jupyter.widget-state+json": {
        "f5b738cc922d4cdc96f23e689bfae125": {
          "model_module": "@jupyter-widgets/controls",
          "model_name": "HBoxModel",
          "model_module_version": "1.5.0",
          "state": {
            "_view_name": "HBoxView",
            "_dom_classes": [],
            "_model_name": "HBoxModel",
            "_view_module": "@jupyter-widgets/controls",
            "_model_module_version": "1.5.0",
            "_view_count": null,
            "_view_module_version": "1.5.0",
            "box_style": "",
            "layout": "IPY_MODEL_c8412ce31f994821947a748c372afb3a",
            "_model_module": "@jupyter-widgets/controls",
            "children": [
              "IPY_MODEL_b6b15981e7724fee89b7b8887c09a8e1",
              "IPY_MODEL_ca42f83942af476890f48f07e53179b0",
              "IPY_MODEL_ca0fc7f583c24c8893b50dcf0a67aa51"
            ]
          }
        },
        "c8412ce31f994821947a748c372afb3a": {
          "model_module": "@jupyter-widgets/base",
          "model_name": "LayoutModel",
          "model_module_version": "1.2.0",
          "state": {
            "_view_name": "LayoutView",
            "grid_template_rows": null,
            "right": null,
            "justify_content": null,
            "_view_module": "@jupyter-widgets/base",
            "overflow": null,
            "_model_module_version": "1.2.0",
            "_view_count": null,
            "flex_flow": null,
            "width": null,
            "min_width": null,
            "border": null,
            "align_items": null,
            "bottom": null,
            "_model_module": "@jupyter-widgets/base",
            "top": null,
            "grid_column": null,
            "overflow_y": null,
            "overflow_x": null,
            "grid_auto_flow": null,
            "grid_area": null,
            "grid_template_columns": null,
            "flex": null,
            "_model_name": "LayoutModel",
            "justify_items": null,
            "grid_row": null,
            "max_height": null,
            "align_content": null,
            "visibility": null,
            "align_self": null,
            "height": null,
            "min_height": null,
            "padding": null,
            "grid_auto_rows": null,
            "grid_gap": null,
            "max_width": null,
            "order": null,
            "_view_module_version": "1.2.0",
            "grid_template_areas": null,
            "object_position": null,
            "object_fit": null,
            "grid_auto_columns": null,
            "margin": null,
            "display": null,
            "left": null
          }
        },
        "b6b15981e7724fee89b7b8887c09a8e1": {
          "model_module": "@jupyter-widgets/controls",
          "model_name": "HTMLModel",
          "model_module_version": "1.5.0",
          "state": {
            "_view_name": "HTMLView",
            "style": "IPY_MODEL_9c7a3ef846674646bd25d3f1d1c50a7d",
            "_dom_classes": [],
            "description": "",
            "_model_name": "HTMLModel",
            "placeholder": "​",
            "_view_module": "@jupyter-widgets/controls",
            "_model_module_version": "1.5.0",
            "value": "Downloading: 100%",
            "_view_count": null,
            "_view_module_version": "1.5.0",
            "description_tooltip": null,
            "_model_module": "@jupyter-widgets/controls",
            "layout": "IPY_MODEL_659c020c0af54f8cbc67be790d8e985e"
          }
        },
        "ca42f83942af476890f48f07e53179b0": {
          "model_module": "@jupyter-widgets/controls",
          "model_name": "FloatProgressModel",
          "model_module_version": "1.5.0",
          "state": {
            "_view_name": "ProgressView",
            "style": "IPY_MODEL_5f9e4178c03842169b39885a63aedfc9",
            "_dom_classes": [],
            "description": "",
            "_model_name": "FloatProgressModel",
            "bar_style": "success",
            "max": 28,
            "_view_module": "@jupyter-widgets/controls",
            "_model_module_version": "1.5.0",
            "value": 28,
            "_view_count": null,
            "_view_module_version": "1.5.0",
            "orientation": "horizontal",
            "min": 0,
            "description_tooltip": null,
            "_model_module": "@jupyter-widgets/controls",
            "layout": "IPY_MODEL_def792548cae421ea15a3016d4e48d51"
          }
        },
        "ca0fc7f583c24c8893b50dcf0a67aa51": {
          "model_module": "@jupyter-widgets/controls",
          "model_name": "HTMLModel",
          "model_module_version": "1.5.0",
          "state": {
            "_view_name": "HTMLView",
            "style": "IPY_MODEL_33fdea726c454b7b903644f8258a5f64",
            "_dom_classes": [],
            "description": "",
            "_model_name": "HTMLModel",
            "placeholder": "​",
            "_view_module": "@jupyter-widgets/controls",
            "_model_module_version": "1.5.0",
            "value": " 28.0/28.0 [00:00&lt;00:00, 670B/s]",
            "_view_count": null,
            "_view_module_version": "1.5.0",
            "description_tooltip": null,
            "_model_module": "@jupyter-widgets/controls",
            "layout": "IPY_MODEL_4e9dd13a0fbb4762a2ef7ccf01a8cc85"
          }
        },
        "9c7a3ef846674646bd25d3f1d1c50a7d": {
          "model_module": "@jupyter-widgets/controls",
          "model_name": "DescriptionStyleModel",
          "model_module_version": "1.5.0",
          "state": {
            "_view_name": "StyleView",
            "_model_name": "DescriptionStyleModel",
            "description_width": "",
            "_view_module": "@jupyter-widgets/base",
            "_model_module_version": "1.5.0",
            "_view_count": null,
            "_view_module_version": "1.2.0",
            "_model_module": "@jupyter-widgets/controls"
          }
        },
        "659c020c0af54f8cbc67be790d8e985e": {
          "model_module": "@jupyter-widgets/base",
          "model_name": "LayoutModel",
          "model_module_version": "1.2.0",
          "state": {
            "_view_name": "LayoutView",
            "grid_template_rows": null,
            "right": null,
            "justify_content": null,
            "_view_module": "@jupyter-widgets/base",
            "overflow": null,
            "_model_module_version": "1.2.0",
            "_view_count": null,
            "flex_flow": null,
            "width": null,
            "min_width": null,
            "border": null,
            "align_items": null,
            "bottom": null,
            "_model_module": "@jupyter-widgets/base",
            "top": null,
            "grid_column": null,
            "overflow_y": null,
            "overflow_x": null,
            "grid_auto_flow": null,
            "grid_area": null,
            "grid_template_columns": null,
            "flex": null,
            "_model_name": "LayoutModel",
            "justify_items": null,
            "grid_row": null,
            "max_height": null,
            "align_content": null,
            "visibility": null,
            "align_self": null,
            "height": null,
            "min_height": null,
            "padding": null,
            "grid_auto_rows": null,
            "grid_gap": null,
            "max_width": null,
            "order": null,
            "_view_module_version": "1.2.0",
            "grid_template_areas": null,
            "object_position": null,
            "object_fit": null,
            "grid_auto_columns": null,
            "margin": null,
            "display": null,
            "left": null
          }
        },
        "5f9e4178c03842169b39885a63aedfc9": {
          "model_module": "@jupyter-widgets/controls",
          "model_name": "ProgressStyleModel",
          "model_module_version": "1.5.0",
          "state": {
            "_view_name": "StyleView",
            "_model_name": "ProgressStyleModel",
            "description_width": "",
            "_view_module": "@jupyter-widgets/base",
            "_model_module_version": "1.5.0",
            "_view_count": null,
            "_view_module_version": "1.2.0",
            "bar_color": null,
            "_model_module": "@jupyter-widgets/controls"
          }
        },
        "def792548cae421ea15a3016d4e48d51": {
          "model_module": "@jupyter-widgets/base",
          "model_name": "LayoutModel",
          "model_module_version": "1.2.0",
          "state": {
            "_view_name": "LayoutView",
            "grid_template_rows": null,
            "right": null,
            "justify_content": null,
            "_view_module": "@jupyter-widgets/base",
            "overflow": null,
            "_model_module_version": "1.2.0",
            "_view_count": null,
            "flex_flow": null,
            "width": null,
            "min_width": null,
            "border": null,
            "align_items": null,
            "bottom": null,
            "_model_module": "@jupyter-widgets/base",
            "top": null,
            "grid_column": null,
            "overflow_y": null,
            "overflow_x": null,
            "grid_auto_flow": null,
            "grid_area": null,
            "grid_template_columns": null,
            "flex": null,
            "_model_name": "LayoutModel",
            "justify_items": null,
            "grid_row": null,
            "max_height": null,
            "align_content": null,
            "visibility": null,
            "align_self": null,
            "height": null,
            "min_height": null,
            "padding": null,
            "grid_auto_rows": null,
            "grid_gap": null,
            "max_width": null,
            "order": null,
            "_view_module_version": "1.2.0",
            "grid_template_areas": null,
            "object_position": null,
            "object_fit": null,
            "grid_auto_columns": null,
            "margin": null,
            "display": null,
            "left": null
          }
        },
        "33fdea726c454b7b903644f8258a5f64": {
          "model_module": "@jupyter-widgets/controls",
          "model_name": "DescriptionStyleModel",
          "model_module_version": "1.5.0",
          "state": {
            "_view_name": "StyleView",
            "_model_name": "DescriptionStyleModel",
            "description_width": "",
            "_view_module": "@jupyter-widgets/base",
            "_model_module_version": "1.5.0",
            "_view_count": null,
            "_view_module_version": "1.2.0",
            "_model_module": "@jupyter-widgets/controls"
          }
        },
        "4e9dd13a0fbb4762a2ef7ccf01a8cc85": {
          "model_module": "@jupyter-widgets/base",
          "model_name": "LayoutModel",
          "model_module_version": "1.2.0",
          "state": {
            "_view_name": "LayoutView",
            "grid_template_rows": null,
            "right": null,
            "justify_content": null,
            "_view_module": "@jupyter-widgets/base",
            "overflow": null,
            "_model_module_version": "1.2.0",
            "_view_count": null,
            "flex_flow": null,
            "width": null,
            "min_width": null,
            "border": null,
            "align_items": null,
            "bottom": null,
            "_model_module": "@jupyter-widgets/base",
            "top": null,
            "grid_column": null,
            "overflow_y": null,
            "overflow_x": null,
            "grid_auto_flow": null,
            "grid_area": null,
            "grid_template_columns": null,
            "flex": null,
            "_model_name": "LayoutModel",
            "justify_items": null,
            "grid_row": null,
            "max_height": null,
            "align_content": null,
            "visibility": null,
            "align_self": null,
            "height": null,
            "min_height": null,
            "padding": null,
            "grid_auto_rows": null,
            "grid_gap": null,
            "max_width": null,
            "order": null,
            "_view_module_version": "1.2.0",
            "grid_template_areas": null,
            "object_position": null,
            "object_fit": null,
            "grid_auto_columns": null,
            "margin": null,
            "display": null,
            "left": null
          }
        },
        "49a5c939d3924b279bdf54b384c1ee54": {
          "model_module": "@jupyter-widgets/controls",
          "model_name": "HBoxModel",
          "model_module_version": "1.5.0",
          "state": {
            "_view_name": "HBoxView",
            "_dom_classes": [],
            "_model_name": "HBoxModel",
            "_view_module": "@jupyter-widgets/controls",
            "_model_module_version": "1.5.0",
            "_view_count": null,
            "_view_module_version": "1.5.0",
            "box_style": "",
            "layout": "IPY_MODEL_b8635c37667b4d1da616a07b217c03eb",
            "_model_module": "@jupyter-widgets/controls",
            "children": [
              "IPY_MODEL_b41872b886bb43daa87dc826da3171b3",
              "IPY_MODEL_f6e39572f63a499282d4272a83aab0d7",
              "IPY_MODEL_198173af2f9c47e281c00799680a8978"
            ]
          }
        },
        "b8635c37667b4d1da616a07b217c03eb": {
          "model_module": "@jupyter-widgets/base",
          "model_name": "LayoutModel",
          "model_module_version": "1.2.0",
          "state": {
            "_view_name": "LayoutView",
            "grid_template_rows": null,
            "right": null,
            "justify_content": null,
            "_view_module": "@jupyter-widgets/base",
            "overflow": null,
            "_model_module_version": "1.2.0",
            "_view_count": null,
            "flex_flow": null,
            "width": null,
            "min_width": null,
            "border": null,
            "align_items": null,
            "bottom": null,
            "_model_module": "@jupyter-widgets/base",
            "top": null,
            "grid_column": null,
            "overflow_y": null,
            "overflow_x": null,
            "grid_auto_flow": null,
            "grid_area": null,
            "grid_template_columns": null,
            "flex": null,
            "_model_name": "LayoutModel",
            "justify_items": null,
            "grid_row": null,
            "max_height": null,
            "align_content": null,
            "visibility": null,
            "align_self": null,
            "height": null,
            "min_height": null,
            "padding": null,
            "grid_auto_rows": null,
            "grid_gap": null,
            "max_width": null,
            "order": null,
            "_view_module_version": "1.2.0",
            "grid_template_areas": null,
            "object_position": null,
            "object_fit": null,
            "grid_auto_columns": null,
            "margin": null,
            "display": null,
            "left": null
          }
        },
        "b41872b886bb43daa87dc826da3171b3": {
          "model_module": "@jupyter-widgets/controls",
          "model_name": "HTMLModel",
          "model_module_version": "1.5.0",
          "state": {
            "_view_name": "HTMLView",
            "style": "IPY_MODEL_96d443cdeb294d9883bf937edeb89d17",
            "_dom_classes": [],
            "description": "",
            "_model_name": "HTMLModel",
            "placeholder": "​",
            "_view_module": "@jupyter-widgets/controls",
            "_model_module_version": "1.5.0",
            "value": "Downloading: 100%",
            "_view_count": null,
            "_view_module_version": "1.5.0",
            "description_tooltip": null,
            "_model_module": "@jupyter-widgets/controls",
            "layout": "IPY_MODEL_33afe5d31f0343cb93b827f8e313c7d6"
          }
        },
        "f6e39572f63a499282d4272a83aab0d7": {
          "model_module": "@jupyter-widgets/controls",
          "model_name": "FloatProgressModel",
          "model_module_version": "1.5.0",
          "state": {
            "_view_name": "ProgressView",
            "style": "IPY_MODEL_5aef43377cb54b199482cf2beed5277f",
            "_dom_classes": [],
            "description": "",
            "_model_name": "FloatProgressModel",
            "bar_style": "success",
            "max": 570,
            "_view_module": "@jupyter-widgets/controls",
            "_model_module_version": "1.5.0",
            "value": 570,
            "_view_count": null,
            "_view_module_version": "1.5.0",
            "orientation": "horizontal",
            "min": 0,
            "description_tooltip": null,
            "_model_module": "@jupyter-widgets/controls",
            "layout": "IPY_MODEL_b6db7434baef4e3bb19bdd3ae75fbd8f"
          }
        },
        "198173af2f9c47e281c00799680a8978": {
          "model_module": "@jupyter-widgets/controls",
          "model_name": "HTMLModel",
          "model_module_version": "1.5.0",
          "state": {
            "_view_name": "HTMLView",
            "style": "IPY_MODEL_be33e747e14b416eb5b3db519db696e7",
            "_dom_classes": [],
            "description": "",
            "_model_name": "HTMLModel",
            "placeholder": "​",
            "_view_module": "@jupyter-widgets/controls",
            "_model_module_version": "1.5.0",
            "value": " 570/570 [00:00&lt;00:00, 13.7kB/s]",
            "_view_count": null,
            "_view_module_version": "1.5.0",
            "description_tooltip": null,
            "_model_module": "@jupyter-widgets/controls",
            "layout": "IPY_MODEL_e886680e194b4b0e9e59d00490589638"
          }
        },
        "96d443cdeb294d9883bf937edeb89d17": {
          "model_module": "@jupyter-widgets/controls",
          "model_name": "DescriptionStyleModel",
          "model_module_version": "1.5.0",
          "state": {
            "_view_name": "StyleView",
            "_model_name": "DescriptionStyleModel",
            "description_width": "",
            "_view_module": "@jupyter-widgets/base",
            "_model_module_version": "1.5.0",
            "_view_count": null,
            "_view_module_version": "1.2.0",
            "_model_module": "@jupyter-widgets/controls"
          }
        },
        "33afe5d31f0343cb93b827f8e313c7d6": {
          "model_module": "@jupyter-widgets/base",
          "model_name": "LayoutModel",
          "model_module_version": "1.2.0",
          "state": {
            "_view_name": "LayoutView",
            "grid_template_rows": null,
            "right": null,
            "justify_content": null,
            "_view_module": "@jupyter-widgets/base",
            "overflow": null,
            "_model_module_version": "1.2.0",
            "_view_count": null,
            "flex_flow": null,
            "width": null,
            "min_width": null,
            "border": null,
            "align_items": null,
            "bottom": null,
            "_model_module": "@jupyter-widgets/base",
            "top": null,
            "grid_column": null,
            "overflow_y": null,
            "overflow_x": null,
            "grid_auto_flow": null,
            "grid_area": null,
            "grid_template_columns": null,
            "flex": null,
            "_model_name": "LayoutModel",
            "justify_items": null,
            "grid_row": null,
            "max_height": null,
            "align_content": null,
            "visibility": null,
            "align_self": null,
            "height": null,
            "min_height": null,
            "padding": null,
            "grid_auto_rows": null,
            "grid_gap": null,
            "max_width": null,
            "order": null,
            "_view_module_version": "1.2.0",
            "grid_template_areas": null,
            "object_position": null,
            "object_fit": null,
            "grid_auto_columns": null,
            "margin": null,
            "display": null,
            "left": null
          }
        },
        "5aef43377cb54b199482cf2beed5277f": {
          "model_module": "@jupyter-widgets/controls",
          "model_name": "ProgressStyleModel",
          "model_module_version": "1.5.0",
          "state": {
            "_view_name": "StyleView",
            "_model_name": "ProgressStyleModel",
            "description_width": "",
            "_view_module": "@jupyter-widgets/base",
            "_model_module_version": "1.5.0",
            "_view_count": null,
            "_view_module_version": "1.2.0",
            "bar_color": null,
            "_model_module": "@jupyter-widgets/controls"
          }
        },
        "b6db7434baef4e3bb19bdd3ae75fbd8f": {
          "model_module": "@jupyter-widgets/base",
          "model_name": "LayoutModel",
          "model_module_version": "1.2.0",
          "state": {
            "_view_name": "LayoutView",
            "grid_template_rows": null,
            "right": null,
            "justify_content": null,
            "_view_module": "@jupyter-widgets/base",
            "overflow": null,
            "_model_module_version": "1.2.0",
            "_view_count": null,
            "flex_flow": null,
            "width": null,
            "min_width": null,
            "border": null,
            "align_items": null,
            "bottom": null,
            "_model_module": "@jupyter-widgets/base",
            "top": null,
            "grid_column": null,
            "overflow_y": null,
            "overflow_x": null,
            "grid_auto_flow": null,
            "grid_area": null,
            "grid_template_columns": null,
            "flex": null,
            "_model_name": "LayoutModel",
            "justify_items": null,
            "grid_row": null,
            "max_height": null,
            "align_content": null,
            "visibility": null,
            "align_self": null,
            "height": null,
            "min_height": null,
            "padding": null,
            "grid_auto_rows": null,
            "grid_gap": null,
            "max_width": null,
            "order": null,
            "_view_module_version": "1.2.0",
            "grid_template_areas": null,
            "object_position": null,
            "object_fit": null,
            "grid_auto_columns": null,
            "margin": null,
            "display": null,
            "left": null
          }
        },
        "be33e747e14b416eb5b3db519db696e7": {
          "model_module": "@jupyter-widgets/controls",
          "model_name": "DescriptionStyleModel",
          "model_module_version": "1.5.0",
          "state": {
            "_view_name": "StyleView",
            "_model_name": "DescriptionStyleModel",
            "description_width": "",
            "_view_module": "@jupyter-widgets/base",
            "_model_module_version": "1.5.0",
            "_view_count": null,
            "_view_module_version": "1.2.0",
            "_model_module": "@jupyter-widgets/controls"
          }
        },
        "e886680e194b4b0e9e59d00490589638": {
          "model_module": "@jupyter-widgets/base",
          "model_name": "LayoutModel",
          "model_module_version": "1.2.0",
          "state": {
            "_view_name": "LayoutView",
            "grid_template_rows": null,
            "right": null,
            "justify_content": null,
            "_view_module": "@jupyter-widgets/base",
            "overflow": null,
            "_model_module_version": "1.2.0",
            "_view_count": null,
            "flex_flow": null,
            "width": null,
            "min_width": null,
            "border": null,
            "align_items": null,
            "bottom": null,
            "_model_module": "@jupyter-widgets/base",
            "top": null,
            "grid_column": null,
            "overflow_y": null,
            "overflow_x": null,
            "grid_auto_flow": null,
            "grid_area": null,
            "grid_template_columns": null,
            "flex": null,
            "_model_name": "LayoutModel",
            "justify_items": null,
            "grid_row": null,
            "max_height": null,
            "align_content": null,
            "visibility": null,
            "align_self": null,
            "height": null,
            "min_height": null,
            "padding": null,
            "grid_auto_rows": null,
            "grid_gap": null,
            "max_width": null,
            "order": null,
            "_view_module_version": "1.2.0",
            "grid_template_areas": null,
            "object_position": null,
            "object_fit": null,
            "grid_auto_columns": null,
            "margin": null,
            "display": null,
            "left": null
          }
        },
        "cbddd64cb020489585ad93220e2427bf": {
          "model_module": "@jupyter-widgets/controls",
          "model_name": "HBoxModel",
          "model_module_version": "1.5.0",
          "state": {
            "_view_name": "HBoxView",
            "_dom_classes": [],
            "_model_name": "HBoxModel",
            "_view_module": "@jupyter-widgets/controls",
            "_model_module_version": "1.5.0",
            "_view_count": null,
            "_view_module_version": "1.5.0",
            "box_style": "",
            "layout": "IPY_MODEL_b3786195071b43cba69398a30c85cd4e",
            "_model_module": "@jupyter-widgets/controls",
            "children": [
              "IPY_MODEL_6ca22ffdfab945df9c94656f4e64b1dd",
              "IPY_MODEL_6fe8a6ee2b26428093118f93d1925b1b",
              "IPY_MODEL_ab0c1eb9c92742d8a358e1862b15de95"
            ]
          }
        },
        "b3786195071b43cba69398a30c85cd4e": {
          "model_module": "@jupyter-widgets/base",
          "model_name": "LayoutModel",
          "model_module_version": "1.2.0",
          "state": {
            "_view_name": "LayoutView",
            "grid_template_rows": null,
            "right": null,
            "justify_content": null,
            "_view_module": "@jupyter-widgets/base",
            "overflow": null,
            "_model_module_version": "1.2.0",
            "_view_count": null,
            "flex_flow": null,
            "width": null,
            "min_width": null,
            "border": null,
            "align_items": null,
            "bottom": null,
            "_model_module": "@jupyter-widgets/base",
            "top": null,
            "grid_column": null,
            "overflow_y": null,
            "overflow_x": null,
            "grid_auto_flow": null,
            "grid_area": null,
            "grid_template_columns": null,
            "flex": null,
            "_model_name": "LayoutModel",
            "justify_items": null,
            "grid_row": null,
            "max_height": null,
            "align_content": null,
            "visibility": null,
            "align_self": null,
            "height": null,
            "min_height": null,
            "padding": null,
            "grid_auto_rows": null,
            "grid_gap": null,
            "max_width": null,
            "order": null,
            "_view_module_version": "1.2.0",
            "grid_template_areas": null,
            "object_position": null,
            "object_fit": null,
            "grid_auto_columns": null,
            "margin": null,
            "display": null,
            "left": null
          }
        },
        "6ca22ffdfab945df9c94656f4e64b1dd": {
          "model_module": "@jupyter-widgets/controls",
          "model_name": "HTMLModel",
          "model_module_version": "1.5.0",
          "state": {
            "_view_name": "HTMLView",
            "style": "IPY_MODEL_a5c171dab97c4b88a6bc72d682970b0f",
            "_dom_classes": [],
            "description": "",
            "_model_name": "HTMLModel",
            "placeholder": "​",
            "_view_module": "@jupyter-widgets/controls",
            "_model_module_version": "1.5.0",
            "value": "Downloading: 100%",
            "_view_count": null,
            "_view_module_version": "1.5.0",
            "description_tooltip": null,
            "_model_module": "@jupyter-widgets/controls",
            "layout": "IPY_MODEL_f1e2fd857c3141a7a43649502568533f"
          }
        },
        "6fe8a6ee2b26428093118f93d1925b1b": {
          "model_module": "@jupyter-widgets/controls",
          "model_name": "FloatProgressModel",
          "model_module_version": "1.5.0",
          "state": {
            "_view_name": "ProgressView",
            "style": "IPY_MODEL_9d84219c65554744bb7cfaed7a0fbf7c",
            "_dom_classes": [],
            "description": "",
            "_model_name": "FloatProgressModel",
            "bar_style": "success",
            "max": 231508,
            "_view_module": "@jupyter-widgets/controls",
            "_model_module_version": "1.5.0",
            "value": 231508,
            "_view_count": null,
            "_view_module_version": "1.5.0",
            "orientation": "horizontal",
            "min": 0,
            "description_tooltip": null,
            "_model_module": "@jupyter-widgets/controls",
            "layout": "IPY_MODEL_3b58729af223466ca48f49451f84e2f3"
          }
        },
        "ab0c1eb9c92742d8a358e1862b15de95": {
          "model_module": "@jupyter-widgets/controls",
          "model_name": "HTMLModel",
          "model_module_version": "1.5.0",
          "state": {
            "_view_name": "HTMLView",
            "style": "IPY_MODEL_cd4b284c3bf94c9281aa2de7090ef77f",
            "_dom_classes": [],
            "description": "",
            "_model_name": "HTMLModel",
            "placeholder": "​",
            "_view_module": "@jupyter-widgets/controls",
            "_model_module_version": "1.5.0",
            "value": " 226k/226k [00:00&lt;00:00, 578kB/s]",
            "_view_count": null,
            "_view_module_version": "1.5.0",
            "description_tooltip": null,
            "_model_module": "@jupyter-widgets/controls",
            "layout": "IPY_MODEL_e83177e1314b4daaaead5d12bc4157aa"
          }
        },
        "a5c171dab97c4b88a6bc72d682970b0f": {
          "model_module": "@jupyter-widgets/controls",
          "model_name": "DescriptionStyleModel",
          "model_module_version": "1.5.0",
          "state": {
            "_view_name": "StyleView",
            "_model_name": "DescriptionStyleModel",
            "description_width": "",
            "_view_module": "@jupyter-widgets/base",
            "_model_module_version": "1.5.0",
            "_view_count": null,
            "_view_module_version": "1.2.0",
            "_model_module": "@jupyter-widgets/controls"
          }
        },
        "f1e2fd857c3141a7a43649502568533f": {
          "model_module": "@jupyter-widgets/base",
          "model_name": "LayoutModel",
          "model_module_version": "1.2.0",
          "state": {
            "_view_name": "LayoutView",
            "grid_template_rows": null,
            "right": null,
            "justify_content": null,
            "_view_module": "@jupyter-widgets/base",
            "overflow": null,
            "_model_module_version": "1.2.0",
            "_view_count": null,
            "flex_flow": null,
            "width": null,
            "min_width": null,
            "border": null,
            "align_items": null,
            "bottom": null,
            "_model_module": "@jupyter-widgets/base",
            "top": null,
            "grid_column": null,
            "overflow_y": null,
            "overflow_x": null,
            "grid_auto_flow": null,
            "grid_area": null,
            "grid_template_columns": null,
            "flex": null,
            "_model_name": "LayoutModel",
            "justify_items": null,
            "grid_row": null,
            "max_height": null,
            "align_content": null,
            "visibility": null,
            "align_self": null,
            "height": null,
            "min_height": null,
            "padding": null,
            "grid_auto_rows": null,
            "grid_gap": null,
            "max_width": null,
            "order": null,
            "_view_module_version": "1.2.0",
            "grid_template_areas": null,
            "object_position": null,
            "object_fit": null,
            "grid_auto_columns": null,
            "margin": null,
            "display": null,
            "left": null
          }
        },
        "9d84219c65554744bb7cfaed7a0fbf7c": {
          "model_module": "@jupyter-widgets/controls",
          "model_name": "ProgressStyleModel",
          "model_module_version": "1.5.0",
          "state": {
            "_view_name": "StyleView",
            "_model_name": "ProgressStyleModel",
            "description_width": "",
            "_view_module": "@jupyter-widgets/base",
            "_model_module_version": "1.5.0",
            "_view_count": null,
            "_view_module_version": "1.2.0",
            "bar_color": null,
            "_model_module": "@jupyter-widgets/controls"
          }
        },
        "3b58729af223466ca48f49451f84e2f3": {
          "model_module": "@jupyter-widgets/base",
          "model_name": "LayoutModel",
          "model_module_version": "1.2.0",
          "state": {
            "_view_name": "LayoutView",
            "grid_template_rows": null,
            "right": null,
            "justify_content": null,
            "_view_module": "@jupyter-widgets/base",
            "overflow": null,
            "_model_module_version": "1.2.0",
            "_view_count": null,
            "flex_flow": null,
            "width": null,
            "min_width": null,
            "border": null,
            "align_items": null,
            "bottom": null,
            "_model_module": "@jupyter-widgets/base",
            "top": null,
            "grid_column": null,
            "overflow_y": null,
            "overflow_x": null,
            "grid_auto_flow": null,
            "grid_area": null,
            "grid_template_columns": null,
            "flex": null,
            "_model_name": "LayoutModel",
            "justify_items": null,
            "grid_row": null,
            "max_height": null,
            "align_content": null,
            "visibility": null,
            "align_self": null,
            "height": null,
            "min_height": null,
            "padding": null,
            "grid_auto_rows": null,
            "grid_gap": null,
            "max_width": null,
            "order": null,
            "_view_module_version": "1.2.0",
            "grid_template_areas": null,
            "object_position": null,
            "object_fit": null,
            "grid_auto_columns": null,
            "margin": null,
            "display": null,
            "left": null
          }
        },
        "cd4b284c3bf94c9281aa2de7090ef77f": {
          "model_module": "@jupyter-widgets/controls",
          "model_name": "DescriptionStyleModel",
          "model_module_version": "1.5.0",
          "state": {
            "_view_name": "StyleView",
            "_model_name": "DescriptionStyleModel",
            "description_width": "",
            "_view_module": "@jupyter-widgets/base",
            "_model_module_version": "1.5.0",
            "_view_count": null,
            "_view_module_version": "1.2.0",
            "_model_module": "@jupyter-widgets/controls"
          }
        },
        "e83177e1314b4daaaead5d12bc4157aa": {
          "model_module": "@jupyter-widgets/base",
          "model_name": "LayoutModel",
          "model_module_version": "1.2.0",
          "state": {
            "_view_name": "LayoutView",
            "grid_template_rows": null,
            "right": null,
            "justify_content": null,
            "_view_module": "@jupyter-widgets/base",
            "overflow": null,
            "_model_module_version": "1.2.0",
            "_view_count": null,
            "flex_flow": null,
            "width": null,
            "min_width": null,
            "border": null,
            "align_items": null,
            "bottom": null,
            "_model_module": "@jupyter-widgets/base",
            "top": null,
            "grid_column": null,
            "overflow_y": null,
            "overflow_x": null,
            "grid_auto_flow": null,
            "grid_area": null,
            "grid_template_columns": null,
            "flex": null,
            "_model_name": "LayoutModel",
            "justify_items": null,
            "grid_row": null,
            "max_height": null,
            "align_content": null,
            "visibility": null,
            "align_self": null,
            "height": null,
            "min_height": null,
            "padding": null,
            "grid_auto_rows": null,
            "grid_gap": null,
            "max_width": null,
            "order": null,
            "_view_module_version": "1.2.0",
            "grid_template_areas": null,
            "object_position": null,
            "object_fit": null,
            "grid_auto_columns": null,
            "margin": null,
            "display": null,
            "left": null
          }
        },
        "f2ef52873b01433583f5ce90eaed027d": {
          "model_module": "@jupyter-widgets/controls",
          "model_name": "HBoxModel",
          "model_module_version": "1.5.0",
          "state": {
            "_view_name": "HBoxView",
            "_dom_classes": [],
            "_model_name": "HBoxModel",
            "_view_module": "@jupyter-widgets/controls",
            "_model_module_version": "1.5.0",
            "_view_count": null,
            "_view_module_version": "1.5.0",
            "box_style": "",
            "layout": "IPY_MODEL_890d2a70c6ad4574a560946dcf704dc1",
            "_model_module": "@jupyter-widgets/controls",
            "children": [
              "IPY_MODEL_e248fb2866b948889695e3cbb6442a1e",
              "IPY_MODEL_7f87c7d8ce4e4bee90e68c6f1423a079",
              "IPY_MODEL_034b66d8291343e2bb45d30c280a6054"
            ]
          }
        },
        "890d2a70c6ad4574a560946dcf704dc1": {
          "model_module": "@jupyter-widgets/base",
          "model_name": "LayoutModel",
          "model_module_version": "1.2.0",
          "state": {
            "_view_name": "LayoutView",
            "grid_template_rows": null,
            "right": null,
            "justify_content": null,
            "_view_module": "@jupyter-widgets/base",
            "overflow": null,
            "_model_module_version": "1.2.0",
            "_view_count": null,
            "flex_flow": null,
            "width": null,
            "min_width": null,
            "border": null,
            "align_items": null,
            "bottom": null,
            "_model_module": "@jupyter-widgets/base",
            "top": null,
            "grid_column": null,
            "overflow_y": null,
            "overflow_x": null,
            "grid_auto_flow": null,
            "grid_area": null,
            "grid_template_columns": null,
            "flex": null,
            "_model_name": "LayoutModel",
            "justify_items": null,
            "grid_row": null,
            "max_height": null,
            "align_content": null,
            "visibility": null,
            "align_self": null,
            "height": null,
            "min_height": null,
            "padding": null,
            "grid_auto_rows": null,
            "grid_gap": null,
            "max_width": null,
            "order": null,
            "_view_module_version": "1.2.0",
            "grid_template_areas": null,
            "object_position": null,
            "object_fit": null,
            "grid_auto_columns": null,
            "margin": null,
            "display": null,
            "left": null
          }
        },
        "e248fb2866b948889695e3cbb6442a1e": {
          "model_module": "@jupyter-widgets/controls",
          "model_name": "HTMLModel",
          "model_module_version": "1.5.0",
          "state": {
            "_view_name": "HTMLView",
            "style": "IPY_MODEL_7c3617271b484132978a1fc0dd3368e9",
            "_dom_classes": [],
            "description": "",
            "_model_name": "HTMLModel",
            "placeholder": "​",
            "_view_module": "@jupyter-widgets/controls",
            "_model_module_version": "1.5.0",
            "value": "Downloading: 100%",
            "_view_count": null,
            "_view_module_version": "1.5.0",
            "description_tooltip": null,
            "_model_module": "@jupyter-widgets/controls",
            "layout": "IPY_MODEL_2ac0fc85d55d4f7ebcf53cd4a051a48f"
          }
        },
        "7f87c7d8ce4e4bee90e68c6f1423a079": {
          "model_module": "@jupyter-widgets/controls",
          "model_name": "FloatProgressModel",
          "model_module_version": "1.5.0",
          "state": {
            "_view_name": "ProgressView",
            "style": "IPY_MODEL_4887dbf7ab3a4ff3b06eccfe77a891f9",
            "_dom_classes": [],
            "description": "",
            "_model_name": "FloatProgressModel",
            "bar_style": "success",
            "max": 466062,
            "_view_module": "@jupyter-widgets/controls",
            "_model_module_version": "1.5.0",
            "value": 466062,
            "_view_count": null,
            "_view_module_version": "1.5.0",
            "orientation": "horizontal",
            "min": 0,
            "description_tooltip": null,
            "_model_module": "@jupyter-widgets/controls",
            "layout": "IPY_MODEL_96a26dafb8a547aa9a739c13ace24bdd"
          }
        },
        "034b66d8291343e2bb45d30c280a6054": {
          "model_module": "@jupyter-widgets/controls",
          "model_name": "HTMLModel",
          "model_module_version": "1.5.0",
          "state": {
            "_view_name": "HTMLView",
            "style": "IPY_MODEL_7e368205a4734de4964a59c425af02bf",
            "_dom_classes": [],
            "description": "",
            "_model_name": "HTMLModel",
            "placeholder": "​",
            "_view_module": "@jupyter-widgets/controls",
            "_model_module_version": "1.5.0",
            "value": " 455k/455k [00:00&lt;00:00, 867kB/s]",
            "_view_count": null,
            "_view_module_version": "1.5.0",
            "description_tooltip": null,
            "_model_module": "@jupyter-widgets/controls",
            "layout": "IPY_MODEL_3fdac280246147f6a093212de96880ae"
          }
        },
        "7c3617271b484132978a1fc0dd3368e9": {
          "model_module": "@jupyter-widgets/controls",
          "model_name": "DescriptionStyleModel",
          "model_module_version": "1.5.0",
          "state": {
            "_view_name": "StyleView",
            "_model_name": "DescriptionStyleModel",
            "description_width": "",
            "_view_module": "@jupyter-widgets/base",
            "_model_module_version": "1.5.0",
            "_view_count": null,
            "_view_module_version": "1.2.0",
            "_model_module": "@jupyter-widgets/controls"
          }
        },
        "2ac0fc85d55d4f7ebcf53cd4a051a48f": {
          "model_module": "@jupyter-widgets/base",
          "model_name": "LayoutModel",
          "model_module_version": "1.2.0",
          "state": {
            "_view_name": "LayoutView",
            "grid_template_rows": null,
            "right": null,
            "justify_content": null,
            "_view_module": "@jupyter-widgets/base",
            "overflow": null,
            "_model_module_version": "1.2.0",
            "_view_count": null,
            "flex_flow": null,
            "width": null,
            "min_width": null,
            "border": null,
            "align_items": null,
            "bottom": null,
            "_model_module": "@jupyter-widgets/base",
            "top": null,
            "grid_column": null,
            "overflow_y": null,
            "overflow_x": null,
            "grid_auto_flow": null,
            "grid_area": null,
            "grid_template_columns": null,
            "flex": null,
            "_model_name": "LayoutModel",
            "justify_items": null,
            "grid_row": null,
            "max_height": null,
            "align_content": null,
            "visibility": null,
            "align_self": null,
            "height": null,
            "min_height": null,
            "padding": null,
            "grid_auto_rows": null,
            "grid_gap": null,
            "max_width": null,
            "order": null,
            "_view_module_version": "1.2.0",
            "grid_template_areas": null,
            "object_position": null,
            "object_fit": null,
            "grid_auto_columns": null,
            "margin": null,
            "display": null,
            "left": null
          }
        },
        "4887dbf7ab3a4ff3b06eccfe77a891f9": {
          "model_module": "@jupyter-widgets/controls",
          "model_name": "ProgressStyleModel",
          "model_module_version": "1.5.0",
          "state": {
            "_view_name": "StyleView",
            "_model_name": "ProgressStyleModel",
            "description_width": "",
            "_view_module": "@jupyter-widgets/base",
            "_model_module_version": "1.5.0",
            "_view_count": null,
            "_view_module_version": "1.2.0",
            "bar_color": null,
            "_model_module": "@jupyter-widgets/controls"
          }
        },
        "96a26dafb8a547aa9a739c13ace24bdd": {
          "model_module": "@jupyter-widgets/base",
          "model_name": "LayoutModel",
          "model_module_version": "1.2.0",
          "state": {
            "_view_name": "LayoutView",
            "grid_template_rows": null,
            "right": null,
            "justify_content": null,
            "_view_module": "@jupyter-widgets/base",
            "overflow": null,
            "_model_module_version": "1.2.0",
            "_view_count": null,
            "flex_flow": null,
            "width": null,
            "min_width": null,
            "border": null,
            "align_items": null,
            "bottom": null,
            "_model_module": "@jupyter-widgets/base",
            "top": null,
            "grid_column": null,
            "overflow_y": null,
            "overflow_x": null,
            "grid_auto_flow": null,
            "grid_area": null,
            "grid_template_columns": null,
            "flex": null,
            "_model_name": "LayoutModel",
            "justify_items": null,
            "grid_row": null,
            "max_height": null,
            "align_content": null,
            "visibility": null,
            "align_self": null,
            "height": null,
            "min_height": null,
            "padding": null,
            "grid_auto_rows": null,
            "grid_gap": null,
            "max_width": null,
            "order": null,
            "_view_module_version": "1.2.0",
            "grid_template_areas": null,
            "object_position": null,
            "object_fit": null,
            "grid_auto_columns": null,
            "margin": null,
            "display": null,
            "left": null
          }
        },
        "7e368205a4734de4964a59c425af02bf": {
          "model_module": "@jupyter-widgets/controls",
          "model_name": "DescriptionStyleModel",
          "model_module_version": "1.5.0",
          "state": {
            "_view_name": "StyleView",
            "_model_name": "DescriptionStyleModel",
            "description_width": "",
            "_view_module": "@jupyter-widgets/base",
            "_model_module_version": "1.5.0",
            "_view_count": null,
            "_view_module_version": "1.2.0",
            "_model_module": "@jupyter-widgets/controls"
          }
        },
        "3fdac280246147f6a093212de96880ae": {
          "model_module": "@jupyter-widgets/base",
          "model_name": "LayoutModel",
          "model_module_version": "1.2.0",
          "state": {
            "_view_name": "LayoutView",
            "grid_template_rows": null,
            "right": null,
            "justify_content": null,
            "_view_module": "@jupyter-widgets/base",
            "overflow": null,
            "_model_module_version": "1.2.0",
            "_view_count": null,
            "flex_flow": null,
            "width": null,
            "min_width": null,
            "border": null,
            "align_items": null,
            "bottom": null,
            "_model_module": "@jupyter-widgets/base",
            "top": null,
            "grid_column": null,
            "overflow_y": null,
            "overflow_x": null,
            "grid_auto_flow": null,
            "grid_area": null,
            "grid_template_columns": null,
            "flex": null,
            "_model_name": "LayoutModel",
            "justify_items": null,
            "grid_row": null,
            "max_height": null,
            "align_content": null,
            "visibility": null,
            "align_self": null,
            "height": null,
            "min_height": null,
            "padding": null,
            "grid_auto_rows": null,
            "grid_gap": null,
            "max_width": null,
            "order": null,
            "_view_module_version": "1.2.0",
            "grid_template_areas": null,
            "object_position": null,
            "object_fit": null,
            "grid_auto_columns": null,
            "margin": null,
            "display": null,
            "left": null
          }
        }
      }
    }
  },
  "cells": [
    {
      "cell_type": "markdown",
      "metadata": {
        "id": "view-in-github",
        "colab_type": "text"
      },
      "source": [
        "<a href=\"https://colab.research.google.com/github/meti-94/OpenQA/blob/main/reverbrels0.1.ipynb\" target=\"_parent\"><img src=\"https://colab.research.google.com/assets/colab-badge.svg\" alt=\"Open In Colab\"/></a>"
      ]
    },
    {
      "cell_type": "code",
      "metadata": {
        "colab": {
          "base_uri": "https://localhost:8080/"
        },
        "id": "gBeeHMUcQqS9",
        "outputId": "a156bc30-0dc0-41d8-a0aa-ea5943543735"
      },
      "source": [
        "!pip install fuzzywuzzy -q\n",
        "!pip install pattern -q\n",
        "!pip install transformers -q"
      ],
      "execution_count": 1,
      "outputs": [
        {
          "output_type": "stream",
          "name": "stdout",
          "text": [
            "\u001b[K     |████████████████████████████████| 22.2 MB 1.6 MB/s \n",
            "\u001b[K     |████████████████████████████████| 87 kB 5.7 MB/s \n",
            "\u001b[K     |████████████████████████████████| 81 kB 8.4 MB/s \n",
            "\u001b[K     |████████████████████████████████| 5.6 MB 18.5 MB/s \n",
            "\u001b[K     |████████████████████████████████| 5.6 MB 38.3 MB/s \n",
            "\u001b[K     |████████████████████████████████| 419 kB 44.1 MB/s \n",
            "\u001b[K     |████████████████████████████████| 97 kB 6.3 MB/s \n",
            "\u001b[K     |████████████████████████████████| 3.6 MB 36.3 MB/s \n",
            "\u001b[?25h  Building wheel for pattern (setup.py) ... \u001b[?25l\u001b[?25hdone\n",
            "  Building wheel for mysqlclient (setup.py) ... \u001b[?25l\u001b[?25hdone\n",
            "  Building wheel for python-docx (setup.py) ... \u001b[?25l\u001b[?25hdone\n",
            "  Building wheel for sgmllib3k (setup.py) ... \u001b[?25l\u001b[?25hdone\n",
            "\u001b[K     |████████████████████████████████| 3.1 MB 5.2 MB/s \n",
            "\u001b[K     |████████████████████████████████| 59 kB 6.5 MB/s \n",
            "\u001b[K     |████████████████████████████████| 3.3 MB 36.7 MB/s \n",
            "\u001b[K     |████████████████████████████████| 895 kB 42.2 MB/s \n",
            "\u001b[K     |████████████████████████████████| 596 kB 44.6 MB/s \n",
            "\u001b[?25h"
          ]
        }
      ]
    },
    {
      "cell_type": "code",
      "metadata": {
        "id": "EfNcBH6DT4Lb",
        "colab": {
          "base_uri": "https://localhost:8080/"
        },
        "outputId": "8286436e-b992-459c-d297-0080239cc32b"
      },
      "source": [
        "import pandas as pd\n",
        "import networkx as nx\n",
        "from fuzzywuzzy import fuzz\n",
        "from fuzzywuzzy import process\n",
        "from tqdm import tqdm\n",
        "from sklearn.feature_extraction.text import TfidfVectorizer\n",
        "from sklearn.metrics.pairwise import cosine_similarity\n",
        "from pattern.en import conjugate, lemma, lexeme,PRESENT,SG,PAST\n",
        "from transformers import Trainer, TrainingArguments\n",
        "from transformers import AutoConfig, AutoTokenizer, AutoModel, BertForSequenceClassification\n",
        "import sys\n",
        "\n",
        "\n"
      ],
      "execution_count": 3,
      "outputs": [
        {
          "output_type": "stream",
          "name": "stderr",
          "text": [
            "/usr/local/lib/python3.7/dist-packages/fuzzywuzzy/fuzz.py:11: UserWarning: Using slow pure-python SequenceMatcher. Install python-Levenshtein to remove this warning\n",
            "  warnings.warn('Using slow pure-python SequenceMatcher. Install python-Levenshtein to remove this warning')\n"
          ]
        }
      ]
    },
    {
      "cell_type": "code",
      "metadata": {
        "id": "51wZ5qzvU_lB"
      },
      "source": [
        "def get_tf_idf_query_similarity(vectorizer, docs_tfidf, query):\n",
        "    \"\"\"\n",
        "    vectorizer: TfIdfVectorizer model\n",
        "    docs_tfidf: tfidf vectors for all docs\n",
        "    query: query doc\n",
        "    return: cosine similarity between query and all docs\n",
        "    \"\"\"\n",
        "    query_tfidf = vectorizer.transform([query])\n",
        "    cosineSimilarities = cosine_similarity(query_tfidf, docs_tfidf).flatten()\n",
        "    return cosineSimilarities"
      ],
      "execution_count": 4,
      "outputs": []
    },
    {
      "cell_type": "code",
      "metadata": {
        "colab": {
          "base_uri": "https://localhost:8080/"
        },
        "id": "n7PXi2b4Qir4",
        "outputId": "621d1c08-703d-4661-9d39-18a16423d078"
      },
      "source": [
        "#### pattern python>=3.7 compatibility problem\n",
        "def pattern_stopiteration_workaround():\n",
        "    try:\n",
        "        print(lexeme('gave'))\n",
        "    except:\n",
        "        pass\n",
        "pattern_stopiteration_workaround()\n",
        "\n",
        "\n",
        "class ReverbKnowledgeBase:\n",
        "\tdef __init__(self, path='../data/reverb_wikipedia_tuples-1.1.txt'):\n",
        "\t\tsuper().__init__()\n",
        "\t\tdf = pd.read_csv(path, sep='\\t', header=None)\n",
        "\t\treverb_columns_name = ['ExID', 'arg1', 'rel', 'arg2', 'narg1', 'nrel', 'narg2', 'csents', 'conf', 'urls']\n",
        "\t\tdf.columns = reverb_columns_name\n",
        "\t\tdf = df.dropna()\n",
        "\t\tdf = df.drop_duplicates()\n",
        "\t\tself.KB = df\n",
        "\t\tself.is_facts = self.KB[(self.KB.rel.apply(lambda rg:rg.find('is ')!=-1))|(self.KB.rel.apply(lambda rg:rg.find('Is ')!=-1))]\n",
        "\t\tself.nodes = self.KB['arg1'].to_list()+self.KB['arg2'].to_list()\n",
        "\t\tself.edges = self.KB['rel'].to_list()\n",
        "\t\tself.nodes_vectorizer = TfidfVectorizer()\n",
        "\t\tself.edges_vectorizer = TfidfVectorizer()\n",
        "\t\tself.nodes_tfidf = self.nodes_vectorizer.fit_transform(self.nodes)\n",
        "\t\tself.edges_tfidf = self.edges_vectorizer.fit_transform(self.edges)\n",
        "\t\tself.relations = {}\n",
        "\t\tfor index, row in tqdm(df.iterrows(), total=df.shape[0], desc='Indexing ...'):\n",
        "\t\t\tif row['rel'] in self.relations:\n",
        "\t\t\t\tself.relations[row['rel']].append((row['arg1'], index, row['conf']))\n",
        "\t\t\t\tself.relations[row['rel']].append((row['arg2'], index, row['conf']))\n",
        "\t\t\telse:\n",
        "\t\t\t\tself.relations[row['rel']] = [(row['arg1'], index, row['conf'])]\n",
        "\t\t\t\tself.relations[row['rel']].append((row['arg2'], index, row['conf']))\n",
        "\t\t\n",
        "\n",
        "\n",
        "\tdef tfidf_nodes_query(self, search_phrase, cutoff=50):\n",
        "\t\tsimilarities = get_tf_idf_query_similarity(self.nodes_vectorizer, self.nodes_tfidf, search_phrase)\n",
        "\t\tranks = {k:v for k,v in zip(self.nodes, similarities)}\n",
        "\t\tsorted_ranks = {k: v for k, v in sorted(ranks.items(), key=lambda item:item[1], reverse=True)[:min(len(ranks), cutoff)]}\n",
        "\n",
        "\t\treturn sorted_ranks\n",
        "\n",
        "\tdef tfidf_edges_query(self, search_phrase, cutoff=50):\n",
        "\t\tsimilarities = get_tf_idf_query_similarity(self.edges_vectorizer, self.edges_tfidf, search_phrase)\n",
        "\t\tranks = {k:v for k,v in zip(self.edges, similarities)}\n",
        "\t\tsorted_ranks = {k: v for k, v in sorted(ranks.items(), key=lambda item:item[1], reverse=True)[:min(len(ranks), cutoff)]}\n",
        "\t\treturn sorted_ranks\n",
        "\t\t\n",
        "\tdef tfidf_query(self, node='Bill Gates', edge='Born'):\n",
        "\t\t# print(edge)\n",
        "\t\tedge_list = edge.split()\n",
        "\t\tif len(edge_list)>=2 and edge_list[0]=='did':\n",
        "\t\t\tedge_list[1] = conjugate(verb=edge_list[1],tense=PAST)\n",
        "\t\t\tedge = ' '.join(edge_list[1:])\n",
        "\t\telse:\n",
        "\t\t\tedge = ' '.join(edge_list)\n",
        "\t\t# print(edge)\n",
        "\t\t# if edge.strip()!='is':\n",
        "\t\tedges = self.tfidf_edges_query(edge)\n",
        "\t\treturn edges\n",
        "\n",
        "if __name__=='__main__':\n",
        "\tRKBG = ReverbKnowledgeBase(r'/content/drive/MyDrive/data_freebase/reverb_wikipedia_tuples-1.1.txt') #\t'./sample_reverb_tuples.txt'\n",
        "\t# print(len(RKBG.nodes_vectorizer.vocabulary_), len(RKBG.edges_vectorizer.vocabulary_))\n",
        "\t# print(RKBG.tfidf_query(node='fishkind', edge='grew up in'))\n",
        "\tprint(RKBG.tfidf_query(node='abegg', edge='did die'))"
      ],
      "execution_count": 5,
      "outputs": [
        {
          "output_type": "stream",
          "name": "stderr",
          "text": [
            "Indexing ...: 100%|██████████| 407236/407236 [01:01<00:00, 6596.66it/s]\n"
          ]
        },
        {
          "output_type": "stream",
          "name": "stdout",
          "text": [
            "{'died': 1.0, 'died in': 0.9271252473625466, 'Died in': 0.9271252473625466, 'Died In': 0.9271252473625466, 'died of': 0.8760298375392068, 'Died of': 0.8760298375392068, 'died on': 0.80634142038981, 'Died on': 0.80634142038981, 'died for': 0.7965943041773649, 'died in in': 0.7776658632886875, 'died by': 0.7370834320223649, 'has died in': 0.7253688801545741, 'also died in': 0.7188263606915911, 'died at': 0.7015177318696876, 'Died at': 0.7015177318696876, 'has died of': 0.7001002972355879, 'also died of': 0.694212534436586, 'died from': 0.688677284452512, 'had died': 0.6853224464248049, 'died as': 0.6613942606179176, 'had died in': 0.6604505481461331, 'had died of': 0.6412071872534336, 'have died in': 0.6361575357905429, 'Then died': 0.6196817380066182, 'have died of': 0.6189065482665749, 'had died on': 0.6123124651162577, 'then died in': 0.6011115775184189, 'has died at': 0.6009314223178687, 'died out in': 0.5955113445095709, 'have died on': 0.592804151303739, 'died about': 0.5817014537822017, 'died out of': 0.5812892949440985, 'died over': 0.5752810630165572, 'later died in': 0.5683485871503017, 'died later in': 0.5683485871503017, 'died in about': 0.5662590848656345, 'died in very': 0.5577329618674586, 'later died of': 0.5559459243757767, 'died later of': 0.5559459243757767, 'had died from': 0.5557576633576067, 'died after': 0.5512914940065723, 'died between': 0.54704080824945, 'died near': 0.5464672185891063, 'died under': 0.5428178747685912, 'have died from': 0.5410483179602452, 'died around': 0.5365452647374116, 'died out by': 0.5347473468196131, 'died within': 0.5301720509593737, 'eventually died in': 0.5265803391138069, 'eventually died of': 0.516670464081339}\n"
          ]
        }
      ]
    },
    {
      "cell_type": "code",
      "metadata": {
        "id": "ybJtRKB9QbZM"
      },
      "source": [
        ""
      ],
      "execution_count": 5,
      "outputs": []
    },
    {
      "cell_type": "code",
      "metadata": {
        "id": "7J4bG2AWUr7L",
        "colab": {
          "base_uri": "https://localhost:8080/",
          "height": 145,
          "referenced_widgets": [
            "f5b738cc922d4cdc96f23e689bfae125",
            "c8412ce31f994821947a748c372afb3a",
            "b6b15981e7724fee89b7b8887c09a8e1",
            "ca42f83942af476890f48f07e53179b0",
            "ca0fc7f583c24c8893b50dcf0a67aa51",
            "9c7a3ef846674646bd25d3f1d1c50a7d",
            "659c020c0af54f8cbc67be790d8e985e",
            "5f9e4178c03842169b39885a63aedfc9",
            "def792548cae421ea15a3016d4e48d51",
            "33fdea726c454b7b903644f8258a5f64",
            "4e9dd13a0fbb4762a2ef7ccf01a8cc85",
            "49a5c939d3924b279bdf54b384c1ee54",
            "b8635c37667b4d1da616a07b217c03eb",
            "b41872b886bb43daa87dc826da3171b3",
            "f6e39572f63a499282d4272a83aab0d7",
            "198173af2f9c47e281c00799680a8978",
            "96d443cdeb294d9883bf937edeb89d17",
            "33afe5d31f0343cb93b827f8e313c7d6",
            "5aef43377cb54b199482cf2beed5277f",
            "b6db7434baef4e3bb19bdd3ae75fbd8f",
            "be33e747e14b416eb5b3db519db696e7",
            "e886680e194b4b0e9e59d00490589638",
            "cbddd64cb020489585ad93220e2427bf",
            "b3786195071b43cba69398a30c85cd4e",
            "6ca22ffdfab945df9c94656f4e64b1dd",
            "6fe8a6ee2b26428093118f93d1925b1b",
            "ab0c1eb9c92742d8a358e1862b15de95",
            "a5c171dab97c4b88a6bc72d682970b0f",
            "f1e2fd857c3141a7a43649502568533f",
            "9d84219c65554744bb7cfaed7a0fbf7c",
            "3b58729af223466ca48f49451f84e2f3",
            "cd4b284c3bf94c9281aa2de7090ef77f",
            "e83177e1314b4daaaead5d12bc4157aa",
            "f2ef52873b01433583f5ce90eaed027d",
            "890d2a70c6ad4574a560946dcf704dc1",
            "e248fb2866b948889695e3cbb6442a1e",
            "7f87c7d8ce4e4bee90e68c6f1423a079",
            "034b66d8291343e2bb45d30c280a6054",
            "7c3617271b484132978a1fc0dd3368e9",
            "2ac0fc85d55d4f7ebcf53cd4a051a48f",
            "4887dbf7ab3a4ff3b06eccfe77a891f9",
            "96a26dafb8a547aa9a739c13ace24bdd",
            "7e368205a4734de4964a59c425af02bf",
            "3fdac280246147f6a093212de96880ae"
          ]
        },
        "outputId": "34336418-3ccc-4ff9-e9c6-71210b864739"
      },
      "source": [
        "from sklearn.preprocessing import LabelEncoder\n",
        "import numpy as np \n",
        "le = LabelEncoder()\n",
        "le.classes_ = np.load('/content/drive/MyDrive/data_freebase/classes.npy')\n",
        "config = AutoConfig.from_pretrained(\"/content/drive/MyDrive/data_freebase/classifier\")\n",
        "tokenizer = AutoTokenizer.from_pretrained(\"bert-base-uncased\")\n",
        "model = BertForSequenceClassification.from_pretrained(\"/content/drive/MyDrive/data_freebase/classifier\", num_labels=len(le.classes_))"
      ],
      "execution_count": 6,
      "outputs": [
        {
          "output_type": "display_data",
          "data": {
            "application/vnd.jupyter.widget-view+json": {
              "model_id": "f5b738cc922d4cdc96f23e689bfae125",
              "version_minor": 0,
              "version_major": 2
            },
            "text/plain": [
              "Downloading:   0%|          | 0.00/28.0 [00:00<?, ?B/s]"
            ]
          },
          "metadata": {}
        },
        {
          "output_type": "display_data",
          "data": {
            "application/vnd.jupyter.widget-view+json": {
              "model_id": "49a5c939d3924b279bdf54b384c1ee54",
              "version_minor": 0,
              "version_major": 2
            },
            "text/plain": [
              "Downloading:   0%|          | 0.00/570 [00:00<?, ?B/s]"
            ]
          },
          "metadata": {}
        },
        {
          "output_type": "display_data",
          "data": {
            "application/vnd.jupyter.widget-view+json": {
              "model_id": "cbddd64cb020489585ad93220e2427bf",
              "version_minor": 0,
              "version_major": 2
            },
            "text/plain": [
              "Downloading:   0%|          | 0.00/226k [00:00<?, ?B/s]"
            ]
          },
          "metadata": {}
        },
        {
          "output_type": "display_data",
          "data": {
            "application/vnd.jupyter.widget-view+json": {
              "model_id": "f2ef52873b01433583f5ce90eaed027d",
              "version_minor": 0,
              "version_major": 2
            },
            "text/plain": [
              "Downloading:   0%|          | 0.00/455k [00:00<?, ?B/s]"
            ]
          },
          "metadata": {}
        }
      ]
    },
    {
      "cell_type": "code",
      "metadata": {
        "id": "XAkxheRGYiP8"
      },
      "source": [
        "# convert raw text file to proper dataset object (based on task)\n",
        "import torch\n",
        "class ClassificationDataset(torch.utils.data.Dataset):\n",
        "    def __init__(self, encodings, labels):\n",
        "        # initialization\n",
        "        self.encodings = encodings\n",
        "        self.labels = labels\n",
        "    def __getitem__(self, idx):\n",
        "        # slicing method X[index]\n",
        "        item = {key: torch.tensor(val[idx]) for key, val in self.encodings.items()}\n",
        "        item['labels'] = torch.tensor(self.labels[idx])\n",
        "        return item\n",
        "    def __len__(self):\n",
        "        return len(self.labels)"
      ],
      "execution_count": 7,
      "outputs": []
    },
    {
      "cell_type": "code",
      "metadata": {
        "id": "9e4FRBk1X1at",
        "colab": {
          "base_uri": "https://localhost:8080/",
          "height": 93
        },
        "outputId": "25402de2-4671-44de-ce02-a39572e4ec35"
      },
      "source": [
        "test_texts = pd.read_excel('/content/drive/MyDrive/data_freebase/article_step_by_step_output.xlsx')['Question'].to_list()\n",
        "test_encodings = tokenizer(test_texts, truncation=True, padding=True, max_length=200)\n",
        "test_dataset = ClassificationDataset(test_encodings, [1 for _ in test_texts])\n",
        "training_args = TrainingArguments(\n",
        "    output_dir='./results',          # output directory\n",
        "    per_device_train_batch_size=128,  # batch size per device during training\n",
        "    per_device_eval_batch_size=128,   # batch size for evaluation\n",
        "  )\n",
        "trainer = Trainer(\n",
        "    model=model,\n",
        "    tokenizer=tokenizer,\n",
        "    args=training_args,\n",
        ")\n",
        "pred = trainer.predict(test_dataset)"
      ],
      "execution_count": 8,
      "outputs": [
        {
          "output_type": "stream",
          "name": "stderr",
          "text": [
            "***** Running Prediction *****\n",
            "  Num examples = 26622\n",
            "  Batch size = 128\n"
          ]
        },
        {
          "output_type": "display_data",
          "data": {
            "text/html": [
              "\n",
              "    <div>\n",
              "      \n",
              "      <progress value='208' max='208' style='width:300px; height:20px; vertical-align: middle;'></progress>\n",
              "      [208/208 01:34]\n",
              "    </div>\n",
              "    "
            ],
            "text/plain": [
              "<IPython.core.display.HTML object>"
            ]
          },
          "metadata": {}
        }
      ]
    },
    {
      "cell_type": "code",
      "metadata": {
        "id": "nbQqEpT6X1X6"
      },
      "source": [
        "def softmax(x):\n",
        "    f_x = np.exp(x) / np.sum(np.exp(x))\n",
        "    return f_x\n",
        "\n",
        "freebase = []\n",
        "for idx, item in enumerate(pred.predictions):\n",
        "  temp = softmax(item)\n",
        "  indices = temp.argsort()\n",
        "  fb = [(le.inverse_transform([indices[-i]])[0], temp[indices[-i]]) for i in range(10)]\n",
        "  freebase.append(sorted(fb, key=lambda item:item[-1], reverse=True))\n",
        "\n",
        "debug = pd.DataFrame({\n",
        "                      'Question':test_texts,\n",
        "                      'Freebase':freebase,\n",
        "                     })\n"
      ],
      "execution_count": 9,
      "outputs": []
    },
    {
      "cell_type": "code",
      "metadata": {
        "id": "qttQFpekX1Ut",
        "colab": {
          "base_uri": "https://localhost:8080/"
        },
        "outputId": "00726147-5bd7-42e8-de83-538ad58a0717"
      },
      "source": [
        "debug.Freebase[0]"
      ],
      "execution_count": 10,
      "outputs": [
        {
          "output_type": "execute_result",
          "data": {
            "text/plain": [
              "[('fb:music.album.genre', 0.99334216),\n",
              " ('fb:music.artist.genre', 0.0015634565),\n",
              " ('fb:music.album.album_content_type', 0.0009308751),\n",
              " ('fb:film.film.genre', 0.0003940534),\n",
              " ('fb:music.genre.parent_genre', 0.00027316765),\n",
              " ('fb:media_common.netflix_title.netflix_genres', 0.00012869545),\n",
              " ('fb:tv.tv_program.genre', 0.00012649997),\n",
              " ('fb:film.film.music', 0.00011775878),\n",
              " ('fb:broadcast.content.genre', 0.000111410765),\n",
              " ('fb:astronomy.astronomer.astronomical_objects_discovered', 2.580119e-08)]"
            ]
          },
          "metadata": {},
          "execution_count": 10
        }
      ]
    },
    {
      "cell_type": "code",
      "metadata": {
        "id": "UMC8TVIuX1LF",
        "colab": {
          "base_uri": "https://localhost:8080/",
          "height": 329
        },
        "outputId": "6a0f2a23-5792-463e-ac50-6e515e92da03"
      },
      "source": [
        "RKBG = ReverbKnowledgeBase(r'/content/drive/MyDrive/data_freebase/reverb_wikipedia_tuples-1.1.txt') #\t'./sample_reverb_tuples.txt'\n",
        "test_df = pd.read_excel('/content/drive/MyDrive/data_freebase/article_step_by_step_output.xlsx')\n",
        "test_df.head()\n",
        "# print(RKBG.tfidf_query(node='abegg', edge='did die'))"
      ],
      "execution_count": 11,
      "outputs": [
        {
          "output_type": "stream",
          "name": "stderr",
          "text": [
            "Indexing ...: 100%|██████████| 407236/407236 [01:03<00:00, 6450.18it/s]\n"
          ]
        },
        {
          "output_type": "execute_result",
          "data": {
            "text/html": [
              "<div>\n",
              "<style scoped>\n",
              "    .dataframe tbody tr th:only-of-type {\n",
              "        vertical-align: middle;\n",
              "    }\n",
              "\n",
              "    .dataframe tbody tr th {\n",
              "        vertical-align: top;\n",
              "    }\n",
              "\n",
              "    .dataframe thead th {\n",
              "        text-align: right;\n",
              "    }\n",
              "</style>\n",
              "<table border=\"1\" class=\"dataframe\">\n",
              "  <thead>\n",
              "    <tr style=\"text-align: right;\">\n",
              "      <th></th>\n",
              "      <th>Unnamed: 0</th>\n",
              "      <th>Question</th>\n",
              "      <th>input_token_ids</th>\n",
              "      <th>nodes_borders</th>\n",
              "      <th>edges_spans</th>\n",
              "      <th>node</th>\n",
              "      <th>edges</th>\n",
              "      <th>question</th>\n",
              "    </tr>\n",
              "  </thead>\n",
              "  <tbody>\n",
              "    <tr>\n",
              "      <th>0</th>\n",
              "      <td>0</td>\n",
              "      <td>which genre of album is harder ... ..faster ?</td>\n",
              "      <td>[101, 2029, 6907, 1997, 2201, 2003, 6211, 1012...</td>\n",
              "      <td>[[6, 13]]</td>\n",
              "      <td>[[0 0 1 1 1 1 0 0 0 0 0 0 0 1 0]]</td>\n",
              "      <td>harder . . . . . faster</td>\n",
              "      <td>genre of album is ?</td>\n",
              "      <td>['which', 'genre', 'of', 'album', 'is', 'harde...</td>\n",
              "    </tr>\n",
              "    <tr>\n",
              "      <th>1</th>\n",
              "      <td>1</td>\n",
              "      <td>what format is fearless</td>\n",
              "      <td>[101, 2054, 4289, 2003, 22518, 102]</td>\n",
              "      <td>[[4, 5]]</td>\n",
              "      <td>[[0 0 1 1 0 0]]</td>\n",
              "      <td>fearless</td>\n",
              "      <td>format is</td>\n",
              "      <td>['what', 'format', 'is', 'fearless']</td>\n",
              "    </tr>\n",
              "    <tr>\n",
              "      <th>2</th>\n",
              "      <td>2</td>\n",
              "      <td>what city was alex golfis born in</td>\n",
              "      <td>[101, 2054, 2103, 2001, 4074, 5439, 2483, 2141...</td>\n",
              "      <td>[[4, 7]]</td>\n",
              "      <td>[[0 0 1 1 0 0 0 1 1 0]]</td>\n",
              "      <td>alex golfis</td>\n",
              "      <td>city was born in</td>\n",
              "      <td>['what', 'city', 'was', 'alex', 'golfis', 'bor...</td>\n",
              "    </tr>\n",
              "    <tr>\n",
              "      <th>3</th>\n",
              "      <td>3</td>\n",
              "      <td>what film is by the writer phil hay ?</td>\n",
              "      <td>[101, 2054, 2143, 2003, 2011, 1996, 3213, 6316...</td>\n",
              "      <td>[[7, 9]]</td>\n",
              "      <td>[[0 0 1 1 1 1 1 0 0 1 0]]</td>\n",
              "      <td>phil hay</td>\n",
              "      <td>film is by the writer ?</td>\n",
              "      <td>['what', 'film', 'is', 'by', 'the', 'writer', ...</td>\n",
              "    </tr>\n",
              "    <tr>\n",
              "      <th>4</th>\n",
              "      <td>4</td>\n",
              "      <td>where did roger marquis die</td>\n",
              "      <td>[101, 2073, 2106, 5074, 13410, 3280, 102]</td>\n",
              "      <td>[[3, 5]]</td>\n",
              "      <td>[[0 0 1 0 0 1 0]]</td>\n",
              "      <td>roger marquis</td>\n",
              "      <td>did die</td>\n",
              "      <td>['where', 'did', 'roger', 'marquis', 'die']</td>\n",
              "    </tr>\n",
              "  </tbody>\n",
              "</table>\n",
              "</div>"
            ],
            "text/plain": [
              "   Unnamed: 0  ...                                           question\n",
              "0           0  ...  ['which', 'genre', 'of', 'album', 'is', 'harde...\n",
              "1           1  ...               ['what', 'format', 'is', 'fearless']\n",
              "2           2  ...  ['what', 'city', 'was', 'alex', 'golfis', 'bor...\n",
              "3           3  ...  ['what', 'film', 'is', 'by', 'the', 'writer', ...\n",
              "4           4  ...        ['where', 'did', 'roger', 'marquis', 'die']\n",
              "\n",
              "[5 rows x 8 columns]"
            ]
          },
          "metadata": {},
          "execution_count": 11
        }
      ]
    },
    {
      "cell_type": "code",
      "metadata": {
        "id": "09FxadkCN_kt",
        "colab": {
          "base_uri": "https://localhost:8080/"
        },
        "outputId": "6065ff73-ab4f-4c21-b506-b7aa8f945bb7"
      },
      "source": [
        "reverb = []\n",
        "\n",
        "for idx, row in tqdm(test_df.iterrows(), total=test_df.shape[0], desc='Predicting ...'):\n",
        "  reverb.append(RKBG.tfidf_query(node=row['node'], edge=row['edges']))"
      ],
      "execution_count": 12,
      "outputs": [
        {
          "output_type": "stream",
          "name": "stderr",
          "text": [
            "Predicting ...: 100%|██████████| 26622/26622 [1:47:11<00:00,  4.14it/s]\n"
          ]
        }
      ]
    },
    {
      "cell_type": "code",
      "metadata": {
        "id": "k0uh9xzuShTs",
        "colab": {
          "base_uri": "https://localhost:8080/"
        },
        "outputId": "b07e52da-a20e-4ea7-d176-4eb08d15ee74"
      },
      "source": [
        "from google.colab import drive\n",
        "drive.mount('/content/drive')"
      ],
      "execution_count": 2,
      "outputs": [
        {
          "output_type": "stream",
          "name": "stdout",
          "text": [
            "Mounted at /content/drive\n"
          ]
        }
      ]
    },
    {
      "cell_type": "code",
      "metadata": {
        "id": "dpD9oYWRcCNo",
        "outputId": "6f93c4b8-f1e3-45ea-8d9c-af1dbf191180",
        "colab": {
          "base_uri": "https://localhost:8080/"
        }
      },
      "source": [
        "len(reverb)"
      ],
      "execution_count": 13,
      "outputs": [
        {
          "output_type": "execute_result",
          "data": {
            "text/plain": [
              "26622"
            ]
          },
          "metadata": {},
          "execution_count": 13
        }
      ]
    },
    {
      "cell_type": "code",
      "metadata": {
        "id": "Il9V7kIVDbPV"
      },
      "source": [
        "debug['Reverb'] = reverb"
      ],
      "execution_count": 14,
      "outputs": []
    },
    {
      "cell_type": "code",
      "metadata": {
        "id": "EcjrkGk_DkhE"
      },
      "source": [
        "debug.to_excel('/content/drive/MyDrive/data_freebase/dbg.xlsx', index=False)"
      ],
      "execution_count": 15,
      "outputs": []
    },
    {
      "cell_type": "code",
      "metadata": {
        "id": "B6zQiwbUDulT"
      },
      "source": [
        ""
      ],
      "execution_count": null,
      "outputs": []
    }
  ]
}