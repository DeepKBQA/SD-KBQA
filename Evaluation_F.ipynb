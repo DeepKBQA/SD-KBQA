{
  "nbformat": 4,
  "nbformat_minor": 0,
  "metadata": {
    "colab": {
      "name": "Evaluation.ipynb",
      "provenance": [],
      "include_colab_link": true
    },
    "kernelspec": {
      "name": "python3",
      "display_name": "Python 3"
    },
    "language_info": {
      "name": "python"
    },
    "widgets": {
      "application/vnd.jupyter.widget-state+json": {
        "2d20cce887d44008aa0b5cf2e55a140e": {
          "model_module": "@jupyter-widgets/controls",
          "model_name": "HBoxModel",
          "model_module_version": "1.5.0",
          "state": {
            "_view_name": "HBoxView",
            "_dom_classes": [],
            "_model_name": "HBoxModel",
            "_view_module": "@jupyter-widgets/controls",
            "_model_module_version": "1.5.0",
            "_view_count": null,
            "_view_module_version": "1.5.0",
            "box_style": "",
            "layout": "IPY_MODEL_7dbc04129cad4f6cb0879226849d2287",
            "_model_module": "@jupyter-widgets/controls",
            "children": [
              "IPY_MODEL_c96b0af7062f4b56a86f12d9b4f07417",
              "IPY_MODEL_3617740be8c649d4947c0106f628aae4",
              "IPY_MODEL_f8357cde4d874af0b518d4cac55d7a47"
            ]
          }
        },
        "7dbc04129cad4f6cb0879226849d2287": {
          "model_module": "@jupyter-widgets/base",
          "model_name": "LayoutModel",
          "model_module_version": "1.2.0",
          "state": {
            "_view_name": "LayoutView",
            "grid_template_rows": null,
            "right": null,
            "justify_content": null,
            "_view_module": "@jupyter-widgets/base",
            "overflow": null,
            "_model_module_version": "1.2.0",
            "_view_count": null,
            "flex_flow": null,
            "width": null,
            "min_width": null,
            "border": null,
            "align_items": null,
            "bottom": null,
            "_model_module": "@jupyter-widgets/base",
            "top": null,
            "grid_column": null,
            "overflow_y": null,
            "overflow_x": null,
            "grid_auto_flow": null,
            "grid_area": null,
            "grid_template_columns": null,
            "flex": null,
            "_model_name": "LayoutModel",
            "justify_items": null,
            "grid_row": null,
            "max_height": null,
            "align_content": null,
            "visibility": null,
            "align_self": null,
            "height": null,
            "min_height": null,
            "padding": null,
            "grid_auto_rows": null,
            "grid_gap": null,
            "max_width": null,
            "order": null,
            "_view_module_version": "1.2.0",
            "grid_template_areas": null,
            "object_position": null,
            "object_fit": null,
            "grid_auto_columns": null,
            "margin": null,
            "display": null,
            "left": null
          }
        },
        "c96b0af7062f4b56a86f12d9b4f07417": {
          "model_module": "@jupyter-widgets/controls",
          "model_name": "HTMLModel",
          "model_module_version": "1.5.0",
          "state": {
            "_view_name": "HTMLView",
            "style": "IPY_MODEL_5f1163aeeb514fbaa1e14bcf88fead1b",
            "_dom_classes": [],
            "description": "",
            "_model_name": "HTMLModel",
            "placeholder": "​",
            "_view_module": "@jupyter-widgets/controls",
            "_model_module_version": "1.5.0",
            "value": "Combining Relations ... : 100%",
            "_view_count": null,
            "_view_module_version": "1.5.0",
            "description_tooltip": null,
            "_model_module": "@jupyter-widgets/controls",
            "layout": "IPY_MODEL_2eb209cf22404f2da71d6ff758f39add"
          }
        },
        "3617740be8c649d4947c0106f628aae4": {
          "model_module": "@jupyter-widgets/controls",
          "model_name": "FloatProgressModel",
          "model_module_version": "1.5.0",
          "state": {
            "_view_name": "ProgressView",
            "style": "IPY_MODEL_1198d62590fb4cc0a8a157becc94252d",
            "_dom_classes": [],
            "description": "",
            "_model_name": "FloatProgressModel",
            "bar_style": "success",
            "max": 407267,
            "_view_module": "@jupyter-widgets/controls",
            "_model_module_version": "1.5.0",
            "value": 407267,
            "_view_count": null,
            "_view_module_version": "1.5.0",
            "orientation": "horizontal",
            "min": 0,
            "description_tooltip": null,
            "_model_module": "@jupyter-widgets/controls",
            "layout": "IPY_MODEL_fb6b0833372f4ca2911af3cb8ef26c94"
          }
        },
        "f8357cde4d874af0b518d4cac55d7a47": {
          "model_module": "@jupyter-widgets/controls",
          "model_name": "HTMLModel",
          "model_module_version": "1.5.0",
          "state": {
            "_view_name": "HTMLView",
            "style": "IPY_MODEL_898d7d894b1e406591e2b5adfc2fac99",
            "_dom_classes": [],
            "description": "",
            "_model_name": "HTMLModel",
            "placeholder": "​",
            "_view_module": "@jupyter-widgets/controls",
            "_model_module_version": "1.5.0",
            "value": " 407267/407267 [00:47&lt;00:00, 8532.63it/s]",
            "_view_count": null,
            "_view_module_version": "1.5.0",
            "description_tooltip": null,
            "_model_module": "@jupyter-widgets/controls",
            "layout": "IPY_MODEL_31c1701ec50744729ffa461e7ebecfa8"
          }
        },
        "5f1163aeeb514fbaa1e14bcf88fead1b": {
          "model_module": "@jupyter-widgets/controls",
          "model_name": "DescriptionStyleModel",
          "model_module_version": "1.5.0",
          "state": {
            "_view_name": "StyleView",
            "_model_name": "DescriptionStyleModel",
            "description_width": "",
            "_view_module": "@jupyter-widgets/base",
            "_model_module_version": "1.5.0",
            "_view_count": null,
            "_view_module_version": "1.2.0",
            "_model_module": "@jupyter-widgets/controls"
          }
        },
        "2eb209cf22404f2da71d6ff758f39add": {
          "model_module": "@jupyter-widgets/base",
          "model_name": "LayoutModel",
          "model_module_version": "1.2.0",
          "state": {
            "_view_name": "LayoutView",
            "grid_template_rows": null,
            "right": null,
            "justify_content": null,
            "_view_module": "@jupyter-widgets/base",
            "overflow": null,
            "_model_module_version": "1.2.0",
            "_view_count": null,
            "flex_flow": null,
            "width": null,
            "min_width": null,
            "border": null,
            "align_items": null,
            "bottom": null,
            "_model_module": "@jupyter-widgets/base",
            "top": null,
            "grid_column": null,
            "overflow_y": null,
            "overflow_x": null,
            "grid_auto_flow": null,
            "grid_area": null,
            "grid_template_columns": null,
            "flex": null,
            "_model_name": "LayoutModel",
            "justify_items": null,
            "grid_row": null,
            "max_height": null,
            "align_content": null,
            "visibility": null,
            "align_self": null,
            "height": null,
            "min_height": null,
            "padding": null,
            "grid_auto_rows": null,
            "grid_gap": null,
            "max_width": null,
            "order": null,
            "_view_module_version": "1.2.0",
            "grid_template_areas": null,
            "object_position": null,
            "object_fit": null,
            "grid_auto_columns": null,
            "margin": null,
            "display": null,
            "left": null
          }
        },
        "1198d62590fb4cc0a8a157becc94252d": {
          "model_module": "@jupyter-widgets/controls",
          "model_name": "ProgressStyleModel",
          "model_module_version": "1.5.0",
          "state": {
            "_view_name": "StyleView",
            "_model_name": "ProgressStyleModel",
            "description_width": "",
            "_view_module": "@jupyter-widgets/base",
            "_model_module_version": "1.5.0",
            "_view_count": null,
            "_view_module_version": "1.2.0",
            "bar_color": null,
            "_model_module": "@jupyter-widgets/controls"
          }
        },
        "fb6b0833372f4ca2911af3cb8ef26c94": {
          "model_module": "@jupyter-widgets/base",
          "model_name": "LayoutModel",
          "model_module_version": "1.2.0",
          "state": {
            "_view_name": "LayoutView",
            "grid_template_rows": null,
            "right": null,
            "justify_content": null,
            "_view_module": "@jupyter-widgets/base",
            "overflow": null,
            "_model_module_version": "1.2.0",
            "_view_count": null,
            "flex_flow": null,
            "width": null,
            "min_width": null,
            "border": null,
            "align_items": null,
            "bottom": null,
            "_model_module": "@jupyter-widgets/base",
            "top": null,
            "grid_column": null,
            "overflow_y": null,
            "overflow_x": null,
            "grid_auto_flow": null,
            "grid_area": null,
            "grid_template_columns": null,
            "flex": null,
            "_model_name": "LayoutModel",
            "justify_items": null,
            "grid_row": null,
            "max_height": null,
            "align_content": null,
            "visibility": null,
            "align_self": null,
            "height": null,
            "min_height": null,
            "padding": null,
            "grid_auto_rows": null,
            "grid_gap": null,
            "max_width": null,
            "order": null,
            "_view_module_version": "1.2.0",
            "grid_template_areas": null,
            "object_position": null,
            "object_fit": null,
            "grid_auto_columns": null,
            "margin": null,
            "display": null,
            "left": null
          }
        },
        "898d7d894b1e406591e2b5adfc2fac99": {
          "model_module": "@jupyter-widgets/controls",
          "model_name": "DescriptionStyleModel",
          "model_module_version": "1.5.0",
          "state": {
            "_view_name": "StyleView",
            "_model_name": "DescriptionStyleModel",
            "description_width": "",
            "_view_module": "@jupyter-widgets/base",
            "_model_module_version": "1.5.0",
            "_view_count": null,
            "_view_module_version": "1.2.0",
            "_model_module": "@jupyter-widgets/controls"
          }
        },
        "31c1701ec50744729ffa461e7ebecfa8": {
          "model_module": "@jupyter-widgets/base",
          "model_name": "LayoutModel",
          "model_module_version": "1.2.0",
          "state": {
            "_view_name": "LayoutView",
            "grid_template_rows": null,
            "right": null,
            "justify_content": null,
            "_view_module": "@jupyter-widgets/base",
            "overflow": null,
            "_model_module_version": "1.2.0",
            "_view_count": null,
            "flex_flow": null,
            "width": null,
            "min_width": null,
            "border": null,
            "align_items": null,
            "bottom": null,
            "_model_module": "@jupyter-widgets/base",
            "top": null,
            "grid_column": null,
            "overflow_y": null,
            "overflow_x": null,
            "grid_auto_flow": null,
            "grid_area": null,
            "grid_template_columns": null,
            "flex": null,
            "_model_name": "LayoutModel",
            "justify_items": null,
            "grid_row": null,
            "max_height": null,
            "align_content": null,
            "visibility": null,
            "align_self": null,
            "height": null,
            "min_height": null,
            "padding": null,
            "grid_auto_rows": null,
            "grid_gap": null,
            "max_width": null,
            "order": null,
            "_view_module_version": "1.2.0",
            "grid_template_areas": null,
            "object_position": null,
            "object_fit": null,
            "grid_auto_columns": null,
            "margin": null,
            "display": null,
            "left": null
          }
        },
        "500059f3552d4004a7e5a941f8c6a86a": {
          "model_module": "@jupyter-widgets/controls",
          "model_name": "HBoxModel",
          "model_module_version": "1.5.0",
          "state": {
            "_view_name": "HBoxView",
            "_dom_classes": [],
            "_model_name": "HBoxModel",
            "_view_module": "@jupyter-widgets/controls",
            "_model_module_version": "1.5.0",
            "_view_count": null,
            "_view_module_version": "1.5.0",
            "box_style": "",
            "layout": "IPY_MODEL_87db0144a0ef45e39cda4f08a9974013",
            "_model_module": "@jupyter-widgets/controls",
            "children": [
              "IPY_MODEL_ba284e4aa53d4ce6a59ed5733e84d7ee",
              "IPY_MODEL_e58c2169d0404bdba6b2fee20864b492",
              "IPY_MODEL_da185b895b1045eab4b5066cee6e73c4"
            ]
          }
        },
        "87db0144a0ef45e39cda4f08a9974013": {
          "model_module": "@jupyter-widgets/base",
          "model_name": "LayoutModel",
          "model_module_version": "1.2.0",
          "state": {
            "_view_name": "LayoutView",
            "grid_template_rows": null,
            "right": null,
            "justify_content": null,
            "_view_module": "@jupyter-widgets/base",
            "overflow": null,
            "_model_module_version": "1.2.0",
            "_view_count": null,
            "flex_flow": null,
            "width": null,
            "min_width": null,
            "border": null,
            "align_items": null,
            "bottom": null,
            "_model_module": "@jupyter-widgets/base",
            "top": null,
            "grid_column": null,
            "overflow_y": null,
            "overflow_x": null,
            "grid_auto_flow": null,
            "grid_area": null,
            "grid_template_columns": null,
            "flex": null,
            "_model_name": "LayoutModel",
            "justify_items": null,
            "grid_row": null,
            "max_height": null,
            "align_content": null,
            "visibility": null,
            "align_self": null,
            "height": null,
            "min_height": null,
            "padding": null,
            "grid_auto_rows": null,
            "grid_gap": null,
            "max_width": null,
            "order": null,
            "_view_module_version": "1.2.0",
            "grid_template_areas": null,
            "object_position": null,
            "object_fit": null,
            "grid_auto_columns": null,
            "margin": null,
            "display": null,
            "left": null
          }
        },
        "ba284e4aa53d4ce6a59ed5733e84d7ee": {
          "model_module": "@jupyter-widgets/controls",
          "model_name": "HTMLModel",
          "model_module_version": "1.5.0",
          "state": {
            "_view_name": "HTMLView",
            "style": "IPY_MODEL_c3cb9fee8123445db40a047bbc2b1b90",
            "_dom_classes": [],
            "description": "",
            "_model_name": "HTMLModel",
            "placeholder": "​",
            "_view_module": "@jupyter-widgets/controls",
            "_model_module_version": "1.5.0",
            "value": "100%",
            "_view_count": null,
            "_view_module_version": "1.5.0",
            "description_tooltip": null,
            "_model_module": "@jupyter-widgets/controls",
            "layout": "IPY_MODEL_778a6f9634b94a579ba28be59da4aa3a"
          }
        },
        "e58c2169d0404bdba6b2fee20864b492": {
          "model_module": "@jupyter-widgets/controls",
          "model_name": "FloatProgressModel",
          "model_module_version": "1.5.0",
          "state": {
            "_view_name": "ProgressView",
            "style": "IPY_MODEL_d3f240a1c7f8415c9fc6e88c9930b89b",
            "_dom_classes": [],
            "description": "",
            "_model_name": "FloatProgressModel",
            "bar_style": "success",
            "max": 26644,
            "_view_module": "@jupyter-widgets/controls",
            "_model_module_version": "1.5.0",
            "value": 26644,
            "_view_count": null,
            "_view_module_version": "1.5.0",
            "orientation": "horizontal",
            "min": 0,
            "description_tooltip": null,
            "_model_module": "@jupyter-widgets/controls",
            "layout": "IPY_MODEL_2f1d9561dab345e3b4d07331c208586f"
          }
        },
        "da185b895b1045eab4b5066cee6e73c4": {
          "model_module": "@jupyter-widgets/controls",
          "model_name": "HTMLModel",
          "model_module_version": "1.5.0",
          "state": {
            "_view_name": "HTMLView",
            "style": "IPY_MODEL_b11f73797e1d41c5a4fcb01c3c29859e",
            "_dom_classes": [],
            "description": "",
            "_model_name": "HTMLModel",
            "placeholder": "​",
            "_view_module": "@jupyter-widgets/controls",
            "_model_module_version": "1.5.0",
            "value": " 26644/26644 [00:24&lt;00:00, 1010.56it/s]",
            "_view_count": null,
            "_view_module_version": "1.5.0",
            "description_tooltip": null,
            "_model_module": "@jupyter-widgets/controls",
            "layout": "IPY_MODEL_09057d01becf455293e3aa66b6a8ed68"
          }
        },
        "c3cb9fee8123445db40a047bbc2b1b90": {
          "model_module": "@jupyter-widgets/controls",
          "model_name": "DescriptionStyleModel",
          "model_module_version": "1.5.0",
          "state": {
            "_view_name": "StyleView",
            "_model_name": "DescriptionStyleModel",
            "description_width": "",
            "_view_module": "@jupyter-widgets/base",
            "_model_module_version": "1.5.0",
            "_view_count": null,
            "_view_module_version": "1.2.0",
            "_model_module": "@jupyter-widgets/controls"
          }
        },
        "778a6f9634b94a579ba28be59da4aa3a": {
          "model_module": "@jupyter-widgets/base",
          "model_name": "LayoutModel",
          "model_module_version": "1.2.0",
          "state": {
            "_view_name": "LayoutView",
            "grid_template_rows": null,
            "right": null,
            "justify_content": null,
            "_view_module": "@jupyter-widgets/base",
            "overflow": null,
            "_model_module_version": "1.2.0",
            "_view_count": null,
            "flex_flow": null,
            "width": null,
            "min_width": null,
            "border": null,
            "align_items": null,
            "bottom": null,
            "_model_module": "@jupyter-widgets/base",
            "top": null,
            "grid_column": null,
            "overflow_y": null,
            "overflow_x": null,
            "grid_auto_flow": null,
            "grid_area": null,
            "grid_template_columns": null,
            "flex": null,
            "_model_name": "LayoutModel",
            "justify_items": null,
            "grid_row": null,
            "max_height": null,
            "align_content": null,
            "visibility": null,
            "align_self": null,
            "height": null,
            "min_height": null,
            "padding": null,
            "grid_auto_rows": null,
            "grid_gap": null,
            "max_width": null,
            "order": null,
            "_view_module_version": "1.2.0",
            "grid_template_areas": null,
            "object_position": null,
            "object_fit": null,
            "grid_auto_columns": null,
            "margin": null,
            "display": null,
            "left": null
          }
        },
        "d3f240a1c7f8415c9fc6e88c9930b89b": {
          "model_module": "@jupyter-widgets/controls",
          "model_name": "ProgressStyleModel",
          "model_module_version": "1.5.0",
          "state": {
            "_view_name": "StyleView",
            "_model_name": "ProgressStyleModel",
            "description_width": "",
            "_view_module": "@jupyter-widgets/base",
            "_model_module_version": "1.5.0",
            "_view_count": null,
            "_view_module_version": "1.2.0",
            "bar_color": null,
            "_model_module": "@jupyter-widgets/controls"
          }
        },
        "2f1d9561dab345e3b4d07331c208586f": {
          "model_module": "@jupyter-widgets/base",
          "model_name": "LayoutModel",
          "model_module_version": "1.2.0",
          "state": {
            "_view_name": "LayoutView",
            "grid_template_rows": null,
            "right": null,
            "justify_content": null,
            "_view_module": "@jupyter-widgets/base",
            "overflow": null,
            "_model_module_version": "1.2.0",
            "_view_count": null,
            "flex_flow": null,
            "width": null,
            "min_width": null,
            "border": null,
            "align_items": null,
            "bottom": null,
            "_model_module": "@jupyter-widgets/base",
            "top": null,
            "grid_column": null,
            "overflow_y": null,
            "overflow_x": null,
            "grid_auto_flow": null,
            "grid_area": null,
            "grid_template_columns": null,
            "flex": null,
            "_model_name": "LayoutModel",
            "justify_items": null,
            "grid_row": null,
            "max_height": null,
            "align_content": null,
            "visibility": null,
            "align_self": null,
            "height": null,
            "min_height": null,
            "padding": null,
            "grid_auto_rows": null,
            "grid_gap": null,
            "max_width": null,
            "order": null,
            "_view_module_version": "1.2.0",
            "grid_template_areas": null,
            "object_position": null,
            "object_fit": null,
            "grid_auto_columns": null,
            "margin": null,
            "display": null,
            "left": null
          }
        },
        "b11f73797e1d41c5a4fcb01c3c29859e": {
          "model_module": "@jupyter-widgets/controls",
          "model_name": "DescriptionStyleModel",
          "model_module_version": "1.5.0",
          "state": {
            "_view_name": "StyleView",
            "_model_name": "DescriptionStyleModel",
            "description_width": "",
            "_view_module": "@jupyter-widgets/base",
            "_model_module_version": "1.5.0",
            "_view_count": null,
            "_view_module_version": "1.2.0",
            "_model_module": "@jupyter-widgets/controls"
          }
        },
        "09057d01becf455293e3aa66b6a8ed68": {
          "model_module": "@jupyter-widgets/base",
          "model_name": "LayoutModel",
          "model_module_version": "1.2.0",
          "state": {
            "_view_name": "LayoutView",
            "grid_template_rows": null,
            "right": null,
            "justify_content": null,
            "_view_module": "@jupyter-widgets/base",
            "overflow": null,
            "_model_module_version": "1.2.0",
            "_view_count": null,
            "flex_flow": null,
            "width": null,
            "min_width": null,
            "border": null,
            "align_items": null,
            "bottom": null,
            "_model_module": "@jupyter-widgets/base",
            "top": null,
            "grid_column": null,
            "overflow_y": null,
            "overflow_x": null,
            "grid_auto_flow": null,
            "grid_area": null,
            "grid_template_columns": null,
            "flex": null,
            "_model_name": "LayoutModel",
            "justify_items": null,
            "grid_row": null,
            "max_height": null,
            "align_content": null,
            "visibility": null,
            "align_self": null,
            "height": null,
            "min_height": null,
            "padding": null,
            "grid_auto_rows": null,
            "grid_gap": null,
            "max_width": null,
            "order": null,
            "_view_module_version": "1.2.0",
            "grid_template_areas": null,
            "object_position": null,
            "object_fit": null,
            "grid_auto_columns": null,
            "margin": null,
            "display": null,
            "left": null
          }
        }
      }
    }
  },
  "cells": [
    {
      "cell_type": "markdown",
      "metadata": {
        "id": "view-in-github",
        "colab_type": "text"
      },
      "source": [
        "<a href=\"https://colab.research.google.com/github/meti-94/OpenQA/blob/main/Evaluation_F.ipynb\" target=\"_parent\"><img src=\"https://colab.research.google.com/assets/colab-badge.svg\" alt=\"Open In Colab\"/></a>"
      ]
    },
    {
      "cell_type": "markdown",
      "source": [
        "# Installing necessary libraries, some of them would be used in the underlying script "
      ],
      "metadata": {
        "id": "Dc_415tH1Eld"
      }
    },
    {
      "cell_type": "code",
      "source": [
        "!pip install transformers -q\n",
        "!pip install fuzzywuzzy -q\n",
        "!pip install python-Levenshtein -q"
      ],
      "metadata": {
        "id": "R2r2rYmdAp-d",
        "outputId": "9f984f8f-d941-415c-904f-f9f5e9c09cb6",
        "colab": {
          "base_uri": "https://localhost:8080/"
        }
      },
      "execution_count": 1,
      "outputs": [
        {
          "output_type": "stream",
          "name": "stdout",
          "text": [
            "\u001b[K     |████████████████████████████████| 3.3 MB 5.1 MB/s \n",
            "\u001b[K     |████████████████████████████████| 61 kB 487 kB/s \n",
            "\u001b[K     |████████████████████████████████| 596 kB 57.4 MB/s \n",
            "\u001b[K     |████████████████████████████████| 3.3 MB 40.2 MB/s \n",
            "\u001b[K     |████████████████████████████████| 895 kB 64.8 MB/s \n",
            "\u001b[K     |████████████████████████████████| 50 kB 3.1 MB/s \n",
            "\u001b[?25h  Building wheel for python-Levenshtein (setup.py) ... \u001b[?25l\u001b[?25hdone\n"
          ]
        }
      ]
    },
    {
      "cell_type": "markdown",
      "source": [
        "In this section we clone our repository and run the script for create Entity Linking candidates file. Default values for all the paths are pointing to the files which we already stored on google drive. Resulting file would be available after execution of the script with the name Linking.xlsx"
      ],
      "metadata": {
        "id": "wcAVPWs71U9A"
      }
    },
    {
      "cell_type": "code",
      "source": [
        "!git clone https://github.com/meti-94/OpenQA.git\n",
        "!python ./OpenQA/src/EntityLinking.py "
      ],
      "metadata": {
        "id": "NNk4Ixzk-0TW",
        "outputId": "c0c1249b-7e9b-4347-bef9-a97b97749eec",
        "colab": {
          "base_uri": "https://localhost:8080/"
        }
      },
      "execution_count": 4,
      "outputs": [
        {
          "output_type": "stream",
          "name": "stdout",
          "text": [
            "fatal: destination path 'OpenQA' already exists and is not an empty directory.\n",
            "[nltk_data] Downloading package stopwords to /root/nltk_data...\n",
            "[nltk_data]   Package stopwords is already up-to-date!\n",
            "Reverb Questions Count: 5003\tFreebase Questions Count: 21619\n",
            "100% 407267/407267 [00:47<00:00, 8508.08it/s]\n",
            "\n",
            "Total MIDs before augmentation: 1951909\tUnmatched (Added) MIDs: 669962\t Matched MIDs: 144572\n",
            "Total Entity Strings before augmentation: 17555942\tAdded Entity Strings: 138167\n",
            "Total type of text: 4936783\n",
            "Max Length of entry is 249717, text is [('fb:m.0fcp30v', 'concerto for violin , cello and orchestra in e minor , op. 85 : i. adagio : moderato', 'fb:common.topic.alias'), ('fb:m.02pm51q', 'haydenville , ohio', 'fb:common.topic.alias'), ('fb:m.01mbyz', 'amenia , new york', 'fb:common.topic.alias'), ('fb:m.03mhsr8', 'billecul , france', 'fb:common.topic.alias'), ('fb:m.0smxqky', \"variations on an original theme , op. 36 ( '' enigma '' ) : xii. variation 11 '' g.r.s. '' ( allegro di molto )\", 'fb:common.topic.alias'), ('fb:m.0sgjtx5', 'tomorrow feat. styalz fuego , megaman', 'fb:common.topic.alias'), ('fb:m.0clvs1m', 'saint elizabeth medical center school of radiography , main campus', 'fb:common.topic.alias'), ('fb:m.05gr17', 'timothy bell , baron bell', 'fb:type.object.name'), ('fb:m.07gz3zf', \"men 's weightlifting , bantamweight 52-56kg\", 'fb:type.object.name'), ('fb:m.0clvz0v', 'itt technical institute-knoxville , main campus', 'fb:common.topic.alias'), ('fb:m.0bhld1c', '[ lettered ] : allen , marsupials', 'fb:common.topic.alias'), ('fb:m.04862vx', 'new providence , alabama', 'fb:common.topic.alias'), ('fb:m.01rm6l0', 'carter , torrey', 'fb:common.topic.alias'), ('fb:m.09j69p', 'smoky lake , canada', 'fb:common.topic.alias'), ('fb:m.04t1s1r', 'climatic effects on individual , social , and economic behavior', 'fb:type.object.name'), ('fb:m.0w_y0', 'kinloch , missouri', 'fb:common.topic.alias'), ('fb:m.0486235', 'barnesville , alabama', 'fb:type.object.name'), ('fb:m.021zgd', 'death , deceit and destiny aboard the orient express', 'fb:type.object.name'), ('fb:m.02qw90h', 'tawa , edmonton', 'fb:type.object.name'), ('fb:m.0gk0xf', 'suzzara , italy', 'fb:common.topic.alias'), ('fb:m.051s3wc', 'baylands , fremont', 'fb:common.topic.alias'), ('fb:m.0496n8z', 'makonikey , massachusetts', 'fb:common.topic.alias'), ('fb:m.03f4353', 'vanderveen , ad', 'fb:common.topic.alias'), ('fb:m.06x6czp', 'the invasion , episode two', 'fb:type.object.name'), ('fb:m.03g0qcw', 'the private collection , volume 5 : the suites , new york 1968 & 1970', 'fb:type.object.name'), ('fb:m.018m5q', 'fitzwilliam college , cambridge , main campus', 'fb:common.topic.alias'), ('fb:m.03mczyz', 'david harewood , mbe', 'fb:common.topic.alias'), ('fb:m.01km9_h', 'noi non ci saremo , volume 1', 'fb:type.object.name'), ('fb:m.04848h2', 'meadow hills , alabama', 'fb:common.topic.alias'), ('fb:m.01v_jkh', 'ashby , harold', 'fb:common.topic.alias'), ('fb:m.04hv47', 'ferdinand charles , archduke of austria', 'fb:type.object.name'), ('fb:m.04b52j5', 'pine lakes , north carolina', 'fb:common.topic.alias'), ('fb:m.0_lh39m', 'dr. jonathan prescott , jr .', 'fb:common.topic.alias'), ('fb:m.03cpdzh', 'arthur stewart , duke of rothesay', 'fb:type.object.name'), ('fb:m.0361tz2', 'cool country hits , volume 2', 'fb:type.object.name'), ('fb:m.04cbf56', 'kanneci , ahmet', 'fb:common.topic.alias'), ('fb:m.0488xwm', 'lowell , california', 'fb:type.object.name'), ('fb:m.0wb4q', 'folden township , minnesota', 'fb:common.topic.alias'), ('fb:m.02vqt1q', \"greatest hits of all times : remix '89 , volume ii\", 'fb:common.topic.alias'), ('fb:m.04bzj4k', 'columbia , utah', 'fb:common.topic.alias'), ('fb:m.0d0nhl', 'crystal palace barracks , london', 'fb:common.topic.alias'), ('fb:m.0xln3', 'cherry hill , new jersey', 'fb:common.topic.alias'), ('fb:m.0crsnpq', 'passport to europe : germany , switzerland & austria', 'fb:type.object.name'), ('fb:m.06_9lfp', 'glauber o filme , labirinto do brasil', 'fb:type.object.name'), ('fb:m.0hqt0h5', 'avobenzone , homosalate , octisalate , and oxybenzone 0.03/0.05/0.05/0.03 lotion', 'fb:type.object.name'), ('fb:m.0452dp', 'national institute of technology , karnataka', 'fb:type.object.name'), ('fb:m.042x5zv', 'greggs , white rose centre', 'fb:type.object.name'), ('fb:m.03cd7dh', 'mirror lake , columbus', 'fb:common.topic.alias'), ('fb:m.048t2ms', 'escambia farms , florida', 'fb:type.object.name'), ('fb:m.08xpv9', 'upper room , the', 'fb:common.topic.alias'), ('fb:m.0331y3b', 'more medication , please', 'fb:type.object.name'), ('fb:m.0vfl2', 'lewiston , michigan', 'fb:common.topic.alias'), ('fb:m.010xmb', 'glen dale , west virginia', 'fb:common.topic.alias'), ('fb:m.028_8n', 'mary , crown princess of denmark', 'fb:type.object.name'), ('fb:m.048tbfy', 'parkwood , georgia', 'fb:common.topic.alias'), ('fb:m.0mzltj', 'the planets , op. 32 : v. saturn , the bringer of old age', 'fb:type.object.name'), ('fb:m.0bmdm0', 'national academy of performing arts , main campus', 'fb:common.topic.alias'), ('fb:m.048qrqt', 'old mystic , connecticut', 'fb:common.topic.alias'), ('fb:m.01wn8v4', 'holte , wetle', 'fb:common.topic.alias'), ('fb:m.0_mnv2j', 'souvenirs , op. 28 pour piano a quatre mains : ii. schottische', 'fb:type.object.name'), ('fb:m.01m324', 'south park township , pennsylvania', 'fb:common.topic.alias'), ('fb:m.0rl7l', 'cheval , florida', 'fb:common.topic.alias'), ('fb:m.0rwb4', 'claxton , georgia', 'fb:common.topic.alias'), ('fb:m.04cyy1q', 'cortez lake , phoenix', 'fb:common.topic.alias'), ('fb:m.01vz_y6', \"o'dell , kenny\", 'fb:common.topic.alias'), ('fb:m.0tbr1', 'kismet , kansas', 'fb:common.topic.alias'), ('fb:m.04b6mnw', 'myrtle head , north carolina', 'fb:common.topic.alias'), ('fb:m.01kqdfh', 'four pennies , the', 'fb:common.topic.alias'), ('fb:m.026mv_2', 'isaar , wisconsin', 'fb:common.topic.alias'), ('fb:m.01w1d3x', 'johansson , inge', 'fb:common.topic.alias'), ('fb:m.067qy1', 'arkansas tech university , main campus', 'fb:common.topic.alias'), ('fb:m.0rllm', 'fellsmere , florida', 'fb:common.topic.alias'), ('fb:m.01rxtkw', 'watts , ernie', 'fb:common.topic.alias'), ('fb:m.03d0ls3', 'actin , gamma 1', 'fb:common.topic.alias'), ('fb:m.048z4v2', 'france , idaho', 'fb:common.topic.alias'), ('fb:m.05h6xrb', 'new malibu , orlando', 'fb:common.topic.alias'), ('fb:m.04b62cw', 'loftin farms , north carolina', 'fb:common.topic.alias'), ('fb:m.0hqrbkh', 'avobenzone , homosalate , octisalate , octocrylene , oxybenzone 0.03/0.1/0.05/0.027/0.05 lotion', 'fb:type.object.name'), ('fb:m.011780', 'greenville , wisconsin', 'fb:common.topic.alias'), ('fb:m.0cmc8kh', 'heald college-honolulu , main campus', 'fb:common.topic.alias'), ('fb:m.021m8b8', 'serine ( or cysteine ) proteinase inhibitor , clade h ( heat shock protein 47 ) , member 2', 'fb:common.topic.alias'), ('fb:m.03xnrvk', 'pace , alessandro', 'fb:common.topic.alias'), ('fb:m.02rvykc', 'heritage college , cooranbong', 'fb:common.topic.alias'), ('fb:m.03f2qnf', 'wood , james', 'fb:common.topic.alias'), ('fb:m.086vyy', 'alexina louie , oc frsc', 'fb:common.topic.alias'), ('fb:m.09rl2j2', 'baltimore ravens at indianapolis colts , 2010-01-16', 'fb:type.object.name'), ('fb:m.0409952', 'notre-dame-de-la-salette , canada', 'fb:common.topic.alias'), ('fb:m.049204s', 'wheatonville , indiana', 'fb:common.topic.alias'), ('fb:m.024g4qy', 'piano concerto no. 2 in c minor , op. 18 : iii. allegro scherzando', 'fb:type.object.name'), ('fb:m.0489wsm', 'old town , california', 'fb:common.topic.alias'), ('fb:m.0126nh', 'alphaville , a strange adventure of lemmy caution', 'fb:common.topic.alias'), ('fb:m.0fx6l2', 'david pannick , baron pannick', 'fb:type.object.name'), ('fb:m.03xn65y', 'zimba , atongo', 'fb:common.topic.alias'), ('fb:m.026p506', 'lubambo , romero', 'fb:common.topic.alias'), ('fb:m.0dgq04', 'marine state university , main campus', 'fb:common.topic.alias'), ('fb:m.0xwjw', 'rio en medio , new mexico', 'fb:common.topic.alias'), ('fb:m.0ysf3', 'west union , ohio', 'fb:common.topic.alias'), ('fb:m.04b0g0p', 'pine point , minnesota', 'fb:type.object.name'), ('fb:m.0487lc0', 'lofton , arkansas', 'fb:common.topic.alias'), ('fb:m.09gcprx', 'jones , illinois', 'fb:common.topic.alias')]\n",
            "26622it [00:54, 491.60it/s]\n",
            "test\n",
            "Top1 Entity Linking Accuracy: 0.5659980467282698\n",
            "Top3 Entity Linking Accuracy: 0.7026143790849673\n",
            "Top5 Entity Linking Accuracy: 0.7496807151979565\n",
            "Top10 Entity Linking Accuracy: 0.793178574111637\n",
            "Top20 Entity Linking Accuracy: 0.8289760348583878\n",
            "Top50 Entity Linking Accuracy: 0.8640222372473894\n",
            "Top100 Entity Linking Accuracy: 0.8884756967921268\n"
          ]
        }
      ]
    },
    {
      "cell_type": "markdown",
      "source": [
        "Importing necessary libraries "
      ],
      "metadata": {
        "id": "Lo3bxuSE2vVY"
      }
    },
    {
      "cell_type": "code",
      "metadata": {
        "id": "C2brb0osFDum"
      },
      "source": [
        "import pandas as pd\n",
        "import pickle\n",
        "from tqdm import tqdm\n",
        "from tqdm.notebook import tqdm\n",
        "tqdm.pandas()"
      ],
      "execution_count": 5,
      "outputs": []
    },
    {
      "cell_type": "code",
      "metadata": {
        "id": "6U3tSTJ23mft"
      },
      "source": [
        "# reading the file which contains the Entity Linking candidates for each question\n",
        "entity_df = pd.read_excel('/content/drive/MyDrive/data_freebase/Linking.xlsx')\n",
        "# reading the file which contains the relation candidates for each question\n",
        "relation_df = pd.read_excel('/content/drive/MyDrive/data_freebase/dbg.xlsx')\n",
        "# merging the relation and entity linking files\n",
        "predictions = pd.merge(entity_df, relation_df, on='Question').drop_duplicates()\n",
        "# reading reverb test portion, Question [question string] Triple [arg1, rel, arg2] and Reverb_no [which line the question was designed for]\n",
        "reverb_df = pd.read_excel('/content/drive/MyDrive/data_freebase/test.xlsx')[['Question', 'triple', 'Reverb_no']]\n",
        "reverb_df['Relation'] = reverb_df['triple'].apply(lambda item:eval(item)[1])\n",
        "reverb_df = reverb_df[['Question', 'Relation', 'Reverb_no']]\n",
        "# reading the freebase test portion and process it into the ground truth data like what we had earlier for reverb\n",
        "freebase_df = pd.read_excel('/content/drive/MyDrive/data_freebase/test_useful_records.xlsx')[['Question', 'relation_type']]\n",
        "freebase_df['Relation'] = freebase_df['relation_type']\n",
        "freebase_df['Reverb_no'] = freebase_df['relation_type'].apply(lambda item:'')\n",
        "freebase_df = freebase_df[['Question', 'Relation', 'Reverb_no']]\n",
        "# concatenating all grand truth data into a one object which must named actual based on machine learning methodology \n",
        "actuals = pd.concat([reverb_df, freebase_df])"
      ],
      "execution_count": 6,
      "outputs": []
    },
    {
      "cell_type": "code",
      "metadata": {
        "colab": {
          "base_uri": "https://localhost:8080/",
          "height": 521
        },
        "id": "vJTDJOYgPuDG",
        "outputId": "f6a9ec7b-f606-4268-9814-7de86245904b"
      },
      "source": [
        "data = pd.merge(actuals, predictions, on='Question', how='inner')\n",
        "data.head()"
      ],
      "execution_count": 7,
      "outputs": [
        {
          "output_type": "execute_result",
          "data": {
            "text/html": [
              "<div>\n",
              "<style scoped>\n",
              "    .dataframe tbody tr th:only-of-type {\n",
              "        vertical-align: middle;\n",
              "    }\n",
              "\n",
              "    .dataframe tbody tr th {\n",
              "        vertical-align: top;\n",
              "    }\n",
              "\n",
              "    .dataframe thead th {\n",
              "        text-align: right;\n",
              "    }\n",
              "</style>\n",
              "<table border=\"1\" class=\"dataframe\">\n",
              "  <thead>\n",
              "    <tr style=\"text-align: right;\">\n",
              "      <th></th>\n",
              "      <th>Question</th>\n",
              "      <th>Relation</th>\n",
              "      <th>Reverb_no</th>\n",
              "      <th>NER</th>\n",
              "      <th>Answer</th>\n",
              "      <th>HIT@</th>\n",
              "      <th>Candidates</th>\n",
              "      <th>Freebase</th>\n",
              "      <th>Reverb</th>\n",
              "    </tr>\n",
              "  </thead>\n",
              "  <tbody>\n",
              "    <tr>\n",
              "      <th>0</th>\n",
              "      <td>how do Protocols vary</td>\n",
              "      <td>vary by</td>\n",
              "      <td>267285</td>\n",
              "      <td>protocols</td>\n",
              "      <td>2a6e3082f7bd2a56b001fbb1624e361e5599002d</td>\n",
              "      <td>3</td>\n",
              "      <td>[(('aabf7ceaade498b555088ad543b63783ca0b4cbd',...</td>\n",
              "      <td>[('fb:medicine.disease.medical_specialties', 0...</td>\n",
              "      <td>{\"do n't vary based on\": 0.84525030966336, 'do...</td>\n",
              "    </tr>\n",
              "    <tr>\n",
              "      <th>1</th>\n",
              "      <td>of what is A Shooting Star another brand</td>\n",
              "      <td>is another brand of</td>\n",
              "      <td>8600</td>\n",
              "      <td>a shooting star</td>\n",
              "      <td>e78fa772e4525fa8db441c96351be76ff6a53c2d</td>\n",
              "      <td>1</td>\n",
              "      <td>[(('e78fa772e4525fa8db441c96351be76ff6a53c2d',...</td>\n",
              "      <td>[('fb:automotive.model.successor', 0.043253843...</td>\n",
              "      <td>{'is another brand of': 1.0000000000000002, 'i...</td>\n",
              "    </tr>\n",
              "    <tr>\n",
              "      <th>2</th>\n",
              "      <td>where  was the hometown of Angie Debo</td>\n",
              "      <td>was the hometown of</td>\n",
              "      <td>212931</td>\n",
              "      <td>angie debo</td>\n",
              "      <td>d6d4304250a9caa525fd9630d1cab5ef052d8227</td>\n",
              "      <td>1</td>\n",
              "      <td>[(('d6d4304250a9caa525fd9630d1cab5ef052d8227',...</td>\n",
              "      <td>[('fb:music.artist.origin', 0.861007), ('fb:pe...</td>\n",
              "      <td>{'was the hometown of': 1.0000000000000002, 'i...</td>\n",
              "    </tr>\n",
              "    <tr>\n",
              "      <th>3</th>\n",
              "      <td>where Curium does not occur</td>\n",
              "      <td>does not occur in</td>\n",
              "      <td>89850</td>\n",
              "      <td>curium</td>\n",
              "      <td>fb:m.025tkv0</td>\n",
              "      <td>1</td>\n",
              "      <td>[(('fb:m.025tkv0', 'curium', '0.95117000000000...</td>\n",
              "      <td>[('fb:theater.theater_production.performed_at'...</td>\n",
              "      <td>{'does not occur in': 0.986554414128868, 'does...</td>\n",
              "    </tr>\n",
              "    <tr>\n",
              "      <th>4</th>\n",
              "      <td>who died in Moraga</td>\n",
              "      <td>died in</td>\n",
              "      <td>385331</td>\n",
              "      <td>moraga</td>\n",
              "      <td>23a620d63499f12d9d214118beabc1f586b85c45</td>\n",
              "      <td>1</td>\n",
              "      <td>[(('23a620d63499f12d9d214118beabc1f586b85c45',...</td>\n",
              "      <td>[('fb:location.location.people_born_here', 0.8...</td>\n",
              "      <td>{'died in': 1.0000000000000002, 'Died in': 1.0...</td>\n",
              "    </tr>\n",
              "  </tbody>\n",
              "</table>\n",
              "</div>"
            ],
            "text/plain": [
              "                                     Question  ...                                             Reverb\n",
              "0                      how do Protocols vary   ...  {\"do n't vary based on\": 0.84525030966336, 'do...\n",
              "1  of what is A Shooting Star another brand    ...  {'is another brand of': 1.0000000000000002, 'i...\n",
              "2       where  was the hometown of Angie Debo  ...  {'was the hometown of': 1.0000000000000002, 'i...\n",
              "3                where Curium does not occur   ...  {'does not occur in': 0.986554414128868, 'does...\n",
              "4                          who died in Moraga  ...  {'died in': 1.0000000000000002, 'Died in': 1.0...\n",
              "\n",
              "[5 rows x 9 columns]"
            ]
          },
          "metadata": {},
          "execution_count": 7
        }
      ]
    },
    {
      "cell_type": "markdown",
      "source": [
        "Reading reverb to freebase mapping which we created earlier for merging MIDs"
      ],
      "metadata": {
        "id": "flPH7Rnt3wZA"
      }
    },
    {
      "cell_type": "code",
      "source": [
        "reverb2freebace = pd.read_csv('/content/drive/MyDrive/reverb2freebase.csv')\n",
        "reverb2freebace['freebase_ID_argument1'] = reverb2freebace['freebase_ID_argument1'].apply(lambda string:'fb:m.'+str(string))\n",
        "reverb2freebace['conf'] = reverb2freebace['conf'].astype(float)"
      ],
      "metadata": {
        "id": "08CEyIpNcxWu"
      },
      "execution_count": 8,
      "outputs": []
    },
    {
      "cell_type": "markdown",
      "source": [
        "Reading indices from Freebase KB. They were created using BBQA repo create_index.sh script :)"
      ],
      "metadata": {
        "id": "YAgP1ImP3_Hg"
      }
    },
    {
      "cell_type": "code",
      "source": [
        "# mapping between MIDs and names in the form of dict['MID']=['str1', 'str2', ...,  'strN']\n",
        "with open('/content/drive/MyDrive/indexes/names_2M.pkl', 'rb') as f:\n",
        "    mid2name = pickle.load(f)\n",
        "# mapping between MIDs and Relations in the form of dict['MID']=[{'fb:common.topic.notable_types', 'fb:people.person.gender', 'fb:people.person.profession'}]\n",
        "with open('/content/drive/MyDrive/indexes/reachability_2M.pkl', 'rb') as f:\n",
        "    reachability_2M = pickle.load(f)"
      ],
      "metadata": {
        "id": "P1Ls4iLlRqCE"
      },
      "execution_count": 10,
      "outputs": []
    },
    {
      "cell_type": "markdown",
      "source": [
        "In this section we are combining relation from reverb with what we already have in KB (Freebase). Note: for reverb's relation the Reverb_no is the label "
      ],
      "metadata": {
        "id": "7RJLjkxM4qe4"
      }
    },
    {
      "cell_type": "code",
      "source": [
        "def combine(reachability_2M, reverb2freebace):\n",
        "  for index, row in tqdm(reverb2freebace.iterrows(), total=reverb2freebace.shape[0], desc='Combining Relations ... '):\n",
        "    if row['freebase_ID_argument1'] in mid2name:\n",
        "      mid1 = mid = row['freebase_ID_argument1'] \n",
        "    else:\n",
        "      mid1 = mid = row['argument1_uuid']\n",
        "    mid2 = mid = row['argument2_uuid']\n",
        "    relation = row['rel']\n",
        "    reverb_no = row['reverb_no']\n",
        "    try:\n",
        "      temp = reachability_2M[mid1]\n",
        "    except:\n",
        "      reachability_2M[mid1] = set()\n",
        "      temp = reachability_2M[mid1]\n",
        "    temp.add((relation, reverb_no))\n",
        "    try:\n",
        "      temp = reachability_2M[mid2]\n",
        "    except:\n",
        "      reachability_2M[mid2] = set()\n",
        "      temp = reachability_2M[mid2]\n",
        "    temp.add((relation, reverb_no))\n",
        "  return reachability_2M\n"
      ],
      "metadata": {
        "id": "cUO5NWA0if0E"
      },
      "execution_count": 12,
      "outputs": []
    },
    {
      "cell_type": "code",
      "source": [
        "reachability_2M = combine(reachability_2M, reverb2freebace)"
      ],
      "metadata": {
        "colab": {
          "base_uri": "https://localhost:8080/",
          "height": 68,
          "referenced_widgets": [
            "2d20cce887d44008aa0b5cf2e55a140e",
            "7dbc04129cad4f6cb0879226849d2287",
            "c96b0af7062f4b56a86f12d9b4f07417",
            "3617740be8c649d4947c0106f628aae4",
            "f8357cde4d874af0b518d4cac55d7a47",
            "5f1163aeeb514fbaa1e14bcf88fead1b",
            "2eb209cf22404f2da71d6ff758f39add",
            "1198d62590fb4cc0a8a157becc94252d",
            "fb6b0833372f4ca2911af3cb8ef26c94",
            "898d7d894b1e406591e2b5adfc2fac99",
            "31c1701ec50744729ffa461e7ebecfa8"
          ]
        },
        "id": "cqkmaDODj06D",
        "outputId": "4b0c2929-e191-43d1-88fc-d28601089f0c"
      },
      "execution_count": 13,
      "outputs": [
        {
          "output_type": "display_data",
          "data": {
            "application/vnd.jupyter.widget-view+json": {
              "model_id": "2d20cce887d44008aa0b5cf2e55a140e",
              "version_minor": 0,
              "version_major": 2
            },
            "text/plain": [
              "Combining Relations ... :   0%|          | 0/407267 [00:00<?, ?it/s]"
            ]
          },
          "metadata": {}
        },
        {
          "output_type": "stream",
          "name": "stdout",
          "text": [
            "2558314 7994311\n"
          ]
        }
      ]
    },
    {
      "cell_type": "markdown",
      "source": [
        "This part is responsible for creating final candidates for each question. first of all we do perform Cartesian product on e member of E and r member of R then prune the falty ordered pairs "
      ],
      "metadata": {
        "id": "vAkHTyWZ6CrJ"
      }
    },
    {
      "cell_type": "code",
      "metadata": {
        "id": "z_2pSsTtGrjW"
      },
      "source": [
        "def create_candidates(row):\n",
        "  ner = row['Candidates']\n",
        "  freebase = row['Freebase']\n",
        "  reverb = row['Reverb']\n",
        "  candidates = []\n",
        "  rvb = [(key, value) for key, value in eval(reverb).items()]\n",
        "  rels = eval(freebase)+rvb\n",
        "  try:\n",
        "    for idx1, ((mid, string, conf), sim1) in enumerate(eval(ner)):\n",
        "        relations = list(reachability_2M[mid])\n",
        "        for relation in relations:\n",
        "          if isinstance(relation, tuple):\n",
        "            for idx2, (rel, sim2) in enumerate(rels):\n",
        "              if relation[0]==rel:\n",
        "                candidates.append((mid, rel, sim1, sim2, conf, relation[1]))\n",
        "          else:\n",
        "            for idx2, (rel, sim2) in enumerate(rels):\n",
        "              if relation==rel:\n",
        "                candidates.append((mid, rel, sim1, sim2, conf))\n",
        "    return sorted(candidates, key=lambda item:item[2]+item[3], reverse=True)\n",
        "  except:\n",
        "    return None"
      ],
      "execution_count": 15,
      "outputs": []
    },
    {
      "cell_type": "code",
      "metadata": {
        "colab": {
          "base_uri": "https://localhost:8080/",
          "height": 49,
          "referenced_widgets": [
            "500059f3552d4004a7e5a941f8c6a86a",
            "87db0144a0ef45e39cda4f08a9974013",
            "ba284e4aa53d4ce6a59ed5733e84d7ee",
            "e58c2169d0404bdba6b2fee20864b492",
            "da185b895b1045eab4b5066cee6e73c4",
            "c3cb9fee8123445db40a047bbc2b1b90",
            "778a6f9634b94a579ba28be59da4aa3a",
            "d3f240a1c7f8415c9fc6e88c9930b89b",
            "2f1d9561dab345e3b4d07331c208586f",
            "b11f73797e1d41c5a4fcb01c3c29859e",
            "09057d01becf455293e3aa66b6a8ed68"
          ]
        },
        "id": "o53_KRmNF1PV",
        "outputId": "3d22029a-14a0-4997-bfc1-96626cc9863d"
      },
      "source": [
        "data['answers'] = data.progress_apply(create_candidates, axis=1)"
      ],
      "execution_count": 16,
      "outputs": [
        {
          "output_type": "display_data",
          "data": {
            "application/vnd.jupyter.widget-view+json": {
              "model_id": "500059f3552d4004a7e5a941f8c6a86a",
              "version_minor": 0,
              "version_major": 2
            },
            "text/plain": [
              "  0%|          | 0/26644 [00:00<?, ?it/s]"
            ]
          },
          "metadata": {}
        }
      ]
    },
    {
      "cell_type": "code",
      "source": [
        "data = data.dropna(subset=['answers'])\n",
        "data.answers.isnull().sum()"
      ],
      "metadata": {
        "id": "Jqv4eCzGgcId",
        "outputId": "0c2b41c0-a3f6-469d-c8ad-2d1cc2795d1d",
        "colab": {
          "base_uri": "https://localhost:8080/"
        }
      },
      "execution_count": 17,
      "outputs": [
        {
          "output_type": "execute_result",
          "data": {
            "text/plain": [
              "0"
            ]
          },
          "metadata": {},
          "execution_count": 17
        }
      ]
    },
    {
      "cell_type": "markdown",
      "source": [
        "Final Evaluation "
      ],
      "metadata": {
        "id": "Mg7NJKGn6T-w"
      }
    },
    {
      "cell_type": "code",
      "metadata": {
        "id": "9gtMrN79F1FO",
        "colab": {
          "base_uri": "https://localhost:8080/"
        },
        "outputId": "2982109d-7002-4ba9-a11c-27db8c7bbd5b"
      },
      "source": [
        "top1 = 0\n",
        "top3 = 0\n",
        "top5 = 0\n",
        "top10 = 0\n",
        "top20 = 0\n",
        "top50 = 0\n",
        "top100 = 0\n",
        "for idx1, row in data.iterrows():\n",
        "  for idx2, candidate in enumerate(row['answers']):\n",
        "    if len(candidate)==6:\n",
        "      if candidate[-1]==row['Reverb_no']:\n",
        "        if idx2 in range(1):\n",
        "            # print(candidate, row['Reverb_no'])\n",
        "            top1 += 1\n",
        "        if idx2 in range(3):\n",
        "            top3 += 1\n",
        "        if idx2 in range(5):\n",
        "            top5 += 1\n",
        "        if idx2 in range(10):\n",
        "            top10 += 1\n",
        "        if idx2 in range(20):\n",
        "            top20 += 1\n",
        "        if idx2 in range(50):\n",
        "            top50 += 1\n",
        "        if idx2 in range(100):\n",
        "            top100 += 1\n",
        "            break \n",
        "    else:\n",
        "      if (candidate[0]==row['Answer']) and (candidate[1]==row['Relation']):\n",
        "        if idx2 in range(1):\n",
        "            # print(candidate, row['Answer'], row['Relation'])\n",
        "            top1 += 1\n",
        "        if idx2 in range(3):\n",
        "            top3 += 1\n",
        "        if idx2 in range(5):\n",
        "            top5 += 1\n",
        "        if idx2 in range(10):\n",
        "            top10 += 1\n",
        "        if idx2 in range(20):\n",
        "            top20 += 1\n",
        "        if idx2 in range(50):\n",
        "            top50 += 1\n",
        "        if idx2 in range(100):\n",
        "            top100 += 1\n",
        "            break \n",
        "   \n",
        "\n",
        "# print(data_type)\n",
        "total = len(data)\n",
        "print(\"Top1 Answers: {}\".format(top1 / total))\n",
        "print(\"Top3 Answers: {}\".format(top3 / total))\n",
        "print(\"Top5 Answers: {}\".format(top5 / total))\n",
        "print(\"Top10 Answers: {}\".format(top10 / total))\n",
        "print(\"Top20 Answers: {}\".format(top20 / total))\n",
        "print(\"Top50 Answers: {}\".format(top50 / total))\n",
        "print(\"Top100 Answers: {}\".format(top100 / total))"
      ],
      "execution_count": 20,
      "outputs": [
        {
          "output_type": "stream",
          "name": "stdout",
          "text": [
            "Top1 Answers: 0.7828746177370031\n",
            "Top3 Answers: 0.8598668825328296\n",
            "Top5 Answers: 0.8737182946573124\n",
            "Top10 Answers: 0.8836721232835641\n",
            "Top20 Answers: 0.889068777358038\n",
            "Top50 Answers: 0.8942855429633627\n",
            "Top100 Answers: 0.8963842417701026\n"
          ]
        }
      ]
    },
    {
      "cell_type": "code",
      "source": [
        "len(data)"
      ],
      "metadata": {
        "id": "fiZqo3hmi6vF",
        "outputId": "99601905-055e-4877-9e87-a1170b705cc0",
        "colab": {
          "base_uri": "https://localhost:8080/"
        }
      },
      "execution_count": null,
      "outputs": [
        {
          "output_type": "execute_result",
          "data": {
            "text/plain": [
              "26646"
            ]
          },
          "metadata": {},
          "execution_count": 102
        }
      ]
    },
    {
      "cell_type": "code",
      "metadata": {
        "colab": {
          "base_uri": "https://localhost:8080/"
        },
        "id": "vAJq3XOhEzi7",
        "outputId": "2c492eaf-b5fd-458b-df12-5fd3eea7e6c3"
      },
      "source": [
        "from google.colab import drive\n",
        "drive.mount('/content/drive')"
      ],
      "execution_count": 3,
      "outputs": [
        {
          "output_type": "stream",
          "name": "stdout",
          "text": [
            "Mounted at /content/drive\n"
          ]
        }
      ]
    },
    {
      "cell_type": "code",
      "metadata": {
        "id": "Yak9wl35E0E2"
      },
      "source": [
        ""
      ],
      "execution_count": null,
      "outputs": []
    }
  ]
}