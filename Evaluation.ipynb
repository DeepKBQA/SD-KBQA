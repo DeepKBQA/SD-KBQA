{
  "nbformat": 4,
  "nbformat_minor": 0,
  "metadata": {
    "colab": {
      "name": "Evaluation.ipynb",
      "provenance": [],
      "authorship_tag": "ABX9TyMkMtaDAars2OZ4rB8sLcwZ",
      "include_colab_link": true
    },
    "kernelspec": {
      "name": "python3",
      "display_name": "Python 3"
    },
    "language_info": {
      "name": "python"
    }
  },
  "cells": [
    {
      "cell_type": "markdown",
      "metadata": {
        "id": "view-in-github",
        "colab_type": "text"
      },
      "source": [
        "<a href=\"https://colab.research.google.com/github/meti-94/OpenQA/blob/main/Evaluation.ipynb\" target=\"_parent\"><img src=\"https://colab.research.google.com/assets/colab-badge.svg\" alt=\"Open In Colab\"/></a>"
      ]
    },
    {
      "cell_type": "code",
      "metadata": {
        "id": "C2brb0osFDum"
      },
      "source": [
        "import pandas as pd"
      ],
      "execution_count": 32,
      "outputs": []
    },
    {
      "cell_type": "code",
      "metadata": {
        "id": "wBEUnARZEZEu"
      },
      "source": [
        "entity_df = pd.read_excel('/content/drive/MyDrive/data_freebase/Linking.xlsx')\n",
        "relation_df = pd.read_excel('/content/drive/MyDrive/data_freebase/dbg.xlsx')\n",
        "predictions = pd.merge(entity_df, relation_df, on='Question').drop_duplicates()\n",
        "reverb_df = pd.read_excel('/content/drive/MyDrive/data_freebase/test.xlsx')[['Question', 'triple', 'Reverb_no']]\n",
        "reverb_df['Relation'] = reverb_df['triple'].apply(lambda item:eval(item)[1])\n",
        "reverb_df = reverb_df[['Question', 'Relation', 'Reverb_no']]\n",
        "freebase_df = pd.read_excel('/content/drive/MyDrive/data_freebase/test_useful_records.xlsx')[['Question', 'relation_type']]\n",
        "freebase_df['Relation'] = freebase_df['relation_type']\n",
        "freebase_df['Reverb_no'] = freebase_df['relation_type'].apply(lambda item:'')\n",
        "freebase_df = freebase_df[['Question', 'Relation', 'Reverb_no']]\n",
        "actuals = pd.concat([reverb_df, freebase_df])"
      ],
      "execution_count": 33,
      "outputs": []
    },
    {
      "cell_type": "code",
      "metadata": {
        "colab": {
          "base_uri": "https://localhost:8080/",
          "height": 521
        },
        "id": "vJTDJOYgPuDG",
        "outputId": "3cd3c1ff-f5da-4221-c4e2-2657cb7bba4a"
      },
      "source": [
        "data = pd.merge(actuals, predictions, on='Question', how='inner')\n",
        "data.head()"
      ],
      "execution_count": 40,
      "outputs": [
        {
          "output_type": "execute_result",
          "data": {
            "text/html": [
              "<div>\n",
              "<style scoped>\n",
              "    .dataframe tbody tr th:only-of-type {\n",
              "        vertical-align: middle;\n",
              "    }\n",
              "\n",
              "    .dataframe tbody tr th {\n",
              "        vertical-align: top;\n",
              "    }\n",
              "\n",
              "    .dataframe thead th {\n",
              "        text-align: right;\n",
              "    }\n",
              "</style>\n",
              "<table border=\"1\" class=\"dataframe\">\n",
              "  <thead>\n",
              "    <tr style=\"text-align: right;\">\n",
              "      <th></th>\n",
              "      <th>Question</th>\n",
              "      <th>Relation</th>\n",
              "      <th>Reverb_no</th>\n",
              "      <th>NER</th>\n",
              "      <th>Answer</th>\n",
              "      <th>HIT@</th>\n",
              "      <th>Candidates</th>\n",
              "      <th>Freebase</th>\n",
              "      <th>Reverb</th>\n",
              "    </tr>\n",
              "  </thead>\n",
              "  <tbody>\n",
              "    <tr>\n",
              "      <th>0</th>\n",
              "      <td>how do Protocols vary</td>\n",
              "      <td>vary by</td>\n",
              "      <td>267285</td>\n",
              "      <td>protocols</td>\n",
              "      <td>2a6e3082f7bd2a56b001fbb1624e361e5599002d</td>\n",
              "      <td>3</td>\n",
              "      <td>[(('aabf7ceaade498b555088ad543b63783ca0b4cbd',...</td>\n",
              "      <td>[('fb:medicine.disease.medical_specialties', 0...</td>\n",
              "      <td>{\"do n't vary based on\": 0.84525030966336, 'do...</td>\n",
              "    </tr>\n",
              "    <tr>\n",
              "      <th>1</th>\n",
              "      <td>of what is A Shooting Star another brand</td>\n",
              "      <td>is another brand of</td>\n",
              "      <td>8600</td>\n",
              "      <td>a shooting star</td>\n",
              "      <td>e78fa772e4525fa8db441c96351be76ff6a53c2d</td>\n",
              "      <td>1</td>\n",
              "      <td>[(('e78fa772e4525fa8db441c96351be76ff6a53c2d',...</td>\n",
              "      <td>[('fb:automotive.model.successor', 0.043253843...</td>\n",
              "      <td>{'is another brand of': 1.0000000000000002, 'i...</td>\n",
              "    </tr>\n",
              "    <tr>\n",
              "      <th>2</th>\n",
              "      <td>where  was the hometown of Angie Debo</td>\n",
              "      <td>was the hometown of</td>\n",
              "      <td>212931</td>\n",
              "      <td>angie debo</td>\n",
              "      <td>d6d4304250a9caa525fd9630d1cab5ef052d8227</td>\n",
              "      <td>1</td>\n",
              "      <td>[(('d6d4304250a9caa525fd9630d1cab5ef052d8227',...</td>\n",
              "      <td>[('fb:music.artist.origin', 0.861007), ('fb:pe...</td>\n",
              "      <td>{'was the hometown of': 1.0000000000000002, 'i...</td>\n",
              "    </tr>\n",
              "    <tr>\n",
              "      <th>3</th>\n",
              "      <td>where Curium does not occur</td>\n",
              "      <td>does not occur in</td>\n",
              "      <td>89850</td>\n",
              "      <td>curium</td>\n",
              "      <td>fb:m.025tkv0</td>\n",
              "      <td>1</td>\n",
              "      <td>[(('fb:m.025tkv0', 'curium', '0.95117000000000...</td>\n",
              "      <td>[('fb:theater.theater_production.performed_at'...</td>\n",
              "      <td>{'does not occur in': 0.986554414128868, 'does...</td>\n",
              "    </tr>\n",
              "    <tr>\n",
              "      <th>4</th>\n",
              "      <td>who died in Moraga</td>\n",
              "      <td>died in</td>\n",
              "      <td>385331</td>\n",
              "      <td>moraga</td>\n",
              "      <td>23a620d63499f12d9d214118beabc1f586b85c45</td>\n",
              "      <td>1</td>\n",
              "      <td>[(('23a620d63499f12d9d214118beabc1f586b85c45',...</td>\n",
              "      <td>[('fb:location.location.people_born_here', 0.8...</td>\n",
              "      <td>{'died in': 1.0000000000000002, 'Died in': 1.0...</td>\n",
              "    </tr>\n",
              "  </tbody>\n",
              "</table>\n",
              "</div>"
            ],
            "text/plain": [
              "                                     Question  ...                                             Reverb\n",
              "0                      how do Protocols vary   ...  {\"do n't vary based on\": 0.84525030966336, 'do...\n",
              "1  of what is A Shooting Star another brand    ...  {'is another brand of': 1.0000000000000002, 'i...\n",
              "2       where  was the hometown of Angie Debo  ...  {'was the hometown of': 1.0000000000000002, 'i...\n",
              "3                where Curium does not occur   ...  {'does not occur in': 0.986554414128868, 'does...\n",
              "4                          who died in Moraga  ...  {'died in': 1.0000000000000002, 'Died in': 1.0...\n",
              "\n",
              "[5 rows x 9 columns]"
            ]
          },
          "metadata": {},
          "execution_count": 40
        }
      ]
    },
    {
      "cell_type": "code",
      "metadata": {
        "id": "z_2pSsTtGrjW"
      },
      "source": [
        "def create_candidates(ner, freebase, reverb):\n",
        "  print(ner)"
      ],
      "execution_count": 41,
      "outputs": []
    },
    {
      "cell_type": "code",
      "metadata": {
        "colab": {
          "base_uri": "https://localhost:8080/"
        },
        "id": "o53_KRmNF1PV",
        "outputId": "59103602-4547-4453-f378-a3e3769f3ee9"
      },
      "source": [
        "test = data.loc[1, 'Candidates']\n",
        "create_candidates(test, None, None)"
      ],
      "execution_count": 44,
      "outputs": [
        {
          "output_type": "stream",
          "name": "stdout",
          "text": [
            "[(('e78fa772e4525fa8db441c96351be76ff6a53c2d', 'a shooting star', '0.9384100000000001'), 1.0), (('e78fa772e4525fa8db441c96351be76ff6a53c2d', 'a shooting star', '0.91404'), 1.0), (('fb:m.0dwkywx', 'a spoonful of sugar ( reprise ) / a shooting star', 'fb:type.object.name'), 0.47)]\n"
          ]
        }
      ]
    },
    {
      "cell_type": "code",
      "metadata": {
        "id": "xTqsSQw3F1M5"
      },
      "source": [
        ""
      ],
      "execution_count": null,
      "outputs": []
    },
    {
      "cell_type": "code",
      "metadata": {
        "id": "Kn-q1E_qF1IC"
      },
      "source": [
        ""
      ],
      "execution_count": null,
      "outputs": []
    },
    {
      "cell_type": "code",
      "metadata": {
        "id": "9gtMrN79F1FO"
      },
      "source": [
        ""
      ],
      "execution_count": null,
      "outputs": []
    },
    {
      "cell_type": "code",
      "metadata": {
        "colab": {
          "base_uri": "https://localhost:8080/"
        },
        "id": "vAJq3XOhEzi7",
        "outputId": "300b3750-e8cb-49bd-a18b-6e7ac1ed3395"
      },
      "source": [
        "from google.colab import drive\n",
        "drive.mount('/content/drive')"
      ],
      "execution_count": 1,
      "outputs": [
        {
          "output_type": "stream",
          "name": "stdout",
          "text": [
            "Mounted at /content/drive\n"
          ]
        }
      ]
    },
    {
      "cell_type": "code",
      "metadata": {
        "id": "Yak9wl35E0E2"
      },
      "source": [
        ""
      ],
      "execution_count": null,
      "outputs": []
    }
  ]
}