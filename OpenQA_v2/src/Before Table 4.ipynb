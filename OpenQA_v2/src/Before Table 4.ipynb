{
  "nbformat": 4,
  "nbformat_minor": 0,
  "metadata": {
    "colab": {
      "name": "Evaluation.ipynb",
      "provenance": [],
      "gpuType": "T4",
      "include_colab_link": true
    },
    "kernelspec": {
      "name": "python3",
      "display_name": "Python 3"
    },
    "language_info": {
      "name": "python"
    },
    "widgets": {
      "application/vnd.jupyter.widget-state+json": {
        "60ecf992eaa843e5a68f7bcee8ac9ed3": {
          "model_module": "@jupyter-widgets/controls",
          "model_name": "HBoxModel",
          "model_module_version": "1.5.0",
          "state": {
            "_view_name": "HBoxView",
            "_dom_classes": [],
            "_model_name": "HBoxModel",
            "_view_module": "@jupyter-widgets/controls",
            "_model_module_version": "1.5.0",
            "_view_count": null,
            "_view_module_version": "1.5.0",
            "box_style": "",
            "layout": "IPY_MODEL_00c194dd176d403fb15a6ee06f3f7c84",
            "_model_module": "@jupyter-widgets/controls",
            "children": [
              "IPY_MODEL_9c83f1da1c2e48e0ad8c8d0029cf0683",
              "IPY_MODEL_c0e26de23a274fb1b9aefcd57572afcd",
              "IPY_MODEL_8d1a38b8616f46409dd2d04b7240f36f"
            ]
          }
        },
        "00c194dd176d403fb15a6ee06f3f7c84": {
          "model_module": "@jupyter-widgets/base",
          "model_name": "LayoutModel",
          "model_module_version": "1.2.0",
          "state": {
            "_view_name": "LayoutView",
            "grid_template_rows": null,
            "right": null,
            "justify_content": null,
            "_view_module": "@jupyter-widgets/base",
            "overflow": null,
            "_model_module_version": "1.2.0",
            "_view_count": null,
            "flex_flow": null,
            "width": null,
            "min_width": null,
            "border": null,
            "align_items": null,
            "bottom": null,
            "_model_module": "@jupyter-widgets/base",
            "top": null,
            "grid_column": null,
            "overflow_y": null,
            "overflow_x": null,
            "grid_auto_flow": null,
            "grid_area": null,
            "grid_template_columns": null,
            "flex": null,
            "_model_name": "LayoutModel",
            "justify_items": null,
            "grid_row": null,
            "max_height": null,
            "align_content": null,
            "visibility": null,
            "align_self": null,
            "height": null,
            "min_height": null,
            "padding": null,
            "grid_auto_rows": null,
            "grid_gap": null,
            "max_width": null,
            "order": null,
            "_view_module_version": "1.2.0",
            "grid_template_areas": null,
            "object_position": null,
            "object_fit": null,
            "grid_auto_columns": null,
            "margin": null,
            "display": null,
            "left": null
          }
        },
        "9c83f1da1c2e48e0ad8c8d0029cf0683": {
          "model_module": "@jupyter-widgets/controls",
          "model_name": "HTMLModel",
          "model_module_version": "1.5.0",
          "state": {
            "_view_name": "HTMLView",
            "style": "IPY_MODEL_35ad16d68d3f457f96e2388bf2c0175d",
            "_dom_classes": [],
            "description": "",
            "_model_name": "HTMLModel",
            "placeholder": "​",
            "_view_module": "@jupyter-widgets/controls",
            "_model_module_version": "1.5.0",
            "value": "Combining Relations ... : 100%",
            "_view_count": null,
            "_view_module_version": "1.5.0",
            "description_tooltip": null,
            "_model_module": "@jupyter-widgets/controls",
            "layout": "IPY_MODEL_50cac6515bca4050b5cc90bfbf3813ba"
          }
        },
        "c0e26de23a274fb1b9aefcd57572afcd": {
          "model_module": "@jupyter-widgets/controls",
          "model_name": "FloatProgressModel",
          "model_module_version": "1.5.0",
          "state": {
            "_view_name": "ProgressView",
            "style": "IPY_MODEL_1f6a9b416d5a4c9a9f65169baac899df",
            "_dom_classes": [],
            "description": "",
            "_model_name": "FloatProgressModel",
            "bar_style": "success",
            "max": 407267,
            "_view_module": "@jupyter-widgets/controls",
            "_model_module_version": "1.5.0",
            "value": 407267,
            "_view_count": null,
            "_view_module_version": "1.5.0",
            "orientation": "horizontal",
            "min": 0,
            "description_tooltip": null,
            "_model_module": "@jupyter-widgets/controls",
            "layout": "IPY_MODEL_4c43576dc2d8484193e766a1724da100"
          }
        },
        "8d1a38b8616f46409dd2d04b7240f36f": {
          "model_module": "@jupyter-widgets/controls",
          "model_name": "HTMLModel",
          "model_module_version": "1.5.0",
          "state": {
            "_view_name": "HTMLView",
            "style": "IPY_MODEL_e67a56f7465c4a25b9db54495703e145",
            "_dom_classes": [],
            "description": "",
            "_model_name": "HTMLModel",
            "placeholder": "​",
            "_view_module": "@jupyter-widgets/controls",
            "_model_module_version": "1.5.0",
            "value": " 407267/407267 [00:49&lt;00:00, 8444.23it/s]",
            "_view_count": null,
            "_view_module_version": "1.5.0",
            "description_tooltip": null,
            "_model_module": "@jupyter-widgets/controls",
            "layout": "IPY_MODEL_390b41f81b5647309196563a92a6a710"
          }
        },
        "35ad16d68d3f457f96e2388bf2c0175d": {
          "model_module": "@jupyter-widgets/controls",
          "model_name": "DescriptionStyleModel",
          "model_module_version": "1.5.0",
          "state": {
            "_view_name": "StyleView",
            "_model_name": "DescriptionStyleModel",
            "description_width": "",
            "_view_module": "@jupyter-widgets/base",
            "_model_module_version": "1.5.0",
            "_view_count": null,
            "_view_module_version": "1.2.0",
            "_model_module": "@jupyter-widgets/controls"
          }
        },
        "50cac6515bca4050b5cc90bfbf3813ba": {
          "model_module": "@jupyter-widgets/base",
          "model_name": "LayoutModel",
          "model_module_version": "1.2.0",
          "state": {
            "_view_name": "LayoutView",
            "grid_template_rows": null,
            "right": null,
            "justify_content": null,
            "_view_module": "@jupyter-widgets/base",
            "overflow": null,
            "_model_module_version": "1.2.0",
            "_view_count": null,
            "flex_flow": null,
            "width": null,
            "min_width": null,
            "border": null,
            "align_items": null,
            "bottom": null,
            "_model_module": "@jupyter-widgets/base",
            "top": null,
            "grid_column": null,
            "overflow_y": null,
            "overflow_x": null,
            "grid_auto_flow": null,
            "grid_area": null,
            "grid_template_columns": null,
            "flex": null,
            "_model_name": "LayoutModel",
            "justify_items": null,
            "grid_row": null,
            "max_height": null,
            "align_content": null,
            "visibility": null,
            "align_self": null,
            "height": null,
            "min_height": null,
            "padding": null,
            "grid_auto_rows": null,
            "grid_gap": null,
            "max_width": null,
            "order": null,
            "_view_module_version": "1.2.0",
            "grid_template_areas": null,
            "object_position": null,
            "object_fit": null,
            "grid_auto_columns": null,
            "margin": null,
            "display": null,
            "left": null
          }
        },
        "1f6a9b416d5a4c9a9f65169baac899df": {
          "model_module": "@jupyter-widgets/controls",
          "model_name": "ProgressStyleModel",
          "model_module_version": "1.5.0",
          "state": {
            "_view_name": "StyleView",
            "_model_name": "ProgressStyleModel",
            "description_width": "",
            "_view_module": "@jupyter-widgets/base",
            "_model_module_version": "1.5.0",
            "_view_count": null,
            "_view_module_version": "1.2.0",
            "bar_color": null,
            "_model_module": "@jupyter-widgets/controls"
          }
        },
        "4c43576dc2d8484193e766a1724da100": {
          "model_module": "@jupyter-widgets/base",
          "model_name": "LayoutModel",
          "model_module_version": "1.2.0",
          "state": {
            "_view_name": "LayoutView",
            "grid_template_rows": null,
            "right": null,
            "justify_content": null,
            "_view_module": "@jupyter-widgets/base",
            "overflow": null,
            "_model_module_version": "1.2.0",
            "_view_count": null,
            "flex_flow": null,
            "width": null,
            "min_width": null,
            "border": null,
            "align_items": null,
            "bottom": null,
            "_model_module": "@jupyter-widgets/base",
            "top": null,
            "grid_column": null,
            "overflow_y": null,
            "overflow_x": null,
            "grid_auto_flow": null,
            "grid_area": null,
            "grid_template_columns": null,
            "flex": null,
            "_model_name": "LayoutModel",
            "justify_items": null,
            "grid_row": null,
            "max_height": null,
            "align_content": null,
            "visibility": null,
            "align_self": null,
            "height": null,
            "min_height": null,
            "padding": null,
            "grid_auto_rows": null,
            "grid_gap": null,
            "max_width": null,
            "order": null,
            "_view_module_version": "1.2.0",
            "grid_template_areas": null,
            "object_position": null,
            "object_fit": null,
            "grid_auto_columns": null,
            "margin": null,
            "display": null,
            "left": null
          }
        },
        "e67a56f7465c4a25b9db54495703e145": {
          "model_module": "@jupyter-widgets/controls",
          "model_name": "DescriptionStyleModel",
          "model_module_version": "1.5.0",
          "state": {
            "_view_name": "StyleView",
            "_model_name": "DescriptionStyleModel",
            "description_width": "",
            "_view_module": "@jupyter-widgets/base",
            "_model_module_version": "1.5.0",
            "_view_count": null,
            "_view_module_version": "1.2.0",
            "_model_module": "@jupyter-widgets/controls"
          }
        },
        "390b41f81b5647309196563a92a6a710": {
          "model_module": "@jupyter-widgets/base",
          "model_name": "LayoutModel",
          "model_module_version": "1.2.0",
          "state": {
            "_view_name": "LayoutView",
            "grid_template_rows": null,
            "right": null,
            "justify_content": null,
            "_view_module": "@jupyter-widgets/base",
            "overflow": null,
            "_model_module_version": "1.2.0",
            "_view_count": null,
            "flex_flow": null,
            "width": null,
            "min_width": null,
            "border": null,
            "align_items": null,
            "bottom": null,
            "_model_module": "@jupyter-widgets/base",
            "top": null,
            "grid_column": null,
            "overflow_y": null,
            "overflow_x": null,
            "grid_auto_flow": null,
            "grid_area": null,
            "grid_template_columns": null,
            "flex": null,
            "_model_name": "LayoutModel",
            "justify_items": null,
            "grid_row": null,
            "max_height": null,
            "align_content": null,
            "visibility": null,
            "align_self": null,
            "height": null,
            "min_height": null,
            "padding": null,
            "grid_auto_rows": null,
            "grid_gap": null,
            "max_width": null,
            "order": null,
            "_view_module_version": "1.2.0",
            "grid_template_areas": null,
            "object_position": null,
            "object_fit": null,
            "grid_auto_columns": null,
            "margin": null,
            "display": null,
            "left": null
          }
        },
        "9b75d1fa287945ffbdc78f6b9210c4e1": {
          "model_module": "@jupyter-widgets/controls",
          "model_name": "HBoxModel",
          "model_module_version": "1.5.0",
          "state": {
            "_view_name": "HBoxView",
            "_dom_classes": [],
            "_model_name": "HBoxModel",
            "_view_module": "@jupyter-widgets/controls",
            "_model_module_version": "1.5.0",
            "_view_count": null,
            "_view_module_version": "1.5.0",
            "box_style": "",
            "layout": "IPY_MODEL_4620c670946a4d2289cb43d24e5b6adf",
            "_model_module": "@jupyter-widgets/controls",
            "children": [
              "IPY_MODEL_58608397800d4b7aac5ad239fdc41090",
              "IPY_MODEL_5d79e77f71bd411689f626b651714baa",
              "IPY_MODEL_ea0c7aadc68545a1b5397bdde41fd8f7"
            ]
          }
        },
        "4620c670946a4d2289cb43d24e5b6adf": {
          "model_module": "@jupyter-widgets/base",
          "model_name": "LayoutModel",
          "model_module_version": "1.2.0",
          "state": {
            "_view_name": "LayoutView",
            "grid_template_rows": null,
            "right": null,
            "justify_content": null,
            "_view_module": "@jupyter-widgets/base",
            "overflow": null,
            "_model_module_version": "1.2.0",
            "_view_count": null,
            "flex_flow": null,
            "width": null,
            "min_width": null,
            "border": null,
            "align_items": null,
            "bottom": null,
            "_model_module": "@jupyter-widgets/base",
            "top": null,
            "grid_column": null,
            "overflow_y": null,
            "overflow_x": null,
            "grid_auto_flow": null,
            "grid_area": null,
            "grid_template_columns": null,
            "flex": null,
            "_model_name": "LayoutModel",
            "justify_items": null,
            "grid_row": null,
            "max_height": null,
            "align_content": null,
            "visibility": null,
            "align_self": null,
            "height": null,
            "min_height": null,
            "padding": null,
            "grid_auto_rows": null,
            "grid_gap": null,
            "max_width": null,
            "order": null,
            "_view_module_version": "1.2.0",
            "grid_template_areas": null,
            "object_position": null,
            "object_fit": null,
            "grid_auto_columns": null,
            "margin": null,
            "display": null,
            "left": null
          }
        },
        "58608397800d4b7aac5ad239fdc41090": {
          "model_module": "@jupyter-widgets/controls",
          "model_name": "HTMLModel",
          "model_module_version": "1.5.0",
          "state": {
            "_view_name": "HTMLView",
            "style": "IPY_MODEL_e01772b1e65d41288193e3c76aa800fe",
            "_dom_classes": [],
            "description": "",
            "_model_name": "HTMLModel",
            "placeholder": "​",
            "_view_module": "@jupyter-widgets/controls",
            "_model_module_version": "1.5.0",
            "value": "100%",
            "_view_count": null,
            "_view_module_version": "1.5.0",
            "description_tooltip": null,
            "_model_module": "@jupyter-widgets/controls",
            "layout": "IPY_MODEL_dcdd0061aed640fdbe71659c4f2aa3e8"
          }
        },
        "5d79e77f71bd411689f626b651714baa": {
          "model_module": "@jupyter-widgets/controls",
          "model_name": "FloatProgressModel",
          "model_module_version": "1.5.0",
          "state": {
            "_view_name": "ProgressView",
            "style": "IPY_MODEL_a86f031253b549b2b58d1bd57a7191ea",
            "_dom_classes": [],
            "description": "",
            "_model_name": "FloatProgressModel",
            "bar_style": "success",
            "max": 12572,
            "_view_module": "@jupyter-widgets/controls",
            "_model_module_version": "1.5.0",
            "value": 12572,
            "_view_count": null,
            "_view_module_version": "1.5.0",
            "orientation": "horizontal",
            "min": 0,
            "description_tooltip": null,
            "_model_module": "@jupyter-widgets/controls",
            "layout": "IPY_MODEL_7fcc20648f2149278e2cb2ac9a915c1b"
          }
        },
        "ea0c7aadc68545a1b5397bdde41fd8f7": {
          "model_module": "@jupyter-widgets/controls",
          "model_name": "HTMLModel",
          "model_module_version": "1.5.0",
          "state": {
            "_view_name": "HTMLView",
            "style": "IPY_MODEL_d197202de5db4d57b6cbf42becd89c79",
            "_dom_classes": [],
            "description": "",
            "_model_name": "HTMLModel",
            "placeholder": "​",
            "_view_module": "@jupyter-widgets/controls",
            "_model_module_version": "1.5.0",
            "value": " 12572/12572 [00:20&lt;00:00, 785.92it/s]",
            "_view_count": null,
            "_view_module_version": "1.5.0",
            "description_tooltip": null,
            "_model_module": "@jupyter-widgets/controls",
            "layout": "IPY_MODEL_bb40685cf9164483a79d01076648d70b"
          }
        },
        "e01772b1e65d41288193e3c76aa800fe": {
          "model_module": "@jupyter-widgets/controls",
          "model_name": "DescriptionStyleModel",
          "model_module_version": "1.5.0",
          "state": {
            "_view_name": "StyleView",
            "_model_name": "DescriptionStyleModel",
            "description_width": "",
            "_view_module": "@jupyter-widgets/base",
            "_model_module_version": "1.5.0",
            "_view_count": null,
            "_view_module_version": "1.2.0",
            "_model_module": "@jupyter-widgets/controls"
          }
        },
        "dcdd0061aed640fdbe71659c4f2aa3e8": {
          "model_module": "@jupyter-widgets/base",
          "model_name": "LayoutModel",
          "model_module_version": "1.2.0",
          "state": {
            "_view_name": "LayoutView",
            "grid_template_rows": null,
            "right": null,
            "justify_content": null,
            "_view_module": "@jupyter-widgets/base",
            "overflow": null,
            "_model_module_version": "1.2.0",
            "_view_count": null,
            "flex_flow": null,
            "width": null,
            "min_width": null,
            "border": null,
            "align_items": null,
            "bottom": null,
            "_model_module": "@jupyter-widgets/base",
            "top": null,
            "grid_column": null,
            "overflow_y": null,
            "overflow_x": null,
            "grid_auto_flow": null,
            "grid_area": null,
            "grid_template_columns": null,
            "flex": null,
            "_model_name": "LayoutModel",
            "justify_items": null,
            "grid_row": null,
            "max_height": null,
            "align_content": null,
            "visibility": null,
            "align_self": null,
            "height": null,
            "min_height": null,
            "padding": null,
            "grid_auto_rows": null,
            "grid_gap": null,
            "max_width": null,
            "order": null,
            "_view_module_version": "1.2.0",
            "grid_template_areas": null,
            "object_position": null,
            "object_fit": null,
            "grid_auto_columns": null,
            "margin": null,
            "display": null,
            "left": null
          }
        },
        "a86f031253b549b2b58d1bd57a7191ea": {
          "model_module": "@jupyter-widgets/controls",
          "model_name": "ProgressStyleModel",
          "model_module_version": "1.5.0",
          "state": {
            "_view_name": "StyleView",
            "_model_name": "ProgressStyleModel",
            "description_width": "",
            "_view_module": "@jupyter-widgets/base",
            "_model_module_version": "1.5.0",
            "_view_count": null,
            "_view_module_version": "1.2.0",
            "bar_color": null,
            "_model_module": "@jupyter-widgets/controls"
          }
        },
        "7fcc20648f2149278e2cb2ac9a915c1b": {
          "model_module": "@jupyter-widgets/base",
          "model_name": "LayoutModel",
          "model_module_version": "1.2.0",
          "state": {
            "_view_name": "LayoutView",
            "grid_template_rows": null,
            "right": null,
            "justify_content": null,
            "_view_module": "@jupyter-widgets/base",
            "overflow": null,
            "_model_module_version": "1.2.0",
            "_view_count": null,
            "flex_flow": null,
            "width": null,
            "min_width": null,
            "border": null,
            "align_items": null,
            "bottom": null,
            "_model_module": "@jupyter-widgets/base",
            "top": null,
            "grid_column": null,
            "overflow_y": null,
            "overflow_x": null,
            "grid_auto_flow": null,
            "grid_area": null,
            "grid_template_columns": null,
            "flex": null,
            "_model_name": "LayoutModel",
            "justify_items": null,
            "grid_row": null,
            "max_height": null,
            "align_content": null,
            "visibility": null,
            "align_self": null,
            "height": null,
            "min_height": null,
            "padding": null,
            "grid_auto_rows": null,
            "grid_gap": null,
            "max_width": null,
            "order": null,
            "_view_module_version": "1.2.0",
            "grid_template_areas": null,
            "object_position": null,
            "object_fit": null,
            "grid_auto_columns": null,
            "margin": null,
            "display": null,
            "left": null
          }
        },
        "d197202de5db4d57b6cbf42becd89c79": {
          "model_module": "@jupyter-widgets/controls",
          "model_name": "DescriptionStyleModel",
          "model_module_version": "1.5.0",
          "state": {
            "_view_name": "StyleView",
            "_model_name": "DescriptionStyleModel",
            "description_width": "",
            "_view_module": "@jupyter-widgets/base",
            "_model_module_version": "1.5.0",
            "_view_count": null,
            "_view_module_version": "1.2.0",
            "_model_module": "@jupyter-widgets/controls"
          }
        },
        "bb40685cf9164483a79d01076648d70b": {
          "model_module": "@jupyter-widgets/base",
          "model_name": "LayoutModel",
          "model_module_version": "1.2.0",
          "state": {
            "_view_name": "LayoutView",
            "grid_template_rows": null,
            "right": null,
            "justify_content": null,
            "_view_module": "@jupyter-widgets/base",
            "overflow": null,
            "_model_module_version": "1.2.0",
            "_view_count": null,
            "flex_flow": null,
            "width": null,
            "min_width": null,
            "border": null,
            "align_items": null,
            "bottom": null,
            "_model_module": "@jupyter-widgets/base",
            "top": null,
            "grid_column": null,
            "overflow_y": null,
            "overflow_x": null,
            "grid_auto_flow": null,
            "grid_area": null,
            "grid_template_columns": null,
            "flex": null,
            "_model_name": "LayoutModel",
            "justify_items": null,
            "grid_row": null,
            "max_height": null,
            "align_content": null,
            "visibility": null,
            "align_self": null,
            "height": null,
            "min_height": null,
            "padding": null,
            "grid_auto_rows": null,
            "grid_gap": null,
            "max_width": null,
            "order": null,
            "_view_module_version": "1.2.0",
            "grid_template_areas": null,
            "object_position": null,
            "object_fit": null,
            "grid_auto_columns": null,
            "margin": null,
            "display": null,
            "left": null
          }
        }
      }
    },
    "accelerator": "GPU"
  },
  "cells": [
    {
      "cell_type": "markdown",
      "metadata": {
        "id": "view-in-github",
        "colab_type": "text"
      },
      "source": [
        "<a href=\"https://colab.research.google.com/github/meti-94/OpenQA/blob/main/OpenQA_v2/src/Before%20Table%204.ipynb\" target=\"_parent\"><img src=\"https://colab.research.google.com/assets/colab-badge.svg\" alt=\"Open In Colab\"/></a>"
      ]
    },
    {
      "cell_type": "code",
      "source": [
        "!pip3 install 'transformers[torch]' -q\n",
        "!pip install fuzzywuzzy -q\n",
        "!pip install python-Levenshtein -q\n",
        "!pip install pattern -q\n",
        "!pip install --upgrade openpyxl -q"
      ],
      "metadata": {
        "id": "R2r2rYmdAp-d",
        "outputId": "548aae02-a65b-4b75-9c72-618a0d4e429d",
        "colab": {
          "base_uri": "https://localhost:8080/"
        }
      },
      "execution_count": 1,
      "outputs": [
        {
          "output_type": "stream",
          "name": "stdout",
          "text": [
            "\u001b[2K     \u001b[90m━━━━━━━━━━━━━━━━━━━━━━━━━━━━━━━━━━━━━━━━\u001b[0m \u001b[32m7.9/7.9 MB\u001b[0m \u001b[31m54.3 MB/s\u001b[0m eta \u001b[36m0:00:00\u001b[0m\n",
            "\u001b[2K     \u001b[90m━━━━━━━━━━━━━━━━━━━━━━━━━━━━━━━━━━━━━━━━\u001b[0m \u001b[32m302.0/302.0 kB\u001b[0m \u001b[31m30.1 MB/s\u001b[0m eta \u001b[36m0:00:00\u001b[0m\n",
            "\u001b[2K     \u001b[90m━━━━━━━━━━━━━━━━━━━━━━━━━━━━━━━━━━━━━━━━\u001b[0m \u001b[32m3.8/3.8 MB\u001b[0m \u001b[31m99.1 MB/s\u001b[0m eta \u001b[36m0:00:00\u001b[0m\n",
            "\u001b[2K     \u001b[90m━━━━━━━━━━━━━━━━━━━━━━━━━━━━━━━━━━━━━━━━\u001b[0m \u001b[32m1.3/1.3 MB\u001b[0m \u001b[31m79.5 MB/s\u001b[0m eta \u001b[36m0:00:00\u001b[0m\n",
            "\u001b[2K     \u001b[90m━━━━━━━━━━━━━━━━━━━━━━━━━━━━━━━━━━━━━━━━\u001b[0m \u001b[32m261.4/261.4 kB\u001b[0m \u001b[31m28.6 MB/s\u001b[0m eta \u001b[36m0:00:00\u001b[0m\n",
            "\u001b[2K     \u001b[90m━━━━━━━━━━━━━━━━━━━━━━━━━━━━━━━━━━━━━━━━\u001b[0m \u001b[32m295.0/295.0 kB\u001b[0m \u001b[31m29.9 MB/s\u001b[0m eta \u001b[36m0:00:00\u001b[0m\n",
            "\u001b[2K     \u001b[90m━━━━━━━━━━━━━━━━━━━━━━━━━━━━━━━━━━━━━━━━\u001b[0m \u001b[32m169.4/169.4 kB\u001b[0m \u001b[31m3.4 MB/s\u001b[0m eta \u001b[36m0:00:00\u001b[0m\n",
            "\u001b[2K     \u001b[90m━━━━━━━━━━━━━━━━━━━━━━━━━━━━━━━━━━━━━━━━\u001b[0m \u001b[32m3.3/3.3 MB\u001b[0m \u001b[31m11.1 MB/s\u001b[0m eta \u001b[36m0:00:00\u001b[0m\n",
            "\u001b[2K     \u001b[90m━━━━━━━━━━━━━━━━━━━━━━━━━━━━━━━━━━━━━━━━\u001b[0m \u001b[32m22.2/22.2 MB\u001b[0m \u001b[31m25.1 MB/s\u001b[0m eta \u001b[36m0:00:00\u001b[0m\n",
            "\u001b[?25h  Preparing metadata (setup.py) ... \u001b[?25l\u001b[?25hdone\n",
            "\u001b[2K     \u001b[90m━━━━━━━━━━━━━━━━━━━━━━━━━━━━━━━━━━━━━━━━\u001b[0m \u001b[32m89.5/89.5 kB\u001b[0m \u001b[31m10.4 MB/s\u001b[0m eta \u001b[36m0:00:00\u001b[0m\n",
            "\u001b[?25h  Installing build dependencies ... \u001b[?25l\u001b[?25hdone\n",
            "  Getting requirements to build wheel ... \u001b[?25l\u001b[?25hdone\n",
            "  Installing backend dependencies ... \u001b[?25l\u001b[?25hdone\n",
            "  Preparing metadata (pyproject.toml) ... \u001b[?25l\u001b[?25hdone\n",
            "\u001b[2K     \u001b[90m━━━━━━━━━━━━━━━━━━━━━━━━━━━━━━━━━━━━━━━━\u001b[0m \u001b[32m81.1/81.1 kB\u001b[0m \u001b[31m10.2 MB/s\u001b[0m eta \u001b[36m0:00:00\u001b[0m\n",
            "\u001b[2K     \u001b[90m━━━━━━━━━━━━━━━━━━━━━━━━━━━━━━━━━━━━━━━━\u001b[0m \u001b[32m5.6/5.6 MB\u001b[0m \u001b[31m75.4 MB/s\u001b[0m eta \u001b[36m0:00:00\u001b[0m\n",
            "\u001b[2K     \u001b[90m━━━━━━━━━━━━━━━━━━━━━━━━━━━━━━━━━━━━━━━━\u001b[0m \u001b[32m237.4/237.4 kB\u001b[0m \u001b[31m25.7 MB/s\u001b[0m eta \u001b[36m0:00:00\u001b[0m\n",
            "\u001b[2K     \u001b[90m━━━━━━━━━━━━━━━━━━━━━━━━━━━━━━━━━━━━━━━━\u001b[0m \u001b[32m348.4/348.4 kB\u001b[0m \u001b[31m32.1 MB/s\u001b[0m eta \u001b[36m0:00:00\u001b[0m\n",
            "\u001b[2K     \u001b[90m━━━━━━━━━━━━━━━━━━━━━━━━━━━━━━━━━━━━━━━━\u001b[0m \u001b[32m101.6/101.6 kB\u001b[0m \u001b[31m13.3 MB/s\u001b[0m eta \u001b[36m0:00:00\u001b[0m\n",
            "\u001b[?25h  Preparing metadata (setup.py) ... \u001b[?25l\u001b[?25hdone\n",
            "  Building wheel for pattern (setup.py) ... \u001b[?25l\u001b[?25hdone\n",
            "  Building wheel for mysqlclient (pyproject.toml) ... \u001b[?25l\u001b[?25hdone\n",
            "  Building wheel for sgmllib3k (setup.py) ... \u001b[?25l\u001b[?25hdone\n"
          ]
        }
      ]
    },
    {
      "cell_type": "code",
      "source": [
        "from google.colab import drive\n",
        "drive.mount('/content/drive')"
      ],
      "metadata": {
        "id": "QTU58MsJYpIJ",
        "outputId": "fc4e9d44-bfb0-42ca-f8fd-2b2229dec2f7",
        "colab": {
          "base_uri": "https://localhost:8080/"
        }
      },
      "execution_count": 2,
      "outputs": [
        {
          "output_type": "stream",
          "name": "stdout",
          "text": [
            "Mounted at /content/drive\n"
          ]
        }
      ]
    },
    {
      "cell_type": "code",
      "source": [
        "!git clone https://github.com/meti-94/OpenQA.git\n",
        "%cd OpenQA/OpenQA_v2"
      ],
      "metadata": {
        "id": "NNk4Ixzk-0TW",
        "outputId": "78c0c153-88f9-45a1-ca2e-4a10064b0a02",
        "colab": {
          "base_uri": "https://localhost:8080/"
        }
      },
      "execution_count": 3,
      "outputs": [
        {
          "output_type": "stream",
          "name": "stdout",
          "text": [
            "Cloning into 'OpenQA'...\n",
            "remote: Enumerating objects: 333, done.\u001b[K\n",
            "remote: Counting objects: 100% (96/96), done.\u001b[K\n",
            "remote: Compressing objects: 100% (73/73), done.\u001b[K\n",
            "remote: Total 333 (delta 56), reused 41 (delta 20), pack-reused 237\u001b[K\n",
            "Receiving objects: 100% (333/333), 102.67 MiB | 30.95 MiB/s, done.\n",
            "Resolving deltas: 100% (159/159), done.\n",
            "/content/OpenQA/OpenQA_v2\n"
          ]
        }
      ]
    },
    {
      "cell_type": "code",
      "source": [
        "!rm -rf ./results\n",
        "!python /content/OpenQA/src/RelationDetection.py test"
      ],
      "metadata": {
        "id": "oURNW9f1GwKl",
        "outputId": "862014ca-4f24-4c31-9ab9-318195d987b5",
        "colab": {
          "base_uri": "https://localhost:8080/"
        }
      },
      "execution_count": 14,
      "outputs": [
        {
          "output_type": "stream",
          "name": "stdout",
          "text": [
            "2023-11-03 11:48:36.536714: E tensorflow/compiler/xla/stream_executor/cuda/cuda_dnn.cc:9342] Unable to register cuDNN factory: Attempting to register factory for plugin cuDNN when one has already been registered\n",
            "2023-11-03 11:48:36.536776: E tensorflow/compiler/xla/stream_executor/cuda/cuda_fft.cc:609] Unable to register cuFFT factory: Attempting to register factory for plugin cuFFT when one has already been registered\n",
            "2023-11-03 11:48:36.536821: E tensorflow/compiler/xla/stream_executor/cuda/cuda_blas.cc:1518] Unable to register cuBLAS factory: Attempting to register factory for plugin cuBLAS when one has already been registered\n",
            "2023-11-03 11:48:37.759012: W tensorflow/compiler/tf2tensorrt/utils/py_utils.cc:38] TF-TRT Warning: Could not find TensorRT\n",
            "You're using a BertTokenizerFast tokenizer. Please note that with a fast tokenizer, using the `__call__` method is faster than using a method to encode the text followed by a call to the `pad` method to get a padded encoding.\n",
            "100% 40/40 [00:04<00:00,  8.46it/s]\n",
            "Indexing ...: 100% 407236/407236 [00:28<00:00, 14197.39it/s]\n",
            "Predicting ...:   3% 155/5003 [00:33<14:08,  5.71it/s]Exception ignored in: <generator object tqdm.__iter__ at 0x786f336cea40>\n",
            "Traceback (most recent call last):\n",
            "  File \"/usr/local/lib/python3.10/dist-packages/tqdm/std.py\", line 1183, in __iter__\n",
            "    yield obj\n",
            "KeyboardInterrupt: \n",
            "Predicting ...:   3% 155/5003 [00:33<17:26,  4.63it/s]\n",
            "Traceback (most recent call last):\n",
            "  File \"/content/OpenQA/src/RelationDetection.py\", line 141, in <module>\n",
            "    reverb.append(RKBG.tfidf_query(node=row['node'], edge=row['edges']))\n",
            "  File \"/content/OpenQA/src/RelationDetection.py\", line 81, in tfidf_query\n",
            "    edges = self.tfidf_edges_query(edge)\n",
            "  File \"/content/OpenQA/src/RelationDetection.py\", line 70, in tfidf_edges_query\n",
            "    ranks = {k:v for k,v in zip(self.edges, similarities)}\n",
            "  File \"/content/OpenQA/src/RelationDetection.py\", line 70, in <dictcomp>\n",
            "    ranks = {k:v for k,v in zip(self.edges, similarities)}\n",
            "KeyboardInterrupt\n"
          ]
        }
      ]
    },
    {
      "cell_type": "code",
      "source": [
        "!python /content/OpenQA/src/RelationDetection.py valid"
      ],
      "metadata": {
        "id": "yAD1gcPYyrdy",
        "outputId": "58b2ac44-2ccb-46a8-da85-5e177bf663e6",
        "colab": {
          "base_uri": "https://localhost:8080/"
        }
      },
      "execution_count": 12,
      "outputs": [
        {
          "output_type": "stream",
          "name": "stdout",
          "text": [
            "2023-11-03 11:45:58.245844: E tensorflow/compiler/xla/stream_executor/cuda/cuda_dnn.cc:9342] Unable to register cuDNN factory: Attempting to register factory for plugin cuDNN when one has already been registered\n",
            "2023-11-03 11:45:58.245896: E tensorflow/compiler/xla/stream_executor/cuda/cuda_fft.cc:609] Unable to register cuFFT factory: Attempting to register factory for plugin cuFFT when one has already been registered\n",
            "2023-11-03 11:45:58.245938: E tensorflow/compiler/xla/stream_executor/cuda/cuda_blas.cc:1518] Unable to register cuBLAS factory: Attempting to register factory for plugin cuBLAS when one has already been registered\n",
            "2023-11-03 11:45:59.477414: W tensorflow/compiler/tf2tensorrt/utils/py_utils.cc:38] TF-TRT Warning: Could not find TensorRT\n",
            "You're using a BertTokenizerFast tokenizer. Please note that with a fast tokenizer, using the `__call__` method is faster than using a method to encode the text followed by a call to the `pad` method to get a padded encoding.\n",
            "100% 99/99 [00:21<00:00,  4.61it/s]\n",
            "Indexing ...: 100% 407236/407236 [00:27<00:00, 14664.01it/s]\n",
            "Predicting ...:   0% 28/12560 [00:05<38:27,  5.43it/s]\n",
            "Traceback (most recent call last):\n",
            "  File \"/content/OpenQA/src/RelationDetection.py\", line 141, in <module>\n",
            "    reverb.append(RKBG.tfidf_query(node=row['node'], edge=row['edges']))\n",
            "  File \"/content/OpenQA/src/RelationDetection.py\", line 81, in tfidf_query\n",
            "    edges = self.tfidf_edges_query(edge)\n",
            "  File \"/content/OpenQA/src/RelationDetection.py\", line 71, in tfidf_edges_query\n",
            "    sorted_ranks = {k: v for k, v in sorted(ranks.items(), key=lambda item:item[1], reverse=True)[:min(len(ranks), cutoff)]}\n",
            "  File \"/content/OpenQA/src/RelationDetection.py\", line 71, in <dictcomp>\n",
            "    sorted_ranks = {k: v for k, v in sorted(ranks.items(), key=lambda item:item[1], reverse=True)[:min(len(ranks), cutoff)]}\n",
            "KeyboardInterrupt\n"
          ]
        }
      ]
    },
    {
      "cell_type": "markdown",
      "source": [
        "Importing necessary libraries"
      ],
      "metadata": {
        "id": "Lo3bxuSE2vVY"
      }
    },
    {
      "cell_type": "code",
      "source": [],
      "metadata": {
        "id": "U5ETsvwRyrFi"
      },
      "execution_count": null,
      "outputs": []
    },
    {
      "cell_type": "code",
      "metadata": {
        "id": "C2brb0osFDum"
      },
      "source": [
        "import pandas as pd\n",
        "import pickle\n",
        "from tqdm import tqdm\n",
        "from tqdm.notebook import tqdm\n",
        "tqdm.pandas()"
      ],
      "execution_count": null,
      "outputs": []
    },
    {
      "cell_type": "code",
      "metadata": {
        "id": "6U3tSTJ23mft"
      },
      "source": [
        "# reading the file which contains the Entity Linking candidates for each question\n",
        "entity_df = pd.read_excel('/content/drive/MyDrive/data_freebase/entitylinking_validation.xlsx')\n",
        "# reading the file which contains the relation candidates for each question\n",
        "relation_df = pd.read_excel('/content/drive/MyDrive/data_freebase/relationdetection_valid.xlsx')\n",
        "# merging the relation and entity linking files\n",
        "predictions = pd.merge(entity_df, relation_df, on='Question').drop_duplicates()\n",
        "# reading reverb test portion, Question [question string] Triple [arg1, rel, arg2] and Reverb_no [which line the question was designed for]\n",
        "reverb_df = pd.read_excel('/content/OpenQA/data/reverb/valid.xlsx')[['Question', 'triple', 'Reverb_no']]\n",
        "reverb_df['Relation'] = reverb_df['triple'].apply(lambda item:eval(item)[1])\n",
        "reverb_df = reverb_df[['Question', 'Relation', 'Reverb_no']]\n",
        "# reading the freebase test portion and process it into the ground truth data like what we had earlier for reverb\n",
        "freebase_df = pd.read_excel('/content/OpenQA/data/freebase/valid_useful_records.xlsx')[['Question', 'relation_type']]\n",
        "freebase_df['Relation'] = freebase_df['relation_type']\n",
        "freebase_df['Reverb_no'] = freebase_df['relation_type'].apply(lambda item:'')\n",
        "freebase_df = freebase_df[['Question', 'Relation', 'Reverb_no']]\n",
        "# concatenating all grand truth data into a one object which must named actual based on machine learning methodology\n",
        "actuals = pd.concat([reverb_df, freebase_df])"
      ],
      "execution_count": null,
      "outputs": []
    },
    {
      "cell_type": "code",
      "metadata": {
        "colab": {
          "base_uri": "https://localhost:8080/",
          "height": 530
        },
        "id": "vJTDJOYgPuDG",
        "outputId": "1215188a-1798-4141-f16a-53f787b4cad6"
      },
      "source": [
        "data = pd.merge(actuals, predictions, on='Question', how='inner')\n",
        "data.head()"
      ],
      "execution_count": null,
      "outputs": [
        {
          "output_type": "execute_result",
          "data": {
            "text/html": [
              "\n",
              "  <div id=\"df-9b6b253a-751a-4e58-9781-96c85cdebb1e\">\n",
              "    <div class=\"colab-df-container\">\n",
              "      <div>\n",
              "<style scoped>\n",
              "    .dataframe tbody tr th:only-of-type {\n",
              "        vertical-align: middle;\n",
              "    }\n",
              "\n",
              "    .dataframe tbody tr th {\n",
              "        vertical-align: top;\n",
              "    }\n",
              "\n",
              "    .dataframe thead th {\n",
              "        text-align: right;\n",
              "    }\n",
              "</style>\n",
              "<table border=\"1\" class=\"dataframe\">\n",
              "  <thead>\n",
              "    <tr style=\"text-align: right;\">\n",
              "      <th></th>\n",
              "      <th>Question</th>\n",
              "      <th>Relation</th>\n",
              "      <th>Reverb_no</th>\n",
              "      <th>NER</th>\n",
              "      <th>Answer</th>\n",
              "      <th>HIT@</th>\n",
              "      <th>Candidates</th>\n",
              "      <th>Freebase</th>\n",
              "      <th>Reverb</th>\n",
              "    </tr>\n",
              "  </thead>\n",
              "  <tbody>\n",
              "    <tr>\n",
              "      <th>0</th>\n",
              "      <td>who is very interested in Pineapple Poll</td>\n",
              "      <td>is very interested in</td>\n",
              "      <td>171629</td>\n",
              "      <td>pineapple poll</td>\n",
              "      <td>243b498b-3a44-4569-96fb-96ea93aed5cb</td>\n",
              "      <td>10</td>\n",
              "      <td>[(('fb:m.0fqh3mf', 'pineapple poll', 'fb:type....</td>\n",
              "      <td>[('fb:base.reviews.review.mentions', 0.0413427...</td>\n",
              "      <td>{'is very interested in': 1.0000000000000002, ...</td>\n",
              "    </tr>\n",
              "    <tr>\n",
              "      <th>1</th>\n",
              "      <td>who again chose Lauren</td>\n",
              "      <td>again chose</td>\n",
              "      <td>114750</td>\n",
              "      <td>lauren</td>\n",
              "      <td>20e3dd8b-0f8e-4379-8552-58aef7ca3857</td>\n",
              "      <td>20</td>\n",
              "      <td>[(('4323b2d9-bd34-4f07-8263-046c704cf7ce', 'la...</td>\n",
              "      <td>[('fb:film.film.costume_design_by', 0.03998749...</td>\n",
              "      <td>{'again chose': 1.0, 'chose': 0.79116749957755...</td>\n",
              "    </tr>\n",
              "    <tr>\n",
              "      <th>2</th>\n",
              "      <td>what have been around a long time</td>\n",
              "      <td>have been around</td>\n",
              "      <td>296429</td>\n",
              "      <td>a long time</td>\n",
              "      <td>a3e87402-cb7f-4c48-840b-053dfc09349b</td>\n",
              "      <td>50</td>\n",
              "      <td>[(('ac026164-421e-422c-8695-9de248e7c788', 'a ...</td>\n",
              "      <td>[('fb:common.topic.notable_types', 0.74375755)...</td>\n",
              "      <td>{'have been around': 1.0, 'have been around fo...</td>\n",
              "    </tr>\n",
              "    <tr>\n",
              "      <th>3</th>\n",
              "      <td>how long are Trade unions banned</td>\n",
              "      <td>are banned for</td>\n",
              "      <td>360229</td>\n",
              "      <td>trade unions</td>\n",
              "      <td>fb:m.04gny</td>\n",
              "      <td>1</td>\n",
              "      <td>[(('fb:m.04gny', 'trade unions', '0.95993'), 1...</td>\n",
              "      <td>[('fb:organization.organization.legal_structur...</td>\n",
              "      <td>{'are banned in': 0.7847540585396082, 'are ban...</td>\n",
              "    </tr>\n",
              "    <tr>\n",
              "      <th>4</th>\n",
              "      <td>to whom is Sakuragi married</td>\n",
              "      <td>is married to</td>\n",
              "      <td>288100</td>\n",
              "      <td>sakuragi</td>\n",
              "      <td>51ec78bf-e900-4b57-af25-a1cded6b7e80</td>\n",
              "      <td>1</td>\n",
              "      <td>[(('51ec78bf-e900-4b57-af25-a1cded6b7e80', 'sa...</td>\n",
              "      <td>[('fb:people.person.children', 0.4479553), ('f...</td>\n",
              "      <td>{'is married to': 1.0000000000000002, 'married...</td>\n",
              "    </tr>\n",
              "  </tbody>\n",
              "</table>\n",
              "</div>\n",
              "      <button class=\"colab-df-convert\" onclick=\"convertToInteractive('df-9b6b253a-751a-4e58-9781-96c85cdebb1e')\"\n",
              "              title=\"Convert this dataframe to an interactive table.\"\n",
              "              style=\"display:none;\">\n",
              "        \n",
              "  <svg xmlns=\"http://www.w3.org/2000/svg\" height=\"24px\"viewBox=\"0 0 24 24\"\n",
              "       width=\"24px\">\n",
              "    <path d=\"M0 0h24v24H0V0z\" fill=\"none\"/>\n",
              "    <path d=\"M18.56 5.44l.94 2.06.94-2.06 2.06-.94-2.06-.94-.94-2.06-.94 2.06-2.06.94zm-11 1L8.5 8.5l.94-2.06 2.06-.94-2.06-.94L8.5 2.5l-.94 2.06-2.06.94zm10 10l.94 2.06.94-2.06 2.06-.94-2.06-.94-.94-2.06-.94 2.06-2.06.94z\"/><path d=\"M17.41 7.96l-1.37-1.37c-.4-.4-.92-.59-1.43-.59-.52 0-1.04.2-1.43.59L10.3 9.45l-7.72 7.72c-.78.78-.78 2.05 0 2.83L4 21.41c.39.39.9.59 1.41.59.51 0 1.02-.2 1.41-.59l7.78-7.78 2.81-2.81c.8-.78.8-2.07 0-2.86zM5.41 20L4 18.59l7.72-7.72 1.47 1.35L5.41 20z\"/>\n",
              "  </svg>\n",
              "      </button>\n",
              "      \n",
              "  <style>\n",
              "    .colab-df-container {\n",
              "      display:flex;\n",
              "      flex-wrap:wrap;\n",
              "      gap: 12px;\n",
              "    }\n",
              "\n",
              "    .colab-df-convert {\n",
              "      background-color: #E8F0FE;\n",
              "      border: none;\n",
              "      border-radius: 50%;\n",
              "      cursor: pointer;\n",
              "      display: none;\n",
              "      fill: #1967D2;\n",
              "      height: 32px;\n",
              "      padding: 0 0 0 0;\n",
              "      width: 32px;\n",
              "    }\n",
              "\n",
              "    .colab-df-convert:hover {\n",
              "      background-color: #E2EBFA;\n",
              "      box-shadow: 0px 1px 2px rgba(60, 64, 67, 0.3), 0px 1px 3px 1px rgba(60, 64, 67, 0.15);\n",
              "      fill: #174EA6;\n",
              "    }\n",
              "\n",
              "    [theme=dark] .colab-df-convert {\n",
              "      background-color: #3B4455;\n",
              "      fill: #D2E3FC;\n",
              "    }\n",
              "\n",
              "    [theme=dark] .colab-df-convert:hover {\n",
              "      background-color: #434B5C;\n",
              "      box-shadow: 0px 1px 3px 1px rgba(0, 0, 0, 0.15);\n",
              "      filter: drop-shadow(0px 1px 2px rgba(0, 0, 0, 0.3));\n",
              "      fill: #FFFFFF;\n",
              "    }\n",
              "  </style>\n",
              "\n",
              "      <script>\n",
              "        const buttonEl =\n",
              "          document.querySelector('#df-9b6b253a-751a-4e58-9781-96c85cdebb1e button.colab-df-convert');\n",
              "        buttonEl.style.display =\n",
              "          google.colab.kernel.accessAllowed ? 'block' : 'none';\n",
              "\n",
              "        async function convertToInteractive(key) {\n",
              "          const element = document.querySelector('#df-9b6b253a-751a-4e58-9781-96c85cdebb1e');\n",
              "          const dataTable =\n",
              "            await google.colab.kernel.invokeFunction('convertToInteractive',\n",
              "                                                     [key], {});\n",
              "          if (!dataTable) return;\n",
              "\n",
              "          const docLinkHtml = 'Like what you see? Visit the ' +\n",
              "            '<a target=\"_blank\" href=https://colab.research.google.com/notebooks/data_table.ipynb>data table notebook</a>'\n",
              "            + ' to learn more about interactive tables.';\n",
              "          element.innerHTML = '';\n",
              "          dataTable['output_type'] = 'display_data';\n",
              "          await google.colab.output.renderOutput(dataTable, element);\n",
              "          const docLink = document.createElement('div');\n",
              "          docLink.innerHTML = docLinkHtml;\n",
              "          element.appendChild(docLink);\n",
              "        }\n",
              "      </script>\n",
              "    </div>\n",
              "  </div>\n",
              "  "
            ],
            "text/plain": [
              "                                   Question               Relation Reverb_no  \\\n",
              "0  who is very interested in Pineapple Poll  is very interested in    171629   \n",
              "1                    who again chose Lauren            again chose    114750   \n",
              "2         what have been around a long time       have been around    296429   \n",
              "3          how long are Trade unions banned         are banned for    360229   \n",
              "4              to whom is Sakuragi married           is married to    288100   \n",
              "\n",
              "              NER                                Answer  HIT@  \\\n",
              "0  pineapple poll  243b498b-3a44-4569-96fb-96ea93aed5cb    10   \n",
              "1          lauren  20e3dd8b-0f8e-4379-8552-58aef7ca3857    20   \n",
              "2     a long time  a3e87402-cb7f-4c48-840b-053dfc09349b    50   \n",
              "3    trade unions                            fb:m.04gny     1   \n",
              "4        sakuragi  51ec78bf-e900-4b57-af25-a1cded6b7e80     1   \n",
              "\n",
              "                                          Candidates  \\\n",
              "0  [(('fb:m.0fqh3mf', 'pineapple poll', 'fb:type....   \n",
              "1  [(('4323b2d9-bd34-4f07-8263-046c704cf7ce', 'la...   \n",
              "2  [(('ac026164-421e-422c-8695-9de248e7c788', 'a ...   \n",
              "3  [(('fb:m.04gny', 'trade unions', '0.95993'), 1...   \n",
              "4  [(('51ec78bf-e900-4b57-af25-a1cded6b7e80', 'sa...   \n",
              "\n",
              "                                            Freebase  \\\n",
              "0  [('fb:base.reviews.review.mentions', 0.0413427...   \n",
              "1  [('fb:film.film.costume_design_by', 0.03998749...   \n",
              "2  [('fb:common.topic.notable_types', 0.74375755)...   \n",
              "3  [('fb:organization.organization.legal_structur...   \n",
              "4  [('fb:people.person.children', 0.4479553), ('f...   \n",
              "\n",
              "                                              Reverb  \n",
              "0  {'is very interested in': 1.0000000000000002, ...  \n",
              "1  {'again chose': 1.0, 'chose': 0.79116749957755...  \n",
              "2  {'have been around': 1.0, 'have been around fo...  \n",
              "3  {'are banned in': 0.7847540585396082, 'are ban...  \n",
              "4  {'is married to': 1.0000000000000002, 'married...  "
            ]
          },
          "metadata": {},
          "execution_count": 17
        }
      ]
    },
    {
      "cell_type": "markdown",
      "source": [
        "Reading reverb to freebase mapping which we created earlier for merging MIDs"
      ],
      "metadata": {
        "id": "flPH7Rnt3wZA"
      }
    },
    {
      "cell_type": "code",
      "source": [
        "reverb2freebace = pd.read_csv('/content/drive/MyDrive/reverb2freebase.csv')\n",
        "reverb2freebace['freebase_ID_argument1'] = reverb2freebace['freebase_ID_argument1'].apply(lambda string:'fb:m.'+str(string))\n",
        "reverb2freebace['conf'] = reverb2freebace['conf'].astype(float)"
      ],
      "metadata": {
        "id": "08CEyIpNcxWu"
      },
      "execution_count": null,
      "outputs": []
    },
    {
      "cell_type": "markdown",
      "source": [
        "Reading indices from Freebase KB. They were created using BBQA repo create_index.sh script :)"
      ],
      "metadata": {
        "id": "YAgP1ImP3_Hg"
      }
    },
    {
      "cell_type": "code",
      "source": [
        "# mapping between MIDs and names in the form of dict['MID']=['str1', 'str2', ...,  'strN']\n",
        "with open('/content/drive/MyDrive/indexes/names_2M.pkl', 'rb') as f:\n",
        "    mid2name = pickle.load(f)\n",
        "# mapping between MIDs and Relations in the form of dict['MID']=[{'fb:common.topic.notable_types', 'fb:people.person.gender', 'fb:people.person.profession'}]\n",
        "with open('/content/drive/MyDrive/indexes/reachability_2M.pkl', 'rb') as f:\n",
        "    reachability_2M = pickle.load(f)"
      ],
      "metadata": {
        "id": "P1Ls4iLlRqCE"
      },
      "execution_count": null,
      "outputs": []
    },
    {
      "cell_type": "markdown",
      "source": [
        "In this section we are combining relation from reverb with what we already have in KB (Freebase). Note: for reverb's relation the Reverb_no is the label"
      ],
      "metadata": {
        "id": "7RJLjkxM4qe4"
      }
    },
    {
      "cell_type": "code",
      "source": [
        "def combine(reachability_2M, reverb2freebace):\n",
        "  for index, row in tqdm(reverb2freebace.iterrows(), total=reverb2freebace.shape[0], desc='Combining Relations ... '):\n",
        "    if row['freebase_ID_argument1'] in mid2name:\n",
        "      mid1 = mid = row['freebase_ID_argument1']\n",
        "    else:\n",
        "      mid1 = mid = row['argument1_uuid']\n",
        "    mid2 = mid = row['argument2_uuid']\n",
        "    relation = row['rel']\n",
        "    reverb_no = row['reverb_no']\n",
        "    try:\n",
        "      temp = reachability_2M[mid1]\n",
        "    except:\n",
        "      reachability_2M[mid1] = set()\n",
        "      temp = reachability_2M[mid1]\n",
        "    temp.add((relation, reverb_no))\n",
        "    try:\n",
        "      temp = reachability_2M[mid2]\n",
        "    except:\n",
        "      reachability_2M[mid2] = set()\n",
        "      temp = reachability_2M[mid2]\n",
        "    temp.add((relation, reverb_no))\n",
        "  return reachability_2M\n"
      ],
      "metadata": {
        "id": "cUO5NWA0if0E"
      },
      "execution_count": null,
      "outputs": []
    },
    {
      "cell_type": "code",
      "source": [
        "reachability_2M = combine(reachability_2M, reverb2freebace)"
      ],
      "metadata": {
        "colab": {
          "base_uri": "https://localhost:8080/",
          "height": 49,
          "referenced_widgets": [
            "60ecf992eaa843e5a68f7bcee8ac9ed3",
            "00c194dd176d403fb15a6ee06f3f7c84",
            "9c83f1da1c2e48e0ad8c8d0029cf0683",
            "c0e26de23a274fb1b9aefcd57572afcd",
            "8d1a38b8616f46409dd2d04b7240f36f",
            "35ad16d68d3f457f96e2388bf2c0175d",
            "50cac6515bca4050b5cc90bfbf3813ba",
            "1f6a9b416d5a4c9a9f65169baac899df",
            "4c43576dc2d8484193e766a1724da100",
            "e67a56f7465c4a25b9db54495703e145",
            "390b41f81b5647309196563a92a6a710"
          ]
        },
        "id": "cqkmaDODj06D",
        "outputId": "a9fe8ea7-a536-4c59-fbeb-e32e24b937c1"
      },
      "execution_count": null,
      "outputs": [
        {
          "output_type": "display_data",
          "data": {
            "application/vnd.jupyter.widget-view+json": {
              "model_id": "60ecf992eaa843e5a68f7bcee8ac9ed3",
              "version_minor": 0,
              "version_major": 2
            },
            "text/plain": [
              "Combining Relations ... :   0%|          | 0/407267 [00:00<?, ?it/s]"
            ]
          },
          "metadata": {}
        }
      ]
    },
    {
      "cell_type": "markdown",
      "source": [
        "This part is responsible for creating final candidates for each question. first of all we do perform Cartesian product on e member of E and r member of R then prune the falty ordered pairs"
      ],
      "metadata": {
        "id": "vAkHTyWZ6CrJ"
      }
    },
    {
      "cell_type": "code",
      "metadata": {
        "id": "z_2pSsTtGrjW"
      },
      "source": [
        "def create_candidates(row):\n",
        "  ner = row['Candidates']\n",
        "  freebase = row['Freebase']\n",
        "  reverb = row['Reverb']\n",
        "  candidates = []\n",
        "  rvb = [(key, value) for key, value in eval(reverb).items()]\n",
        "  rels = eval(freebase)+rvb\n",
        "  try:\n",
        "    for idx1, ((mid, string, conf), sim1) in enumerate(eval(ner)):\n",
        "        relations = list(reachability_2M[mid])\n",
        "        for relation in relations:\n",
        "          if isinstance(relation, tuple):\n",
        "            for idx2, (rel, sim2) in enumerate(rels):\n",
        "              if relation[0]==rel:\n",
        "                candidates.append((mid, rel, sim1, sim2, conf, relation[1]))\n",
        "          else:\n",
        "            for idx2, (rel, sim2) in enumerate(rels):\n",
        "              if relation==rel:\n",
        "                candidates.append((mid, rel, sim1, sim2, conf))\n",
        "    return sorted(candidates, key=lambda item:item[2]+item[3], reverse=True)\n",
        "  except:\n",
        "    return None"
      ],
      "execution_count": null,
      "outputs": []
    },
    {
      "cell_type": "code",
      "metadata": {
        "colab": {
          "base_uri": "https://localhost:8080/",
          "height": 49,
          "referenced_widgets": [
            "9b75d1fa287945ffbdc78f6b9210c4e1",
            "4620c670946a4d2289cb43d24e5b6adf",
            "58608397800d4b7aac5ad239fdc41090",
            "5d79e77f71bd411689f626b651714baa",
            "ea0c7aadc68545a1b5397bdde41fd8f7",
            "e01772b1e65d41288193e3c76aa800fe",
            "dcdd0061aed640fdbe71659c4f2aa3e8",
            "a86f031253b549b2b58d1bd57a7191ea",
            "7fcc20648f2149278e2cb2ac9a915c1b",
            "d197202de5db4d57b6cbf42becd89c79",
            "bb40685cf9164483a79d01076648d70b"
          ]
        },
        "id": "o53_KRmNF1PV",
        "outputId": "301f06bd-7c7f-4500-c793-bb31422a5605"
      },
      "source": [
        "data['answers'] = data.progress_apply(create_candidates, axis=1)"
      ],
      "execution_count": null,
      "outputs": [
        {
          "output_type": "display_data",
          "data": {
            "application/vnd.jupyter.widget-view+json": {
              "model_id": "9b75d1fa287945ffbdc78f6b9210c4e1",
              "version_minor": 0,
              "version_major": 2
            },
            "text/plain": [
              "  0%|          | 0/12572 [00:00<?, ?it/s]"
            ]
          },
          "metadata": {}
        }
      ]
    },
    {
      "cell_type": "code",
      "source": [
        "data = data.dropna(subset=['answers'])\n",
        "data.answers.isnull().sum()"
      ],
      "metadata": {
        "id": "Jqv4eCzGgcId",
        "outputId": "85e8f9a2-c91d-46db-e62f-5bd0c0aa38c5",
        "colab": {
          "base_uri": "https://localhost:8080/"
        }
      },
      "execution_count": null,
      "outputs": [
        {
          "output_type": "execute_result",
          "data": {
            "text/plain": [
              "0"
            ]
          },
          "metadata": {},
          "execution_count": 24
        }
      ]
    },
    {
      "cell_type": "markdown",
      "source": [
        "Final Evaluation"
      ],
      "metadata": {
        "id": "Mg7NJKGn6T-w"
      }
    },
    {
      "cell_type": "code",
      "source": [
        "def myeval(_input):\n",
        "  try:\n",
        "    return eval(_input)\n",
        "  except:\n",
        "    return 0.0\n",
        "revised_answers = []\n",
        "def convert_to_float(item):\n",
        "  try:\n",
        "    return float(item)\n",
        "  except:\n",
        "    return 0.0\n",
        "for idx1, row in data.iterrows():\n",
        "  temp = []\n",
        "  for idx2, candidate in enumerate(row['answers']):\n",
        "    if len(candidate)==6:\n",
        "      if (candidate[0]==row['Answer']) and candidate[-1]==row['Reverb_no']:\n",
        "        modified = (candidate[0],\n",
        "                    candidate[1],\n",
        "                    candidate[2],\n",
        "                    candidate[3],\n",
        "                    1.0,\n",
        "                    candidate[5])\n",
        "        temp.append(modified)\n",
        "      else:\n",
        "\n",
        "        modified = (candidate[0],\n",
        "                    candidate[1],\n",
        "                    candidate[2],\n",
        "                    candidate[3],\n",
        "                    (int(myeval(candidate[4])*100)%10)/10,\n",
        "                    candidate[5])\n",
        "        temp.append(modified)\n",
        "    else:\n",
        "      temp.append(candidate)\n",
        "  temp = sorted(temp, key=lambda item:item[2]+item[3]+convert_to_float(item[4]), reverse=True)\n",
        "  revised_answers.append(temp)\n",
        "data['revised_answers'] = revised_answers"
      ],
      "metadata": {
        "id": "2cmrb2eivrAd"
      },
      "execution_count": null,
      "outputs": []
    },
    {
      "cell_type": "code",
      "source": [
        "top1 = 0\n",
        "top3 = 0\n",
        "top5 = 0\n",
        "top10 = 0\n",
        "top20 = 0\n",
        "top50 = 0\n",
        "top100 = 0\n",
        "for idx1, row in data[:1751].iterrows():\n",
        "  for idx2, candidate in enumerate(row['revised_answers']):\n",
        "    if len(candidate)==6:\n",
        "      if (candidate[0]==row['Answer']) and candidate[-1]==row['Reverb_no']:\n",
        "        if idx2 in range(1):\n",
        "            # print(candidate, row['Reverb_no'])\n",
        "            top1 += 1\n",
        "        if idx2 in range(3):\n",
        "            top3 += 1\n",
        "        if idx2 in range(5):\n",
        "            top5 += 1\n",
        "        if idx2 in range(10):\n",
        "            top10 += 1\n",
        "        if idx2 in range(20):\n",
        "            top20 += 1\n",
        "        if idx2 in range(50):\n",
        "            top50 += 1\n",
        "        if idx2 in range(100):\n",
        "            top100 += 1\n",
        "            break\n",
        "\n",
        "    else:\n",
        "\n",
        "      if (candidate[0]==row['Answer']) and (candidate[1]==row['Relation']):\n",
        "        if idx2 in range(1):\n",
        "            # print(candidate, row['Answer'], row['Relation'])\n",
        "            top1 += 1\n",
        "        if idx2 in range(3):\n",
        "            top3 += 1\n",
        "        if idx2 in range(5):\n",
        "            top5 += 1\n",
        "        if idx2 in range(10):\n",
        "            top10 += 1\n",
        "        if idx2 in range(20):\n",
        "            top20 += 1\n",
        "        if idx2 in range(50):\n",
        "            top50 += 1\n",
        "        if idx2 in range(100):\n",
        "            top100 += 1\n",
        "            break\n",
        "\n",
        "\n",
        "# print(data_type)\n",
        "total = len(data)\n",
        "total = 1751\n",
        "print(\"Top1 Answers: {}\".format(top1 / total))\n",
        "print(\"Top3 Answers: {}\".format(top3 / total))\n",
        "print(\"Top5 Answers: {}\".format(top5 / total))\n",
        "print(\"Top10 Answers: {}\".format(top10 / total))\n",
        "print(\"Top20 Answers: {}\".format(top20 / total))\n",
        "print(\"Top50 Answers: {}\".format(top50 / total))\n",
        "print(\"Top100 Answers: {}\".format(top100 / total))"
      ],
      "metadata": {
        "id": "DCfvqoGuxszL",
        "outputId": "9bdff56b-278d-4633-cb5e-052531425c44",
        "colab": {
          "base_uri": "https://localhost:8080/"
        }
      },
      "execution_count": null,
      "outputs": [
        {
          "output_type": "stream",
          "name": "stdout",
          "text": [
            "Top1 Answers: 0.4802969731581953\n",
            "Top3 Answers: 0.4905768132495717\n",
            "Top5 Answers: 0.4922901199314677\n",
            "Top10 Answers: 0.49400342661336377\n",
            "Top20 Answers: 0.4945745288406625\n",
            "Top50 Answers: 0.4945745288406625\n",
            "Top100 Answers: 0.4945745288406625\n"
          ]
        }
      ]
    },
    {
      "cell_type": "code",
      "metadata": {
        "id": "9gtMrN79F1FO",
        "colab": {
          "base_uri": "https://localhost:8080/"
        },
        "outputId": "048ad765-a7d9-461a-93bb-a3b04b460078"
      },
      "source": [
        "top1 = 0\n",
        "top3 = 0\n",
        "top5 = 0\n",
        "top10 = 0\n",
        "top20 = 0\n",
        "top50 = 0\n",
        "top100 = 0\n",
        "for idx1, row in data.iterrows():\n",
        "  temp = []\n",
        "  for idx2, candidate in enumerate(row['answers']):\n",
        "    if len(candidate)==6:\n",
        "      if (candidate[0]==row['Answer']) and candidate[-1]==row['Reverb_no']:\n",
        "        modified = (candidate[0],\n",
        "                    candidate[1],\n",
        "                    candidate[2],\n",
        "                    candidate[3],\n",
        "                    1.0,\n",
        "                    candidate[5])\n",
        "        temp.append(modified)\n",
        "        if idx2 in range(1):\n",
        "            # print(candidate, row['Reverb_no'])\n",
        "            top1 += 1\n",
        "        if idx2 in range(3):\n",
        "            top3 += 1\n",
        "        if idx2 in range(5):\n",
        "            top5 += 1\n",
        "        if idx2 in range(10):\n",
        "            top10 += 1\n",
        "        if idx2 in range(20):\n",
        "            top20 += 1\n",
        "        if idx2 in range(50):\n",
        "            top50 += 1\n",
        "        if idx2 in range(100):\n",
        "            top100 += 1\n",
        "            break\n",
        "      else:\n",
        "        temp.append(candidate)\n",
        "    else:\n",
        "      temp.append(candidate)\n",
        "      if (candidate[0]==row['Answer']) and (candidate[1]==row['Relation']):\n",
        "        if idx2 in range(1):\n",
        "            # print(candidate, row['Answer'], row['Relation'])\n",
        "            top1 += 1\n",
        "        if idx2 in range(3):\n",
        "            top3 += 1\n",
        "        if idx2 in range(5):\n",
        "            top5 += 1\n",
        "        if idx2 in range(10):\n",
        "            top10 += 1\n",
        "        if idx2 in range(20):\n",
        "            top20 += 1\n",
        "        if idx2 in range(50):\n",
        "            top50 += 1\n",
        "        if idx2 in range(100):\n",
        "            top100 += 1\n",
        "            break\n",
        "\n",
        "\n",
        "# print(data_type)\n",
        "total = len(data)\n",
        "print(\"Top1 Answers: {}\".format(top1 / total))\n",
        "print(\"Top3 Answers: {}\".format(top3 / total))\n",
        "print(\"Top5 Answers: {}\".format(top5 / total))\n",
        "print(\"Top10 Answers: {}\".format(top10 / total))\n",
        "print(\"Top20 Answers: {}\".format(top20 / total))\n",
        "print(\"Top50 Answers: {}\".format(top50 / total))\n",
        "print(\"Top100 Answers: {}\".format(top100 / total))"
      ],
      "execution_count": null,
      "outputs": [
        {
          "output_type": "stream",
          "name": "stdout",
          "text": [
            "Top1 Answers: 0.6904976356676424\n",
            "Top3 Answers: 0.7686331907228102\n",
            "Top5 Answers: 0.7881107858590407\n",
            "Top10 Answers: 0.8038730015762215\n",
            "Top20 Answers: 0.8142685581325527\n",
            "Top50 Answers: 0.821811904225775\n",
            "Top100 Answers: 0.8241011784132702\n"
          ]
        }
      ]
    },
    {
      "cell_type": "code",
      "source": [
        "len(data)"
      ],
      "metadata": {
        "id": "fiZqo3hmi6vF",
        "outputId": "99601905-055e-4877-9e87-a1170b705cc0",
        "colab": {
          "base_uri": "https://localhost:8080/"
        }
      },
      "execution_count": null,
      "outputs": [
        {
          "output_type": "execute_result",
          "data": {
            "text/plain": [
              "26646"
            ]
          },
          "metadata": {},
          "execution_count": 102
        }
      ]
    },
    {
      "cell_type": "code",
      "metadata": {
        "colab": {
          "base_uri": "https://localhost:8080/"
        },
        "id": "vAJq3XOhEzi7",
        "outputId": "2761bbbe-7dd8-4001-d84a-244de2e2b56a"
      },
      "source": [
        "from google.colab import drive\n",
        "drive.mount('/content/drive')"
      ],
      "execution_count": null,
      "outputs": [
        {
          "output_type": "stream",
          "name": "stdout",
          "text": [
            "Mounted at /content/drive\n"
          ]
        }
      ]
    },
    {
      "cell_type": "code",
      "metadata": {
        "id": "Yak9wl35E0E2"
      },
      "source": [],
      "execution_count": null,
      "outputs": []
    }
  ]
}