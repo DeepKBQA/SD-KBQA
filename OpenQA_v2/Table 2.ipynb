{
  "nbformat": 4,
  "nbformat_minor": 0,
  "metadata": {
    "colab": {
      "name": "MLP.ipynb",
      "provenance": [],
      "authorship_tag": "ABX9TyO31No8QFB976IEs/1gZNql",
      "include_colab_link": true
    },
    "kernelspec": {
      "name": "python3",
      "display_name": "Python 3"
    },
    "language_info": {
      "name": "python"
    }
  },
  "cells": [
    {
      "cell_type": "markdown",
      "metadata": {
        "id": "view-in-github",
        "colab_type": "text"
      },
      "source": [
        "<a href=\"https://colab.research.google.com/github/meti-94/OpenQA/blob/main/OpanQA_v2/Table%202.ipynb\" target=\"_parent\"><img src=\"https://colab.research.google.com/assets/colab-badge.svg\" alt=\"Open In Colab\"/></a>"
      ]
    },
    {
      "cell_type": "code",
      "source": [
        "!pip install transformers -q\n",
        "!pip install fuzzywuzzy -q\n",
        "!pip install python-Levenshtein -q\n",
        "!pip install pattern -q"
      ],
      "metadata": {
        "id": "1wb8Y-zFpE3d"
      },
      "execution_count": 19,
      "outputs": []
    },
    {
      "cell_type": "code",
      "source": [
        "from google.colab import drive\n",
        "drive.mount('/content/drive')"
      ],
      "metadata": {
        "colab": {
          "base_uri": "https://localhost:8080/"
        },
        "id": "QD_CQcqmoZ23",
        "outputId": "42663c8c-d0ae-47a2-9c75-f66b6c10b0eb"
      },
      "execution_count": 20,
      "outputs": [
        {
          "output_type": "stream",
          "name": "stdout",
          "text": [
            "Drive already mounted at /content/drive; to attempt to forcibly remount, call drive.mount(\"/content/drive\", force_remount=True).\n"
          ]
        }
      ]
    },
    {
      "cell_type": "code",
      "source": [
        "!git clone https://github.com/meti-94/OpenQA.git\n",
        "%cd OpenQA/OpenQA_v2/src"
      ],
      "metadata": {
        "colab": {
          "base_uri": "https://localhost:8080/"
        },
        "id": "vg2YG2BRnOh7",
        "outputId": "f3824ce9-1cdb-4a18-90dd-f526af2cac6b"
      },
      "execution_count": 24,
      "outputs": [
        {
          "output_type": "stream",
          "name": "stdout",
          "text": [
            "Cloning into 'OpenQA'...\n",
            "remote: Enumerating objects: 275, done.\u001b[K\n",
            "remote: Counting objects: 100% (38/38), done.\u001b[K\n",
            "remote: Compressing objects: 100% (31/31), done.\u001b[K\n",
            "remote: Total 275 (delta 16), reused 18 (delta 5), pack-reused 237\u001b[K\n",
            "Receiving objects: 100% (275/275), 102.63 MiB | 25.74 MiB/s, done.\n",
            "Resolving deltas: 100% (119/119), done.\n",
            "[Errno 2] No such file or directory: 'OpenQA/OpenQA_v2/src'\n",
            "/content/OpenQA/OpanQA_v2/src\n"
          ]
        }
      ]
    },
    {
      "cell_type": "code",
      "source": [
        "!python3 entity_linking.py test"
      ],
      "metadata": {
        "colab": {
          "base_uri": "https://localhost:8080/"
        },
        "id": "F8oo6KlanWjH",
        "outputId": "5c8ab412-b4db-4c74-d6ed-eef6e45edbbd"
      },
      "execution_count": 25,
      "outputs": [
        {
          "output_type": "stream",
          "name": "stdout",
          "text": [
            "[nltk_data] Downloading package stopwords to /root/nltk_data...\n",
            "[nltk_data]   Package stopwords is already up-to-date!\n",
            "Reverb Questions Count: 5021\tFreebase Questions Count: 21619\n",
            "100% 407267/407267 [00:31<00:00, 12820.82it/s]\n",
            "\n",
            "Total MIDs before augmentation: 1951909\tUnmatched (Added) MIDs: 669962\t Matched MIDs: 144572\n",
            "Total Entity Strings before augmentation: 17499334\tAdded Entity Strings: 138179\n",
            "Total type of text: 4932784\n",
            "Max Length of entry is 249631, text is [('fb:m.0491wwn', 'sandcut , indiana', 'fb:type.object.name'), ('fb:m.02r9wg_', 'kjellgren , jonas', 'fb:common.topic.alias'), ('fb:m.04j05qk', \"si je t'aime , prends garde à toi\", 'fb:common.topic.alias'), ('fb:m.0tkms', 'wisner , louisiana', 'fb:common.topic.alias'), ('fb:m.0480k5g', 'booker heights , alabama', 'fb:common.topic.alias'), ('fb:m.06_y3rv', 'rolando rivas , taxista', 'fb:type.object.name'), ('fb:m.0gj3ld', 'postalesio , italy', 'fb:common.topic.alias'), ('fb:m.0j9qbb_', 'heathfield school , pinner', 'fb:type.object.name'), ('fb:m.02q18jv', 'boston university school of medicine , main campus', 'fb:common.topic.alias'), ('fb:m.049_rf7', 'girard , michigan', 'fb:common.topic.alias'), ('fb:m.0dpr2p', 'juniper beach , kentucky', 'fb:common.topic.alias'), ('fb:m.054v2h', 'huth , todd', 'fb:common.topic.alias'), ('fb:m.04c1lpb', 'wakefield , virginia', 'fb:common.topic.alias'), ('fb:m.01vfyp1', 'ballew , smith', 'fb:common.topic.alias'), ('fb:m.0wzkc', 'unionville , missouri', 'fb:common.topic.alias'), ('fb:m.048nr32', 'peppermint creek , california', 'fb:common.topic.alias'), ('fb:m.027yr4l', 'pimentel , dominican republic', 'fb:type.object.name'), ('fb:m.030rjs', 'terrace , canada', 'fb:common.topic.alias'), ('fb:m.049_lm2', 'birdsall , michigan', 'fb:common.topic.alias'), ('fb:m.08zgtw', 'lot 43 , canada', 'fb:common.topic.alias'), ('fb:m.0378d41', 'frc-015c : palatrussardi , milan , italy. 26 january 1988 ( disc 1 )', 'fb:common.topic.alias'), ('fb:m.01l5ds', 'opsin 2 , rod pigment', 'fb:common.topic.alias'), ('fb:m.054dbm', 'navesink twin lights , highlands', 'fb:common.topic.alias'), ('fb:m.0qwbv', 'glenwood , arkansas', 'fb:common.topic.alias'), ('fb:m.0gdv6wn', 'caffi , juan jose garcia', 'fb:common.topic.alias'), ('fb:m.04b0fj6', 'noyes , minnesota', 'fb:common.topic.alias'), ('fb:m.0gp6b5', 'odawara , kanagawa', 'fb:common.topic.alias'), ('fb:m.03gsshj', 'hall city , florida', 'fb:common.topic.alias'), ('fb:m.0g6wbj', 'garzigliana , france', 'fb:common.topic.alias'), ('fb:m.0hqs7_s', 'octinoxate , octisalate 0.002/0.02 cream', 'fb:type.object.name'), ('fb:m.04b72n1', 'oak dale crossroads , north carolina', 'fb:common.topic.alias'), ('fb:m.01s371g', 'kato , kumiko', 'fb:common.topic.alias'), ('fb:m.01hgd1t', 'bang , bang : the early years', 'fb:type.object.name'), ('fb:m.0cg9kt', 'cease , kyle', 'fb:common.topic.alias'), ('fb:m.0vmnm', 'prescott , michigan', 'fb:common.topic.alias'), ('fb:m.04896ly', 'enchanted hills , california', 'fb:common.topic.alias'), ('fb:m.029ywl', 'clive soley , baron soley', 'fb:type.object.name'), ('fb:m.048qnp_', 'glenville , greenwich', 'fb:common.topic.alias'), ('fb:m.094_4w', 'ostra , marche', 'fb:type.object.name'), ('fb:m.01hdbpx', '2000-08-15 : memphis , tn , usa ( # 34 )', 'fb:type.object.name'), ('fb:m.011cnp', 'chicog , wisconsin', 'fb:common.topic.alias'), ('fb:m.08cswb', 'evans , dave', 'fb:common.topic.alias'), ('fb:m.0fwnt5n', 'bob dylan’s greatest hits , volume ii', 'fb:type.object.name'), ('fb:m.0f2wcp', 'cherrydale , arlington county', 'fb:common.topic.alias'), ('fb:m.0skf7vj', 'symphony no. 2 in d major , op. 43 : ii. tempo andante ma rubato', 'fb:common.topic.alias'), ('fb:m.0gbfxj', 'calliano , piedmont', 'fb:type.object.name'), ('fb:m.02ps25s', 'ash grove township , iroquois county , illinois', 'fb:common.topic.alias'), ('fb:m.034szkz', 'i , swinger', 'fb:type.object.name'), ('fb:m.06_66_m', 'howe , edgar e. , home', 'fb:common.topic.alias'), ('fb:m.03mbt3v', 'riverside , yamhill county , oregon', 'fb:common.topic.alias'), ('fb:m.0wlss', 'redpath township , minnesota', 'fb:common.topic.alias'), ('fb:m.06tnj5', 'arthur o. sulzberger , jr .', 'fb:common.topic.alias'), ('fb:m.054vd8', 'payne , john', 'fb:common.topic.alias'), ('fb:m.048vsmh', 'mystic , georgia', 'fb:common.topic.alias'), ('fb:m.01j5q2g', 'live in horst , holland', 'fb:type.object.name'), ('fb:m.048pjyw', 'tortuga , california', 'fb:type.object.name'), ('fb:m.04c2ksj', 'bybee , virginia', 'fb:type.object.name'), ('fb:m.0jt9pjb', 'kopf hoch , charly !', 'fb:common.topic.alias'), ('fb:m.03jlw5', 'aurora stadium , launceston', 'fb:common.topic.alias'), ('fb:m.01kz0cv', 'bbc music , volume 3 , number 7 : anne evans sings wagner at the 1994 proms ( bbc national orchestra of wales feat. conductor : otaka )', 'fb:type.object.name'), ('fb:m.03f7myg', 'inkinen , pietari', 'fb:common.topic.alias'), ('fb:m.0rcwr', 'ault , colorado', 'fb:common.topic.alias'), ('fb:m.0drlmxn', 'concerto for piano and orchestra no. 2 in b-flat major , op. 83 : iii. andante - più adagio', 'fb:common.topic.alias'), ('fb:m.08p0sv', 'walter j. kohler , jr .', 'fb:type.object.name'), ('fb:m.01rdc1v', 'komatsu , rika', 'fb:common.topic.alias'), ('fb:m.01v3wf1', 'ashton , gardner & dyke', 'fb:type.object.name'), ('fb:m.0rzgjc', \"peer gynt suite no. 2 , op 55 : i. ingrid 's lament\", 'fb:common.topic.alias'), ('fb:m.0bh9dzh', 'heaven can wait : the best ballads of meat loaf , volume 1', 'fb:type.object.name'), ('fb:m.02vyc7z', 'american club , kohler', 'fb:common.topic.alias'), ('fb:m.0d_fsv', 'atienza , spain', 'fb:common.topic.alias'), ('fb:m.0v82x', 'belding , michigan', 'fb:common.topic.alias'), ('fb:m.096hg9', 'reynolds , jenny', 'fb:common.topic.alias'), ('fb:m.02qfngw', 'york , edmonton', 'fb:type.object.name'), ('fb:m.03f4989', \"louis , lil ' and diamond corp. , the\", 'fb:common.topic.alias'), ('fb:m.04c7ng7', 'marfrance , west virginia', 'fb:common.topic.alias'), ('fb:m.010sjt', 'okanogan , washington', 'fb:common.topic.alias'), ('fb:m.04f3c_t', 'first universalist church , middlesex county', 'fb:common.topic.alias'), ('fb:m.01wr1w', 'nichinan , miyazaki', 'fb:common.topic.alias'), ('fb:m.064mnc1', 'bear valley , mariposa county , california', 'fb:type.object.name'), ('fb:m.01w_0gz', 'malherbe , didier', 'fb:common.topic.alias'), ('fb:m.0dmq1t_', 'χρηστίδου , ραλλία', 'fb:common.topic.alias'), ('fb:m.0clw7f2', 'international academy of design and technology , seattle', 'fb:type.object.name'), ('fb:m.0bggtmw', 'jeong , seon-kyoung', 'fb:common.topic.alias'), ('fb:m.025zmqd', 'lindsay , jeff', 'fb:common.topic.alias'), ('fb:m.05_5_vp', 'lee , sang ho', 'fb:common.topic.alias'), ('fb:m.028tf_', 'oakley , inc .', 'fb:type.object.name'), ('fb:m.01fyyq7', 'café del mar , volume eight', 'fb:type.object.name'), ('fb:m.04rn_32', 'blue , rather than green , was the colour most associated with st. patrick in the past .', 'fb:type.object.name'), ('fb:m.0xcmw', 'coon rapids , minnesota', 'fb:common.topic.alias'), ('fb:m.0clvl2x', 'marinello school of beauty , los angeles , wilshire blvd. , main campus', 'fb:common.topic.alias'), ('fb:m.0dr3qhx', 'symphony no. 4 in b-flat major , op. 60 : iv. allegro ma non troppo', 'fb:type.object.name'), ('fb:m.032n9m2', 'pepsi chart hits , volume 2 ( disc 2 )', 'fb:common.topic.alias'), ('fb:m.0hqtjpc', 'redtop grass , standardized 100000 injectable solution', 'fb:type.object.name'), ('fb:m.0f3j64', 'east angus , canada', 'fb:common.topic.alias'), ('fb:m.0499pv7', 'bethlehem , maryland', 'fb:type.object.name'), ('fb:m.096rnf', \"saint francis , god 's jester\", 'fb:common.topic.alias'), ('fb:m.0vn4f', 'mio , michigan', 'fb:common.topic.alias'), ('fb:m.01nhg7z', 'lewis , barbara', 'fb:common.topic.alias'), ('fb:m.0493tgk', 'dry fork , kentucky', 'fb:common.topic.alias'), ('fb:m.049srpt', \"live at yoshi 's , volume one\", 'fb:type.object.name')]\n",
            "26640it [00:50, 528.65it/s]\n",
            "test\n",
            "Top1 Entity Linking Accuracy: 0.6018393393393393\n",
            "Top3 Entity Linking Accuracy: 0.7421171171171171\n",
            "Top5 Entity Linking Accuracy: 0.7887762762762762\n",
            "Top10 Entity Linking Accuracy: 0.833521021021021\n",
            "Top20 Entity Linking Accuracy: 0.8613738738738739\n",
            "Top50 Entity Linking Accuracy: 0.8852852852852853\n",
            "Top100 Entity Linking Accuracy: 0.9003753753753754\n"
          ]
        }
      ]
    },
    {
      "cell_type": "code",
      "source": [
        "!python3 entity_linking.py valid"
      ],
      "metadata": {
        "colab": {
          "base_uri": "https://localhost:8080/"
        },
        "id": "QJHbDXnApC7Q",
        "outputId": "05dc41a0-da9d-4fcd-857e-39c5e27a4681"
      },
      "execution_count": 27,
      "outputs": [
        {
          "output_type": "stream",
          "name": "stdout",
          "text": [
            "[nltk_data] Downloading package stopwords to /root/nltk_data...\n",
            "[nltk_data]   Package stopwords is already up-to-date!\n",
            "Reverb Questions Count: 1753\tFreebase Questions Count: 10809\n",
            "100% 407267/407267 [00:32<00:00, 12650.00it/s]\n",
            "\n",
            "Total MIDs before augmentation: 1951909\tUnmatched (Added) MIDs: 669962\t Matched MIDs: 144572\n",
            "Total Entity Strings before augmentation: 17499334\tAdded Entity Strings: 138179\n",
            "Total type of text: 4932784\n",
            "Max Length of entry is 249631, text is [('fb:m.0494lg7', 'bond , kentucky', 'fb:common.topic.alias'), ('fb:m.02hrxz', 'tropicana field , st. petersburg', 'fb:common.topic.alias'), ('fb:m.06_fnng', 'maymont , richmond', 'fb:common.topic.alias'), ('fb:m.01mbtbb', 'bell , steve', 'fb:common.topic.alias'), ('fb:m.0h2vpq', 'haish memorial library , dekalb', 'fb:common.topic.alias'), ('fb:m.043jphr', 'palisades del rey , california', 'fb:type.object.name'), ('fb:m.04ryq', 'morton downey , jr .', 'fb:type.object.name'), ('fb:m.04wf7ff', 'ramus , method , and the decay of dialogue', 'fb:type.object.name'), ('fb:m.0bgglws', 'chile , obstinate memory', 'fb:type.object.name'), ('fb:m.0c40rh8', 'universidade federal de sergipe , main campus', 'fb:common.topic.alias'), ('fb:m.0gjkr3', 'san giorgio di lomellina , italy', 'fb:common.topic.alias'), ('fb:m.0gn3t7', 'piano di sorrento , italy', 'fb:common.topic.alias'), ('fb:m.01r5xcd', 'vincent , kyle', 'fb:common.topic.alias'), ('fb:m.0bhzgw', 'toochika , kouichi', 'fb:common.topic.alias'), ('fb:m.05m367', 'păunescu , adrian', 'fb:common.topic.alias'), ('fb:m.07r57r', 'southern river , western australia', 'fb:common.topic.alias'), ('fb:m.0gh7yz6', 'piano sonata in f major , k. 547a', 'fb:type.object.name'), ('fb:m.04b0kd0', 'bremen , minnesota', 'fb:common.topic.alias'), ('fb:m.0bkx9v', 'asa gray house , cambridge', 'fb:common.topic.alias'), ('fb:m.02vx3wz', 'rivervale , arkansas', 'fb:common.topic.alias'), ('fb:m.01wfx87', 'withers , pick', 'fb:common.topic.alias'), ('fb:m.05sytft', 'what did i do to deserve this , my lord ?', 'fb:type.object.name'), ('fb:m.0w979', 'shelly township , minnesota', 'fb:common.topic.alias'), ('fb:m.048s473', 'harbor view , florida', 'fb:common.topic.alias'), ('fb:m.0cc9fgc', 'fight ! batman , fight !', 'fb:common.topic.alias'), ('fb:m.04c1qtf', 'dewey , virginia', 'fb:common.topic.alias'), ('fb:m.0wrw_', 'belmont , mississippi', 'fb:common.topic.alias'), ('fb:m.04b8htt', 'welshs corner , new hampshire', 'fb:common.topic.alias'), ('fb:m.04b3l5t', 'mcbride , mississippi', 'fb:common.topic.alias'), ('fb:m.06p7x5', 'soule , jeremy', 'fb:common.topic.alias'), ('fb:m.01rkscs', 'modern lovers , the', 'fb:common.topic.alias'), ('fb:m.08fhy9', 'foot locker retail , inc', 'fb:common.topic.alias'), ('fb:m.03cq1rd', 'gasque , alabama', 'fb:common.topic.alias'), ('fb:m.04b7h9r', 'reelsboro , north carolina', 'fb:common.topic.alias'), ('fb:m.01jmlw', 'lhasa , china', 'fb:common.topic.alias'), ('fb:m.0rjs5', 'charlotte park , florida', 'fb:common.topic.alias'), ('fb:m.04glp1s', 'fay apartments , cincinnati', 'fb:common.topic.alias'), ('fb:m.048y9qd', 'churchville , iowa', 'fb:type.object.name'), ('fb:m.05zm8zc', 'deutsches stadion , berlin', 'fb:common.topic.alias'), ('fb:m.0114lb', 'holland , la crosse county , wisconsin', 'fb:common.topic.alias'), ('fb:m.048x5t1', 'cambridge , georgia', 'fb:common.topic.alias'), ('fb:m.0gk8l6', 'cercivento , italy', 'fb:common.topic.alias'), ('fb:m.0clvnzc', 'daymar college-paducah main , main campus', 'fb:common.topic.alias'), ('fb:m.01yrl5', 'ennis , ireland', 'fb:common.topic.alias'), ('fb:m.0clw6zm', 'heritage college , kansas city', 'fb:type.object.name'), ('fb:m.06swpj', \"dj yoda 's how to cut & paste : mix tape , volume 1\", 'fb:common.topic.alias'), ('fb:m.0gn2gh', 'san nicola manfredi , italy', 'fb:common.topic.alias'), ('fb:m.04c7r37', 'ottawa , west virginia', 'fb:type.object.name'), ('fb:m.05dh8q', 'rajiv gandhi technical university , bhopal', 'fb:common.topic.alias'), ('fb:m.0h23rrd', 'summers , harvey', 'fb:common.topic.alias'), ('fb:m.01klkws', 'the symphonies , volume 5 ( disc 3 )', 'fb:type.object.name'), ('fb:m.01vysy8', 'rush , jennifer', 'fb:common.topic.alias'), ('fb:m.0gk0qn', 'san giacomo delle segnate , italy', 'fb:common.topic.alias'), ('fb:m.03d1847', 'louis morris murphy , jr', 'fb:common.topic.alias'), ('fb:m.0h3w_2b', 'audio , video , disco', 'fb:type.object.name'), ('fb:m.02ndxb', 'dunwoody college of technology , minneapolis', 'fb:common.topic.alias'), ('fb:m.03_byc', 'stanley black & decker , inc .', 'fb:type.object.name'), ('fb:m.013hls', 'brewerton , new york', 'fb:common.topic.alias'), ('fb:m.0m0f2w', 'pads , paws and claws', 'fb:type.object.name'), ('fb:m.04c400f', 'waylandsburg , virginia', 'fb:type.object.name'), ('fb:m.0fb5tr6', 'lazy hours , volume 4 ( disc 2 )', 'fb:common.topic.alias'), ('fb:m.0bfn_k', 'wtop , inc .', 'fb:common.topic.alias'), ('fb:m.04b1b4v', 'cedar cliffs , missouri', 'fb:common.topic.alias'), ('fb:m.048w1j2', 'thomas crossroads , georgia', 'fb:common.topic.alias'), ('fb:m.0433_h', 'margaret wake , 3rd baroness wake of liddell', 'fb:type.object.name'), ('fb:m.048ntxj', 'mission oaks mobile home community , california', 'fb:common.topic.alias'), ('fb:m.0p4c', 'anbar , iraq', 'fb:common.topic.alias'), ('fb:m.01ww2l', '10 dage , der rystede verden', 'fb:common.topic.alias'), ('fb:m.04mxff6', 'šimkus , vestards', 'fb:common.topic.alias'), ('fb:m.077cp0', 'hidden , dj', 'fb:common.topic.alias'), ('fb:m.03hgmpy', 'yorkville , indiana', 'fb:common.topic.alias'), ('fb:m.03rp5t', 'galatasaray lisesi , istanbul', 'fb:common.topic.alias'), ('fb:m.0f04c', 'palo alto , ca', 'fb:common.topic.alias'), ('fb:m.0gcj6b', 'mount dennis , canada', 'fb:common.topic.alias'), ('fb:m.0z993', 'canadian , oklahoma', 'fb:common.topic.alias'), ('fb:m.071vz8', 'william fitzroy , 6th duke of grafton', 'fb:type.object.name'), ('fb:m.01kh0br', 'messiaen , olivier', 'fb:common.topic.alias'), ('fb:m.0307vc', 'jiamusi , china', 'fb:common.topic.alias'), ('fb:m.04c2pv0', 'hop yard landing , virginia', 'fb:type.object.name'), ('fb:m.02vncn9', 'another day , another life', 'fb:type.object.name'), ('fb:m.0b_6j8', 'collins barracks , dublin', 'fb:type.object.name'), ('fb:m.0sjg7nv', 'symphonies , complete', 'fb:type.object.name'), ('fb:m.048_85p', 'ovid , idaho', 'fb:common.topic.alias'), ('fb:m.0266pj0', 'highland high school , main campus , gilbert', 'fb:common.topic.alias'), ('fb:m.0h1hr3', 'suk , josef', 'fb:common.topic.alias'), ('fb:m.0495n4h', 'odra , louisiana', 'fb:common.topic.alias'), ('fb:m.04899rb', 'jewell , california', 'fb:common.topic.alias'), ('fb:m.02plfsf', 'beal , john', 'fb:common.topic.alias'), ('fb:m.0z971', 'perkins , oklahoma', 'fb:common.topic.alias'), ('fb:m.04f4_27', 'croydon secondary college , main campus', 'fb:common.topic.alias'), ('fb:m.03hn4hp', 'gutwillig , jon', 'fb:common.topic.alias'), ('fb:m.048585z', 'oak level , alabama', 'fb:common.topic.alias'), ('fb:m.0ysp1', 'geneva , ohio', 'fb:common.topic.alias'), ('fb:m.01wp0d', 'tamano , okayama', 'fb:common.topic.alias'), ('fb:m.02rg45f', 'lamar boulevard bridge , austin', 'fb:common.topic.alias'), ('fb:m.03970n7', 'just can’t get enough : new wave hits of the ’80s , volume 12', 'fb:type.object.name'), ('fb:m.02w135k', 'gerald b. and beverley tonkens house , cincinnati', 'fb:common.topic.alias'), ('fb:m.04bp3f2', 'warrington , pennsylvania', 'fb:common.topic.alias'), ('fb:m.08512c', 'watson , liam', 'fb:common.topic.alias'), ('fb:m.04bdq0b', 'smithville center , new york', 'fb:common.topic.alias')]\n",
            "12562it [00:17, 731.50it/s] \n",
            "valid\n",
            "Top1 Entity Linking Accuracy: 0.6245024677599108\n",
            "Top3 Entity Linking Accuracy: 0.7604680783314759\n",
            "Top5 Entity Linking Accuracy: 0.8032160483999363\n",
            "Top10 Entity Linking Accuracy: 0.8477949371119249\n",
            "Top20 Entity Linking Accuracy: 0.8766120044578889\n",
            "Top50 Entity Linking Accuracy: 0.8978665817544977\n",
            "Top100 Entity Linking Accuracy: 0.9110810380512657\n"
          ]
        }
      ]
    },
    {
      "cell_type": "code",
      "source": [],
      "metadata": {
        "id": "5qkGT0EQ_rsZ"
      },
      "execution_count": null,
      "outputs": []
    }
  ]
}