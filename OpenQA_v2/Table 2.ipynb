{
  "nbformat": 4,
  "nbformat_minor": 0,
  "metadata": {
    "colab": {
      "name": "MLP.ipynb",
      "provenance": [],
      "authorship_tag": "ABX9TyNnwu7gw9TfC7YYKS/2Zr1z",
      "include_colab_link": true
    },
    "kernelspec": {
      "name": "python3",
      "display_name": "Python 3"
    },
    "language_info": {
      "name": "python"
    }
  },
  "cells": [
    {
      "cell_type": "markdown",
      "metadata": {
        "id": "view-in-github",
        "colab_type": "text"
      },
      "source": [
        "<a href=\"https://colab.research.google.com/github/meti-94/OpenQA/blob/main/OpenQA_v2/Table%202.ipynb\" target=\"_parent\"><img src=\"https://colab.research.google.com/assets/colab-badge.svg\" alt=\"Open In Colab\"/></a>"
      ]
    },
    {
      "cell_type": "code",
      "source": [
        "!pip install transformers -q\n",
        "!pip install fuzzywuzzy -q\n",
        "!pip install python-Levenshtein -q\n",
        "!pip install pattern -q"
      ],
      "metadata": {
        "id": "1wb8Y-zFpE3d",
        "outputId": "826b09aa-1165-44c1-9aae-b1b92e367333",
        "colab": {
          "base_uri": "https://localhost:8080/"
        }
      },
      "execution_count": 1,
      "outputs": [
        {
          "output_type": "stream",
          "name": "stdout",
          "text": [
            "\u001b[2K     \u001b[90m━━━━━━━━━━━━━━━━━━━━━━━━━━━━━━━━━━━━━━━━\u001b[0m \u001b[32m177.4/177.4 kB\u001b[0m \u001b[31m4.8 MB/s\u001b[0m eta \u001b[36m0:00:00\u001b[0m\n",
            "\u001b[2K     \u001b[90m━━━━━━━━━━━━━━━━━━━━━━━━━━━━━━━━━━━━━━━━\u001b[0m \u001b[32m3.4/3.4 MB\u001b[0m \u001b[31m20.0 MB/s\u001b[0m eta \u001b[36m0:00:00\u001b[0m\n",
            "\u001b[2K     \u001b[90m━━━━━━━━━━━━━━━━━━━━━━━━━━━━━━━━━━━━━━━━\u001b[0m \u001b[32m22.2/22.2 MB\u001b[0m \u001b[31m47.1 MB/s\u001b[0m eta \u001b[36m0:00:00\u001b[0m\n",
            "\u001b[?25h  Preparing metadata (setup.py) ... \u001b[?25l\u001b[?25hdone\n",
            "\u001b[2K     \u001b[90m━━━━━━━━━━━━━━━━━━━━━━━━━━━━━━━━━━━━━━━━\u001b[0m \u001b[32m90.4/90.4 kB\u001b[0m \u001b[31m10.0 MB/s\u001b[0m eta \u001b[36m0:00:00\u001b[0m\n",
            "\u001b[?25h  Installing build dependencies ... \u001b[?25l\u001b[?25hdone\n",
            "  Getting requirements to build wheel ... \u001b[?25l\u001b[?25hdone\n",
            "  Installing backend dependencies ... \u001b[?25l\u001b[?25hdone\n",
            "  Preparing metadata (pyproject.toml) ... \u001b[?25l\u001b[?25hdone\n",
            "\u001b[2K     \u001b[90m━━━━━━━━━━━━━━━━━━━━━━━━━━━━━━━━━━━━━━━━\u001b[0m \u001b[32m81.3/81.3 kB\u001b[0m \u001b[31m9.0 MB/s\u001b[0m eta \u001b[36m0:00:00\u001b[0m\n",
            "\u001b[2K     \u001b[90m━━━━━━━━━━━━━━━━━━━━━━━━━━━━━━━━━━━━━━━━\u001b[0m \u001b[32m5.6/5.6 MB\u001b[0m \u001b[31m71.3 MB/s\u001b[0m eta \u001b[36m0:00:00\u001b[0m\n",
            "\u001b[2K     \u001b[90m━━━━━━━━━━━━━━━━━━━━━━━━━━━━━━━━━━━━━━━━\u001b[0m \u001b[32m239.6/239.6 kB\u001b[0m \u001b[31m25.6 MB/s\u001b[0m eta \u001b[36m0:00:00\u001b[0m\n",
            "\u001b[2K     \u001b[90m━━━━━━━━━━━━━━━━━━━━━━━━━━━━━━━━━━━━━━━━\u001b[0m \u001b[32m348.8/348.8 kB\u001b[0m \u001b[31m33.6 MB/s\u001b[0m eta \u001b[36m0:00:00\u001b[0m\n",
            "\u001b[2K     \u001b[90m━━━━━━━━━━━━━━━━━━━━━━━━━━━━━━━━━━━━━━━━\u001b[0m \u001b[32m101.6/101.6 kB\u001b[0m \u001b[31m11.0 MB/s\u001b[0m eta \u001b[36m0:00:00\u001b[0m\n",
            "\u001b[?25h  Preparing metadata (setup.py) ... \u001b[?25l\u001b[?25hdone\n",
            "  Building wheel for pattern (setup.py) ... \u001b[?25l\u001b[?25hdone\n",
            "  Building wheel for mysqlclient (pyproject.toml) ... \u001b[?25l\u001b[?25hdone\n",
            "  Building wheel for sgmllib3k (setup.py) ... \u001b[?25l\u001b[?25hdone\n"
          ]
        }
      ]
    },
    {
      "cell_type": "code",
      "source": [
        "from google.colab import drive\n",
        "drive.mount('/content/drive')"
      ],
      "metadata": {
        "colab": {
          "base_uri": "https://localhost:8080/"
        },
        "id": "QD_CQcqmoZ23",
        "outputId": "691d2323-4458-4e4f-fee0-de7acfc08ba0"
      },
      "execution_count": 2,
      "outputs": [
        {
          "output_type": "stream",
          "name": "stdout",
          "text": [
            "Mounted at /content/drive\n"
          ]
        }
      ]
    },
    {
      "cell_type": "code",
      "source": [
        "!git clone https://github.com/meti-94/OpenQA.git\n",
        "%cd /content/OpenQA/OpenQA_v2/src"
      ],
      "metadata": {
        "colab": {
          "base_uri": "https://localhost:8080/"
        },
        "id": "vg2YG2BRnOh7",
        "outputId": "cc3f7e51-1bea-4527-d4c7-e866f908b23c"
      },
      "execution_count": 3,
      "outputs": [
        {
          "output_type": "stream",
          "name": "stdout",
          "text": [
            "Cloning into 'OpenQA'...\n",
            "remote: Enumerating objects: 410, done.\u001b[K\n",
            "remote: Counting objects: 100% (173/173), done.\u001b[K\n",
            "remote: Compressing objects: 100% (129/129), done.\u001b[K\n",
            "remote: Total 410 (delta 113), reused 75 (delta 41), pack-reused 237\u001b[K\n",
            "Receiving objects: 100% (410/410), 102.70 MiB | 23.18 MiB/s, done.\n",
            "Resolving deltas: 100% (216/216), done.\n",
            "/content/OpenQA/OpenQA_v2/src\n"
          ]
        }
      ]
    },
    {
      "cell_type": "code",
      "source": [
        "!python3 entity_linking.py test 0"
      ],
      "metadata": {
        "colab": {
          "base_uri": "https://localhost:8080/"
        },
        "id": "F8oo6KlanWjH",
        "outputId": "a99aedfc-260c-4a36-e2e8-fe5e30e1d09b"
      },
      "execution_count": null,
      "outputs": [
        {
          "output_type": "stream",
          "name": "stdout",
          "text": [
            "[nltk_data] Downloading package stopwords to /root/nltk_data...\n",
            "[nltk_data]   Unzipping corpora/stopwords.zip.\n",
            "Reverb Questions Count: 5021\tFreebase Questions Count: 21619\n"
          ]
        }
      ]
    },
    {
      "cell_type": "code",
      "source": [
        "!python3 entity_linking.py test 1"
      ],
      "metadata": {
        "id": "onGko9ChEzqS",
        "outputId": "2dd13599-6220-4908-8f42-e16745f1700e",
        "colab": {
          "base_uri": "https://localhost:8080/"
        }
      },
      "execution_count": null,
      "outputs": [
        {
          "output_type": "stream",
          "name": "stdout",
          "text": [
            "[nltk_data] Downloading package stopwords to /root/nltk_data...\n",
            "[nltk_data]   Package stopwords is already up-to-date!\n",
            "Reverb Questions Count: 5021\tFreebase Questions Count: 21619\n",
            "100% 407267/407267 [00:31<00:00, 12857.77it/s]\n",
            "\n",
            "Total MIDs before augmentation: 1951909\tUnmatched (Added) MIDs: 669962\t Matched MIDs: 144572\n",
            "Total Entity Strings before augmentation: 17499334\tAdded Entity Strings: 138179\n",
            "Total type of text: 4932784\n",
            "Max Length of entry is 249631, text is [('fb:m.0xx5_', 'preston-potter hollow , new york', 'fb:common.topic.alias'), ('fb:m.04gk5b4', 'rila , bulgaria', 'fb:type.object.name'), ('fb:m.0rbtr', 'arriba , colorado', 'fb:common.topic.alias'), ('fb:m.048qspf', 'ridgewood , connecticut', 'fb:common.topic.alias'), ('fb:m.01mjd0', 'dallas , wisconsin', 'fb:common.topic.alias'), ('fb:m.01zst8', 'windsor , london', 'fb:common.topic.alias'), ('fb:m.04c7mmw', 'lloydsville , west virginia', 'fb:common.topic.alias'), ('fb:m.0wgp7', 'dundas , minnesota', 'fb:common.topic.alias'), ('fb:m.02plppj', 'new leaf academy , inc', 'fb:common.topic.alias'), ('fb:m.09fblq', 'cester , chris', 'fb:common.topic.alias'), ('fb:m.0g7ffzn', 'long walk , short pier', 'fb:type.object.name'), ('fb:m.0c94yf', 'futuna , east', 'fb:common.topic.alias'), ('fb:m.0h3q3m', 'queen bees and wannabes : helping your daughter survive cliques , gossip , boyfriends , and other realities of adolescence', 'fb:common.topic.alias'), ('fb:m.0qfnp', 'salamatof , alaska', 'fb:common.topic.alias'), ('fb:m.0cpbfw6', 'vinayaka mission medical college , karaikal', 'fb:common.topic.alias'), ('fb:m.0wcn8', 'thief river falls , minnesota', 'fb:common.topic.alias'), ('fb:m.0byf7p', 'jukebox ella : the complete verve singles , vol. 1', 'fb:type.object.name'), ('fb:m.01jdrn', 'hubert h. humphrey metrodome , minneapolis', 'fb:common.topic.alias'), ('fb:m.04c32jg', 'knollwood , botetourt county , virginia', 'fb:common.topic.alias'), ('fb:m.02rxj5d', 'sporting district , omaha', 'fb:type.object.name'), ('fb:m.01l006r', 'conley , arthur', 'fb:common.topic.alias'), ('fb:m.0gk007', 'gazoldo degli ippoliti , italy', 'fb:common.topic.alias'), ('fb:m.0cr5_wd', 'pavendar bharathidasan polytechnic college , main campus', 'fb:common.topic.alias'), ('fb:m.0198j2', 'michael john pollack , jr .', 'fb:common.topic.alias'), ('fb:m.02b2z5', 'aguni , okinawa', 'fb:type.object.name'), ('fb:m.01n1vly', 'bowley , al', 'fb:common.topic.alias'), ('fb:m.0hqtsx_', 'potassium bromide , nickel sulfate , and zinc bromide 1/1/4 tablet', 'fb:type.object.name'), ('fb:m.0t5cv', 'hiawatha , kansas', 'fb:common.topic.alias'), ('fb:m.048wkkp', 'lynhaven , georgia', 'fb:common.topic.alias'), ('fb:m.0484rln', 'lebanon , alabama', 'fb:common.topic.alias'), ('fb:m.04gmbh6', 'upton , john , house', 'fb:common.topic.alias'), ('fb:m.0f9n1lz', 'volume , contrast , brilliance ...', 'fb:common.topic.alias'), ('fb:m.04css0y', 'luonan county , china', 'fb:common.topic.alias'), ('fb:m.0y9t0', 'south fallsburg , new york', 'fb:common.topic.alias'), ('fb:m.03nv6cf', 'palizada , mexico', 'fb:common.topic.alias'), ('fb:m.03fywp2', 'the fantasy worlds of irwin allen , volume 7 : lost in space , volume 3', 'fb:type.object.name'), ('fb:m.02k1wt', 'dukinfield , united kingdom', 'fb:common.topic.alias'), ('fb:m.01nl78f', 'complete orchestral works ( concerto amsterdam feat. conductor : jaap schroder , organ : daniel chorzempa ) ( disc 8 : organ concertos nos. 11-15 )', 'fb:common.topic.alias'), ('fb:m.0hnlx', 'schönberg , arnold', 'fb:common.topic.alias'), ('fb:m.03fmtf', 'saint joseph college seminary , chicago', 'fb:common.topic.alias'), ('fb:m.02x2pt', 'moorabbin , victoria', 'fb:common.topic.alias'), ('fb:m.01q7pdp', 'jones girls , the', 'fb:common.topic.alias'), ('fb:m.0263q14', 'juye county , china', 'fb:common.topic.alias'), ('fb:m.014qkhg', 'symphony no. 5 in c-sharp minor : iv. adagietto ( new philharmonia orchestra , sir john barbirolli )', 'fb:common.topic.alias'), ('fb:m.01hd0zt', '2005-09-11 : kitchener memorial auditorium , kitchener , on , canada', 'fb:type.object.name'), ('fb:m.0yd97', 'lewiston woodville , north carolina', 'fb:common.topic.alias'), ('fb:m.06_fz6k', 'st. francis xavier convent , vicksburg', 'fb:common.topic.alias'), ('fb:m.0clw5_0', 'devry university , nevada , henderson campus', 'fb:type.object.name'), ('fb:m.0101kz', 'pearsall , texas', 'fb:common.topic.alias'), ('fb:m.0cmc8jz', 'northwood university-florida education center , main campus', 'fb:common.topic.alias'), ('fb:m.02pkcgt', 'milton township , dupage county , illinois', 'fb:common.topic.alias'), ('fb:m.090985', \"the king 's college , new york\", 'fb:common.topic.alias'), ('fb:m.0_sv7', 'pikeville , tennessee', 'fb:common.topic.alias'), ('fb:m.0t65f', 'cherokee , kansas', 'fb:common.topic.alias'), ('fb:m.0g6y5y', 'parella , france', 'fb:common.topic.alias'), ('fb:m.01j1klz', 'whelan , bill', 'fb:common.topic.alias'), ('fb:m.04t7bd', 'roger de clare , 2nd earl of hertford', 'fb:type.object.name'), ('fb:m.04b9z16', 'kingston , new mexico', 'fb:type.object.name'), ('fb:m.02pmng1', 'selby township , bureau county , illinois', 'fb:common.topic.alias'), ('fb:m.04t2w25', 'charmed , book 10', 'fb:common.topic.alias'), ('fb:m.05pbxyr', 'c. a. sawyer house , newton', 'fb:common.topic.alias'), ('fb:m.0fkc97', 'birch hills county , canada', 'fb:common.topic.alias'), ('fb:m.0487z52', 'northern ohio , arkansas', 'fb:common.topic.alias'), ('fb:m.05h8sc', 'n , n-dimethyl-methanamine', 'fb:common.topic.alias'), ('fb:m.025yxxt', 'tonghua , china', 'fb:common.topic.alias'), ('fb:m.08qqtk', 'hardisty , canada', 'fb:common.topic.alias'), ('fb:m.048p3hs', 'gerber , california', 'fb:type.object.name'), ('fb:m.0c1j_', \"o'donnell , rosie\", 'fb:common.topic.alias'), ('fb:m.06_bh_p', 'melwood apartments , evanston', 'fb:common.topic.alias'), ('fb:m.0cr50dr', 'chandibai himatlal manshukhani , mumbai', 'fb:common.topic.alias'), ('fb:m.04g1lqm', 'gayle , rupert', 'fb:common.topic.alias'), ('fb:m.0dw3l', 'claypool , les', 'fb:common.topic.alias'), ('fb:m.0fw9pw6', 'live at the gorge 05/06 ( box 2 : 2006-07-22 , disc 2 )', 'fb:common.topic.alias'), ('fb:m.06tn3m', 'leek , andy', 'fb:common.topic.alias'), ('fb:m.0g7tjpf', 'mtm ballads , volume 3', 'fb:type.object.name'), ('fb:m.0g79f_', \"école supérieure d'électricité , main campus\", 'fb:common.topic.alias'), ('fb:m.0vv8h', 'prior township , minnesota', 'fb:common.topic.alias'), ('fb:m.0q8kp', 'rogersville , alabama', 'fb:common.topic.alias'), ('fb:m.0d36zh9', \"facoltà di scienze matematiche , fisiche e naturali dell'università degli studi di catania\", 'fb:common.topic.alias'), ('fb:m.01hcfjk', 'the hits & unreleased , volume 1', 'fb:type.object.name'), ('fb:m.0dr8_yd', 'the giants of rock & roll , volume 1', 'fb:type.object.name'), ('fb:m.0pqty', 'hull , gatineau', 'fb:common.topic.alias'), ('fb:m.0c5kp6', 'statenville , georgia', 'fb:common.topic.alias'), ('fb:m.07dq55', 'judge nicholas phillips , baron phillips of worth matravers', 'fb:common.topic.alias'), ('fb:m.0rczx', 'greeley , colorado', 'fb:common.topic.alias'), ('fb:m.0dnhsdg', 'symphony no. 6 in b minor , op. 54 : iii. presto', 'fb:type.object.name'), ('fb:m.04973k4', 'merrimac terrace , massachusetts', 'fb:common.topic.alias'), ('fb:m.01vt6yt', 'aronoff , kenny', 'fb:common.topic.alias'), ('fb:m.04b6fyn', 'harts store , north carolina', 'fb:common.topic.alias'), ('fb:m.02hwl5z', 'farsi , eastern', 'fb:common.topic.alias'), ('fb:m.012ksly', 'piano concerto no. 2 in b flat , op 19 : i. allegro con brio ( cadenza by beethoven )', 'fb:type.object.name'), ('fb:m.0gj5m8c', 'raoul , jr .', 'fb:common.topic.alias'), ('fb:m.034g_lq', 'soulsugar , volume 2', 'fb:type.object.name'), ('fb:m.021m4gq', 'tumor necrosis factor ( ligand ) superfamily , member 6', 'fb:common.topic.alias'), ('fb:m.0hqssh9', 'octinoxate , avobenzone , and octisalate 71.55/19.08/47.7 spray', 'fb:type.object.name'), ('fb:m.09yqyp', 'amisk , canada', 'fb:common.topic.alias'), ('fb:m.01vs6y5', 'blackwell , john', 'fb:common.topic.alias'), ('fb:m.04cq_sy', 'shangnan county , china', 'fb:common.topic.alias'), ('fb:m.0h7w2f', 'noveskey , matt', 'fb:common.topic.alias'), ('fb:m.0d8ntz', 'calvin michael `` c. j. `` mosley , jr .', 'fb:common.topic.alias')]\n",
            "21619it [00:26, 831.16it/s]\n",
            "test\n",
            "Top1 Entity Linking Accuracy: 0.6371710069845968\n",
            "Top3 Entity Linking Accuracy: 0.7745964198159027\n",
            "Top5 Entity Linking Accuracy: 0.815578888940284\n",
            "Top10 Entity Linking Accuracy: 0.8650723900272909\n",
            "Top20 Entity Linking Accuracy: 0.8928257551228086\n",
            "Top50 Entity Linking Accuracy: 0.9223368333410426\n",
            "Top100 Entity Linking Accuracy: 0.9374624173180999\n"
          ]
        }
      ]
    },
    {
      "cell_type": "code",
      "source": [
        "!python3 entity_linking.py test 2"
      ],
      "metadata": {
        "id": "eW4twgIVE0-R",
        "outputId": "359617a2-96ce-4650-b60d-21a9ffe69dc6",
        "colab": {
          "base_uri": "https://localhost:8080/"
        }
      },
      "execution_count": null,
      "outputs": [
        {
          "output_type": "stream",
          "name": "stdout",
          "text": [
            "[nltk_data] Downloading package stopwords to /root/nltk_data...\n",
            "[nltk_data]   Package stopwords is already up-to-date!\n",
            "Reverb Questions Count: 5021\tFreebase Questions Count: 21619\n",
            "100% 407267/407267 [00:32<00:00, 12598.30it/s]\n",
            "\n",
            "Total MIDs before augmentation: 1951909\tUnmatched (Added) MIDs: 669962\t Matched MIDs: 144572\n",
            "Total Entity Strings before augmentation: 17499334\tAdded Entity Strings: 138179\n",
            "Total type of text: 4932784\n",
            "Max Length of entry is 249631, text is [('fb:m.01mbmz', 'plattsburgh , new york', 'fb:common.topic.alias'), ('fb:m.027kgfh', 'department of police , delhi', 'fb:common.topic.alias'), ('fb:m.01m2rp', 'randolph , massachusetts', 'fb:common.topic.alias'), ('fb:m.05f68l', 'tallahassee community college , main campus', 'fb:common.topic.alias'), ('fb:m.0dwwvs8', \"angel 's egg : radio gnome invisible , part 2\", 'fb:type.object.name'), ('fb:m.048b206', 'cascadel woods , california', 'fb:type.object.name'), ('fb:m.03fvpb', 'kirby grant hoon , jr .', 'fb:common.topic.alias'), ('fb:m.04884tq', 'newfield , arizona', 'fb:common.topic.alias'), ('fb:m.0gj_x7', 'castellucchio , italy', 'fb:common.topic.alias'), ('fb:m.03crrvm', 'joseph a. boyd , jr .', 'fb:type.object.name'), ('fb:m.0dn7nwz', 'a love supreme , part 1 ( `` acknowledgement `` )', 'fb:common.topic.alias'), ('fb:m.026lgpf', 'oakmeeds community college , main campus', 'fb:common.topic.alias'), ('fb:m.0gw2zz', 'carmen franco , 1st duchess of franco', 'fb:type.object.name'), ('fb:m.0hqw8cp', 'antimony/apis mellifera/capsicum/fucus vesiculosus/galium aparine/gamboge/hamamelis virginiana root bark/stem bark/pork liver/histamine/strychnos nux-vomica seed/sus scrofa pancreas/petroselinum crispum/thuja occidentalis leafy twig/thyroid , porcine/ginger homeopathic preparation', 'fb:type.object.name'), ('fb:m.04vft4h', 'the thousandfold thought ( the prince of nothing , book 3 )', 'fb:type.object.name'), ('fb:m.03673x', 'durham college , oshawa', 'fb:common.topic.alias'), ('fb:m.039xd2', 'mcnichols sports arena , denver', 'fb:common.topic.alias'), ('fb:m.04gv496', 'hoosac street school , adams', 'fb:common.topic.alias'), ('fb:m.0dsbsqb', 'buena vista , illinois', 'fb:common.topic.alias'), ('fb:m.048sck', 'barron knights , the', 'fb:common.topic.alias'), ('fb:m.0gj_c0', 'trescore cremasco , italy', 'fb:common.topic.alias'), ('fb:m.0tbyz', 'stafford , kansas', 'fb:common.topic.alias'), ('fb:m.0hqv2nl', 'zinc oxide , titanium dioxide 0.03/0.029 liquid', 'fb:type.object.name'), ('fb:m.0273gx6', 'obradors , fernando', 'fb:common.topic.alias'), ('fb:m.04c24bk', 'redart , virginia', 'fb:type.object.name'), ('fb:m.0hqt4lv', 'methyl salicylate , capsaicin , menthol and lidocaine hydrochloride 250/0.25/100/25 lotion', 'fb:type.object.name'), ('fb:m.0499smh', 'upper falls , maryland', 'fb:type.object.name'), ('fb:m.010r_39', 'the pirates of penzance : act ii. “stay , fred’ric stay ! ”', 'fb:type.object.name'), ('fb:m.030tj5', 'dick clement , obe', 'fb:common.topic.alias'), ('fb:m.0bfcm9r', 'frc-038 : klub stodola , warsaw , poland. 22 may 2007', 'fb:type.object.name'), ('fb:m.0bwj2k5', 'faculty of medicine , dalhousie university', 'fb:type.object.name'), ('fb:m.0hqt5g2', 'avobenzone , octinoxate , octisalate , octocrylene 0.03/0.075/0.05/0.025 cream', 'fb:type.object.name'), ('fb:m.06lxnn', 'the bride stripped bare by her bachelors , even', 'fb:type.object.name'), ('fb:m.0490hz9', 'paulton , illinois', 'fb:type.object.name'), ('fb:m.0sgwf', 'centreville , illinois', 'fb:common.topic.alias'), ('fb:m.0yjpq', 'burgaw , north carolina', 'fb:common.topic.alias'), ('fb:m.03k_kn', 'shinchi , fukushima', 'fb:common.topic.alias'), ('fb:m.048p2lw', 'allendale , solano county , california', 'fb:common.topic.alias'), ('fb:m.01vl2ww', 'shahzada , salim', 'fb:common.topic.alias'), ('fb:m.01spvyx', 'solomon , diane', 'fb:common.topic.alias'), ('fb:m.03nxrm5', 'back to the future , or brideshead revisited revisited', 'fb:common.topic.alias'), ('fb:m.03fljss', 'machine box ( disc 3 : whispering , part i : and ii )', 'fb:common.topic.alias'), ('fb:m.04c19gh', 'estaline , virginia', 'fb:common.topic.alias'), ('fb:m.0b4pwj', 'irma , canada', 'fb:common.topic.alias'), ('fb:m.0487_s_', 'sonora , arizona', 'fb:common.topic.alias'), ('fb:m.03065g', 'pontiac regional county municipality , quebec', 'fb:common.topic.alias'), ('fb:m.02hw_cr', 'dida , yocoboué language', 'fb:type.object.name'), ('fb:m.0264d09', 'now , who wants ice cream ?', 'fb:type.object.name'), ('fb:m.0c2_ct', 'sears , roebuck and company mail-order warehouse and retail store', 'fb:common.topic.alias'), ('fb:m.027d26x', 'dr. james “red” duke , m.d .', 'fb:common.topic.alias'), ('fb:m.0jvgdzl', 'betorangal , morgan', 'fb:common.topic.alias'), ('fb:m.0q95hl9', 'barlow , lou + missingmen', 'fb:common.topic.alias'), ('fb:m.04lh5bd', 'shihezi university , main campus', 'fb:common.topic.alias'), ('fb:m.0xw9h', 'canada de los alamos , new mexico', 'fb:common.topic.alias'), ('fb:m.0dgflmh', 'hubert m. blalock , jr .', 'fb:common.topic.alias'), ('fb:m.01tkjdm', 'kay , janet', 'fb:common.topic.alias'), ('fb:m.0clvthy', 'standard beauty college of oklahoma llc , main campus', 'fb:common.topic.alias'), ('fb:m.01wzfb', 'johnson , pete', 'fb:common.topic.alias'), ('fb:m.0hqsnfs', 'calendula officinalis flowering top , hypericum perforatum , and sodium chloride 0.008/0.008/0.008 solution/drops', 'fb:type.object.name'), ('fb:m.0bf9_yn', 'così fan tutte ( scottish chamber orchestra , edinburgh festival chorus feat. conductor : sir charles mackerras )', 'fb:type.object.name'), ('fb:m.0hqv1p0', 'lisinopril , arginine 20/90 kit', 'fb:type.object.name'), ('fb:m.0z_g5', 'wayne heights , pennsylvania', 'fb:common.topic.alias'), ('fb:m.048q7ht', 'tall timber , colorado', 'fb:common.topic.alias'), ('fb:m.07kfksr', 'camilo de polavieja , 1st marquis of polavieja', 'fb:type.object.name'), ('fb:m.02qz0t9', 'harmony , rhode island', 'fb:common.topic.alias'), ('fb:m.0gk7c4', 'stienta , italy', 'fb:common.topic.alias'), ('fb:m.0411qy', 'ponferrada , spain', 'fb:common.topic.alias'), ('fb:m.02r04y6', 'egy zseni , két haver , egy balek', 'fb:common.topic.alias'), ('fb:m.0bgpcy', 'keith , trever', 'fb:common.topic.alias'), ('fb:m.04876dm', 'brownsville , arkansas', 'fb:common.topic.alias'), ('fb:m.06krjfw', 'appleton , wi metropolitan statistical area', 'fb:type.object.name'), ('fb:m.0z2dn', 'mcdonald , ohio', 'fb:common.topic.alias'), ('fb:m.03m7xw8', 'valensole , france', 'fb:common.topic.alias'), ('fb:m.05p727s', 'wendell e. dunn , jr .', 'fb:type.object.name'), ('fb:m.04b0rbg', 'west albany , minnesota', 'fb:common.topic.alias'), ('fb:m.03d82_2', 'post township , allamakee county , iowa', 'fb:common.topic.alias'), ('fb:m.0_g5f', 'new eagle , pennsylvania', 'fb:common.topic.alias'), ('fb:m.04yljy', 'tate , geoff', 'fb:common.topic.alias'), ('fb:m.04f1zg', 'lefébure-wély , louis james alfred', 'fb:common.topic.alias'), ('fb:m.0s9k137', 'teached , vol. 1', 'fb:type.object.name'), ('fb:m.012bc14', 'symphony no. 2 in c major , op. 61 : 3. adagio espressivo', 'fb:common.topic.alias'), ('fb:m.04qbhc1', 'premier government college , main campus', 'fb:common.topic.alias'), ('fb:m.0clvlgy', 'redstone college , main campus', 'fb:common.topic.alias'), ('fb:m.0480cp7', 'saint terese , alaska', 'fb:common.topic.alias'), ('fb:m.06_kr61', 'waller , mary e. , house', 'fb:common.topic.alias'), ('fb:m.01myss', 'owens , tim `` ripper ``', 'fb:common.topic.alias'), ('fb:m.0277kbw', 'hailey college of commerce , main campus', 'fb:common.topic.alias'), ('fb:m.0w_6p', 'flint hill , missouri', 'fb:common.topic.alias'), ('fb:m.048_h17', 'nuckols , idaho', 'fb:common.topic.alias'), ('fb:m.03t5xk', 'botley , hampshire', 'fb:common.topic.alias'), ('fb:m.049_yv_', 'patrick landing , michigan', 'fb:common.topic.alias'), ('fb:m.0h5s18q', 'biocentury , the bernstein report on biobusiness', 'fb:common.topic.alias'), ('fb:m.04c6c61', 'merrimac , mingo county , west virginia', 'fb:common.topic.alias'), ('fb:m.068fy8', 'clayton , buck', 'fb:common.topic.alias'), ('fb:m.0d9ptb', 'box hill high school , melbourne', 'fb:common.topic.alias'), ('fb:m.026k7g4', 'r. b. thieme , jr .', 'fb:common.topic.alias'), ('fb:m.01s84y6', 'kann , hans', 'fb:common.topic.alias'), ('fb:m.0488_b1', 'bush , california', 'fb:common.topic.alias'), ('fb:m.0v65d', 'ironwood , michigan', 'fb:common.topic.alias'), ('fb:m.03p3nd', 'john campbell , 4th duke of argyll', 'fb:type.object.name')]\n",
            "26640it [00:47, 557.93it/s] \n",
            "test\n",
            "Top1 Entity Linking Accuracy: 0.6057057057057057\n",
            "Top3 Entity Linking Accuracy: 0.7459834834834835\n",
            "Top5 Entity Linking Accuracy: 0.7932057057057057\n",
            "Top10 Entity Linking Accuracy: 0.8350975975975976\n",
            "Top20 Entity Linking Accuracy: 0.8629129129129129\n",
            "Top50 Entity Linking Accuracy: 0.8875\n",
            "Top100 Entity Linking Accuracy: 0.9006006006006007\n"
          ]
        }
      ]
    },
    {
      "cell_type": "code",
      "source": [
        "!python3 entity_linking.py valid 0"
      ],
      "metadata": {
        "colab": {
          "base_uri": "https://localhost:8080/"
        },
        "id": "QJHbDXnApC7Q",
        "outputId": "2d1ee24d-d651-49d4-e501-a621b482b640"
      },
      "execution_count": null,
      "outputs": [
        {
          "output_type": "stream",
          "name": "stdout",
          "text": [
            "[nltk_data] Downloading package stopwords to /root/nltk_data...\n",
            "[nltk_data]   Package stopwords is already up-to-date!\n",
            "Reverb Questions Count: 1753\tFreebase Questions Count: 10809\n",
            "100% 407267/407267 [00:31<00:00, 12821.35it/s]\n",
            "\n",
            "Total MIDs before augmentation: 1951909\tUnmatched (Added) MIDs: 669962\t Matched MIDs: 144572\n",
            "Total Entity Strings before augmentation: 17499334\tAdded Entity Strings: 138179\n",
            "Total type of text: 4932784\n",
            "Max Length of entry is 249631, text is [('fb:m.04876lm', 'gourd neck , arkansas', 'fb:common.topic.alias'), ('fb:m.049_02q', 'sunrise heights , michigan', 'fb:common.topic.alias'), ('fb:m.07p13y', 'vara , omroepvereniging', 'fb:common.topic.alias'), ('fb:m.0493ktf', 'alberta , kentucky', 'fb:common.topic.alias'), ('fb:m.01s5q6d', \"the ur-quan masters soundtrack ii : neutral aliens , do n't shoot !\", 'fb:type.object.name'), ('fb:m.043skcr', 'glenark mills , woonsocket', 'fb:common.topic.alias'), ('fb:m.09679d', 'pontelandolfo , benevento', 'fb:common.topic.alias'), ('fb:m.0ghtccz', 'imagine , the sky', 'fb:type.object.name'), ('fb:m.0ftmb6v', 'piano concerto no. 3 in d minor , op. 30 : ii. intermezzo : adagio', 'fb:type.object.name'), ('fb:m.0wryc', 'paden , mississippi', 'fb:common.topic.alias'), ('fb:m.0489klw', 'storey , california', 'fb:type.object.name'), ('fb:m.03nnskl', 'davis , geater', 'fb:common.topic.alias'), ('fb:m.0zn17', 'penndel , pennsylvania', 'fb:common.topic.alias'), ('fb:m.08crw8', 'ralske , kurt', 'fb:common.topic.alias'), ('fb:m.08jc30', 'north kensington , london', 'fb:common.topic.alias'), ('fb:m.06jyy3', 'taka , dj', 'fb:common.topic.alias'), ('fb:m.0w2mg', 'morse township , itasca county , minnesota', 'fb:common.topic.alias'), ('fb:m.0jqz51p', 'postcard from somova , romania', 'fb:type.object.name'), ('fb:m.04b3prt', 'trotter landing , mississippi', 'fb:type.object.name'), ('fb:m.03jp4f_', '2005 m2 `` zinlady , soucie vineyard `` lodi zinfandel', 'fb:type.object.name'), ('fb:m.01j9ywl', 'boom , dj', 'fb:common.topic.alias'), ('fb:m.04b6bpn', 'elk shoal , north carolina', 'fb:common.topic.alias'), ('fb:m.0kgcd', 'quintin hogg , baron hailsham of st marylebone', 'fb:type.object.name'), ('fb:m.02q9mym', 'raphaels , the', 'fb:common.topic.alias'), ('fb:m.02hxs50', 'zapotec , santa maría quiegolani language', 'fb:type.object.name'), ('fb:m.0vmkj', 'cumming township , michigan', 'fb:common.topic.alias'), ('fb:m.040zj4_', 'franz beckenbauer , sr .', 'fb:type.object.name'), ('fb:m.0dnt4zz', 'ella fitzgerald sings the rodgers and hart song book , volume 1', 'fb:type.object.name'), ('fb:m.0z9w6', 'valley park , oklahoma', 'fb:common.topic.alias'), ('fb:m.0487jzj', 'dayton , arkansas', 'fb:common.topic.alias'), ('fb:m.04b04rj', 'peaceful valley mobile home park , minnesota', 'fb:common.topic.alias'), ('fb:m.02j0py', 'kamiita , tokushima', 'fb:common.topic.alias'), ('fb:m.02wy6fw', 'beech forest , victoria', 'fb:type.object.name'), ('fb:m.0971v', 'beef , composite of trimmed retail cuts , separable lean and fat , trimmed to 1/8 `` fat , all grades , raw', 'fb:common.topic.alias'), ('fb:m.0w3nj', 'spicer , mn', 'fb:common.topic.alias'), ('fb:m.05mwkf2', 'university of the people , main campus', 'fb:common.topic.alias'), ('fb:m.05nvpf', 'aristotle , the physics', 'fb:common.topic.alias'), ('fb:m.05sncxw', 'by all means , keep on moving', 'fb:type.object.name'), ('fb:m.06vrl', 'baring-gould , sabine', 'fb:common.topic.alias'), ('fb:m.0t9qc', 'coats , kansas', 'fb:common.topic.alias'), ('fb:m.048ywt4', 'scotch ridge , iowa', 'fb:common.topic.alias'), ('fb:m.018ry5', 'lyon himan green , oc', 'fb:common.topic.alias'), ('fb:m.04958zy', 'poufette , louisiana', 'fb:common.topic.alias'), ('fb:m.0ff1l5', 'north admiral , seattle', 'fb:common.topic.alias'), ('fb:m.04kc73', 'bonnyville , alberta', 'fb:common.topic.alias'), ('fb:m.02rkxdk', 'thomas y. howe , jr .', 'fb:type.object.name'), ('fb:m.065sprh', 'hotel carlton , san francisco', 'fb:common.topic.alias'), ('fb:m.0488_0w', 'white pines , california', 'fb:common.topic.alias'), ('fb:m.04n3fj4', \"st. joseph 's catholic college , bradford\", 'fb:type.object.name'), ('fb:m.07v8_s', 'vincenzo gonzaga , duke of mantua', 'fb:type.object.name'), ('fb:m.028pm_', 'gaillard , france', 'fb:common.topic.alias'), ('fb:m.03fh16z', 'the best of depeche mode , volume 1', 'fb:type.object.name'), ('fb:m.0rst5', 'st. marks , florida', 'fb:common.topic.alias'), ('fb:m.0clw391', 'lester e cox medical center-school of medical technology , main campus', 'fb:common.topic.alias'), ('fb:m.0s6pt', 'grayville , illinois', 'fb:common.topic.alias'), ('fb:m.0gbjxl', 'montiglio monferrato , france', 'fb:common.topic.alias'), ('fb:m.01n5ysc', 'miller , daniel', 'fb:common.topic.alias'), ('fb:m.045_tp', 'false creek , vancouver', 'fb:common.topic.alias'), ('fb:m.0113mj', 'garden valley , wisconsin', 'fb:common.topic.alias'), ('fb:m.048qh77', 'mountaincrest , connecticut', 'fb:common.topic.alias'), ('fb:m.01v6480', 'jim dale , mbe', 'fb:common.topic.alias'), ('fb:m.03c51rj', 'boshell , bias', 'fb:common.topic.alias'), ('fb:m.04c4bg2', 'saint johnsbury center , vermont', 'fb:common.topic.alias'), ('fb:m.0q9h0t', 'dunwich beach , autumn 1960', 'fb:type.object.name'), ('fb:m.04x2r6', 'hockenheim , germany', 'fb:common.topic.alias'), ('fb:m.0r580', 'valley center , ca', 'fb:common.topic.alias'), ('fb:m.048_7y8', 'nicholia , idaho', 'fb:common.topic.alias'), ('fb:m.01k7cgv', 'filmworks xi : 2002 , volume one : secret lives', 'fb:type.object.name'), ('fb:m.038fhy', 'aimard , pierre-laurent', 'fb:common.topic.alias'), ('fb:m.0gn2p9', 'vitulano , italy', 'fb:common.topic.alias'), ('fb:m.01m6_l', 'searsport , maine', 'fb:common.topic.alias'), ('fb:m.05mw697', 'cape fear community college , main campus', 'fb:common.topic.alias'), ('fb:m.0wgxg', 'kanaranzi township , minnesota', 'fb:common.topic.alias'), ('fb:m.02qzyzk', 'glenwood , edmonton', 'fb:type.object.name'), ('fb:m.04c2rm', 'hirono , iwate', 'fb:common.topic.alias'), ('fb:m.09tztk', 'blue ridge acres , west virginia', 'fb:common.topic.alias'), ('fb:m.0dvsgwn', 'symphonie nr. 29 a-dur , kv 201 ( 186a ) : 2. andante', 'fb:type.object.name'), ('fb:m.01hx4m2', 'one guitar , no vocals', 'fb:type.object.name'), ('fb:m.0my1n4', 'end of time / do it , see it , be it', 'fb:type.object.name'), ('fb:m.04v_4mz', 'a knight of the word ( the word and the void trilogy , book 2 )', 'fb:type.object.name'), ('fb:m.02_zyq', 'vega baja , puerto rico', 'fb:common.topic.alias'), ('fb:m.01w58n3', 'estefan , gloria', 'fb:common.topic.alias'), ('fb:m.0495dhj', 'brandon , louisiana', 'fb:common.topic.alias'), ('fb:m.09rx06_', 'giles vernon kellogg , jr .', 'fb:common.topic.alias'), ('fb:m.01mvsm2', 'poveda , miguel', 'fb:common.topic.alias'), ('fb:m.0304z7w', \"blue note 's sidetracks , volume 3 : into blue ( compiled & mixed by sven van hees )\", 'fb:type.object.name'), ('fb:m.03qj3v1', 'george w. g. boyce , jr .', 'fb:type.object.name'), ('fb:m.0bxxls', 'van kriedt , larry', 'fb:common.topic.alias'), ('fb:m.0493j1k', 'viola , kentucky', 'fb:common.topic.alias'), ('fb:m.010_t0', 'boyd , wisconsin', 'fb:common.topic.alias'), ('fb:m.027njnf', 'korkino , russia', 'fb:common.topic.alias'), ('fb:m.03pkxy', 'kargopol , russia', 'fb:common.topic.alias'), ('fb:m.01whg43', 'murray , keith', 'fb:common.topic.alias'), ('fb:m.0n5vhnd', 'jang ok-jung , living by love', 'fb:type.object.name'), ('fb:m.04904l0', 'akin , illinois', 'fb:type.object.name'), ('fb:m.04p7zdm', 'galt mile , fort lauderdale', 'fb:common.topic.alias'), ('fb:m.049ch6x', 'conquest beach , maryland', 'fb:common.topic.alias'), ('fb:m.01nr3lp', 'aztecs , the', 'fb:common.topic.alias'), ('fb:m.04b815', 'rego park , new york', 'fb:common.topic.alias'), ('fb:m.025s_1h', 'clarksburg , california', 'fb:common.topic.alias')]\n",
            "1753it [00:04, 362.25it/s]\n",
            "valid\n",
            "Top1 Entity Linking Accuracy: 0.4415288077581289\n",
            "Top3 Entity Linking Accuracy: 0.6172276098117513\n",
            "Top5 Entity Linking Accuracy: 0.6702795208214489\n",
            "Top10 Entity Linking Accuracy: 0.6976611523103251\n",
            "Top20 Entity Linking Accuracy: 0.713063320022818\n",
            "Top50 Entity Linking Accuracy: 0.7210496292070736\n",
            "Top100 Entity Linking Accuracy: 0.7250427837992014\n"
          ]
        }
      ]
    },
    {
      "cell_type": "code",
      "source": [
        "!python3 entity_linking.py valid 1"
      ],
      "metadata": {
        "id": "5qkGT0EQ_rsZ",
        "outputId": "e19541d9-6c4c-43e5-872c-aa511d9f4f14",
        "colab": {
          "base_uri": "https://localhost:8080/"
        }
      },
      "execution_count": null,
      "outputs": [
        {
          "output_type": "stream",
          "name": "stdout",
          "text": [
            "[nltk_data] Downloading package stopwords to /root/nltk_data...\n",
            "[nltk_data]   Package stopwords is already up-to-date!\n",
            "Reverb Questions Count: 1753\tFreebase Questions Count: 10809\n",
            "100% 407267/407267 [00:32<00:00, 12551.96it/s]\n",
            "\n",
            "Total MIDs before augmentation: 1951909\tUnmatched (Added) MIDs: 669962\t Matched MIDs: 144572\n",
            "Total Entity Strings before augmentation: 17499334\tAdded Entity Strings: 138179\n",
            "Total type of text: 4932784\n",
            "Max Length of entry is 249631, text is [('fb:m.01lqkyr', 'lang , peter', 'fb:common.topic.alias'), ('fb:m.0496v88', 'south end , springfield , massachusetts', 'fb:type.object.name'), ('fb:m.02y__c8', 'earl ingarfield , jr .', 'fb:type.object.name'), ('fb:m.01np31c', '…burn , piano island , burn', 'fb:type.object.name'), ('fb:m.0pzh_', 'ratzeburg , germany', 'fb:common.topic.alias'), ('fb:m.09kylh', 'dawood college of engineering and technology , main campus', 'fb:common.topic.alias'), ('fb:m.01qr0h3', 'kokkinou , elli', 'fb:common.topic.alias'), ('fb:m.04c7d5t', 'diamond , logan county , west virginia', 'fb:common.topic.alias'), ('fb:m.0488kmg', 'gallups , arizona', 'fb:common.topic.alias'), ('fb:m.01lmpvz', 'subdudes , the', 'fb:common.topic.alias'), ('fb:m.049527f', 'routon , louisiana', 'fb:common.topic.alias'), ('fb:m.010v31', 'cheney , washington', 'fb:common.topic.alias'), ('fb:m.0497wgx', 'newtown estates , maryland', 'fb:common.topic.alias'), ('fb:m.0113xr', 'oakland , wisconsin', 'fb:common.topic.alias'), ('fb:m.0495q44', 'summer grove , louisiana', 'fb:common.topic.alias'), ('fb:m.0skj8sj', 'medley : in the pines , wildwood flower , on top of old smokey', 'fb:type.object.name'), ('fb:m.0cvbhwh', 'damelin , lowveld', 'fb:type.object.name'), ('fb:m.04b61jc', 'blairmont , north carolina', 'fb:common.topic.alias'), ('fb:m.039tzc', 'barre , vermont', 'fb:common.topic.alias'), ('fb:m.0y86tl', 'american pie , parts 1 & 2', 'fb:common.topic.alias'), ('fb:m.048b3y5', 'hams , california', 'fb:type.object.name'), ('fb:m.02prbf4', 'basilica di san lorenzo , milano', 'fb:type.object.name'), ('fb:m.0112mz', 'lincoln , forest county , wisconsin', 'fb:common.topic.alias'), ('fb:m.03cm0k6', 'fallowfield , ontario', 'fb:common.topic.alias'), ('fb:m.03fk3bx', 'the private collection , volume 10 : studio sessions , new york & chicago , 1965 , 1966 & 1971', 'fb:type.object.name'), ('fb:m.0b1y24', 'ben hill , georgia', 'fb:common.topic.alias'), ('fb:m.03j03zn', 'kaplan , oren', 'fb:common.topic.alias'), ('fb:m.032jlz3', '2005-09-09 : fort william garden , thunder bay , on , canada ( disc 2 )', 'fb:common.topic.alias'), ('fb:m.049_s59', 'hannah , michigan', 'fb:common.topic.alias'), ('fb:m.0g57wpc', 'maria anna princess czartoryska , duchess von württemberg-montbéliard', 'fb:common.topic.alias'), ('fb:m.0bcqrp', 'rowland allanson-winn , 5th baron headley', 'fb:type.object.name'), ('fb:m.01hj6j7', 'heroes & friends , volume 1', 'fb:type.object.name'), ('fb:m.03d0s1x', 'highs in the mid-sixties , volume 7', 'fb:type.object.name'), ('fb:m.05svpy', 'alderley , queensland', 'fb:common.topic.alias'), ('fb:m.021mjwg', 'enolase 1 , ( alpha )', 'fb:type.object.name'), ('fb:m.01t2hj', 'bomb squad , the', 'fb:common.topic.alias'), ('fb:m.0p6dt', 'silverstein , shel', 'fb:common.topic.alias'), ('fb:m.06wbmkp', 'watson house , lockport', 'fb:common.topic.alias'), ('fb:m.0f_12r7', '40 single hits , volume 3', 'fb:type.object.name'), ('fb:m.0vyvh', 'roosevelt township , crow wing county , minnesota', 'fb:common.topic.alias'), ('fb:m.0f39ycj', 'rhapsody on a theme by paganini , op. 43 : ix. variation ix', 'fb:common.topic.alias'), ('fb:m.013cyd', 'lake quivira , kansas', 'fb:common.topic.alias'), ('fb:m.04c6d32', 'parsley , west virginia', 'fb:common.topic.alias'), ('fb:m.02r5q0j', 'magnuszew , poland', 'fb:common.topic.alias'), ('fb:m.0ythn', 'north lewisburg , ohio', 'fb:common.topic.alias'), ('fb:m.0sf64', 'bellevue , illinois', 'fb:common.topic.alias'), ('fb:m.0hqrj8t', 'camphor , menthol 0.04/0.04 cream', 'fb:type.object.name'), ('fb:m.0hgc5rd', 'mishra , amit', 'fb:common.topic.alias'), ('fb:m.0489ng0', 'anza , california', 'fb:common.topic.alias'), ('fb:m.06j_m8s', 'vote ! - a record , a dialogue , a manifesto - miami beach , 1972 and beyond', 'fb:type.object.name'), ('fb:m.0p8y4', 'dallapiccola , luigi', 'fb:common.topic.alias'), ('fb:m.0fxcfzd', 'symphony no. 9 in d minor , op. 125 : i. allegro ma non troppo , un poco maestoso', 'fb:type.object.name'), ('fb:m.0287wsc', 'salem township , carroll county , illinois', 'fb:common.topic.alias'), ('fb:m.0syf5', 'wilbur , richard', 'fb:common.topic.alias'), ('fb:m.05f4gyw', 'somaliland university of technology , main campus', 'fb:common.topic.alias'), ('fb:m.05dc7d', 'barraba , new south wales', 'fb:common.topic.alias'), ('fb:m.0sty0', 'waukee , iowa', 'fb:common.topic.alias'), ('fb:m.02r250y', 'john metzler , jr .', 'fb:common.topic.alias'), ('fb:m.06_1_fj', 'leonidas l. polk house , raleigh', 'fb:common.topic.alias'), ('fb:m.03d1ws4', 'anderson , miller', 'fb:common.topic.alias'), ('fb:m.0497bml', 'indian lands , massachusetts', 'fb:common.topic.alias'), ('fb:m.04c47l3', 'east saint johnsbury , vermont', 'fb:common.topic.alias'), ('fb:m.0whfn', 'helena township , minnesota', 'fb:common.topic.alias'), ('fb:m.0t9mz', 'olsburg , kansas', 'fb:common.topic.alias'), ('fb:m.0nn50f', 'venus , the bringer of peace', 'fb:type.object.name'), ('fb:m.0hqtvzb', 'avobenzone , octinoxate , and oxybenzone 0.02/0.07/0.025 cream', 'fb:type.object.name'), ('fb:m.0jxr945', 'antimonium tartaricum , belladonna , bryonia , causticum , coccus cacti , cuprum aceticum , drosera rotundifolia , kreosotum , lobelia inflata , pulsatilla , stannum metallicum , sticta pulmonaria 4/4/4/6/4/6/4/3/4/4/8/6 liquid', 'fb:type.object.name'), ('fb:m.0466mxz', 'mowrey , dude', 'fb:common.topic.alias'), ('fb:m.03f2jzc', 'hernandez , johnny `` vatos ``', 'fb:common.topic.alias'), ('fb:m.09h25x', 'shahid bhagat singh college , main campus', 'fb:common.topic.alias'), ('fb:m.03s2550', 'v & a - raphael , the conversion of the proconsul ( 1515 )', 'fb:type.object.name'), ('fb:m.04143gk', 'fayetteville street historic district , raleigh', 'fb:common.topic.alias'), ('fb:m.01vrf30', 'shelton , james alan', 'fb:common.topic.alias'), ('fb:m.04lhq5y', 'st john rigby college , wigan', 'fb:type.object.name'), ('fb:m.01j_wvk', 'the very best of ladysmith black mambazo : rain , rain , beautiful rain', 'fb:type.object.name'), ('fb:m.027vb5x', 'george , grand duke of mecklenburg-strelitz', 'fb:type.object.name'), ('fb:m.048s6t5', 'lumberton , florida', 'fb:common.topic.alias'), ('fb:m.0489hc_', 'rovana , california', 'fb:type.object.name'), ('fb:m.0hqr56m', '.alpha.-tocopherol , ascophyllum nodosum , botryoglossum platycarpum , fucus serratus , fucus vesiculosus , isoleucine , laminaria digitata , leucine , pork collagen , retinol , selenium , sus scrofa capillary tissue , sus scrofa placenta , sus scrofa skin , ubidecarenone , and ulva lactuca 0.001/0.001/0.001/0.001/0.001/0.001/0.001/0.001/0.001/0.001/0.001/0.001/0.001/0.001/0.001/0.001 pellet', 'fb:type.object.name'), ('fb:m.023bdg4', 'string quintet in c major , d 956 ( op. post. 163 ) : ii. adagio', 'fb:common.topic.alias'), ('fb:m.049ztxn', 'richmond mill , maine', 'fb:common.topic.alias'), ('fb:m.049zrdl', 'livermore center , maine', 'fb:common.topic.alias'), ('fb:m.03jscc', 'jenifer , darryl', 'fb:common.topic.alias'), ('fb:m.09nm6', 'stockholm , wisconsin', 'fb:common.topic.alias'), ('fb:m.053kjm', 'edward rogers , sr .', 'fb:common.topic.alias'), ('fb:m.04c30s8', 'kemp park , virginia', 'fb:common.topic.alias'), ('fb:m.0496sxk', 'roaring brook camp , massachusetts', 'fb:common.topic.alias'), ('fb:m.0j3frqn', 'shoot , gringo ... shoot !', 'fb:common.topic.alias'), ('fb:m.01wl7q1', 'parlato , gretchen', 'fb:common.topic.alias'), ('fb:m.038_xm', 'london library , city of westminster', 'fb:common.topic.alias'), ('fb:m.0wh3', 'ann arbor , mi', 'fb:common.topic.alias'), ('fb:m.04h82x', 'crenshaw , los angeles , california', 'fb:common.topic.alias'), ('fb:m.04925y7', 'lakeside park , indiana', 'fb:common.topic.alias'), ('fb:m.0zbq6', 'bessie , oklahoma', 'fb:common.topic.alias'), ('fb:m.02qnr9_', \"st rita 's college , clayfield , main campus\", 'fb:common.topic.alias'), ('fb:m.05pdhg6', 'castle manor business & enterprise college , main campus', 'fb:common.topic.alias'), ('fb:m.05p7fxy', 'george b. and ruth d. wells house , southbridge', 'fb:common.topic.alias'), ('fb:m.02pvlfv', 'angelich , nicholas', 'fb:common.topic.alias'), ('fb:m.0bgt3d', 'comsat angels , the', 'fb:common.topic.alias'), ('fb:m.0498jd0', 'beechfield , baltimore', 'fb:common.topic.alias')]\n",
            "10809it [00:11, 976.59it/s]\n",
            "valid\n",
            "Top1 Entity Linking Accuracy: 0.6532519196965492\n",
            "Top3 Entity Linking Accuracy: 0.7793505412156536\n",
            "Top5 Entity Linking Accuracy: 0.8184845961698585\n",
            "Top10 Entity Linking Accuracy: 0.8634471273938384\n",
            "Top20 Entity Linking Accuracy: 0.8998057174576741\n",
            "Top50 Entity Linking Accuracy: 0.9241372929965769\n",
            "Top100 Entity Linking Accuracy: 0.9410676288278287\n"
          ]
        }
      ]
    },
    {
      "cell_type": "code",
      "source": [
        "!python3 entity_linking.py valid 2"
      ],
      "metadata": {
        "id": "EACVq6AwFBiC",
        "outputId": "3d7d91f4-b211-4773-d37d-ae36159eb090",
        "colab": {
          "base_uri": "https://localhost:8080/"
        }
      },
      "execution_count": null,
      "outputs": [
        {
          "output_type": "stream",
          "name": "stdout",
          "text": [
            "[nltk_data] Downloading package stopwords to /root/nltk_data...\n",
            "[nltk_data]   Package stopwords is already up-to-date!\n",
            "Reverb Questions Count: 1753\tFreebase Questions Count: 10809\n",
            "100% 407267/407267 [00:31<00:00, 12798.55it/s]\n",
            "\n",
            "Total MIDs before augmentation: 1951909\tUnmatched (Added) MIDs: 669962\t Matched MIDs: 144572\n",
            "Total Entity Strings before augmentation: 17499334\tAdded Entity Strings: 138179\n",
            "Total type of text: 4932784\n",
            "Max Length of entry is 249631, text is [('fb:m.07hdqw', 'australian maritime college , launceston', 'fb:common.topic.alias'), ('fb:m.01h_sl', 'prince arthur , duke of connaught and strathearn', 'fb:type.object.name'), ('fb:m.0fdtcx', 'judge harmon drew , jr .', 'fb:common.topic.alias'), ('fb:m.0cvbxl1', 'rasmussen college , romeoville - joliet , illinois', 'fb:common.topic.alias'), ('fb:m.048yclg', 'gladstone , iowa', 'fb:common.topic.alias'), ('fb:m.0bmv4m', 'izu oshima , japan', 'fb:common.topic.alias'), ('fb:m.01v5183', 'sigler , bunny', 'fb:common.topic.alias'), ('fb:m.09ltnq', 'islamia science college , main campus', 'fb:common.topic.alias'), ('fb:m.0494fx6', 'three forks , kentucky', 'fb:common.topic.alias'), ('fb:m.09k508l', 'alexander ferdinand , 3rd prince of thurn and taxis', 'fb:type.object.name'), ('fb:m.0jxgp6f', 'aconitum napellus , arsenicum album , belladonna , calcarea carbonica , carcinosin , causticum , gelsemium sempervirens , lachesis mutus , 30/30/30/30/30/30,30/30/30/30/30/30/30 spray', 'fb:type.object.name'), ('fb:m.053dcx', 'miyakejima , tokyo', 'fb:common.topic.alias'), ('fb:m.0srt2', 'gilbertville , iowa', 'fb:common.topic.alias'), ('fb:m.03kcws', 'ministry of the economy , industry and employment of france', 'fb:common.topic.alias'), ('fb:m.013vkc', 'cleckheaton , united kingdom', 'fb:common.topic.alias'), ('fb:m.0j_635t', '임수경 , 림수경', 'fb:common.topic.alias'), ('fb:m.01wlb1', 'simcoe , ontario', 'fb:type.object.name'), ('fb:m.02d8d2', 'miyaki district , saga', 'fb:type.object.name'), ('fb:m.02r40cr', 'sabaya , bolivia', 'fb:common.topic.alias'), ('fb:m.0dsgy8', 'pont-sur-yonne , france', 'fb:common.topic.alias'), ('fb:m.0491k4k', 'glenn ayr , indiana', 'fb:common.topic.alias'), ('fb:m.0ssjh', 'coon rapids , iowa', 'fb:common.topic.alias'), ('fb:m.01w6yy8', 'rosedales , the', 'fb:common.topic.alias'), ('fb:m.06_h74b', 'thomas kilpatrick house , omaha', 'fb:common.topic.alias'), ('fb:m.04cvwxs', 'gucheng county , hebei', 'fb:type.object.name'), ('fb:m.03s785', 'hankuk university of foreign studies , seoul', 'fb:common.topic.alias'), ('fb:m.0gdqns', 'parow , cape town', 'fb:type.object.name'), ('fb:m.0gzhnd', 'amenhotep , son of hapu', 'fb:type.object.name'), ('fb:m.02pkbfr', 'gerald henderson , jr .', 'fb:type.object.name'), ('fb:m.04b6js0', 'laurel hill , lincoln county , north carolina', 'fb:type.object.name'), ('fb:m.014d28r', 'in flanders fields , s. 277 ( arr. david del tredici )', 'fb:type.object.name'), ('fb:m.02vppln', 'welsh , alex', 'fb:common.topic.alias'), ('fb:m.02rjdyc', 'good morning , night', 'fb:type.object.name'), ('fb:m.0490zt1', 'neal , illinois', 'fb:common.topic.alias'), ('fb:m.02psp36', 'compromise township , champaign county , illinois', 'fb:common.topic.alias'), ('fb:m.010wlc', 'gauley bridge , west virginia', 'fb:common.topic.alias'), ('fb:m.03m58cx', 'herschel , canada', 'fb:common.topic.alias'), ('fb:m.09y_8s', 'walsh , maría elena', 'fb:common.topic.alias'), ('fb:m.0tvzxtt', \"i do n't wan na lose , lose , you\", 'fb:type.object.name'), ('fb:m.075c1j', 'maples pavilion , stanford', 'fb:common.topic.alias'), ('fb:m.03673k', 'downtown pittsburgh , pittsburgh', 'fb:common.topic.alias'), ('fb:m.04f_qqv', 'university of saint francis xavier , main campus', 'fb:common.topic.alias'), ('fb:m.03j1cq7', 'carlock , keith', 'fb:common.topic.alias'), ('fb:m.0fr66b', 'magnolia park , texas', 'fb:common.topic.alias'), ('fb:m.02397w', 'waldman , anne', 'fb:common.topic.alias'), ('fb:m.0g094q', 'new york theological seminary , main campus', 'fb:common.topic.alias'), ('fb:m.048whvq', 'jordan , georgia', 'fb:common.topic.alias'), ('fb:m.05py92', 'bithikotsis , grigoris', 'fb:common.topic.alias'), ('fb:m.03xr0hr', 'the best of jukebox rock ( disc 9 : 1957 , volume 2 )', 'fb:common.topic.alias'), ('fb:m.0wzvl5j', 'one , two , free', 'fb:type.object.name'), ('fb:m.0jt7yg3', 'un drago , un orso e altri animali', 'fb:common.topic.alias'), ('fb:m.04bbm2z', 'baltimore , new york', 'fb:common.topic.alias'), ('fb:m.05q4l7g', 'university of california , los angeles bruins womens volleyball', 'fb:common.topic.alias'), ('fb:m.02x61b0', 'meadows township , stokes county , north carolina', 'fb:common.topic.alias'), ('fb:m.036qlr', 'avondale college , cooranbong', 'fb:common.topic.alias'), ('fb:m.03n8kg', 'walter guinness , 1st baron moyne', 'fb:type.object.name'), ('fb:m.04k5db', 'donald dwyer , jr .', 'fb:common.topic.alias'), ('fb:m.0dr4m_2', 'loomis , hamilton', 'fb:common.topic.alias'), ('fb:m.04b20xb', 'rock ford , missouri', 'fb:common.topic.alias'), ('fb:m.0d80yg', 'piper , kansas', 'fb:common.topic.alias'), ('fb:m.04mb76', 'solheim , maria', 'fb:common.topic.alias'), ('fb:m.0cv6yh1', 'ramakrishna mission vivekananda university , ranchi', 'fb:type.object.name'), ('fb:m.0grcnl', 'andrade , mayra', 'fb:common.topic.alias'), ('fb:m.0y2kr', 'hicksville , new york', 'fb:common.topic.alias'), ('fb:m.0gjp3m', 'fondaco dei turchi , venice', 'fb:common.topic.alias'), ('fb:m.0f1djrz', 'overture ( suite ) no. 3 in d major , bwv 1068 : iv. bourree', 'fb:common.topic.alias'), ('fb:m.04920r9', 'woodville , indiana', 'fb:common.topic.alias'), ('fb:m.0cvhh2g', 'meiji university , ikuta', 'fb:type.object.name'), ('fb:m.048_rq4', 'stagecoach junction , illinois', 'fb:common.topic.alias'), ('fb:m.0j9fy66', 'tahrir , liberation square', 'fb:common.topic.alias'), ('fb:m.0278_jf', 'crystal lake , barton', 'fb:common.topic.alias'), ('fb:m.01m6dr2', 'vaughn , ben', 'fb:common.topic.alias'), ('fb:m.032pt6', 'humpolec , czech republic', 'fb:common.topic.alias'), ('fb:m.070vct', 'dillard , north carolina', 'fb:common.topic.alias'), ('fb:m.064pkkn', 'bellerive fcj catholic college , liverpool', 'fb:common.topic.alias'), ('fb:m.03705ns', '2000-11-05 : seattle , wa , usa ( disc 2 ) ( # 71 )', 'fb:common.topic.alias'), ('fb:m.08v61n', 'culture , sputum', 'fb:common.topic.alias'), ('fb:m.04w3qcj', 'the women of israel , or characters and sketches from the holy scriptures and jewish history', 'fb:type.object.name'), ('fb:m.049g7t1', 'pasqual , monica', 'fb:common.topic.alias'), ('fb:m.0fq3t4h', 'netenjakob , moritz', 'fb:common.topic.alias'), ('fb:m.09j5ff', 'innisfail , canada', 'fb:common.topic.alias'), ('fb:m.04tqlvj', 'simply speaking : how to communicate your ideas with style , substance , and clarity', 'fb:type.object.name'), ('fb:m.02ryspr', 'levan township , jackson county , illinois', 'fb:common.topic.alias'), ('fb:m.0sm1d9w', 'bbc music , volume 7 , number 10 : fauré : piano quartet no. 1 / franck : piano quintet ( schubert ensemble of london )', 'fb:type.object.name'), ('fb:m.05b2wm9', 'kim , min sik', 'fb:common.topic.alias'), ('fb:m.0f2fm3', 'hyams , marjorie', 'fb:common.topic.alias'), ('fb:m.02psl6d', 'loda township , iroquois county , illinois', 'fb:common.topic.alias'), ('fb:m.0cr3101', 'rvs college of arts and science , sulur', 'fb:type.object.name'), ('fb:m.04c3cl2', 'dillon woods , virginia', 'fb:common.topic.alias'), ('fb:m.01lcgwc', 'symphonies nos. 1 , 2 and 3', 'fb:type.object.name'), ('fb:m.077c11', 'stanford dingley , england', 'fb:common.topic.alias'), ('fb:m.06zkhzf', 'coconuts , plenty of junk food', 'fb:type.object.name'), ('fb:m.04vztr1', 'deadhouse gates ( the malazan book of the fallen , book 2 )', 'fb:type.object.name'), ('fb:m.027tvf8', 'holy trinity church rectory and convent , bloomington', 'fb:common.topic.alias'), ('fb:m.0dq221m', '2009-03-05 : sportpaleis , antwerp , belgium', 'fb:type.object.name'), ('fb:m.01k3n8w', 'black randy & metrosquad , the', 'fb:common.topic.alias'), ('fb:m.0clvn3p', 'saint francis medical center college of nursing , peoria', 'fb:common.topic.alias'), ('fb:m.0zrzjzd', '2006-05-19 : van andel arena , grand rapids , mi , usa', 'fb:type.object.name'), ('fb:m.05mcy7', 'phelan , california', 'fb:common.topic.alias'), ('fb:m.02tfkk', 'bush house , city of westminster', 'fb:common.topic.alias')]\n",
            "12562it [00:16, 754.61it/s]\n",
            "valid\n",
            "Top1 Entity Linking Accuracy: 0.6245024677599108\n",
            "Top3 Entity Linking Accuracy: 0.7634134691928037\n",
            "Top5 Entity Linking Accuracy: 0.8057634134691928\n",
            "Top10 Entity Linking Accuracy: 0.8424613914981691\n",
            "Top20 Entity Linking Accuracy: 0.8738258239133896\n",
            "Top50 Entity Linking Accuracy: 0.8957172424773125\n",
            "Top100 Entity Linking Accuracy: 0.9117178793185798\n"
          ]
        }
      ]
    },
    {
      "cell_type": "code",
      "source": [],
      "metadata": {
        "id": "qYrygRfTGtT5"
      },
      "execution_count": null,
      "outputs": []
    }
  ]
}