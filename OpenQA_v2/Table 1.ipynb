{
  "cells": [
    {
      "cell_type": "markdown",
      "metadata": {
        "id": "view-in-github",
        "colab_type": "text"
      },
      "source": [
        "<a href=\"https://colab.research.google.com/github/meti-94/OpenQA/blob/main/OpenQA_v2/Table%201.ipynb\" target=\"_parent\"><img src=\"https://colab.research.google.com/assets/colab-badge.svg\" alt=\"Open In Colab\"/></a>"
      ]
    },
    {
      "cell_type": "code",
      "source": [
        "!pip3 install 'transformers[torch]' -q"
      ],
      "metadata": {
        "id": "2XqYdmMYPgd4",
        "outputId": "34f230a6-038e-407e-a59a-7e1ef5468a54",
        "colab": {
          "base_uri": "https://localhost:8080/"
        }
      },
      "execution_count": 1,
      "outputs": [
        {
          "output_type": "stream",
          "name": "stdout",
          "text": [
            "\u001b[?25l     \u001b[90m━━━━━━━━━━━━━━━━━━━━━━━━━━━━━━━━━━━━━━━━\u001b[0m \u001b[32m0.0/270.9 kB\u001b[0m \u001b[31m?\u001b[0m eta \u001b[36m-:--:--\u001b[0m\r\u001b[2K     \u001b[91m━━━━━━━━━\u001b[0m\u001b[90m╺\u001b[0m\u001b[90m━━━━━━━━━━━━━━━━━━━━━━━━━━━━━━\u001b[0m \u001b[32m61.4/270.9 kB\u001b[0m \u001b[31m1.6 MB/s\u001b[0m eta \u001b[36m0:00:01\u001b[0m\r\u001b[2K     \u001b[91m━━━━━━━━━━━━━━━━━━━━━━━━━\u001b[0m\u001b[91m╸\u001b[0m\u001b[90m━━━━━━━━━━━━━━\u001b[0m \u001b[32m174.1/270.9 kB\u001b[0m \u001b[31m2.5 MB/s\u001b[0m eta \u001b[36m0:00:01\u001b[0m\r\u001b[2K     \u001b[90m━━━━━━━━━━━━━━━━━━━━━━━━━━━━━━━━━━━━━━━━\u001b[0m \u001b[32m270.9/270.9 kB\u001b[0m \u001b[31m3.0 MB/s\u001b[0m eta \u001b[36m0:00:00\u001b[0m\n",
            "\u001b[?25h"
          ]
        }
      ]
    },
    {
      "cell_type": "code",
      "execution_count": 5,
      "metadata": {
        "colab": {
          "base_uri": "https://localhost:8080/"
        },
        "id": "gHLKOYbhEAQa",
        "outputId": "1375fbfe-18b0-434e-a7b7-dd19ea38bcbb"
      },
      "outputs": [
        {
          "output_type": "stream",
          "name": "stdout",
          "text": [
            "/content/OpenQA/OpenQA_v2\n"
          ]
        }
      ],
      "source": [
        "!git clone https://github.com/meti-94/OpenQA.git\n",
        "%cd /content/OpenQA/OpenQA_v2"
      ]
    },
    {
      "cell_type": "code",
      "execution_count": null,
      "metadata": {
        "id": "74W0T-0pPPMr",
        "outputId": "66dbd7fa-1511-4195-adb1-2d8deb7235fb",
        "colab": {
          "base_uri": "https://localhost:8080/"
        }
      },
      "outputs": [
        {
          "output_type": "stream",
          "name": "stdout",
          "text": [
            "INFO:root:\n",
            "\n",
            "############# Fold Number 1 #############\n",
            "\n",
            "\n",
            "DEBUG:urllib3.connectionpool:Starting new HTTPS connection (1): huggingface.co:443\n",
            "DEBUG:urllib3.connectionpool:https://huggingface.co:443 \"HEAD /bert-base-uncased/resolve/main/config.json HTTP/1.1\" 200 0\n",
            "DEBUG:filelock:Attempting to acquire lock 139070264649968 on /root/.cache/huggingface/hub/.locks/models--bert-base-uncased/45a2321a7ecfdaaf60a6c1fd7f5463994cc8907d.lock\n",
            "DEBUG:filelock:Lock 139070264649968 acquired on /root/.cache/huggingface/hub/.locks/models--bert-base-uncased/45a2321a7ecfdaaf60a6c1fd7f5463994cc8907d.lock\n",
            "DEBUG:urllib3.connectionpool:https://huggingface.co:443 \"GET /bert-base-uncased/resolve/main/config.json HTTP/1.1\" 200 570\n",
            "config.json: 100% 570/570 [00:00<00:00, 3.45MB/s]\n",
            "DEBUG:filelock:Attempting to release lock 139070264649968 on /root/.cache/huggingface/hub/.locks/models--bert-base-uncased/45a2321a7ecfdaaf60a6c1fd7f5463994cc8907d.lock\n",
            "DEBUG:filelock:Lock 139070264649968 released on /root/.cache/huggingface/hub/.locks/models--bert-base-uncased/45a2321a7ecfdaaf60a6c1fd7f5463994cc8907d.lock\n",
            "DEBUG:urllib3.connectionpool:https://huggingface.co:443 \"HEAD /bert-base-uncased/resolve/main/config.json HTTP/1.1\" 200 0\n",
            "DEBUG:urllib3.connectionpool:https://huggingface.co:443 \"HEAD /bert-base-uncased/resolve/main/model.safetensors HTTP/1.1\" 302 0\n",
            "DEBUG:filelock:Attempting to acquire lock 139070264655008 on /root/.cache/huggingface/hub/.locks/models--bert-base-uncased/68d45e234eb4a928074dfd868cead0219ab85354cc53d20e772753c6bb9169d3.lock\n",
            "DEBUG:filelock:Lock 139070264655008 acquired on /root/.cache/huggingface/hub/.locks/models--bert-base-uncased/68d45e234eb4a928074dfd868cead0219ab85354cc53d20e772753c6bb9169d3.lock\n",
            "DEBUG:urllib3.connectionpool:Starting new HTTPS connection (1): cdn-lfs.huggingface.co:443\n",
            "DEBUG:urllib3.connectionpool:https://cdn-lfs.huggingface.co:443 \"GET /bert-base-uncased/68d45e234eb4a928074dfd868cead0219ab85354cc53d20e772753c6bb9169d3?response-content-disposition=attachment%3B+filename*%3DUTF-8%27%27model.safetensors%3B+filename%3D%22model.safetensors%22%3B&Expires=1707738376&Policy=eyJTdGF0ZW1lbnQiOlt7IkNvbmRpdGlvbiI6eyJEYXRlTGVzc1RoYW4iOnsiQVdTOkVwb2NoVGltZSI6MTcwNzczODM3Nn19LCJSZXNvdXJjZSI6Imh0dHBzOi8vY2RuLWxmcy5odWdnaW5nZmFjZS5jby9iZXJ0LWJhc2UtdW5jYXNlZC82OGQ0NWUyMzRlYjRhOTI4MDc0ZGZkODY4Y2VhZDAyMTlhYjg1MzU0Y2M1M2QyMGU3NzI3NTNjNmJiOTE2OWQzP3Jlc3BvbnNlLWNvbnRlbnQtZGlzcG9zaXRpb249KiJ9XX0_&Signature=hPXb2zf3b6fPsFfcEYCEWtk2MEXHt18-eOkI-RUcqAQ0nK2fIuYT5uRqlB004iWU4ZUmRGPP-N4Vmpqg7NKXqXUwdP0PeEhGJ3Anlb-81LnJ0BOI6JpjtR1MA7uo62ovuJeiFqIQ7xdFV0XnycVQ9bmG7rfOnwNjU21QDKDB5t7jlxQSsBUJ984lo0daZ3b3WMafTRzo97smFfULMriZfbIRs5Ju61AK~m2so4Zit4eIoX2XqM57oqIL9E0HrexS-jX0QxAtMaRwa6suuRWj6~390Dt1jscIvQGhsG8ezGL7IrmKgYdwnICy6bC5D2mgdXeX0wzFcOXlhjgrHb8ssg__&Key-Pair-Id=KVTP0A1DKRTAX HTTP/1.1\" 200 440449768\n",
            "model.safetensors: 100% 440M/440M [00:02<00:00, 194MB/s]\n",
            "DEBUG:filelock:Attempting to release lock 139070264655008 on /root/.cache/huggingface/hub/.locks/models--bert-base-uncased/68d45e234eb4a928074dfd868cead0219ab85354cc53d20e772753c6bb9169d3.lock\n",
            "DEBUG:filelock:Lock 139070264655008 released on /root/.cache/huggingface/hub/.locks/models--bert-base-uncased/68d45e234eb4a928074dfd868cead0219ab85354cc53d20e772753c6bb9169d3.lock\n",
            "DEBUG:urllib3.connectionpool:https://huggingface.co:443 \"HEAD /bert-base-uncased/resolve/main/tokenizer_config.json HTTP/1.1\" 200 0\n",
            "DEBUG:filelock:Attempting to acquire lock 139070264654816 on /root/.cache/huggingface/hub/.locks/models--bert-base-uncased/a661b1a138dac6dc5590367402d100765010ffd6.lock\n",
            "DEBUG:filelock:Lock 139070264654816 acquired on /root/.cache/huggingface/hub/.locks/models--bert-base-uncased/a661b1a138dac6dc5590367402d100765010ffd6.lock\n",
            "DEBUG:urllib3.connectionpool:https://huggingface.co:443 \"GET /bert-base-uncased/resolve/main/tokenizer_config.json HTTP/1.1\" 200 28\n",
            "tokenizer_config.json: 100% 28.0/28.0 [00:00<00:00, 142kB/s]\n",
            "DEBUG:filelock:Attempting to release lock 139070264654816 on /root/.cache/huggingface/hub/.locks/models--bert-base-uncased/a661b1a138dac6dc5590367402d100765010ffd6.lock\n",
            "DEBUG:filelock:Lock 139070264654816 released on /root/.cache/huggingface/hub/.locks/models--bert-base-uncased/a661b1a138dac6dc5590367402d100765010ffd6.lock\n",
            "DEBUG:urllib3.connectionpool:https://huggingface.co:443 \"HEAD /bert-base-uncased/resolve/main/vocab.txt HTTP/1.1\" 200 0\n",
            "DEBUG:filelock:Attempting to acquire lock 139070264651552 on /root/.cache/huggingface/hub/.locks/models--bert-base-uncased/fb140275c155a9c7c5a3b3e0e77a9e839594a938.lock\n",
            "DEBUG:filelock:Lock 139070264651552 acquired on /root/.cache/huggingface/hub/.locks/models--bert-base-uncased/fb140275c155a9c7c5a3b3e0e77a9e839594a938.lock\n",
            "DEBUG:urllib3.connectionpool:https://huggingface.co:443 \"GET /bert-base-uncased/resolve/main/vocab.txt HTTP/1.1\" 200 231508\n",
            "vocab.txt: 100% 232k/232k [00:00<00:00, 6.94MB/s]\n",
            "DEBUG:filelock:Attempting to release lock 139070264651552 on /root/.cache/huggingface/hub/.locks/models--bert-base-uncased/fb140275c155a9c7c5a3b3e0e77a9e839594a938.lock\n",
            "DEBUG:filelock:Lock 139070264651552 released on /root/.cache/huggingface/hub/.locks/models--bert-base-uncased/fb140275c155a9c7c5a3b3e0e77a9e839594a938.lock\n",
            "DEBUG:urllib3.connectionpool:https://huggingface.co:443 \"HEAD /bert-base-uncased/resolve/main/added_tokens.json HTTP/1.1\" 404 0\n",
            "DEBUG:urllib3.connectionpool:https://huggingface.co:443 \"HEAD /bert-base-uncased/resolve/main/special_tokens_map.json HTTP/1.1\" 404 0\n",
            "DEBUG:urllib3.connectionpool:https://huggingface.co:443 \"HEAD /bert-base-uncased/resolve/main/tokenizer.json HTTP/1.1\" 200 0\n",
            "DEBUG:filelock:Attempting to acquire lock 139070264648864 on /root/.cache/huggingface/hub/.locks/models--bert-base-uncased/949a6f013d67eb8a5b4b5b46026217b888021b88.lock\n",
            "DEBUG:filelock:Lock 139070264648864 acquired on /root/.cache/huggingface/hub/.locks/models--bert-base-uncased/949a6f013d67eb8a5b4b5b46026217b888021b88.lock\n",
            "DEBUG:urllib3.connectionpool:https://huggingface.co:443 \"GET /bert-base-uncased/resolve/main/tokenizer.json HTTP/1.1\" 200 466062\n",
            "tokenizer.json: 100% 466k/466k [00:00<00:00, 6.08MB/s]\n",
            "DEBUG:filelock:Attempting to release lock 139070264648864 on /root/.cache/huggingface/hub/.locks/models--bert-base-uncased/949a6f013d67eb8a5b4b5b46026217b888021b88.lock\n",
            "DEBUG:filelock:Lock 139070264648864 released on /root/.cache/huggingface/hub/.locks/models--bert-base-uncased/949a6f013d67eb8a5b4b5b46026217b888021b88.lock\n",
            "/usr/local/lib/python3.10/dist-packages/transformers/optimization.py:411: FutureWarning: This implementation of AdamW is deprecated and will be removed in a future version. Use the PyTorch implementation torch.optim.AdamW instead, or set `no_deprecation_warning=True` to disable this warning\n",
            "  warnings.warn(\n",
            "INFO:root:Train Dataset Contains 10630 Samples.\n",
            "INFO:root:Valid Dataset Contains 1876 Samples.\n",
            "INFO:root:Test Dataset Contains 4169 Samples.\n",
            "Train Epoch Number 1: 100% 54/54 [00:28<00:00,  1.90it/s]\n",
            "INFO:root:Epoch number: 1 Train Loss is equal: 453.1657409667969\n",
            "Eval Epoch Number 1:  70% 7/10 [00:01<00:00,  6.33it/s]"
          ]
        }
      ],
      "source": [
        "!python src/train.py NodeEdgeDetector True 0"
      ]
    },
    {
      "cell_type": "code",
      "source": [
        "!python src/train.py NodeEdgeDetector False 1"
      ],
      "metadata": {
        "id": "7b8X_Ho8SF79",
        "outputId": "3e73ef3d-bd2a-418a-c478-32c2e3ed824b",
        "colab": {
          "base_uri": "https://localhost:8080/"
        }
      },
      "execution_count": null,
      "outputs": [
        {
          "output_type": "stream",
          "name": "stdout",
          "text": [
            "DEBUG:urllib3.connectionpool:Starting new HTTPS connection (1): huggingface.co:443\n",
            "DEBUG:urllib3.connectionpool:https://huggingface.co:443 \"HEAD /bert-base-uncased/resolve/main/config.json HTTP/1.1\" 200 0\n",
            "DEBUG:urllib3.connectionpool:https://huggingface.co:443 \"HEAD /bert-base-uncased/resolve/main/config.json HTTP/1.1\" 200 0\n",
            "DEBUG:urllib3.connectionpool:https://huggingface.co:443 \"HEAD /bert-base-uncased/resolve/main/tokenizer_config.json HTTP/1.1\" 200 0\n",
            "/usr/local/lib/python3.10/dist-packages/transformers/optimization.py:411: FutureWarning: This implementation of AdamW is deprecated and will be removed in a future version. Use the PyTorch implementation torch.optim.AdamW instead, or set `no_deprecation_warning=True` to disable this warning\n",
            "  warnings.warn(\n",
            "INFO:root:Train Dataset Contains 75688 Samples.\n",
            "INFO:root:Valid Dataset Contains 10809 Samples.\n",
            "INFO:root:Test Dataset Contains 21619 Samples.\n",
            "Train Epoch Number 1: 100% 379/379 [04:41<00:00,  1.35it/s]\n",
            "INFO:root:Epoch number: 1 Train Loss is equal: 126.002685546875\n",
            "Eval Epoch Number 1: 100% 55/55 [00:14<00:00,  3.85it/s]\n",
            "INFO:root:Epoch number: 1 Eval Loss is equal: 47.8145751953125\n",
            "Train Epoch Number 2: 100% 379/379 [04:47<00:00,  1.32it/s]\n",
            "INFO:root:Epoch number: 2 Train Loss is equal: 44.18306350708008\n",
            "Eval Epoch Number 2: 100% 55/55 [00:14<00:00,  3.82it/s]\n",
            "INFO:root:Epoch number: 2 Eval Loss is equal: 43.00682830810547\n",
            "Train Epoch Number 3: 100% 379/379 [04:46<00:00,  1.32it/s]\n",
            "INFO:root:Epoch number: 3 Train Loss is equal: 35.258399963378906\n",
            "Eval Epoch Number 3: 100% 55/55 [00:14<00:00,  3.77it/s]\n",
            "INFO:root:Epoch number: 3 Eval Loss is equal: 41.076087951660156\n",
            "Train Epoch Number 4: 100% 379/379 [04:47<00:00,  1.32it/s]\n",
            "INFO:root:Epoch number: 4 Train Loss is equal: 31.94453239440918\n",
            "Eval Epoch Number 4: 100% 55/55 [00:14<00:00,  3.80it/s]\n",
            "INFO:root:Epoch number: 4 Eval Loss is equal: 46.90460205078125\n",
            "Predicting ...: 100% 217/217 [00:28<00:00,  7.61it/s]\n",
            "INFO:root:Dataset-wide F1, precision and recall:\n",
            "INFO:root:0.9691207584563056, 0.9625600170242196, 0.9757715487602637\n",
            "INFO:root:Averaged F1, precision and recall:\n",
            "INFO:root:0.9765651111226649, 0.973860844009685, 0.9792844387537781\n",
            "INFO:root:Span accuracy\n",
            "INFO:root:0.9459734492807252\n",
            "INFO:root:Dataset-wide F1, precision and recall:\n",
            "INFO:root:0.984835636491115, 0.9895092579370746, 0.9802059561305898\n",
            "INFO:root:Averaged F1, precision and recall:\n",
            "INFO:root:0.9886554984808188, 0.9909924386333404, 0.9863295542565222\n",
            "INFO:root:Span accuracy\n",
            "INFO:root:0.9413941440399648\n",
            "Question                    Node               Edge\n",
            "--------------------------  -----------------  --------------------\n",
            "Where was Bill Gates Born?  ['bill', 'gates']  ['was', 'born', '?']\n"
          ]
        }
      ]
    },
    {
      "cell_type": "code",
      "source": [
        "!python src/train.py NodeEdgeDetector False 2"
      ],
      "metadata": {
        "id": "BEULyXmYZrRd",
        "outputId": "45c6e6d1-509e-4828-e9f0-d5a43258d76c",
        "colab": {
          "base_uri": "https://localhost:8080/"
        }
      },
      "execution_count": null,
      "outputs": [
        {
          "output_type": "stream",
          "name": "stdout",
          "text": [
            "DEBUG:urllib3.connectionpool:Starting new HTTPS connection (1): huggingface.co:443\n",
            "DEBUG:urllib3.connectionpool:https://huggingface.co:443 \"HEAD /bert-base-uncased/resolve/main/config.json HTTP/1.1\" 200 0\n",
            "DEBUG:urllib3.connectionpool:https://huggingface.co:443 \"HEAD /bert-base-uncased/resolve/main/config.json HTTP/1.1\" 200 0\n",
            "DEBUG:urllib3.connectionpool:https://huggingface.co:443 \"HEAD /bert-base-uncased/resolve/main/tokenizer_config.json HTTP/1.1\" 200 0\n",
            "/usr/local/lib/python3.10/dist-packages/transformers/optimization.py:411: FutureWarning: This implementation of AdamW is deprecated and will be removed in a future version. Use the PyTorch implementation torch.optim.AdamW instead, or set `no_deprecation_warning=True` to disable this warning\n",
            "  warnings.warn(\n",
            "INFO:root:Train Dataset Contains 85609 Samples.\n",
            "INFO:root:Valid Dataset Contains 12560 Samples.\n",
            "INFO:root:Test Dataset Contains 26622 Samples.\n",
            "Train Epoch Number 1: 100% 429/429 [05:22<00:00,  1.33it/s]\n",
            "INFO:root:Epoch number: 1 Train Loss is equal: 131.93080139160156\n",
            "Eval Epoch Number 1: 100% 63/63 [00:15<00:00,  3.96it/s]\n",
            "INFO:root:Epoch number: 1 Eval Loss is equal: 50.295684814453125\n",
            "Train Epoch Number 2: 100% 429/429 [05:23<00:00,  1.33it/s]\n",
            "INFO:root:Epoch number: 2 Train Loss is equal: 43.486236572265625\n",
            "Eval Epoch Number 2: 100% 63/63 [00:16<00:00,  3.93it/s]\n",
            "INFO:root:Epoch number: 2 Eval Loss is equal: 49.67707061767578\n",
            "Train Epoch Number 3: 100% 429/429 [05:22<00:00,  1.33it/s]\n",
            "INFO:root:Epoch number: 3 Train Loss is equal: 35.3160514831543\n",
            "Eval Epoch Number 3: 100% 63/63 [00:16<00:00,  3.94it/s]\n",
            "INFO:root:Epoch number: 3 Eval Loss is equal: 43.54246520996094\n",
            "Train Epoch Number 4: 100% 429/429 [05:22<00:00,  1.33it/s]\n",
            "INFO:root:Epoch number: 4 Train Loss is equal: 31.0108699798584\n",
            "Eval Epoch Number 4: 100% 63/63 [00:15<00:00,  4.01it/s]\n",
            "INFO:root:Epoch number: 4 Eval Loss is equal: 46.11875534057617\n",
            "Predicting ...: 100% 267/267 [00:33<00:00,  8.07it/s]\n",
            "INFO:root:Dataset-wide F1, precision and recall:\n",
            "INFO:root:0.9724113388288966, 0.9702999115167885, 0.974531975350507\n",
            "INFO:root:Averaged F1, precision and recall:\n",
            "INFO:root:0.9789716450310342, 0.9780174733193466, 0.9799276803756182\n",
            "INFO:root:Span accuracy\n",
            "INFO:root:0.9465104049282548\n",
            "INFO:root:Dataset-wide F1, precision and recall:\n",
            "INFO:root:0.9855959040170222, 0.9874260970938463, 0.9837724829096701\n",
            "INFO:root:Averaged F1, precision and recall:\n",
            "INFO:root:0.9892652438813696, 0.9895391655606888, 0.9889914738126674\n",
            "INFO:root:Span accuracy\n",
            "INFO:root:0.9425662985500713\n",
            "Question                    Node               Edge\n",
            "--------------------------  -----------------  --------------------\n",
            "Where was Bill Gates Born?  ['bill', 'gates']  ['was', 'born', '?']\n"
          ]
        }
      ]
    },
    {
      "cell_type": "code",
      "execution_count": null,
      "metadata": {
        "id": "eKpscpNEwgUx"
      },
      "outputs": [],
      "source": [
        "!cp /content/OpenQA/models/node_edge_bert.pt /content/drive/MyDrive/data_freebase/"
      ]
    }
  ],
  "metadata": {
    "accelerator": "GPU",
    "colab": {
      "name": "train_evaluation_0.0.0.ipynb",
      "provenance": [],
      "include_colab_link": true
    },
    "kernelspec": {
      "display_name": "Python 3",
      "name": "python3"
    },
    "language_info": {
      "codemirror_mode": {
        "name": "ipython",
        "version": 3
      },
      "file_extension": ".py",
      "mimetype": "text/x-python",
      "name": "python",
      "nbconvert_exporter": "python",
      "pygments_lexer": "ipython3",
      "version": "3.11.5"
    }
  },
  "nbformat": 4,
  "nbformat_minor": 0
}