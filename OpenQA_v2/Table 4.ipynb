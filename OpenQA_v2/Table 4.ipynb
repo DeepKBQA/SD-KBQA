{
  "nbformat": 4,
  "nbformat_minor": 0,
  "metadata": {
    "colab": {
      "name": "Evaluation.ipynb",
      "provenance": [],
      "include_colab_link": true
    },
    "kernelspec": {
      "name": "python3",
      "display_name": "Python 3"
    },
    "language_info": {
      "name": "python"
    }
  },
  "cells": [
    {
      "cell_type": "markdown",
      "metadata": {
        "id": "view-in-github",
        "colab_type": "text"
      },
      "source": [
        "<a href=\"https://colab.research.google.com/github/meti-94/OpenQA/blob/main/OpenQA_v2/Table%204.ipynb\" target=\"_parent\"><img src=\"https://colab.research.google.com/assets/colab-badge.svg\" alt=\"Open In Colab\"/></a>"
      ]
    },
    {
      "cell_type": "code",
      "source": [
        "!pip install transformers -q\n",
        "!pip install fuzzywuzzy -q\n",
        "!pip install python-Levenshtein -q\n",
        "!pip install pattern -q"
      ],
      "metadata": {
        "id": "R2r2rYmdAp-d",
        "outputId": "d0721cba-267b-4544-af4d-7f0455137179",
        "colab": {
          "base_uri": "https://localhost:8080/"
        }
      },
      "execution_count": 1,
      "outputs": [
        {
          "output_type": "stream",
          "name": "stdout",
          "text": [
            "\u001b[2K     \u001b[90m━━━━━━━━━━━━━━━━━━━━━━━━━━━━━━━━━━━━━━━━\u001b[0m \u001b[32m7.9/7.9 MB\u001b[0m \u001b[31m52.1 MB/s\u001b[0m eta \u001b[36m0:00:00\u001b[0m\n",
            "\u001b[2K     \u001b[90m━━━━━━━━━━━━━━━━━━━━━━━━━━━━━━━━━━━━━━━━\u001b[0m \u001b[32m311.7/311.7 kB\u001b[0m \u001b[31m23.3 MB/s\u001b[0m eta \u001b[36m0:00:00\u001b[0m\n",
            "\u001b[2K     \u001b[90m━━━━━━━━━━━━━━━━━━━━━━━━━━━━━━━━━━━━━━━━\u001b[0m \u001b[32m3.8/3.8 MB\u001b[0m \u001b[31m91.6 MB/s\u001b[0m eta \u001b[36m0:00:00\u001b[0m\n",
            "\u001b[2K     \u001b[90m━━━━━━━━━━━━━━━━━━━━━━━━━━━━━━━━━━━━━━━━\u001b[0m \u001b[32m1.3/1.3 MB\u001b[0m \u001b[31m52.3 MB/s\u001b[0m eta \u001b[36m0:00:00\u001b[0m\n",
            "\u001b[2K     \u001b[90m━━━━━━━━━━━━━━━━━━━━━━━━━━━━━━━━━━━━━━━━\u001b[0m \u001b[32m169.4/169.4 kB\u001b[0m \u001b[31m3.2 MB/s\u001b[0m eta \u001b[36m0:00:00\u001b[0m\n",
            "\u001b[2K     \u001b[90m━━━━━━━━━━━━━━━━━━━━━━━━━━━━━━━━━━━━━━━━\u001b[0m \u001b[32m3.3/3.3 MB\u001b[0m \u001b[31m10.4 MB/s\u001b[0m eta \u001b[36m0:00:00\u001b[0m\n",
            "\u001b[2K     \u001b[90m━━━━━━━━━━━━━━━━━━━━━━━━━━━━━━━━━━━━━━━━\u001b[0m \u001b[32m22.2/22.2 MB\u001b[0m \u001b[31m36.5 MB/s\u001b[0m eta \u001b[36m0:00:00\u001b[0m\n",
            "\u001b[?25h  Preparing metadata (setup.py) ... \u001b[?25l\u001b[?25hdone\n",
            "\u001b[2K     \u001b[90m━━━━━━━━━━━━━━━━━━━━━━━━━━━━━━━━━━━━━━━━\u001b[0m \u001b[32m89.5/89.5 kB\u001b[0m \u001b[31m8.0 MB/s\u001b[0m eta \u001b[36m0:00:00\u001b[0m\n",
            "\u001b[?25h  Installing build dependencies ... \u001b[?25l\u001b[?25hdone\n",
            "  Getting requirements to build wheel ... \u001b[?25l\u001b[?25hdone\n",
            "  Installing backend dependencies ... \u001b[?25l\u001b[?25hdone\n",
            "  Preparing metadata (pyproject.toml) ... \u001b[?25l\u001b[?25hdone\n",
            "\u001b[2K     \u001b[90m━━━━━━━━━━━━━━━━━━━━━━━━━━━━━━━━━━━━━━━━\u001b[0m \u001b[32m81.1/81.1 kB\u001b[0m \u001b[31m7.6 MB/s\u001b[0m eta \u001b[36m0:00:00\u001b[0m\n",
            "\u001b[2K     \u001b[90m━━━━━━━━━━━━━━━━━━━━━━━━━━━━━━━━━━━━━━━━\u001b[0m \u001b[32m5.6/5.6 MB\u001b[0m \u001b[31m72.9 MB/s\u001b[0m eta \u001b[36m0:00:00\u001b[0m\n",
            "\u001b[2K     \u001b[90m━━━━━━━━━━━━━━━━━━━━━━━━━━━━━━━━━━━━━━━━\u001b[0m \u001b[32m239.6/239.6 kB\u001b[0m \u001b[31m23.5 MB/s\u001b[0m eta \u001b[36m0:00:00\u001b[0m\n",
            "\u001b[2K     \u001b[90m━━━━━━━━━━━━━━━━━━━━━━━━━━━━━━━━━━━━━━━━\u001b[0m \u001b[32m348.4/348.4 kB\u001b[0m \u001b[31m29.5 MB/s\u001b[0m eta \u001b[36m0:00:00\u001b[0m\n",
            "\u001b[2K     \u001b[90m━━━━━━━━━━━━━━━━━━━━━━━━━━━━━━━━━━━━━━━━\u001b[0m \u001b[32m101.6/101.6 kB\u001b[0m \u001b[31m11.7 MB/s\u001b[0m eta \u001b[36m0:00:00\u001b[0m\n",
            "\u001b[?25h  Preparing metadata (setup.py) ... \u001b[?25l\u001b[?25hdone\n",
            "  Building wheel for pattern (setup.py) ... \u001b[?25l\u001b[?25hdone\n",
            "  Building wheel for mysqlclient (pyproject.toml) ... \u001b[?25l\u001b[?25hdone\n",
            "  Building wheel for sgmllib3k (setup.py) ... \u001b[?25l\u001b[?25hdone\n"
          ]
        }
      ]
    },
    {
      "cell_type": "code",
      "source": [
        "from google.colab import drive\n",
        "drive.mount('/content/drive')"
      ],
      "metadata": {
        "id": "o8cKl1HUzbZp",
        "outputId": "0fc13b5e-aa8b-4ce3-cedd-e4680f8033c1",
        "colab": {
          "base_uri": "https://localhost:8080/"
        }
      },
      "execution_count": 2,
      "outputs": [
        {
          "output_type": "stream",
          "name": "stdout",
          "text": [
            "Mounted at /content/drive\n"
          ]
        }
      ]
    },
    {
      "cell_type": "code",
      "source": [
        "!git clone https://github.com/meti-94/OpenQA.git"
      ],
      "metadata": {
        "id": "NNk4Ixzk-0TW",
        "outputId": "f03da8d9-6a07-4147-84b0-9419020de410",
        "colab": {
          "base_uri": "https://localhost:8080/"
        }
      },
      "execution_count": 3,
      "outputs": [
        {
          "output_type": "stream",
          "name": "stdout",
          "text": [
            "Cloning into 'OpenQA'...\n",
            "remote: Enumerating objects: 370, done.\u001b[K\n",
            "remote: Counting objects: 100% (133/133), done.\u001b[K\n",
            "remote: Compressing objects: 100% (98/98), done.\u001b[K\n",
            "remote: Total 370 (delta 84), reused 61 (delta 32), pack-reused 237\u001b[K\n",
            "Receiving objects: 100% (370/370), 102.69 MiB | 35.64 MiB/s, done.\n",
            "Resolving deltas: 100% (187/187), done.\n"
          ]
        }
      ]
    },
    {
      "cell_type": "code",
      "source": [
        "!python3 /content/OpenQA/OpenQA_v2/src/evaluation.py test 0"
      ],
      "metadata": {
        "id": "tjkGvdMkELYq",
        "outputId": "0f35c91b-b84f-4bf1-881b-238601abfe77",
        "colab": {
          "base_uri": "https://localhost:8080/"
        }
      },
      "execution_count": 34,
      "outputs": [
        {
          "output_type": "stream",
          "name": "stdout",
          "text": [
            "Combining Relations ... : 100% 407267/407267 [00:30<00:00, 13182.44it/s]\n",
            "562328 252206\n",
            "5004\n",
            "100% 5004/5004 [02:26<00:00, 34.07it/s]\n",
            "5004\n",
            "Top1 Answers: 0.6221023181454837\n",
            "Top3 Answers: 0.6630695443645084\n",
            "Top5 Answers: 0.6640687450039968\n",
            "Top10 Answers: 0.6640687450039968\n",
            "Top20 Answers: 0.6642685851318945\n",
            "Top50 Answers: 0.6642685851318945\n",
            "Top100 Answers: 0.6642685851318945\n"
          ]
        }
      ]
    },
    {
      "cell_type": "code",
      "source": [
        "!python3 /content/OpenQA/OpenQA_v2/src/evaluation.py test 1"
      ],
      "metadata": {
        "id": "6zXWwju5Gm3-",
        "outputId": "02706577-c23f-4508-e479-5d8bac432fdf",
        "colab": {
          "base_uri": "https://localhost:8080/"
        }
      },
      "execution_count": 33,
      "outputs": [
        {
          "output_type": "stream",
          "name": "stdout",
          "text": [
            "Combining Relations ... : 100% 407267/407267 [00:33<00:00, 12327.60it/s]\n",
            "562328 252206\n",
            "21640\n",
            "100% 21640/21640 [03:44<00:00, 96.19it/s]\n",
            "21640\n",
            "Top1 Answers: 0.688909426987061\n",
            "Top3 Answers: 0.7874768946395564\n",
            "Top5 Answers: 0.8127541589648799\n",
            "Top10 Answers: 0.8393253234750462\n",
            "Top20 Answers: 0.8573475046210721\n",
            "Top50 Answers: 0.8722273567467652\n",
            "Top100 Answers: 0.8780499075785583\n"
          ]
        }
      ]
    },
    {
      "cell_type": "code",
      "source": [
        "!python3 /content/OpenQA/OpenQA_v2/src/evaluation.py test 2"
      ],
      "metadata": {
        "id": "rQbkiIarGoMa",
        "outputId": "f9072c2d-b8f1-489e-f20f-d6d82c34e0b7",
        "colab": {
          "base_uri": "https://localhost:8080/"
        }
      },
      "execution_count": 32,
      "outputs": [
        {
          "output_type": "stream",
          "name": "stdout",
          "text": [
            "Combining Relations ... : 100% 407267/407267 [00:29<00:00, 14001.18it/s]\n",
            "562328 252206\n",
            "26644\n",
            "100% 26644/26644 [06:07<00:00, 72.54it/s] \n",
            "26644\n",
            "Top1 Answers: 0.676512535655307\n",
            "Top3 Answers: 0.7642996547065005\n",
            "Top5 Answers: 0.7849422008707402\n",
            "Top10 Answers: 0.806485512685783\n",
            "Top20 Answers: 0.8211229545113347\n",
            "Top50 Answers: 0.8335460141119952\n",
            "Top100 Answers: 0.8378621828554271\n"
          ]
        }
      ]
    },
    {
      "cell_type": "code",
      "source": [
        "!python3 /content/OpenQA/OpenQA_v2/src/evaluation.py valid 0"
      ],
      "metadata": {
        "id": "GXNpIYCQGqF-",
        "outputId": "21ec65d1-7a01-4439-b09b-55f4bba4ed38",
        "colab": {
          "base_uri": "https://localhost:8080/"
        }
      },
      "execution_count": 37,
      "outputs": [
        {
          "output_type": "stream",
          "name": "stdout",
          "text": [
            "Combining Relations ... : 100% 407267/407267 [00:33<00:00, 12143.07it/s]\n",
            "562328 252206\n",
            "1752\n",
            "100% 1752/1752 [00:50<00:00, 34.48it/s]\n",
            "1752\n",
            "Top1 Answers: 0.6364155251141552\n",
            "Top3 Answers: 0.66324200913242\n",
            "Top5 Answers: 0.6655251141552512\n",
            "Top10 Answers: 0.6655251141552512\n",
            "Top20 Answers: 0.6655251141552512\n",
            "Top50 Answers: 0.6655251141552512\n",
            "Top100 Answers: 0.6655251141552512\n"
          ]
        }
      ]
    },
    {
      "cell_type": "code",
      "source": [
        "!python3 /content/OpenQA/OpenQA_v2/src/evaluation.py valid 1"
      ],
      "metadata": {
        "id": "cbGOPx0sGshz",
        "outputId": "bea7d317-0381-4d9c-fe5e-873a94ae325b",
        "colab": {
          "base_uri": "https://localhost:8080/"
        }
      },
      "execution_count": 38,
      "outputs": [
        {
          "output_type": "stream",
          "name": "stdout",
          "text": [
            "Combining Relations ... : 100% 407267/407267 [00:33<00:00, 12225.64it/s]\n",
            "562328 252206\n",
            "10820\n",
            "100% 10820/10820 [01:49<00:00, 98.71it/s]\n",
            "10820\n",
            "Top1 Answers: 0.6967652495378928\n",
            "Top3 Answers: 0.7940850277264325\n",
            "Top5 Answers: 0.81728280961183\n",
            "Top10 Answers: 0.8453789279112754\n",
            "Top20 Answers: 0.8625693160813309\n",
            "Top50 Answers: 0.8768022181146026\n",
            "Top100 Answers: 0.8816081330868761\n"
          ]
        }
      ]
    },
    {
      "cell_type": "code",
      "source": [
        "!python3 /content/OpenQA/OpenQA_v2/src/evaluation.py valid 2"
      ],
      "metadata": {
        "id": "TndiOJzKGubE",
        "outputId": "0e76e9e8-6e83-4d63-bc71-1b37c6f7152e",
        "colab": {
          "base_uri": "https://localhost:8080/"
        }
      },
      "execution_count": 39,
      "outputs": [
        {
          "output_type": "stream",
          "name": "stdout",
          "text": [
            "Combining Relations ... : 100% 407267/407267 [00:28<00:00, 14046.20it/s]\n",
            "562328 252206\n",
            "12572\n",
            "100% 12572/12572 [02:39<00:00, 78.85it/s]\n",
            "12572\n",
            "Top1 Answers: 0.6884346166083359\n",
            "Top3 Answers: 0.7764874323894368\n",
            "Top5 Answers: 0.7970092268533249\n",
            "Top10 Answers: 0.8213490295895641\n",
            "Top20 Answers: 0.8360642698059179\n",
            "Top50 Answers: 0.8480750874960229\n",
            "Top100 Answers: 0.8518930957683741\n"
          ]
        }
      ]
    },
    {
      "cell_type": "code",
      "source": [
        "import pickle\n",
        "X = pickle.load(open('/content/OpenQA/OpenQA_v2/src/X_valid.pickle', 'rb'))\n",
        "y = pickle.load(open('/content/OpenQA/OpenQA_v2/src/y_valid.pickle', 'rb'))\n",
        "print(X.shape, y.shape)"
      ],
      "metadata": {
        "id": "xeBV1141Isyq",
        "outputId": "8ec0c7b3-9039-41bb-e82b-8d03cf8a69e4",
        "colab": {
          "base_uri": "https://localhost:8080/"
        }
      },
      "execution_count": null,
      "outputs": [
        {
          "output_type": "stream",
          "name": "stdout",
          "text": [
            "(117077, 3) (117077,)\n"
          ]
        }
      ]
    }
  ]
}