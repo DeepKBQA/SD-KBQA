{
  "nbformat": 4,
  "nbformat_minor": 0,
  "metadata": {
    "colab": {
      "name": "Evaluation.ipynb",
      "provenance": [],
      "include_colab_link": true
    },
    "kernelspec": {
      "name": "python3",
      "display_name": "Python 3"
    },
    "language_info": {
      "name": "python"
    }
  },
  "cells": [
    {
      "cell_type": "markdown",
      "metadata": {
        "id": "view-in-github",
        "colab_type": "text"
      },
      "source": [
        "<a href=\"https://colab.research.google.com/github/meti-94/OpenQA/blob/main/OpenQA_v2/Table%204.ipynb\" target=\"_parent\"><img src=\"https://colab.research.google.com/assets/colab-badge.svg\" alt=\"Open In Colab\"/></a>"
      ]
    },
    {
      "cell_type": "code",
      "source": [
        "!pip install transformers -q\n",
        "!pip install fuzzywuzzy -q\n",
        "!pip install python-Levenshtein -q\n",
        "!pip install pattern -q"
      ],
      "metadata": {
        "id": "R2r2rYmdAp-d",
        "outputId": "dffa16ed-d61e-4dd4-d80f-dcdcb28c698d",
        "colab": {
          "base_uri": "https://localhost:8080/"
        }
      },
      "execution_count": 1,
      "outputs": [
        {
          "output_type": "stream",
          "name": "stdout",
          "text": [
            "\u001b[2K     \u001b[90m━━━━━━━━━━━━━━━━━━━━━━━━━━━━━━━━━━━━━━━━\u001b[0m \u001b[32m7.9/7.9 MB\u001b[0m \u001b[31m15.6 MB/s\u001b[0m eta \u001b[36m0:00:00\u001b[0m\n",
            "\u001b[2K     \u001b[90m━━━━━━━━━━━━━━━━━━━━━━━━━━━━━━━━━━━━━━━━\u001b[0m \u001b[32m311.7/311.7 kB\u001b[0m \u001b[31m19.3 MB/s\u001b[0m eta \u001b[36m0:00:00\u001b[0m\n",
            "\u001b[2K     \u001b[90m━━━━━━━━━━━━━━━━━━━━━━━━━━━━━━━━━━━━━━━━\u001b[0m \u001b[32m3.8/3.8 MB\u001b[0m \u001b[31m37.5 MB/s\u001b[0m eta \u001b[36m0:00:00\u001b[0m\n",
            "\u001b[2K     \u001b[90m━━━━━━━━━━━━━━━━━━━━━━━━━━━━━━━━━━━━━━━━\u001b[0m \u001b[32m1.3/1.3 MB\u001b[0m \u001b[31m41.9 MB/s\u001b[0m eta \u001b[36m0:00:00\u001b[0m\n",
            "\u001b[2K     \u001b[90m━━━━━━━━━━━━━━━━━━━━━━━━━━━━━━━━━━━━━━━━\u001b[0m \u001b[32m169.4/169.4 kB\u001b[0m \u001b[31m3.5 MB/s\u001b[0m eta \u001b[36m0:00:00\u001b[0m\n",
            "\u001b[2K     \u001b[90m━━━━━━━━━━━━━━━━━━━━━━━━━━━━━━━━━━━━━━━━\u001b[0m \u001b[32m3.3/3.3 MB\u001b[0m \u001b[31m10.9 MB/s\u001b[0m eta \u001b[36m0:00:00\u001b[0m\n",
            "\u001b[2K     \u001b[90m━━━━━━━━━━━━━━━━━━━━━━━━━━━━━━━━━━━━━━━━\u001b[0m \u001b[32m22.2/22.2 MB\u001b[0m \u001b[31m54.7 MB/s\u001b[0m eta \u001b[36m0:00:00\u001b[0m\n",
            "\u001b[?25h  Preparing metadata (setup.py) ... \u001b[?25l\u001b[?25hdone\n",
            "\u001b[2K     \u001b[90m━━━━━━━━━━━━━━━━━━━━━━━━━━━━━━━━━━━━━━━━\u001b[0m \u001b[32m89.5/89.5 kB\u001b[0m \u001b[31m10.2 MB/s\u001b[0m eta \u001b[36m0:00:00\u001b[0m\n",
            "\u001b[?25h  Installing build dependencies ... \u001b[?25l\u001b[?25hdone\n",
            "  Getting requirements to build wheel ... \u001b[?25l\u001b[?25hdone\n",
            "  Installing backend dependencies ... \u001b[?25l\u001b[?25hdone\n",
            "  Preparing metadata (pyproject.toml) ... \u001b[?25l\u001b[?25hdone\n",
            "\u001b[2K     \u001b[90m━━━━━━━━━━━━━━━━━━━━━━━━━━━━━━━━━━━━━━━━\u001b[0m \u001b[32m81.1/81.1 kB\u001b[0m \u001b[31m8.0 MB/s\u001b[0m eta \u001b[36m0:00:00\u001b[0m\n",
            "\u001b[2K     \u001b[90m━━━━━━━━━━━━━━━━━━━━━━━━━━━━━━━━━━━━━━━━\u001b[0m \u001b[32m5.6/5.6 MB\u001b[0m \u001b[31m91.3 MB/s\u001b[0m eta \u001b[36m0:00:00\u001b[0m\n",
            "\u001b[2K     \u001b[90m━━━━━━━━━━━━━━━━━━━━━━━━━━━━━━━━━━━━━━━━\u001b[0m \u001b[32m239.6/239.6 kB\u001b[0m \u001b[31m21.3 MB/s\u001b[0m eta \u001b[36m0:00:00\u001b[0m\n",
            "\u001b[2K     \u001b[90m━━━━━━━━━━━━━━━━━━━━━━━━━━━━━━━━━━━━━━━━\u001b[0m \u001b[32m348.4/348.4 kB\u001b[0m \u001b[31m25.8 MB/s\u001b[0m eta \u001b[36m0:00:00\u001b[0m\n",
            "\u001b[2K     \u001b[90m━━━━━━━━━━━━━━━━━━━━━━━━━━━━━━━━━━━━━━━━\u001b[0m \u001b[32m101.6/101.6 kB\u001b[0m \u001b[31m10.9 MB/s\u001b[0m eta \u001b[36m0:00:00\u001b[0m\n",
            "\u001b[?25h  Preparing metadata (setup.py) ... \u001b[?25l\u001b[?25hdone\n",
            "  Building wheel for pattern (setup.py) ... \u001b[?25l\u001b[?25hdone\n",
            "  Building wheel for mysqlclient (pyproject.toml) ... \u001b[?25l\u001b[?25hdone\n",
            "  Building wheel for sgmllib3k (setup.py) ... \u001b[?25l\u001b[?25hdone\n"
          ]
        }
      ]
    },
    {
      "cell_type": "code",
      "source": [
        "from google.colab import drive\n",
        "drive.mount('/content/drive')"
      ],
      "metadata": {
        "id": "o8cKl1HUzbZp",
        "outputId": "0da4b0be-b99d-44fa-969c-8a90df15ea4e",
        "colab": {
          "base_uri": "https://localhost:8080/"
        }
      },
      "execution_count": 2,
      "outputs": [
        {
          "output_type": "stream",
          "name": "stdout",
          "text": [
            "Mounted at /content/drive\n"
          ]
        }
      ]
    },
    {
      "cell_type": "code",
      "source": [
        "!git clone https://github.com/meti-94/OpenQA.git"
      ],
      "metadata": {
        "id": "NNk4Ixzk-0TW",
        "outputId": "e6e9628f-3022-4355-b8fd-a7b3f2890251",
        "colab": {
          "base_uri": "https://localhost:8080/"
        }
      },
      "execution_count": 3,
      "outputs": [
        {
          "output_type": "stream",
          "name": "stdout",
          "text": [
            "Cloning into 'OpenQA'...\n",
            "remote: Enumerating objects: 392, done.\u001b[K\n",
            "remote: Counting objects: 100% (155/155), done.\u001b[K\n",
            "remote: Compressing objects: 100% (114/114), done.\u001b[K\n",
            "remote: Total 392 (delta 101), reused 71 (delta 38), pack-reused 237\u001b[K\n",
            "Receiving objects: 100% (392/392), 102.69 MiB | 32.11 MiB/s, done.\n",
            "Resolving deltas: 100% (204/204), done.\n"
          ]
        }
      ]
    },
    {
      "cell_type": "code",
      "source": [
        "!python3 /content/OpenQA/OpenQA_v2/src/evaluation.py test 0 False"
      ],
      "metadata": {
        "id": "T5FtSoP6e_NR",
        "outputId": "865fce9e-5e7f-4e80-dd80-699b1754ff7a",
        "colab": {
          "base_uri": "https://localhost:8080/"
        }
      },
      "execution_count": 8,
      "outputs": [
        {
          "output_type": "stream",
          "name": "stdout",
          "text": [
            "Combining Relations ... : 100% 407267/407267 [00:36<00:00, 11293.08it/s]\n",
            "562328 252206\n",
            "5004\n",
            "100% 5004/5004 [02:34<00:00, 32.30it/s]\n",
            "5004\n",
            "Top1 Answers: 0.4694244604316547\n",
            "Top3 Answers: 0.5417665867306155\n",
            "Top5 Answers: 0.5697442046362909\n",
            "Top10 Answers: 0.6037170263788969\n",
            "Top20 Answers: 0.6284972022382095\n",
            "Top50 Answers: 0.6494804156674661\n",
            "Top100 Answers: 0.6606714628297362\n"
          ]
        }
      ]
    },
    {
      "cell_type": "code",
      "source": [
        "!python3 /content/OpenQA/OpenQA_v2/src/evaluation.py test 0 True"
      ],
      "metadata": {
        "id": "tjkGvdMkELYq",
        "outputId": "db6b1acc-d1b1-4c2c-8d69-82450ec9e428",
        "colab": {
          "base_uri": "https://localhost:8080/"
        }
      },
      "execution_count": 6,
      "outputs": [
        {
          "output_type": "stream",
          "name": "stdout",
          "text": [
            "Combining Relations ... : 100% 407267/407267 [00:31<00:00, 12833.81it/s]\n",
            "562328 252206\n",
            "5004\n",
            "100% 5004/5004 [02:28<00:00, 33.80it/s]\n",
            "5004\n",
            "Top1 Answers: 0.6256994404476419\n",
            "Top3 Answers: 0.6668665067945644\n",
            "Top5 Answers: 0.6682653876898481\n",
            "Top10 Answers: 0.6682653876898481\n",
            "Top20 Answers: 0.6684652278177458\n",
            "Top50 Answers: 0.6684652278177458\n",
            "Top100 Answers: 0.6684652278177458\n"
          ]
        }
      ]
    },
    {
      "cell_type": "code",
      "source": [
        "!python3 /content/OpenQA/OpenQA_v2/src/evaluation.py test 1 False"
      ],
      "metadata": {
        "id": "rNQDULMrjkpD",
        "outputId": "24c3ddc7-9599-48aa-a7b0-8e02b14ed88d",
        "colab": {
          "base_uri": "https://localhost:8080/"
        }
      },
      "execution_count": 9,
      "outputs": [
        {
          "output_type": "stream",
          "name": "stdout",
          "text": [
            "Combining Relations ... : 100% 407267/407267 [00:31<00:00, 12871.35it/s]\n",
            "562328 252206\n",
            "21640\n",
            "100% 21640/21640 [03:37<00:00, 99.57it/s] \n",
            "21640\n",
            "Top1 Answers: 0.6942698706099815\n",
            "Top3 Answers: 0.7969500924214418\n",
            "Top5 Answers: 0.8211645101663586\n",
            "Top10 Answers: 0.8440850277264326\n",
            "Top20 Answers: 0.8609981515711645\n",
            "Top50 Answers: 0.8755083179297597\n",
            "Top100 Answers: 0.8806839186691312\n"
          ]
        }
      ]
    },
    {
      "cell_type": "code",
      "source": [
        "!python3 /content/OpenQA/OpenQA_v2/src/evaluation.py test 1 True"
      ],
      "metadata": {
        "id": "6zXWwju5Gm3-",
        "outputId": "c529739b-2d5e-4c14-a29f-6ea6c273fc28",
        "colab": {
          "base_uri": "https://localhost:8080/"
        }
      },
      "execution_count": 10,
      "outputs": [
        {
          "output_type": "stream",
          "name": "stdout",
          "text": [
            "Combining Relations ... : 100% 407267/407267 [00:33<00:00, 12246.24it/s]\n",
            "562328 252206\n",
            "21640\n",
            "100% 21640/21640 [03:42<00:00, 97.39it/s]\n",
            "21640\n",
            "Top1 Answers: 0.6878003696857671\n",
            "Top3 Answers: 0.786460258780037\n",
            "Top5 Answers: 0.8117837338262477\n",
            "Top10 Answers: 0.8382162661737523\n",
            "Top20 Answers: 0.8565157116451017\n",
            "Top50 Answers: 0.8712107208872458\n",
            "Top100 Answers: 0.8771256931608133\n"
          ]
        }
      ]
    },
    {
      "cell_type": "code",
      "source": [
        "!python3 /content/OpenQA/OpenQA_v2/src/evaluation.py test 2 False"
      ],
      "metadata": {
        "id": "rQbkiIarGoMa",
        "outputId": "f807e64c-0dfb-44c0-f2e8-fdfb55bce3bb",
        "colab": {
          "base_uri": "https://localhost:8080/"
        }
      },
      "execution_count": 11,
      "outputs": [
        {
          "output_type": "stream",
          "name": "stdout",
          "text": [
            "Combining Relations ... : 100% 407267/407267 [00:33<00:00, 12136.24it/s]\n",
            "562328 252206\n",
            "26644\n",
            "100% 26644/26644 [06:13<00:00, 71.29it/s] \n",
            "26644\n",
            "Top1 Answers: 0.6507281189010659\n",
            "Top3 Answers: 0.7478606815793425\n",
            "Top5 Answers: 0.7722939498573788\n",
            "Top10 Answers: 0.7968022819396487\n",
            "Top20 Answers: 0.8152679777811139\n",
            "Top50 Answers: 0.8306935895511185\n",
            "Top100 Answers: 0.8369989491067408\n"
          ]
        }
      ]
    },
    {
      "cell_type": "code",
      "source": [
        "!python3 /content/OpenQA/OpenQA_v2/src/evaluation.py test 2 True"
      ],
      "metadata": {
        "id": "v9jC4ZBFjurQ",
        "outputId": "0e2a7cd2-9c0c-4068-b95a-dbefdbf3db68",
        "colab": {
          "base_uri": "https://localhost:8080/"
        }
      },
      "execution_count": 12,
      "outputs": [
        {
          "output_type": "stream",
          "name": "stdout",
          "text": [
            "Combining Relations ... : 100% 407267/407267 [00:32<00:00, 12598.51it/s]\n",
            "562328 252206\n",
            "26644\n",
            "100% 26644/26644 [05:59<00:00, 74.10it/s] \n",
            "26644\n",
            "Top1 Answers: 0.6787269178801981\n",
            "Top3 Answers: 0.7662888455186909\n",
            "Top5 Answers: 0.787194114997748\n",
            "Top10 Answers: 0.8088124906170244\n",
            "Top20 Answers: 0.8237126557573938\n",
            "Top50 Answers: 0.83583546014112\n",
            "Top100 Answers: 0.8401140969824351\n"
          ]
        }
      ]
    },
    {
      "cell_type": "code",
      "source": [
        "!python3 /content/OpenQA/OpenQA_v2/src/evaluation.py valid 0 False"
      ],
      "metadata": {
        "id": "_4EgECMdjwfe",
        "outputId": "2ca8041e-1078-4c81-ab3e-7e2808b4314f",
        "colab": {
          "base_uri": "https://localhost:8080/"
        }
      },
      "execution_count": 13,
      "outputs": [
        {
          "output_type": "stream",
          "name": "stdout",
          "text": [
            "Combining Relations ... : 100% 407267/407267 [00:32<00:00, 12390.38it/s]\n",
            "562328 252206\n",
            "1752\n",
            "100% 1752/1752 [00:49<00:00, 35.38it/s]\n",
            "1752\n",
            "Top1 Answers: 0.4708904109589041\n",
            "Top3 Answers: 0.545662100456621\n",
            "Top5 Answers: 0.5702054794520548\n",
            "Top10 Answers: 0.5976027397260274\n",
            "Top20 Answers: 0.6244292237442922\n",
            "Top50 Answers: 0.6449771689497716\n",
            "Top100 Answers: 0.6552511415525114\n"
          ]
        }
      ]
    },
    {
      "cell_type": "code",
      "source": [
        "!python3 /content/OpenQA/OpenQA_v2/src/evaluation.py valid 0 True"
      ],
      "metadata": {
        "id": "GXNpIYCQGqF-",
        "outputId": "b9d2fe37-1a25-4baa-ebce-b52909043157",
        "colab": {
          "base_uri": "https://localhost:8080/"
        }
      },
      "execution_count": 14,
      "outputs": [
        {
          "output_type": "stream",
          "name": "stdout",
          "text": [
            "Combining Relations ... : 100% 407267/407267 [00:32<00:00, 12694.15it/s]\n",
            "562328 252206\n",
            "1752\n",
            "100% 1752/1752 [00:54<00:00, 31.95it/s]\n",
            "1752\n",
            "Top1 Answers: 0.632420091324201\n",
            "Top3 Answers: 0.660958904109589\n",
            "Top5 Answers: 0.66324200913242\n",
            "Top10 Answers: 0.66324200913242\n",
            "Top20 Answers: 0.66324200913242\n",
            "Top50 Answers: 0.66324200913242\n",
            "Top100 Answers: 0.66324200913242\n"
          ]
        }
      ]
    },
    {
      "cell_type": "code",
      "source": [
        "!python3 /content/OpenQA/OpenQA_v2/src/evaluation.py valid 1 False"
      ],
      "metadata": {
        "id": "JRV_Ak4Vj1ML",
        "outputId": "c4d2c911-fc16-401b-d918-3ec3608a4ee7",
        "colab": {
          "base_uri": "https://localhost:8080/"
        }
      },
      "execution_count": 15,
      "outputs": [
        {
          "output_type": "stream",
          "name": "stdout",
          "text": [
            "Combining Relations ... : 100% 407267/407267 [00:32<00:00, 12498.83it/s]\n",
            "562328 252206\n",
            "10820\n",
            "100% 10820/10820 [01:44<00:00, 103.83it/s]\n",
            "10820\n",
            "Top1 Answers: 0.7026802218114603\n",
            "Top3 Answers: 0.8042513863216266\n",
            "Top5 Answers: 0.8279112754158965\n",
            "Top10 Answers: 0.8509242144177449\n",
            "Top20 Answers: 0.8656192236598891\n",
            "Top50 Answers: 0.878003696857671\n",
            "Top100 Answers: 0.8837338262476895\n"
          ]
        }
      ]
    },
    {
      "cell_type": "code",
      "source": [
        "!python3 /content/OpenQA/OpenQA_v2/src/evaluation.py valid 1 True"
      ],
      "metadata": {
        "id": "cbGOPx0sGshz",
        "outputId": "b1f50408-2e26-4f55-8580-2edb1016a48c",
        "colab": {
          "base_uri": "https://localhost:8080/"
        }
      },
      "execution_count": 16,
      "outputs": [
        {
          "output_type": "stream",
          "name": "stdout",
          "text": [
            "Combining Relations ... : 100% 407267/407267 [00:31<00:00, 12746.20it/s]\n",
            "562328 252206\n",
            "10820\n",
            "100% 10820/10820 [01:44<00:00, 103.64it/s]\n",
            "10820\n",
            "Top1 Answers: 0.7\n",
            "Top3 Answers: 0.7975046210720887\n",
            "Top5 Answers: 0.8207948243992607\n",
            "Top10 Answers: 0.849445471349353\n",
            "Top20 Answers: 0.865988909426987\n",
            "Top50 Answers: 0.8804990757855823\n",
            "Top100 Answers: 0.8850277264325324\n"
          ]
        }
      ]
    },
    {
      "cell_type": "code",
      "source": [
        "!python3 /content/OpenQA/OpenQA_v2/src/evaluation.py valid 2 False"
      ],
      "metadata": {
        "id": "2Y_HVaoaj4nS",
        "outputId": "5c80ede0-fbec-4504-8d6d-fcbec72d81cd",
        "colab": {
          "base_uri": "https://localhost:8080/"
        }
      },
      "execution_count": 17,
      "outputs": [
        {
          "output_type": "stream",
          "name": "stdout",
          "text": [
            "Combining Relations ... : 100% 407267/407267 [00:33<00:00, 12300.79it/s]\n",
            "562328 252206\n",
            "12572\n",
            "100% 12572/12572 [02:35<00:00, 80.88it/s]\n",
            "12572\n",
            "Top1 Answers: 0.6745147947820553\n",
            "Top3 Answers: 0.7737034680241808\n",
            "Top5 Answers: 0.7981228125994273\n",
            "Top10 Answers: 0.8212694877505567\n",
            "Top20 Answers: 0.837098313713013\n",
            "Top50 Answers: 0.8507795100222717\n",
            "Top100 Answers: 0.8570633153038498\n"
          ]
        }
      ]
    },
    {
      "cell_type": "code",
      "source": [
        "!python3 /content/OpenQA/OpenQA_v2/src/evaluation.py valid 2 True"
      ],
      "metadata": {
        "id": "TndiOJzKGubE",
        "outputId": "87fcb8a5-d263-4ed9-9688-37c0247f85a9",
        "colab": {
          "base_uri": "https://localhost:8080/"
        }
      },
      "execution_count": 18,
      "outputs": [
        {
          "output_type": "stream",
          "name": "stdout",
          "text": [
            "Combining Relations ... : 100% 407267/407267 [00:32<00:00, 12539.71it/s]\n",
            "562328 252206\n",
            "12572\n",
            "100% 12572/12572 [02:39<00:00, 78.60it/s] \n",
            "12572\n",
            "Top1 Answers: 0.6905027044225263\n",
            "Top3 Answers: 0.7783964365256125\n",
            "Top5 Answers: 0.7986796054724785\n",
            "Top10 Answers: 0.8233375755647471\n",
            "Top20 Answers: 0.8374960229080496\n",
            "Top50 Answers: 0.8501431753102132\n",
            "Top100 Answers: 0.8541998090995864\n"
          ]
        }
      ]
    },
    {
      "cell_type": "code",
      "source": [
        "import pickle\n",
        "X = pickle.load(open('/content/OpenQA/OpenQA_v2/src/X_valid.pickle', 'rb'))\n",
        "y = pickle.load(open('/content/OpenQA/OpenQA_v2/src/y_valid.pickle', 'rb'))\n",
        "print(X.shape, y.shape)"
      ],
      "metadata": {
        "id": "xeBV1141Isyq",
        "outputId": "8ec0c7b3-9039-41bb-e82b-8d03cf8a69e4",
        "colab": {
          "base_uri": "https://localhost:8080/"
        }
      },
      "execution_count": null,
      "outputs": [
        {
          "output_type": "stream",
          "name": "stdout",
          "text": [
            "(117077, 3) (117077,)\n"
          ]
        }
      ]
    }
  ]
}