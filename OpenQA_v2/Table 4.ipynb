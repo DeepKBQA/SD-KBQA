{
  "nbformat": 4,
  "nbformat_minor": 0,
  "metadata": {
    "colab": {
      "name": "Evaluation.ipynb",
      "provenance": [],
      "include_colab_link": true
    },
    "kernelspec": {
      "name": "python3",
      "display_name": "Python 3"
    },
    "language_info": {
      "name": "python"
    }
  },
  "cells": [
    {
      "cell_type": "markdown",
      "metadata": {
        "id": "view-in-github",
        "colab_type": "text"
      },
      "source": [
        "<a href=\"https://colab.research.google.com/github/meti-94/OpenQA/blob/main/OpenQA_v2/Table%204.ipynb\" target=\"_parent\"><img src=\"https://colab.research.google.com/assets/colab-badge.svg\" alt=\"Open In Colab\"/></a>"
      ]
    },
    {
      "cell_type": "code",
      "source": [
        "!pip install transformers -q\n",
        "!pip install fuzzywuzzy -q\n",
        "!pip install python-Levenshtein -q\n",
        "!pip install pattern -q"
      ],
      "metadata": {
        "id": "R2r2rYmdAp-d",
        "outputId": "86087537-54e6-4314-c105-3ab584e8e2a1",
        "colab": {
          "base_uri": "https://localhost:8080/"
        }
      },
      "execution_count": 1,
      "outputs": [
        {
          "output_type": "stream",
          "name": "stdout",
          "text": [
            "\u001b[2K     \u001b[90m━━━━━━━━━━━━━━━━━━━━━━━━━━━━━━━━━━━━━━━━\u001b[0m \u001b[32m7.9/7.9 MB\u001b[0m \u001b[31m67.2 MB/s\u001b[0m eta \u001b[36m0:00:00\u001b[0m\n",
            "\u001b[2K     \u001b[90m━━━━━━━━━━━━━━━━━━━━━━━━━━━━━━━━━━━━━━━━\u001b[0m \u001b[32m311.2/311.2 kB\u001b[0m \u001b[31m40.7 MB/s\u001b[0m eta \u001b[36m0:00:00\u001b[0m\n",
            "\u001b[2K     \u001b[90m━━━━━━━━━━━━━━━━━━━━━━━━━━━━━━━━━━━━━━━━\u001b[0m \u001b[32m3.8/3.8 MB\u001b[0m \u001b[31m118.9 MB/s\u001b[0m eta \u001b[36m0:00:00\u001b[0m\n",
            "\u001b[2K     \u001b[90m━━━━━━━━━━━━━━━━━━━━━━━━━━━━━━━━━━━━━━━━\u001b[0m \u001b[32m1.3/1.3 MB\u001b[0m \u001b[31m95.7 MB/s\u001b[0m eta \u001b[36m0:00:00\u001b[0m\n",
            "\u001b[2K     \u001b[90m━━━━━━━━━━━━━━━━━━━━━━━━━━━━━━━━━━━━━━━━\u001b[0m \u001b[32m295.0/295.0 kB\u001b[0m \u001b[31m39.9 MB/s\u001b[0m eta \u001b[36m0:00:00\u001b[0m\n",
            "\u001b[2K     \u001b[90m━━━━━━━━━━━━━━━━━━━━━━━━━━━━━━━━━━━━━━━━\u001b[0m \u001b[32m169.4/169.4 kB\u001b[0m \u001b[31m7.3 MB/s\u001b[0m eta \u001b[36m0:00:00\u001b[0m\n",
            "\u001b[2K     \u001b[90m━━━━━━━━━━━━━━━━━━━━━━━━━━━━━━━━━━━━━━━━\u001b[0m \u001b[32m3.3/3.3 MB\u001b[0m \u001b[31m78.4 MB/s\u001b[0m eta \u001b[36m0:00:00\u001b[0m\n",
            "\u001b[2K     \u001b[90m━━━━━━━━━━━━━━━━━━━━━━━━━━━━━━━━━━━━━━━━\u001b[0m \u001b[32m22.2/22.2 MB\u001b[0m \u001b[31m76.3 MB/s\u001b[0m eta \u001b[36m0:00:00\u001b[0m\n",
            "\u001b[?25h  Preparing metadata (setup.py) ... \u001b[?25l\u001b[?25hdone\n",
            "\u001b[2K     \u001b[90m━━━━━━━━━━━━━━━━━━━━━━━━━━━━━━━━━━━━━━━━\u001b[0m \u001b[32m89.5/89.5 kB\u001b[0m \u001b[31m12.2 MB/s\u001b[0m eta \u001b[36m0:00:00\u001b[0m\n",
            "\u001b[?25h  Installing build dependencies ... \u001b[?25l\u001b[?25hdone\n",
            "  Getting requirements to build wheel ... \u001b[?25l\u001b[?25hdone\n",
            "  Installing backend dependencies ... \u001b[?25l\u001b[?25hdone\n",
            "  Preparing metadata (pyproject.toml) ... \u001b[?25l\u001b[?25hdone\n",
            "\u001b[2K     \u001b[90m━━━━━━━━━━━━━━━━━━━━━━━━━━━━━━━━━━━━━━━━\u001b[0m \u001b[32m81.1/81.1 kB\u001b[0m \u001b[31m13.4 MB/s\u001b[0m eta \u001b[36m0:00:00\u001b[0m\n",
            "\u001b[2K     \u001b[90m━━━━━━━━━━━━━━━━━━━━━━━━━━━━━━━━━━━━━━━━\u001b[0m \u001b[32m5.6/5.6 MB\u001b[0m \u001b[31m123.0 MB/s\u001b[0m eta \u001b[36m0:00:00\u001b[0m\n",
            "\u001b[2K     \u001b[90m━━━━━━━━━━━━━━━━━━━━━━━━━━━━━━━━━━━━━━━━\u001b[0m \u001b[32m239.6/239.6 kB\u001b[0m \u001b[31m32.7 MB/s\u001b[0m eta \u001b[36m0:00:00\u001b[0m\n",
            "\u001b[2K     \u001b[90m━━━━━━━━━━━━━━━━━━━━━━━━━━━━━━━━━━━━━━━━\u001b[0m \u001b[32m348.4/348.4 kB\u001b[0m \u001b[31m39.5 MB/s\u001b[0m eta \u001b[36m0:00:00\u001b[0m\n",
            "\u001b[2K     \u001b[90m━━━━━━━━━━━━━━━━━━━━━━━━━━━━━━━━━━━━━━━━\u001b[0m \u001b[32m101.6/101.6 kB\u001b[0m \u001b[31m15.7 MB/s\u001b[0m eta \u001b[36m0:00:00\u001b[0m\n",
            "\u001b[?25h  Preparing metadata (setup.py) ... \u001b[?25l\u001b[?25hdone\n",
            "  Building wheel for pattern (setup.py) ... \u001b[?25l\u001b[?25hdone\n",
            "  Building wheel for mysqlclient (pyproject.toml) ... \u001b[?25l\u001b[?25hdone\n",
            "  Building wheel for sgmllib3k (setup.py) ... \u001b[?25l\u001b[?25hdone\n"
          ]
        }
      ]
    },
    {
      "cell_type": "code",
      "source": [
        "from google.colab import drive\n",
        "drive.mount('/content/drive')"
      ],
      "metadata": {
        "id": "o8cKl1HUzbZp",
        "outputId": "b00073b1-7c9a-4fac-8587-2e5d388fa489",
        "colab": {
          "base_uri": "https://localhost:8080/"
        }
      },
      "execution_count": 2,
      "outputs": [
        {
          "output_type": "stream",
          "name": "stdout",
          "text": [
            "Mounted at /content/drive\n"
          ]
        }
      ]
    },
    {
      "cell_type": "code",
      "source": [
        "!git clone https://github.com/meti-94/OpenQA.git"
      ],
      "metadata": {
        "id": "NNk4Ixzk-0TW",
        "outputId": "3c94cc51-dd54-4403-faf6-c4f8d2cea702",
        "colab": {
          "base_uri": "https://localhost:8080/"
        }
      },
      "execution_count": 3,
      "outputs": [
        {
          "output_type": "stream",
          "name": "stdout",
          "text": [
            "Cloning into 'OpenQA'...\n",
            "remote: Enumerating objects: 361, done.\u001b[K\n",
            "remote: Counting objects: 100% (124/124), done.\u001b[K\n",
            "remote: Compressing objects: 100% (93/93), done.\u001b[K\n",
            "remote: Total 361 (delta 77), reused 57 (delta 28), pack-reused 237\u001b[K\n",
            "Receiving objects: 100% (361/361), 102.68 MiB | 48.88 MiB/s, done.\n",
            "Resolving deltas: 100% (180/180), done.\n"
          ]
        }
      ]
    },
    {
      "cell_type": "code",
      "source": [
        "!python3 /content/OpenQA/OpenQA_v2/src/evaluation.py test 0"
      ],
      "metadata": {
        "id": "tjkGvdMkELYq",
        "outputId": "84cf5d6b-f644-4ebf-bdb8-20e2d2787860",
        "colab": {
          "base_uri": "https://localhost:8080/"
        }
      },
      "execution_count": 21,
      "outputs": [
        {
          "output_type": "stream",
          "name": "stdout",
          "text": [
            "Combining Relations ... : 100% 407267/407267 [00:23<00:00, 17540.11it/s]\n",
            "5004\n",
            "100% 5004/5004 [00:02<00:00, 1721.69it/s]\n",
            "Top1 Answers: 0.5881294964028777\n",
            "Top3 Answers: 0.6494804156674661\n",
            "Top5 Answers: 0.6622701838529177\n",
            "Top10 Answers: 0.6698641087130296\n",
            "Top20 Answers: 0.676458832933653\n",
            "Top50 Answers: 0.6794564348521183\n",
            "Top100 Answers: 0.6812549960031974\n"
          ]
        }
      ]
    },
    {
      "cell_type": "code",
      "source": [
        "!python3 /content/OpenQA/OpenQA_v2/src/evaluation.py test 1"
      ],
      "metadata": {
        "id": "6zXWwju5Gm3-",
        "outputId": "14166c4b-d45b-4dd8-c046-e385f5a4d05e",
        "colab": {
          "base_uri": "https://localhost:8080/"
        }
      },
      "execution_count": 22,
      "outputs": [
        {
          "output_type": "stream",
          "name": "stdout",
          "text": [
            "Combining Relations ... : 100% 407267/407267 [00:19<00:00, 21290.05it/s]\n",
            "21644\n",
            "100% 21644/21644 [00:14<00:00, 1501.16it/s]\n",
            "Top1 Answers: 0.46825910182960634\n",
            "Top3 Answers: 0.5145536869340233\n",
            "Top5 Answers: 0.5219922380336351\n",
            "Top10 Answers: 0.5273516909998152\n",
            "Top20 Answers: 0.530770652374792\n",
            "Top50 Answers: 0.5334041766771391\n",
            "Top100 Answers: 0.5346054333764554\n"
          ]
        }
      ]
    },
    {
      "cell_type": "code",
      "source": [
        "!python3 /content/OpenQA/OpenQA_v2/src/evaluation.py test 2"
      ],
      "metadata": {
        "id": "rQbkiIarGoMa",
        "outputId": "f2b20b90-4867-4193-f1fd-7cb00f05c1a2",
        "colab": {
          "base_uri": "https://localhost:8080/"
        }
      },
      "execution_count": 23,
      "outputs": [
        {
          "output_type": "stream",
          "name": "stdout",
          "text": [
            "Combining Relations ... : 100% 407267/407267 [00:21<00:00, 19060.03it/s]\n",
            "26648\n",
            "100% 26648/26648 [00:17<00:00, 1534.58it/s]\n",
            "Top1 Answers: 0.4907685379765836\n",
            "Top3 Answers: 0.5398904232963074\n",
            "Top5 Answers: 0.5483338336835785\n",
            "Top10 Answers: 0.5541128790153107\n",
            "Top20 Answers: 0.558128189732813\n",
            "Top50 Answers: 0.5608300810567397\n",
            "Top100 Answers: 0.5621435004503152\n"
          ]
        }
      ]
    },
    {
      "cell_type": "code",
      "source": [
        "!python3 /content/OpenQA/OpenQA_v2/src/evaluation.py valid 0"
      ],
      "metadata": {
        "id": "GXNpIYCQGqF-",
        "outputId": "12684828-f062-4db6-eb66-823478db00d9",
        "colab": {
          "base_uri": "https://localhost:8080/"
        }
      },
      "execution_count": 24,
      "outputs": [
        {
          "output_type": "stream",
          "name": "stdout",
          "text": [
            "Combining Relations ... : 100% 407267/407267 [00:19<00:00, 20593.62it/s]\n",
            "1752\n",
            "100% 1752/1752 [00:00<00:00, 1858.95it/s]\n",
            "Top1 Answers: 0.6118721461187214\n",
            "Top3 Answers: 0.6678082191780822\n",
            "Top5 Answers: 0.6775114155251142\n",
            "Top10 Answers: 0.6860730593607306\n",
            "Top20 Answers: 0.6877853881278538\n",
            "Top50 Answers: 0.692351598173516\n",
            "Top100 Answers: 0.6940639269406392\n"
          ]
        }
      ]
    },
    {
      "cell_type": "code",
      "source": [
        "!python3 /content/OpenQA/OpenQA_v2/src/evaluation.py valid 1"
      ],
      "metadata": {
        "id": "cbGOPx0sGshz",
        "outputId": "7e723eff-a4a9-4227-ea40-b1abde51a68f",
        "colab": {
          "base_uri": "https://localhost:8080/"
        }
      },
      "execution_count": 25,
      "outputs": [
        {
          "output_type": "stream",
          "name": "stdout",
          "text": [
            "Combining Relations ... : 100% 407267/407267 [00:19<00:00, 20528.92it/s]\n",
            "10820\n",
            "100% 10820/10820 [00:08<00:00, 1329.90it/s]\n",
            "Top1 Answers: 0.5202402957486136\n",
            "Top3 Answers: 0.566913123844732\n",
            "Top5 Answers: 0.5757855822550831\n",
            "Top10 Answers: 0.5819778188539741\n",
            "Top20 Answers: 0.5841035120147874\n",
            "Top50 Answers: 0.5872458410351201\n",
            "Top100 Answers: 0.5880776340110906\n"
          ]
        }
      ]
    },
    {
      "cell_type": "code",
      "source": [
        "!python3 /content/OpenQA/OpenQA_v2/src/evaluation.py valid 2"
      ],
      "metadata": {
        "id": "TndiOJzKGubE",
        "outputId": "e21cc596-d94a-4427-d554-1ce0b3701453",
        "colab": {
          "base_uri": "https://localhost:8080/"
        }
      },
      "execution_count": 26,
      "outputs": [
        {
          "output_type": "stream",
          "name": "stdout",
          "text": [
            "Combining Relations ... : 100% 407267/407267 [00:21<00:00, 18684.47it/s]\n",
            "12572\n",
            "100% 12572/12572 [00:07<00:00, 1747.01it/s]\n",
            "Top1 Answers: 0.5330098631880369\n",
            "Top3 Answers: 0.5809735921094495\n",
            "Top5 Answers: 0.5899618199172765\n",
            "Top10 Answers: 0.5964842507158765\n",
            "Top20 Answers: 0.5985523385300668\n",
            "Top50 Answers: 0.6018930957683741\n",
            "Top100 Answers: 0.602847597836462\n"
          ]
        }
      ]
    },
    {
      "cell_type": "code",
      "source": [
        "import pickle\n",
        "X = pickle.load(open('/content/OpenQA/OpenQA_v2/src/X_valid.pickle', 'rb'))\n",
        "y = pickle.load(open('/content/OpenQA/OpenQA_v2/src/y_valid.pickle', 'rb'))\n",
        "print(X.shape, y.shape)"
      ],
      "metadata": {
        "id": "xeBV1141Isyq",
        "outputId": "8ec0c7b3-9039-41bb-e82b-8d03cf8a69e4",
        "colab": {
          "base_uri": "https://localhost:8080/"
        }
      },
      "execution_count": 27,
      "outputs": [
        {
          "output_type": "stream",
          "name": "stdout",
          "text": [
            "(117077, 3) (117077,)\n"
          ]
        }
      ]
    }
  ]
}