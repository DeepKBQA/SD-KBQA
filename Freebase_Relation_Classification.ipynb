{
  "nbformat": 4,
  "nbformat_minor": 0,
  "metadata": {
    "accelerator": "GPU",
    "colab": {
      "name": "relation classification with bert.ipynb",
      "provenance": [],
      "collapsed_sections": [],
      "include_colab_link": true
    },
    "kernelspec": {
      "display_name": "Python 3",
      "language": "python",
      "name": "python3"
    },
    "language_info": {
      "codemirror_mode": {
        "name": "ipython",
        "version": 3
      },
      "file_extension": ".py",
      "mimetype": "text/x-python",
      "name": "python",
      "nbconvert_exporter": "python",
      "pygments_lexer": "ipython3",
      "version": "3.8.5"
    }
  },
  "cells": [
    {
      "cell_type": "markdown",
      "metadata": {
        "id": "view-in-github",
        "colab_type": "text"
      },
      "source": [
        "<a href=\"https://colab.research.google.com/github/meti-94/OpenQA/blob/main/Freebase_Relation_Classification.ipynb\" target=\"_parent\"><img src=\"https://colab.research.google.com/assets/colab-badge.svg\" alt=\"Open In Colab\"/></a>"
      ]
    },
    {
      "cell_type": "markdown",
      "metadata": {
        "id": "sm0OUUPrAy3g"
      },
      "source": [
        "# Install necessary libraries "
      ]
    },
    {
      "cell_type": "code",
      "metadata": {
        "colab": {
          "base_uri": "https://localhost:8080/"
        },
        "id": "DMMRrGNbP6To",
        "outputId": "f16c7000-2c99-490b-992c-ec28437d28a2"
      },
      "source": [
        "# Install main transformers library\n",
        "!pip install transformers -q\n",
        "!rm -rf OpenQA/\n",
        "!git clone https://github.com/meti-94/OpenQA.git"
      ],
      "execution_count": 1,
      "outputs": [
        {
          "output_type": "stream",
          "name": "stdout",
          "text": [
            "Cloning into 'OpenQA'...\n",
            "remote: Enumerating objects: 231, done.\u001b[K\n",
            "remote: Counting objects: 100% (231/231), done.\u001b[K\n",
            "remote: Compressing objects: 100% (195/195), done.\u001b[K\n",
            "remote: Total 231 (delta 95), reused 130 (delta 29), pack-reused 0\u001b[K\n",
            "Receiving objects: 100% (231/231), 102.61 MiB | 33.97 MiB/s, done.\n",
            "Resolving deltas: 100% (95/95), done.\n"
          ]
        }
      ]
    },
    {
      "cell_type": "markdown",
      "metadata": {
        "id": "cZFW1VzuAy3n"
      },
      "source": [
        "# Import libraries"
      ]
    },
    {
      "cell_type": "code",
      "metadata": {
        "id": "r4a17qE5Ay3n"
      },
      "source": [
        "import pandas as pd \n",
        "from sklearn.model_selection import train_test_split\n",
        "from transformers import AutoConfig, AutoTokenizer, AutoModel, BertForSequenceClassification\n",
        "from sklearn.metrics import classification_report\n",
        "from sklearn import preprocessing"
      ],
      "execution_count": 2,
      "outputs": []
    },
    {
      "cell_type": "markdown",
      "metadata": {
        "id": "tNtAoP-yAy3o"
      },
      "source": [
        "# load up data to classifiy\n",
        "\n",
        "The data comes from famous BBQA processed data after running relative scripts "
      ]
    },
    {
      "cell_type": "code",
      "source": [
        "!pip install --upgrade openpyxl -q "
      ],
      "metadata": {
        "id": "4XT6O4bH3SN0"
      },
      "execution_count": 3,
      "outputs": []
    },
    {
      "cell_type": "code",
      "metadata": {
        "id": "CvJxruh4QMjW"
      },
      "source": [
        "## loading data\n",
        "## X --> Texts\n",
        "## y --> Labels\n",
        "le = preprocessing.LabelEncoder()\n",
        "df_train = pd.read_excel('/content/OpenQA/data/freebase/train_useful_records.xlsx')\n",
        "df_valid = pd.read_excel('/content/OpenQA/data/freebase/valid_useful_records.xlsx')\n",
        "df_test = pd.read_excel('/content/OpenQA/data/freebase/test_useful_records.xlsx')\n",
        "le.fit(df_train.relation_type.to_list()+df_valid.relation_type.to_list()+df_test.relation_type.to_list())\n",
        "df_train['label'] = le.transform(df_train.relation_type.to_list())\n",
        "df_valid['label'] = le.transform(df_valid.relation_type.to_list())\n",
        "df_test['label'] = le.transform(df_test.relation_type.to_list())"
      ],
      "execution_count": 4,
      "outputs": []
    },
    {
      "cell_type": "markdown",
      "source": [
        "Seeing what we gonna work with ..."
      ],
      "metadata": {
        "id": "Px18ZDKVNGe5"
      }
    },
    {
      "cell_type": "code",
      "metadata": {
        "id": "uTJRvj1BgHBo",
        "colab": {
          "base_uri": "https://localhost:8080/",
          "height": 652
        },
        "outputId": "241f5870-fed2-4192-8236-3a612745790b"
      },
      "source": [
        "df_train.head()"
      ],
      "execution_count": 5,
      "outputs": [
        {
          "output_type": "execute_result",
          "data": {
            "text/html": [
              "\n",
              "  <div id=\"df-55b92a43-faed-49c0-ac0b-c987be9296c9\">\n",
              "    <div class=\"colab-df-container\">\n",
              "      <div>\n",
              "<style scoped>\n",
              "    .dataframe tbody tr th:only-of-type {\n",
              "        vertical-align: middle;\n",
              "    }\n",
              "\n",
              "    .dataframe tbody tr th {\n",
              "        vertical-align: top;\n",
              "    }\n",
              "\n",
              "    .dataframe thead th {\n",
              "        text-align: right;\n",
              "    }\n",
              "</style>\n",
              "<table border=\"1\" class=\"dataframe\">\n",
              "  <thead>\n",
              "    <tr style=\"text-align: right;\">\n",
              "      <th></th>\n",
              "      <th>Unnamed: 0</th>\n",
              "      <th>Unnamed: 0.1</th>\n",
              "      <th>token_matrix</th>\n",
              "      <th>Question</th>\n",
              "      <th>tokenized_question</th>\n",
              "      <th>Answer</th>\n",
              "      <th>first_entity_ids</th>\n",
              "      <th>second_entity_ids</th>\n",
              "      <th>relation_type</th>\n",
              "      <th>entity</th>\n",
              "      <th>answer_mid</th>\n",
              "      <th>relation_span</th>\n",
              "      <th>label</th>\n",
              "    </tr>\n",
              "  </thead>\n",
              "  <tbody>\n",
              "    <tr>\n",
              "      <th>0</th>\n",
              "      <td>0</td>\n",
              "      <td>0</td>\n",
              "      <td>[101, 2054, 2003, 1996, 2338, 1041, 2055, 102]</td>\n",
              "      <td>what is the book e about</td>\n",
              "      <td>['[CLS]', 'e', '[SEP]']</td>\n",
              "      <td>fb:m.04whkz5</td>\n",
              "      <td>[101, 1041, 102]</td>\n",
              "      <td>[101, 102]</td>\n",
              "      <td>fb:book.written_work.subjects</td>\n",
              "      <td>e</td>\n",
              "      <td>fb:m.04whkz5</td>\n",
              "      <td>[0, 0, 1, 1, 1, 0, 1, 0, 0, 0, 0, 0, 0, 0, 0, ...</td>\n",
              "      <td>642</td>\n",
              "    </tr>\n",
              "    <tr>\n",
              "      <th>1</th>\n",
              "      <td>1</td>\n",
              "      <td>1</td>\n",
              "      <td>[101, 2000, 2054, 2713, 2515, 1996, 2713, 2650...</td>\n",
              "      <td>to what release does the release track cardiac...</td>\n",
              "      <td>['[CLS]', 'cardiac', 'arrest', '[SEP]']</td>\n",
              "      <td>fb:m.0tp2p24</td>\n",
              "      <td>[101, 15050, 6545, 102]</td>\n",
              "      <td>[101, 102]</td>\n",
              "      <td>fb:music.release_track.release</td>\n",
              "      <td>cardiac arrest</td>\n",
              "      <td>fb:m.0tp2p24</td>\n",
              "      <td>[0, 1, 0, 1, 1, 1, 1, 1, 0, 0, 1, 1, 0, 0, 0, ...</td>\n",
              "      <td>1391</td>\n",
              "    </tr>\n",
              "    <tr>\n",
              "      <th>2</th>\n",
              "      <td>2</td>\n",
              "      <td>2</td>\n",
              "      <td>[101, 2054, 2406, 2001, 1996, 2143, 1996, 7016...</td>\n",
              "      <td>what country was the film the debt from</td>\n",
              "      <td>['[CLS]', 'the', 'debt', '[SEP]']</td>\n",
              "      <td>fb:m.04j0t75</td>\n",
              "      <td>[101, 1996, 7016, 102]</td>\n",
              "      <td>[101, 102]</td>\n",
              "      <td>fb:film.film.country</td>\n",
              "      <td>the debt</td>\n",
              "      <td>fb:m.04j0t75</td>\n",
              "      <td>[0, 0, 1, 1, 1, 1, 1, 0, 1, 0, 0, 0, 0, 0, 0, ...</td>\n",
              "      <td>957</td>\n",
              "    </tr>\n",
              "    <tr>\n",
              "      <th>3</th>\n",
              "      <td>3</td>\n",
              "      <td>3</td>\n",
              "      <td>[101, 2054, 2774, 2031, 2053, 8569, 2080, 1057...</td>\n",
              "      <td>what songs have nobuo uematsu produced ?</td>\n",
              "      <td>['[CLS]', 'no', '##bu', '##o', 'u', '##ema', '...</td>\n",
              "      <td>fb:m.0ftqr</td>\n",
              "      <td>[101, 2053, 8569, 2080, 1057, 14545, 10422, 102]</td>\n",
              "      <td>[101, 102]</td>\n",
              "      <td>fb:music.producer.tracks_produced</td>\n",
              "      <td>nobuo uematsu</td>\n",
              "      <td>fb:m.0ftqr</td>\n",
              "      <td>[0, 0, 1, 1, 0, 0, 0, 0, 0, 0, 1, 1, 0, 0, 0, ...</td>\n",
              "      <td>1371</td>\n",
              "    </tr>\n",
              "    <tr>\n",
              "      <th>4</th>\n",
              "      <td>4</td>\n",
              "      <td>4</td>\n",
              "      <td>[101, 2040, 2550, 6574, 1011, 19330, 13700, 10...</td>\n",
              "      <td>who produced eve-olution ?</td>\n",
              "      <td>['[CLS]', 'eve', '-', 'ol', '##ution', '[SEP]']</td>\n",
              "      <td>fb:m.036p007</td>\n",
              "      <td>[101, 6574, 1011, 19330, 13700, 102]</td>\n",
              "      <td>[101, 102]</td>\n",
              "      <td>fb:music.release.producers</td>\n",
              "      <td>eve-olution</td>\n",
              "      <td>fb:m.036p007</td>\n",
              "      <td>[0, 0, 1, 0, 0, 0, 0, 1, 0, 0, 0, 0, 0, 0, 0, ...</td>\n",
              "      <td>1386</td>\n",
              "    </tr>\n",
              "  </tbody>\n",
              "</table>\n",
              "</div>\n",
              "      <button class=\"colab-df-convert\" onclick=\"convertToInteractive('df-55b92a43-faed-49c0-ac0b-c987be9296c9')\"\n",
              "              title=\"Convert this dataframe to an interactive table.\"\n",
              "              style=\"display:none;\">\n",
              "        \n",
              "  <svg xmlns=\"http://www.w3.org/2000/svg\" height=\"24px\"viewBox=\"0 0 24 24\"\n",
              "       width=\"24px\">\n",
              "    <path d=\"M0 0h24v24H0V0z\" fill=\"none\"/>\n",
              "    <path d=\"M18.56 5.44l.94 2.06.94-2.06 2.06-.94-2.06-.94-.94-2.06-.94 2.06-2.06.94zm-11 1L8.5 8.5l.94-2.06 2.06-.94-2.06-.94L8.5 2.5l-.94 2.06-2.06.94zm10 10l.94 2.06.94-2.06 2.06-.94-2.06-.94-.94-2.06-.94 2.06-2.06.94z\"/><path d=\"M17.41 7.96l-1.37-1.37c-.4-.4-.92-.59-1.43-.59-.52 0-1.04.2-1.43.59L10.3 9.45l-7.72 7.72c-.78.78-.78 2.05 0 2.83L4 21.41c.39.39.9.59 1.41.59.51 0 1.02-.2 1.41-.59l7.78-7.78 2.81-2.81c.8-.78.8-2.07 0-2.86zM5.41 20L4 18.59l7.72-7.72 1.47 1.35L5.41 20z\"/>\n",
              "  </svg>\n",
              "      </button>\n",
              "      \n",
              "  <style>\n",
              "    .colab-df-container {\n",
              "      display:flex;\n",
              "      flex-wrap:wrap;\n",
              "      gap: 12px;\n",
              "    }\n",
              "\n",
              "    .colab-df-convert {\n",
              "      background-color: #E8F0FE;\n",
              "      border: none;\n",
              "      border-radius: 50%;\n",
              "      cursor: pointer;\n",
              "      display: none;\n",
              "      fill: #1967D2;\n",
              "      height: 32px;\n",
              "      padding: 0 0 0 0;\n",
              "      width: 32px;\n",
              "    }\n",
              "\n",
              "    .colab-df-convert:hover {\n",
              "      background-color: #E2EBFA;\n",
              "      box-shadow: 0px 1px 2px rgba(60, 64, 67, 0.3), 0px 1px 3px 1px rgba(60, 64, 67, 0.15);\n",
              "      fill: #174EA6;\n",
              "    }\n",
              "\n",
              "    [theme=dark] .colab-df-convert {\n",
              "      background-color: #3B4455;\n",
              "      fill: #D2E3FC;\n",
              "    }\n",
              "\n",
              "    [theme=dark] .colab-df-convert:hover {\n",
              "      background-color: #434B5C;\n",
              "      box-shadow: 0px 1px 3px 1px rgba(0, 0, 0, 0.15);\n",
              "      filter: drop-shadow(0px 1px 2px rgba(0, 0, 0, 0.3));\n",
              "      fill: #FFFFFF;\n",
              "    }\n",
              "  </style>\n",
              "\n",
              "      <script>\n",
              "        const buttonEl =\n",
              "          document.querySelector('#df-55b92a43-faed-49c0-ac0b-c987be9296c9 button.colab-df-convert');\n",
              "        buttonEl.style.display =\n",
              "          google.colab.kernel.accessAllowed ? 'block' : 'none';\n",
              "\n",
              "        async function convertToInteractive(key) {\n",
              "          const element = document.querySelector('#df-55b92a43-faed-49c0-ac0b-c987be9296c9');\n",
              "          const dataTable =\n",
              "            await google.colab.kernel.invokeFunction('convertToInteractive',\n",
              "                                                     [key], {});\n",
              "          if (!dataTable) return;\n",
              "\n",
              "          const docLinkHtml = 'Like what you see? Visit the ' +\n",
              "            '<a target=\"_blank\" href=https://colab.research.google.com/notebooks/data_table.ipynb>data table notebook</a>'\n",
              "            + ' to learn more about interactive tables.';\n",
              "          element.innerHTML = '';\n",
              "          dataTable['output_type'] = 'display_data';\n",
              "          await google.colab.output.renderOutput(dataTable, element);\n",
              "          const docLink = document.createElement('div');\n",
              "          docLink.innerHTML = docLinkHtml;\n",
              "          element.appendChild(docLink);\n",
              "        }\n",
              "      </script>\n",
              "    </div>\n",
              "  </div>\n",
              "  "
            ],
            "text/plain": [
              "   Unnamed: 0  ...  label\n",
              "0           0  ...    642\n",
              "1           1  ...   1391\n",
              "2           2  ...    957\n",
              "3           3  ...   1371\n",
              "4           4  ...   1386\n",
              "\n",
              "[5 rows x 13 columns]"
            ]
          },
          "metadata": {},
          "execution_count": 5
        }
      ]
    },
    {
      "cell_type": "markdown",
      "metadata": {
        "id": "raaid7wLAy3p"
      },
      "source": [
        "# Loading BERT model and tokenizer model\n",
        "\n",
        "Loading the Standard 12L Bert model "
      ]
    },
    {
      "cell_type": "code",
      "metadata": {
        "id": "9EB3J3PxQt96"
      },
      "source": [
        "\n",
        "# v1.0\n",
        "# config = AutoConfig.from_pretrained(\"prajjwal1/bert-tiny\")\n",
        "# tokenizer = AutoTokenizer.from_pretrained(\"prajjwal1/bert-tiny\")\n",
        "# model = BertForSequenceClassification.from_pretrained(\"prajjwal1/bert-tiny\", num_labels=len(le.classes_))\n",
        "config = AutoConfig.from_pretrained(\"bert-base-uncased\")\n",
        "tokenizer = AutoTokenizer.from_pretrained(\"bert-base-uncased\")\n",
        "model = BertForSequenceClassification.from_pretrained(\"/content/drive/MyDrive/data_freebase/classifier\", num_labels=len(le.classes_))\n"
      ],
      "execution_count": 10,
      "outputs": []
    },
    {
      "cell_type": "markdown",
      "metadata": {
        "id": "6ewsQgLOAy3p"
      },
      "source": [
        "# Creating dataset and dataloader for X-y\n",
        "\n",
        "converting raw data into conventional PyTorch Dataset class"
      ]
    },
    {
      "cell_type": "code",
      "metadata": {
        "id": "znOzcSiLSDK-"
      },
      "source": [
        "train_encodings = tokenizer(df_train.Question.to_list(), truncation=True, padding=True, max_length=200)\n",
        "val_encodings = tokenizer(df_valid.Question.to_list(), truncation=True, padding=True, max_length=200)"
      ],
      "execution_count": 11,
      "outputs": []
    },
    {
      "cell_type": "code",
      "metadata": {
        "id": "Xo1ksODuTM0T"
      },
      "source": [
        "# convert raw text file to proper dataset object (based on task)\n",
        "import torch\n",
        "\n",
        "class ClassificationDataset(torch.utils.data.Dataset):\n",
        "    def __init__(self, encodings, labels):\n",
        "        # initialization\n",
        "        self.encodings = encodings\n",
        "        self.labels = labels\n",
        "\n",
        "    def __getitem__(self, idx):\n",
        "        # slicing method X[index]\n",
        "        item = {key: torch.tensor(val[idx]) for key, val in self.encodings.items()}\n",
        "        item['labels'] = torch.tensor(self.labels[idx])\n",
        "        return item\n",
        "\n",
        "    def __len__(self):\n",
        "        return len(self.labels)\n",
        "\n",
        "train_dataset = ClassificationDataset(train_encodings, df_train.label.to_list())\n",
        "valid_dataset = ClassificationDataset(val_encodings, df_valid.label.to_list())"
      ],
      "execution_count": 12,
      "outputs": []
    },
    {
      "cell_type": "markdown",
      "source": [
        "Performing training for 5 epochs (definitely further fine-tuning would result in better classifier). The model should be stored somewhere for using RelationDetection script for creating relation candidates. "
      ],
      "metadata": {
        "id": "nE_lKhu1NjeS"
      }
    },
    {
      "cell_type": "code",
      "metadata": {
        "id": "EARF3O8ZTQrD"
      },
      "source": [
        "# transformers API for train :)\n",
        "from transformers import DistilBertForSequenceClassification, Trainer, TrainingArguments\n",
        "\n",
        "training_args = TrainingArguments(\n",
        "    output_dir='./results',          # output directory\n",
        "    num_train_epochs=5,              # total number of training epochs\n",
        "    per_device_train_batch_size=128,  # batch size per device during training\n",
        "    per_device_eval_batch_size=128,   # batch size for evaluation\n",
        "    # warmup_steps=500,                # number of warmup steps for learning rate scheduler\n",
        "    # weight_decay=0.01,               # strength of weight decay\n",
        "    learning_rate= 1e-4,\n",
        "    adam_epsilon = 1e-8, \n",
        "    logging_dir='./logs',            # directory for storing logs\n",
        "    # logging_steps=10,\n",
        "    do_eval=True,\n",
        "    evaluation_strategy = 'epoch'\n",
        "    \n",
        "    \n",
        ")\n",
        "# training_args.evaluation_strategy = EvaluationStrategy.EPOCH\n",
        "trainer = Trainer(\n",
        "    model=model,                         # the instantiated 🤗 Transformers model to be trained\n",
        "    args=training_args,                  # training arguments, defined above\n",
        "    train_dataset=train_dataset,         # training dataset\n",
        "    eval_dataset=valid_dataset,          # evaluation dataset\n",
        "\n",
        ")\n",
        "\n",
        "# trainer.train()"
      ],
      "execution_count": 13,
      "outputs": []
    },
    {
      "cell_type": "markdown",
      "source": [
        "# Evaluating the Model "
      ],
      "metadata": {
        "id": "yA7TKi5oQCQi"
      }
    },
    {
      "cell_type": "code",
      "metadata": {
        "id": "8q3ct2ZOTTn6"
      },
      "source": [
        "# reading Test Data\n",
        "test_encodings = tokenizer(df_test.Question.to_list(), truncation=True, padding=True, max_length=200)\n",
        "test_dataset = ClassificationDataset(test_encodings, df_test.label.to_list())"
      ],
      "execution_count": 14,
      "outputs": []
    },
    {
      "cell_type": "markdown",
      "metadata": {
        "id": "YhZw1_s_Ay3u"
      },
      "source": [
        "Predicting on test set"
      ]
    },
    {
      "cell_type": "code",
      "metadata": {
        "id": "8ZMyfELkTaGE",
        "colab": {
          "base_uri": "https://localhost:8080/",
          "height": 93
        },
        "outputId": "6e1604cd-f625-4eab-d147-0626a0d54fb5"
      },
      "source": [
        "pred = trainer.predict(test_dataset)"
      ],
      "execution_count": 28,
      "outputs": [
        {
          "output_type": "stream",
          "name": "stderr",
          "text": [
            "***** Running Prediction *****\n",
            "  Num examples = 21619\n",
            "  Batch size = 128\n"
          ]
        },
        {
          "output_type": "display_data",
          "data": {
            "text/html": [
              "\n",
              "    <div>\n",
              "      \n",
              "      <progress value='423' max='169' style='width:300px; height:20px; vertical-align: middle;'></progress>\n",
              "      [169/169 13:39]\n",
              "    </div>\n",
              "    "
            ],
            "text/plain": [
              "<IPython.core.display.HTML object>"
            ]
          },
          "metadata": {}
        }
      ]
    },
    {
      "cell_type": "markdown",
      "metadata": {
        "id": "hify8lYrAy3u"
      },
      "source": [
        "Accuracy"
      ]
    },
    {
      "cell_type": "code",
      "metadata": {
        "id": "K68Y8vK5BDGg",
        "colab": {
          "base_uri": "https://localhost:8080/"
        },
        "outputId": "7b7f9986-b4c7-48c6-b237-a3bcaaba527c"
      },
      "source": [
        "pred.predictions.argmax(-1)[:10]\n",
        "pred.label_ids"
      ],
      "execution_count": 29,
      "outputs": [
        {
          "output_type": "execute_result",
          "data": {
            "text/plain": [
              "array([1318, 1320, 1449, ...,   58,  971, 1447])"
            ]
          },
          "metadata": {},
          "execution_count": 29
        }
      ]
    },
    {
      "cell_type": "code",
      "metadata": {
        "colab": {
          "base_uri": "https://localhost:8080/"
        },
        "id": "OGblCMOZT_qO",
        "outputId": "f1885bc9-4b84-43a8-899b-fb2302025b0b"
      },
      "source": [
        "from sklearn.metrics import f1_score, accuracy_score, recall_score, precision_score, f1_score\n",
        "\n",
        "print('Micro Precision', precision_score(pred.label_ids, pred.predictions.argmax(-1), average='micro'))\n",
        "print('Micro Recall', recall_score(pred.label_ids, pred.predictions.argmax(-1), average='micro'))\n",
        "print('Micro F1 score', f1_score(pred.label_ids, pred.predictions.argmax(-1), average='micro'))\n",
        "print('Macro Precision', precision_score(pred.label_ids, pred.predictions.argmax(-1), average='macro'))\n",
        "print('Macro Recall', recall_score(pred.label_ids, pred.predictions.argmax(-1), average='macro'))\n",
        "print('Macro F1 score', f1_score(pred.label_ids, pred.predictions.argmax(-1), average='macro'))\n",
        "print('Accuracy', accuracy_score(pred.label_ids, pred.predictions.argmax(-1)))\n"
      ],
      "execution_count": 30,
      "outputs": [
        {
          "output_type": "stream",
          "name": "stdout",
          "text": [
            "Micro Precision 0.824922521855775\n",
            "Micro Recall 0.824922521855775\n",
            "Micro F1 score 0.824922521855775\n",
            "Macro Precision 0.37099581877790233\n",
            "Macro Recall 0.39488840388214586\n",
            "Macro F1 score 0.3681853770777389\n",
            "Accuracy 0.824922521855775\n"
          ]
        },
        {
          "output_type": "stream",
          "name": "stderr",
          "text": [
            "/usr/local/lib/python3.7/dist-packages/sklearn/metrics/_classification.py:1318: UndefinedMetricWarning: Precision is ill-defined and being set to 0.0 in labels with no predicted samples. Use `zero_division` parameter to control this behavior.\n",
            "  _warn_prf(average, modifier, msg_start, len(result))\n",
            "/usr/local/lib/python3.7/dist-packages/sklearn/metrics/_classification.py:1318: UndefinedMetricWarning: Recall is ill-defined and being set to 0.0 in labels with no true samples. Use `zero_division` parameter to control this behavior.\n",
            "  _warn_prf(average, modifier, msg_start, len(result))\n"
          ]
        }
      ]
    },
    {
      "cell_type": "markdown",
      "source": [
        "Saving the model (uncommenting below line would overwrite the existing model)"
      ],
      "metadata": {
        "id": "GwM1XBgLQOyC"
      }
    },
    {
      "cell_type": "code",
      "metadata": {
        "id": "I5mWo3SIXrGG",
        "outputId": "8404a301-47c7-40fa-d445-c1eddeca57eb",
        "colab": {
          "base_uri": "https://localhost:8080/"
        }
      },
      "source": [
        "# trainer.save_model(\"/content/drive/MyDrive/data_freebase/classifier\")"
      ],
      "execution_count": null,
      "outputs": [
        {
          "output_type": "stream",
          "name": "stderr",
          "text": [
            "Saving model checkpoint to /content/drive/MyDrive/data_freebase/classifier\n",
            "Configuration saved in /content/drive/MyDrive/data_freebase/classifier/config.json\n",
            "Model weights saved in /content/drive/MyDrive/data_freebase/classifier/pytorch_model.bin\n"
          ]
        }
      ]
    },
    {
      "cell_type": "markdown",
      "source": [
        "Saving mapping from class label to relation class name. "
      ],
      "metadata": {
        "id": "G_83GhRyVH8y"
      }
    },
    {
      "cell_type": "code",
      "metadata": {
        "id": "K6ufHPx5FDjs"
      },
      "source": [
        "import numpy as np \n",
        "np.save('/content/drive/MyDrive/data_freebase/classes.npy', le.classes_)"
      ],
      "execution_count": null,
      "outputs": []
    },
    {
      "cell_type": "markdown",
      "source": [
        "Retrieve 10 most probable classes for relation for each question in Reverb and Freebase"
      ],
      "metadata": {
        "id": "Vj6mwkBhVkfm"
      }
    },
    {
      "cell_type": "code",
      "metadata": {
        "id": "lNk-lVpnaUVV",
        "colab": {
          "base_uri": "https://localhost:8080/",
          "height": 277
        },
        "outputId": "6a17771f-ffb5-40da-fc8b-a9ff9f1041a5"
      },
      "source": [
        "# reading Test Data\n",
        "ourtest_df = pd.read_excel('/content/drive/MyDrive/data_freebase/sbs.xlsx')\n",
        "newtest_texts = ourtest_df.Question.to_list()\n",
        "# ourtest_df.head()\n",
        "\n",
        "newtest_encodings = tokenizer(newtest_texts, truncation=True, padding=True, max_length=200)\n",
        "newtest_dataset = ClassificationDataset(newtest_encodings, [1 for _ in range(len(newtest_texts))])\n",
        "new_pred = trainer.predict(newtest_dataset)"
      ],
      "execution_count": null,
      "outputs": [
        {
          "output_type": "stream",
          "name": "stderr",
          "text": [
            "***** Running Prediction *****\n",
            "  Num examples = 5003\n",
            "  Batch size = 128\n"
          ]
        },
        {
          "output_type": "display_data",
          "data": {
            "text/html": [
              "\n",
              "    <div>\n",
              "      \n",
              "      <progress value='2589' max='8880' style='width:300px; height:20px; vertical-align: middle;'></progress>\n",
              "      [2589/8880 1:04:59 < 2:38:02, 0.66 it/s, Epoch 4.37/15]\n",
              "    </div>\n",
              "    <table border=\"1\" class=\"dataframe\">\n",
              "  <thead>\n",
              "    <tr style=\"text-align: left;\">\n",
              "      <th>Epoch</th>\n",
              "      <th>Training Loss</th>\n",
              "      <th>Validation Loss</th>\n",
              "    </tr>\n",
              "  </thead>\n",
              "  <tbody>\n",
              "    <tr>\n",
              "      <td>1</td>\n",
              "      <td>2.611500</td>\n",
              "      <td>1.202373</td>\n",
              "    </tr>\n",
              "    <tr>\n",
              "      <td>2</td>\n",
              "      <td>1.057700</td>\n",
              "      <td>0.873197</td>\n",
              "    </tr>\n",
              "    <tr>\n",
              "      <td>3</td>\n",
              "      <td>0.762000</td>\n",
              "      <td>0.785140</td>\n",
              "    </tr>\n",
              "    <tr>\n",
              "      <td>4</td>\n",
              "      <td>0.591100</td>\n",
              "      <td>0.778568</td>\n",
              "    </tr>\n",
              "  </tbody>\n",
              "</table><p>\n",
              "    <div>\n",
              "      \n",
              "      <progress value='249' max='169' style='width:300px; height:20px; vertical-align: middle;'></progress>\n",
              "      [169/169 07:51]\n",
              "    </div>\n",
              "    "
            ],
            "text/plain": [
              "<IPython.core.display.HTML object>"
            ]
          },
          "metadata": {}
        }
      ]
    },
    {
      "cell_type": "code",
      "metadata": {
        "id": "5zRRvhf00EhO",
        "outputId": "23d63c13-4a48-4dd2-cd2f-0c012cb5f55f",
        "colab": {
          "base_uri": "https://localhost:8080/"
        }
      },
      "source": [
        "from google.colab import drive\n",
        "drive.mount('/content/drive')"
      ],
      "execution_count": 3,
      "outputs": [
        {
          "output_type": "stream",
          "name": "stdout",
          "text": [
            "Mounted at /content/drive\n"
          ]
        }
      ]
    },
    {
      "cell_type": "markdown",
      "source": [
        "# Creating Sample for Debugging"
      ],
      "metadata": {
        "id": "fiLQR4FLX9aS"
      }
    },
    {
      "cell_type": "code",
      "metadata": {
        "id": "5kOQ6S0ncrSX"
      },
      "source": [
        "import numpy as np\n",
        "\n",
        "def softmax(x):\n",
        "    \n",
        "    f_x = np.exp(x) / np.sum(np.exp(x))\n",
        "    return f_x\n",
        "import numpy as np\n",
        "\n",
        "first, second, third, sort = [], [], [], []\n",
        "for idx, item in enumerate(new_pred.predictions):\n",
        "  temp = softmax(item)\n",
        "  indices = temp.argsort()\n",
        "  values = np.sort(temp) \n",
        "  first.append((le.inverse_transform([indices[-1]])[0], values[-1]))\n",
        "  second.append((le.inverse_transform([indices[-2]])[0], values[-2]))\n",
        "  third.append((le.inverse_transform([indices[-3]])[0], values[-3]))\n",
        "  sort.append(values[-1])\n",
        "\n",
        "  # print(first, second, third)\n",
        "  # break\n",
        "debug = pd.DataFrame({\n",
        "                      'Question':newtest_texts,\n",
        "                      'First':first,\n",
        "                      'Second':second,\n",
        "                      'Third':third,\n",
        "                      'Sort':sort\n",
        "                     })\n",
        "debug.to_excel('ours.xlsx', index=False)"
      ],
      "execution_count": null,
      "outputs": []
    },
    {
      "cell_type": "code",
      "metadata": {
        "id": "MqBK32pY8K6y",
        "colab": {
          "base_uri": "https://localhost:8080/",
          "height": 476
        },
        "outputId": "8573d9be-a432-47ab-fdeb-c2fe8562c540"
      },
      "source": [
        "debug[(debug.First.apply(lambda item:item[-1]>0.8))&debug.Question.apply(lambda item:item.find('is')!=-1)]"
      ],
      "execution_count": null,
      "outputs": [
        {
          "output_type": "execute_result",
          "data": {
            "text/html": [
              "<div>\n",
              "<style scoped>\n",
              "    .dataframe tbody tr th:only-of-type {\n",
              "        vertical-align: middle;\n",
              "    }\n",
              "\n",
              "    .dataframe tbody tr th {\n",
              "        vertical-align: top;\n",
              "    }\n",
              "\n",
              "    .dataframe thead th {\n",
              "        text-align: right;\n",
              "    }\n",
              "</style>\n",
              "<table border=\"1\" class=\"dataframe\">\n",
              "  <thead>\n",
              "    <tr style=\"text-align: right;\">\n",
              "      <th></th>\n",
              "      <th>Question</th>\n",
              "      <th>First</th>\n",
              "      <th>Second</th>\n",
              "      <th>Third</th>\n",
              "      <th>Sort</th>\n",
              "    </tr>\n",
              "  </thead>\n",
              "  <tbody>\n",
              "    <tr>\n",
              "      <th>27</th>\n",
              "      <td>What is Driftwood</td>\n",
              "      <td>(fb:common.topic.notable_types, 0.98721325)</td>\n",
              "      <td>(fb:type.object.type, 0.005978638)</td>\n",
              "      <td>(fb:people.person.profession, 0.0018229936)</td>\n",
              "      <td>0.987213</td>\n",
              "    </tr>\n",
              "    <tr>\n",
              "      <th>28</th>\n",
              "      <td>who is Yumiko</td>\n",
              "      <td>(fb:common.topic.notable_types, 0.9764201)</td>\n",
              "      <td>(fb:people.person.profession, 0.0066310694)</td>\n",
              "      <td>(fb:type.object.type, 0.0042967545)</td>\n",
              "      <td>0.976420</td>\n",
              "    </tr>\n",
              "    <tr>\n",
              "      <th>30</th>\n",
              "      <td>Where is Nak</td>\n",
              "      <td>(fb:location.location.containedby, 0.9529905)</td>\n",
              "      <td>(fb:location.location.partially_containedby, 0...</td>\n",
              "      <td>(fb:location.hud_county_place.place, 0.004513087)</td>\n",
              "      <td>0.952990</td>\n",
              "    </tr>\n",
              "    <tr>\n",
              "      <th>35</th>\n",
              "      <td>Who left his hometown of Chicago</td>\n",
              "      <td>(fb:location.location.people_born_here, 0.9823...</td>\n",
              "      <td>(fb:fictional_universe.fictional_setting.ficti...</td>\n",
              "      <td>(fb:people.person.place_of_birth, 0.0014106713)</td>\n",
              "      <td>0.982312</td>\n",
              "    </tr>\n",
              "    <tr>\n",
              "      <th>36</th>\n",
              "      <td>what is the ninth album by Tanya Tucker</td>\n",
              "      <td>(fb:music.album_release_type.albums, 0.9149029)</td>\n",
              "      <td>(fb:music.artist.album, 0.061613135)</td>\n",
              "      <td>(fb:music.album_content_type.albums, 0.01381076)</td>\n",
              "      <td>0.914903</td>\n",
              "    </tr>\n",
              "    <tr>\n",
              "      <th>...</th>\n",
              "      <td>...</td>\n",
              "      <td>...</td>\n",
              "      <td>...</td>\n",
              "      <td>...</td>\n",
              "      <td>...</td>\n",
              "    </tr>\n",
              "    <tr>\n",
              "      <th>4971</th>\n",
              "      <td>where is KUAC</td>\n",
              "      <td>(fb:location.location.containedby, 0.87494266)</td>\n",
              "      <td>(fb:broadcast.broadcast.area_served, 0.018128965)</td>\n",
              "      <td>(fb:location.hud_county_place.county, 0.014292...</td>\n",
              "      <td>0.874943</td>\n",
              "    </tr>\n",
              "    <tr>\n",
              "      <th>4975</th>\n",
              "      <td>where is Machrihanish</td>\n",
              "      <td>(fb:location.location.containedby, 0.98988736)</td>\n",
              "      <td>(fb:location.location.partially_containedby, 0...</td>\n",
              "      <td>(fb:location.hud_county_place.place, 0.0006165...</td>\n",
              "      <td>0.989887</td>\n",
              "    </tr>\n",
              "    <tr>\n",
              "      <th>4977</th>\n",
              "      <td>What is Brhl</td>\n",
              "      <td>(fb:common.topic.notable_types, 0.9816176)</td>\n",
              "      <td>(fb:type.object.type, 0.011156884)</td>\n",
              "      <td>(fb:people.person.profession, 0.0013883706)</td>\n",
              "      <td>0.981618</td>\n",
              "    </tr>\n",
              "    <tr>\n",
              "      <th>4997</th>\n",
              "      <td>what town is in Italy</td>\n",
              "      <td>(fb:location.location.contains, 0.98795944)</td>\n",
              "      <td>(fb:location.country.second_level_divisions, 0...</td>\n",
              "      <td>(fb:location.us_county.hud_county_place, 0.001...</td>\n",
              "      <td>0.987959</td>\n",
              "    </tr>\n",
              "    <tr>\n",
              "      <th>5000</th>\n",
              "      <td>What is Louise</td>\n",
              "      <td>(fb:common.topic.notable_types, 0.9920396)</td>\n",
              "      <td>(fb:type.object.type, 0.0036034826)</td>\n",
              "      <td>(fb:people.person.profession, 0.00080775894)</td>\n",
              "      <td>0.992040</td>\n",
              "    </tr>\n",
              "  </tbody>\n",
              "</table>\n",
              "<p>798 rows × 5 columns</p>\n",
              "</div>"
            ],
            "text/plain": [
              "                                     Question  ...      Sort\n",
              "27                          What is Driftwood  ...  0.987213\n",
              "28                              who is Yumiko  ...  0.976420\n",
              "30                               Where is Nak  ...  0.952990\n",
              "35           Who left his hometown of Chicago  ...  0.982312\n",
              "36    what is the ninth album by Tanya Tucker  ...  0.914903\n",
              "...                                       ...  ...       ...\n",
              "4971                            where is KUAC  ...  0.874943\n",
              "4975                    where is Machrihanish  ...  0.989887\n",
              "4977                             What is Brhl  ...  0.981618\n",
              "4997                    what town is in Italy  ...  0.987959\n",
              "5000                           What is Louise  ...  0.992040\n",
              "\n",
              "[798 rows x 5 columns]"
            ]
          },
          "metadata": {},
          "execution_count": 30
        }
      ]
    },
    {
      "cell_type": "code",
      "metadata": {
        "id": "euFPR6st84oP",
        "colab": {
          "base_uri": "https://localhost:8080/",
          "height": 511
        },
        "outputId": "14b5d38e-a50f-4077-c566-da77db33c321"
      },
      "source": [
        "debug[debug.Question.apply(lambda item:item.find('is')!=-1)]"
      ],
      "execution_count": null,
      "outputs": [
        {
          "output_type": "execute_result",
          "data": {
            "text/html": [
              "<div>\n",
              "<style scoped>\n",
              "    .dataframe tbody tr th:only-of-type {\n",
              "        vertical-align: middle;\n",
              "    }\n",
              "\n",
              "    .dataframe tbody tr th {\n",
              "        vertical-align: top;\n",
              "    }\n",
              "\n",
              "    .dataframe thead th {\n",
              "        text-align: right;\n",
              "    }\n",
              "</style>\n",
              "<table border=\"1\" class=\"dataframe\">\n",
              "  <thead>\n",
              "    <tr style=\"text-align: right;\">\n",
              "      <th></th>\n",
              "      <th>Question</th>\n",
              "      <th>First</th>\n",
              "      <th>Second</th>\n",
              "      <th>Third</th>\n",
              "      <th>Sort</th>\n",
              "    </tr>\n",
              "  </thead>\n",
              "  <tbody>\n",
              "    <tr>\n",
              "      <th>1</th>\n",
              "      <td>of what is A Shooting Star another brand</td>\n",
              "      <td>(fb:medicine.drug_dosage_flavor.drugs_with_thi...</td>\n",
              "      <td>(fb:food.ingredient.dishes, 0.03495156)</td>\n",
              "      <td>(fb:dining.restaurant.cuisine, 0.029498173)</td>\n",
              "      <td>0.035570</td>\n",
              "    </tr>\n",
              "    <tr>\n",
              "      <th>11</th>\n",
              "      <td>over what has Jewish leadership evolved</td>\n",
              "      <td>(fb:user.alexander.philosophy.philosopher.era,...</td>\n",
              "      <td>(fb:religion.religious_practice.practice_of, 0...</td>\n",
              "      <td>(fb:computer.programming_language.influenced_b...</td>\n",
              "      <td>0.029125</td>\n",
              "    </tr>\n",
              "    <tr>\n",
              "      <th>13</th>\n",
              "      <td>What typically include nationalised industries</td>\n",
              "      <td>(fb:type.type.instance, 0.07747618)</td>\n",
              "      <td>(fb:people.profession.specialization_of, 0.037...</td>\n",
              "      <td>(fb:people.profession.specializations, 0.02648...</td>\n",
              "      <td>0.077476</td>\n",
              "    </tr>\n",
              "    <tr>\n",
              "      <th>15</th>\n",
              "      <td>Where is L2CAP used</td>\n",
              "      <td>(fb:broadcast.broadcast.area_served, 0.15592018)</td>\n",
              "      <td>(fb:astronomy.orbital_relationship.orbits, 0.0...</td>\n",
              "      <td>(fb:cvg.game_version.platform, 0.027077217)</td>\n",
              "      <td>0.155920</td>\n",
              "    </tr>\n",
              "    <tr>\n",
              "      <th>27</th>\n",
              "      <td>What is Driftwood</td>\n",
              "      <td>(fb:common.topic.notable_types, 0.98721325)</td>\n",
              "      <td>(fb:type.object.type, 0.005978638)</td>\n",
              "      <td>(fb:people.person.profession, 0.0018229936)</td>\n",
              "      <td>0.987213</td>\n",
              "    </tr>\n",
              "    <tr>\n",
              "      <th>...</th>\n",
              "      <td>...</td>\n",
              "      <td>...</td>\n",
              "      <td>...</td>\n",
              "      <td>...</td>\n",
              "      <td>...</td>\n",
              "    </tr>\n",
              "    <tr>\n",
              "      <th>4994</th>\n",
              "      <td>since when has Steyning existed</td>\n",
              "      <td>(fb:music.artist.origin, 0.109646924)</td>\n",
              "      <td>(fb:fictional_universe.fictional_character.app...</td>\n",
              "      <td>(fb:organization.organization.place_founded, 0...</td>\n",
              "      <td>0.109647</td>\n",
              "    </tr>\n",
              "    <tr>\n",
              "      <th>4995</th>\n",
              "      <td>for what  is parking created</td>\n",
              "      <td>(fb:common.topic.notable_types, 0.63249725)</td>\n",
              "      <td>(fb:type.object.type, 0.14544044)</td>\n",
              "      <td>(fb:visual_art.artwork.media, 0.023522813)</td>\n",
              "      <td>0.632497</td>\n",
              "    </tr>\n",
              "    <tr>\n",
              "      <th>4997</th>\n",
              "      <td>what town is in Italy</td>\n",
              "      <td>(fb:location.location.contains, 0.98795944)</td>\n",
              "      <td>(fb:location.country.second_level_divisions, 0...</td>\n",
              "      <td>(fb:location.us_county.hud_county_place, 0.001...</td>\n",
              "      <td>0.987959</td>\n",
              "    </tr>\n",
              "    <tr>\n",
              "      <th>5000</th>\n",
              "      <td>What is Louise</td>\n",
              "      <td>(fb:common.topic.notable_types, 0.9920396)</td>\n",
              "      <td>(fb:type.object.type, 0.0036034826)</td>\n",
              "      <td>(fb:people.person.profession, 0.00080775894)</td>\n",
              "      <td>0.992040</td>\n",
              "    </tr>\n",
              "    <tr>\n",
              "      <th>5001</th>\n",
              "      <td>for what animals is not Silage good</td>\n",
              "      <td>(fb:biology.animal_breed.breed_of, 0.20282012)</td>\n",
              "      <td>(fb:biology.breed_temperament.breeds, 0.06275014)</td>\n",
              "      <td>(fb:biology.organism.organism_type, 0.058985755)</td>\n",
              "      <td>0.202820</td>\n",
              "    </tr>\n",
              "  </tbody>\n",
              "</table>\n",
              "<p>1972 rows × 5 columns</p>\n",
              "</div>"
            ],
            "text/plain": [
              "                                            Question  ...      Sort\n",
              "1         of what is A Shooting Star another brand    ...  0.035570\n",
              "11         over what has Jewish leadership evolved    ...  0.029125\n",
              "13    What typically include nationalised industries  ...  0.077476\n",
              "15                              Where is L2CAP used   ...  0.155920\n",
              "27                                 What is Driftwood  ...  0.987213\n",
              "...                                              ...  ...       ...\n",
              "4994                since when has Steyning existed   ...  0.109647\n",
              "4995                    for what  is parking created  ...  0.632497\n",
              "4997                           what town is in Italy  ...  0.987959\n",
              "5000                                  What is Louise  ...  0.992040\n",
              "5001             for what animals is not Silage good  ...  0.202820\n",
              "\n",
              "[1972 rows x 5 columns]"
            ]
          },
          "metadata": {},
          "execution_count": 28
        }
      ]
    },
    {
      "cell_type": "code",
      "metadata": {
        "id": "yRgVzoksbWvh"
      },
      "source": [
        "import numpy as np\n",
        "\n",
        "def softmax(x):\n",
        "    \n",
        "    f_x = np.exp(x) / np.sum(np.exp(x))\n",
        "    return f_x\n",
        "import numpy as np\n",
        "\n",
        "first, second, third, answer, sort = [], [], [], [], []\n",
        "for idx, item in enumerate(pred.predictions):\n",
        "  temp = softmax(item)\n",
        "  indices = temp.argsort()\n",
        "  values = np.sort(temp) \n",
        "  first.append((le.inverse_transform([indices[-1]])[0], values[-1]))\n",
        "  second.append((le.inverse_transform([indices[-2]])[0], values[-2]))\n",
        "  third.append((le.inverse_transform([indices[-3]])[0], values[-3]))\n",
        "  sort.append(values[-1])\n",
        "\n",
        "  # print(first, second, third)\n",
        "  # break\n",
        "debug = pd.DataFrame({\n",
        "                      'Question':df_test.Question.to_list(),\n",
        "                      'First':first,\n",
        "                      'Second':second,\n",
        "                      'Third':third,\n",
        "                      'Answer':df_test.relation_type.to_list()\n",
        "                      'Sort':sort,\n",
        "                     })\n",
        "debug.to_excel('freebase.xlsx', index=False)"
      ],
      "execution_count": null,
      "outputs": []
    },
    {
      "cell_type": "code",
      "metadata": {
        "id": "PK9UDMra5Cx3",
        "colab": {
          "base_uri": "https://localhost:8080/"
        },
        "outputId": "e3a08031-7bd2-4154-c513-0728cff0b7ea"
      },
      "source": [
        "pred"
      ],
      "execution_count": null,
      "outputs": [
        {
          "output_type": "execute_result",
          "data": {
            "text/plain": [
              "PredictionOutput(predictions=array([[-1.5081786 , -0.2964749 , -1.8974983 , ..., -1.1388532 ,\n",
              "        -2.6386049 , -0.6149134 ],\n",
              "       [-3.752223  , -2.1240869 , -3.1193984 , ..., -2.93882   ,\n",
              "        -3.849748  , -1.6930649 ],\n",
              "       [-2.0788586 , -0.43151364, -1.3509523 , ..., -1.4018582 ,\n",
              "        -2.4768994 , -0.5686034 ],\n",
              "       ...,\n",
              "       [-3.5965514 , -2.6662111 , -2.1668787 , ..., -1.6797744 ,\n",
              "        -1.2552487 , -2.988654  ],\n",
              "       [-1.373984  , -0.43671474, -1.6213957 , ..., -1.917182  ,\n",
              "        -1.2366729 , -0.72635925],\n",
              "       [-2.613196  , -1.7741838 , -1.3350426 , ..., -2.0923038 ,\n",
              "        -2.9737718 , -1.7797832 ]], dtype=float32), label_ids=array([1318, 1320, 1449, ...,   58,  971, 1447]), metrics={'test_loss': 0.8185576796531677, 'test_runtime': 72.6116, 'test_samples_per_second': 297.735, 'test_steps_per_second': 2.327})"
            ]
          },
          "metadata": {},
          "execution_count": 19
        }
      ]
    },
    {
      "cell_type": "code",
      "metadata": {
        "id": "DUqfWEX65YWY"
      },
      "source": [
        ""
      ],
      "execution_count": null,
      "outputs": []
    }
  ]
}